{
 "cells": [
  {
   "cell_type": "markdown",
   "metadata": {
    "nbpresent": {
     "id": "f730ab33-247e-4792-9e02-ab29c9f00c14"
    }
   },
   "source": [
    "<center><h1>7SSG2059 Geocomputation 2016/17</h1></center>\n",
    "\n",
    "<h1><center>Practical 1: Basics, Errors, Scripts</h1></center>\n",
    "\n",
    "<p><center><i>James Millington, 20 Sept 2016</i></center>\n"
   ]
  },
  {
   "cell_type": "markdown",
   "metadata": {
    "nbpresent": {
     "id": "cada64b6-f8c9-4dbb-9ab1-b5617d0cc16a"
    }
   },
   "source": [
    "## Learning Outcomes\n",
    "\n",
    "By the end of this practical you should:\n",
    "-\tHave a better appreciation for what the Python programming language is\n",
    "-\tUnderstand the ways in which Python code can be executed (interpreter vs scripts)\n",
    "-\tUnderstand variables and variable assignment\n",
    "-\tHave a better appreciation of data types, basic mathematic operators  and simple expressions\n",
    "-\tUnderstand the types of error (syntax, logical, semantic)\n"
   ]
  },
  {
   "cell_type": "markdown",
   "metadata": {},
   "source": [
    "This document assumes you have created a working directory as described here: http://bit.ly/WorkingDirectory"
   ]
  },
  {
   "cell_type": "markdown",
   "metadata": {},
   "source": [
    "## Hello Python!"
   ]
  },
  {
   "cell_type": "markdown",
   "metadata": {},
   "source": [
    "### Conversing with Python\n",
    "Python is a high-level programming language that makes it (relatively) easy for humans to talk to a computer to make it do things. As a language, Python has a ‘vocabulary’ and a ‘grammar’. The vocabulary of Python is pretty small and consists of a group of keywords also known as ‘reserved words’. Some of these reserved words are shown in the figure below.\n",
    "\n",
    "<img src=\"https://kingsgeocomputation.files.wordpress.com/2016/09/reservedwords.png\", width = 500>\n"
   ]
  },
  {
   "cell_type": "markdown",
   "metadata": {
    "collapsed": true
   },
   "source": [
    "Python is a high-level language because computer interprets Python and converts this into yet another language (known as machine language) which it then uses. We can converse with the computer through Python in two ways which we will look at in turn:\n",
    "\n",
    "1.\tIn ‘interactive mode’\n",
    "2.\tIn ‘script mode’\n",
    "\n",
    "In _interactive mode_ Python gives immediate feedback for each statement entered, while running previously entered statements in active memory. Interactive mode is useful for running quick commands and experimeting with code, but is not the best way to save work for later. The Jupyter notebooks are an example of interactive mode so you should be quite familiar with this mode, but we will also see how we can work in interactive mode in other ways. \n",
    "\n",
    "In _script mode_ we save a sequence of Python statements in a file (usually with .py suffix) which is then executed all together. Script mode is useful for saving code to be run again later and to be shared with others. These scripts can be written in a text editor (like notepad) but more often is it easier to develop and edit scripts in an [Integrated Development Environment](https://en.wikipedia.org/wiki/Integrated_development_environment) (IDE).\n",
    "\n",
    "The IDE we will be using in Geocomputation is [Spyder](https://pythonhosted.org/spyder/). ‘Spyder’ stands for **S**cientific **PY**thon **D**evelopment **E**nvi**R**onment and is a powerful program to help develop, edit, run and test code written in the Python language. \n",
    "\n",
    "_Tip: The file suffix of a Python script file is’ .py’. At its most basic this is simply a text file that you could open in a text editor like notepad, EditPad etc. Depending on the computer and Operating System you are using this file type may be associated with different programs or development environments (like Spyder). ‘Associated’ in this context means that when you double click the file it will open in a given the associated program. In GeoCUP .py files are associated with Spyder_"
   ]
  },
  {
   "cell_type": "markdown",
   "metadata": {},
   "source": [
    "#### TASK \n",
    "\n",
    "Before we look at the two modes for conversing with Python in a little more detail, read the [Overview of Anaconda and Spyder document](https://keats.kcl.ac.uk/mod/resource/view.php?id=1377344) available on KEATS. "
   ]
  },
  {
   "cell_type": "markdown",
   "metadata": {},
   "source": [
    "### Interactive Python\n",
    "\n",
    "There is a [classic first program](https://en.wikipedia.org/wiki/%22Hello,_World!%22_program) that everyone learning a computer language writes. The program simply outputs the phrase _Hello World!_ to the screen using a `print` statement (note: `print` is a Python reserved word, as shown in the figure above). As we are learning the Python programming language in this module, we’ll change the program slightly and say hello to Python: "
   ]
  },
  {
   "cell_type": "code",
   "execution_count": null,
   "metadata": {
    "collapsed": true
   },
   "outputs": [],
   "source": [
    "print \"Hello Python!\""
   ]
  },
  {
   "cell_type": "markdown",
   "metadata": {},
   "source": [
    "When you run the code cell above, you are running Python in interactive mode; Python takes the statement and executes it, returning any feedback immediately.\n",
    "\n",
    "We can do the same in the Spyder in the IPython Interpreter pane."
   ]
  },
  {
   "cell_type": "markdown",
   "metadata": {},
   "source": [
    "#### TASK\n",
    "\n",
    "1.\tOpen Spyder - if you’re unsure how to do this see the [Overview of Anaconda and Spyder document](https://keats.kcl.ac.uk/mod/resource/view.php?id=1377344) \n",
    "2.\tIn the IPython Interpreter pane type `print “Hello Python!”`\n",
    "3.\tPress Enter\n"
   ]
  },
  {
   "cell_type": "markdown",
   "metadata": {},
   "source": [
    "If you’ve done this successfully, your Interpreter pane should look something like the fiugure below. Python has printed your message and is now waiting for the next command. This is an example of using Python in interactive mode.\n",
    "\n",
    "<img src=\"https://kingsgeocomputation.files.wordpress.com/2016/09/ipythonhellopython.jpg\", width = 500>\n",
    "\n",
    "If your Interpreter does NOT look like the figure above, you’ve made a mistake (and are skipping ahead to the Errors section of this practical!). Check your typing and try again."
   ]
  },
  {
   "cell_type": "markdown",
   "metadata": {},
   "source": [
    "Let’s think about what we have done here: we input a command to Python (`print`) with an argument (`“Hello Python!”`) which Python has executed. The `print` keyword tells Python to output whatever the argument is to the screen. We can see this below the input (i.e. `Hello Python!` – without the quotes). Note how after execution, the Python Interpreter is ready for another input, indicated by `In [2]`:, where `2` is a sequentially numbered input (the first was `In [1]:`); this is the prompt in the Interpreter and similar to what we see in code block in Jupyter Notebooks. "
   ]
  },
  {
   "cell_type": "markdown",
   "metadata": {},
   "source": [
    "If you wanted to run the last command again exactly as before in the Interpreter, simply press the up arrow and the code you previously typed should appear. You can just hit enter to execute (run) the code again. Previous commands are stored temporarily in memory in the Interpreter and can be accessed using the up (and down) arrows. "
   ]
  },
  {
   "cell_type": "markdown",
   "metadata": {},
   "source": [
    "#### TASK\n",
    "\n",
    "Run the command in the previous task in Spyder again but _without_ typing the code out."
   ]
  },
  {
   "cell_type": "markdown",
   "metadata": {},
   "source": [
    "### Python from Scripts\n",
    "\n",
    "To save code for later use or to share with others we use script files. In the Spyder IDE scripts are written and shown in the Editor Pane, on the left of the IPython Interpreter. Code written in this pane is executed in the Interprteter only when we specifically tell Spyder (not when we hit Enter at the end of a line). "
   ]
  },
  {
   "cell_type": "markdown",
   "metadata": {},
   "source": [
    "You can create new Python script files in the Editor Pane in various ways:\n",
    "\n",
    "1.\tClicking the left-most icon on the toolbar \n",
    "2.\tFrom the File menu at the top of the window go File -> New File\n",
    "3.\tBy pressing Ctrl + N (with the cursor in an existing script)"
   ]
  },
  {
   "cell_type": "markdown",
   "metadata": {},
   "source": [
    "#### TASK\n",
    "\n",
    "1.\tCreate a new script file so that we can save code for later\n",
    "2.\tIn the file you have created type `print “Hello Python!”` on line 1\n",
    "3.\tPress Enter"
   ]
  },
  {
   "cell_type": "markdown",
   "metadata": {},
   "source": [
    "What happened after you pressed Enter? If you did it correctly, nothing all that should have happened is that the cursor should have moved down to the next line and the Editor Pane should look something like the figure below. Nothing in the IPython Interpreter pane will have changed.\n",
    "\n",
    "<img src=\"https://kingsgeocomputation.files.wordpress.com/2016/09/scripthellopython.jpg\", width = 400>"
   ]
  },
  {
   "cell_type": "markdown",
   "metadata": {},
   "source": [
    "So pressing Enter in the Editor Pane does not execute code (as it does in the Interpreter); instead it simply moves the cursor to the next line ready to for the next line of code to be typed. \n",
    "\n",
    "There are a few different ways to execute (run) all the instructions in the script file showing in the Editor Pane:\n",
    "1.\tGo to the Run menu then select Run File\n",
    "2.\tClick the Run the Current File button on the tool bar (a green triangle)\n",
    "3.\tPress F5"
   ]
  },
  {
   "cell_type": "markdown",
   "metadata": {},
   "source": [
    "#### TASK\n",
    "\n",
    "Using one of the ways above, run the code you have typed into the script file. \n",
    "\n",
    "If you do this properly you will be asked to save the scipt file before you can run it - do so in your working directory, naming the file `HelloPython.py`.\n",
    "\n",
    "After saving the file, as this is the first time you have run the script you will see the Run Settings dialogue box (like the figure below). You can keep all the default settings as they are now, but in future you may want to change some in future. \n",
    "\n",
    "Click Run. \n",
    "\n",
    "<img src=\"https://kingsgeocomputation.files.wordpress.com/2016/09/runsettingshellopython.jpg\", width = 380>"
   ]
  },
  {
   "cell_type": "markdown",
   "metadata": {},
   "source": [
    "If successful you should notice a change in the Interpreter pane (below the File Viewer) and it should look something like the figure below\n",
    "\n",
    "<img src=\"https://kingsgeocomputation.files.wordpress.com/2016/09/scriptipython_helloworld.jpg\", width = 500>"
   ]
  },
  {
   "cell_type": "markdown",
   "metadata": {},
   "source": [
    "Look at what has happened here. Spyder has given Python a command (`runfile`) with two arguments (shown in red); one is the text string of the path to the file currently in the Editor Pane, and the other is the text string of the path to the current working directory (set in the Run Settings dialogue - see previous figure). The command has been entered for us at the Interpreter (at `In [2]:`), the output has been produced (`Hello Python!`), and the Interpreter is ready for another input (at `In [3]:`)."
   ]
  },
  {
   "cell_type": "markdown",
   "metadata": {},
   "source": [
    "#### TASK\n",
    "\n",
    "Run the code you have typed into the script file, using the other two ways to run scripts listed above (and not used in the last task).  "
   ]
  },
  {
   "cell_type": "markdown",
   "metadata": {},
   "source": [
    "_Tip: Sometime we don’t want to run all the code in the script file, but only certain lines of code. To do this we can highlight the lines we want to execute and then press F9. We’ll try this later._"
   ]
  },
  {
   "cell_type": "markdown",
   "metadata": {},
   "source": [
    "Existing Python script files (like the one you have saved) can be opened in the Spyder Editor Pane in a variety of ways:\n",
    "1.\tClicking the second left-most icon on the toolbar \n",
    "2.\tFrom the File menu at the top of the window go Open then navigate to the file with Windows Explorer\n",
    "3.\tBy pressing Ctrl + O then navigating to the file\n",
    "4.\tDrag-drop .py files into the File Viewer pane"
   ]
  },
  {
   "cell_type": "markdown",
   "metadata": {},
   "source": [
    "#### TASK\n",
    "\n",
    "1.\tClose the Editor Pane of Spyder ensuring you know where you have saved your `HelloPython.py` script file. \n",
    "2.\tRe-open the Editor window and use one of the above ways to re-open your `HelloPython.py` script file. \n",
    "3.\tRun the script file \n"
   ]
  },
  {
   "cell_type": "markdown",
   "metadata": {},
   "source": [
    "Well done! You have now learned how to enter Python code at the Interpreter prompt and create and use script files to run code. Hopefully, you managed this without making any errors in writing your code. It won’t always be that way..."
   ]
  },
  {
   "cell_type": "markdown",
   "metadata": {},
   "source": [
    "## Python Errors"
   ]
  },
  {
   "cell_type": "markdown",
   "metadata": {},
   "source": [
    "### Why are we doing this?\n",
    "\n",
    "Because everyone makes mistakes. In programming, it is very easy to make errors. Because computers are stupid and do EXACTLY what we tell them, any small mistake can cause a program to fail to run. These errors in a program are often called bugs. There are other errors that mean that although a program will run, it may not do what you think it does. \n",
    "\n",
    "So we can classify a few general types of error: \n",
    "1.\t**syntax errors** are when the ‘grammar’ rules of Python (known as the syntax) have been violated, making it impossible for the code to be parsed; \n",
    "2.\t**logic errors**  have good syntax but there is an error in the order of statements or how they relate to one another;\n",
    "3.\t**semantic errors** make programs do something other than what the programmer intended.\n",
    "\n",
    "_“A good example of a logic error might be, “take a drink from your water bottle, put it in your backpack, walk to the library, and then put the top back on the bottle.”_ Severance (2014, p.14)\n"
   ]
  },
  {
   "cell_type": "markdown",
   "metadata": {},
   "source": [
    "#### TASK\n",
    "\n",
    "Run through the information and activites in Notebook 3 in the [Python Code Camp](https://kingsgeocomputation.org/teaching/code-camp/code-camp-python/lessons/) to refresh your understanding of Errors in Python. When you have done so return to this notebook to continue. "
   ]
  },
  {
   "cell_type": "markdown",
   "metadata": {},
   "source": [
    "## Back to Basics"
   ]
  },
  {
   "cell_type": "markdown",
   "metadata": {},
   "source": [
    "You should now have a feel for Spyder and the difference between using Python in Interactive vs Script mode. And you've just refreshed your memory about the sorts of errors you might make in Python. Befire we go on, let's just pause to check we have a good hold on the basics of Python. "
   ]
  },
  {
   "cell_type": "markdown",
   "metadata": {},
   "source": [
    "#### TASK\n",
    "\n",
    "Run through the information and activites in Notebook 2 in the [Python Code Camp](https://kingsgeocomputation.org/teaching/code-camp/code-camp-python/lessons/) to refresh your understanding of the basics in Python. **Don't do the Code (general exercises)** - come back here to continue with this practical. "
   ]
  },
  {
   "cell_type": "markdown",
   "metadata": {},
   "source": [
    "## Handling Input and Data Types"
   ]
  },
  {
   "cell_type": "markdown",
   "metadata": {},
   "source": [
    "Now that you've reviewed the how variables work again, let's move on to see some new ways we can interact with Python by using code to ask a user to enter data via the keyboard. Variables are useful in this instance because we don’t know what input user will enter, but we still need to be able to handle it in our program. It will also show how variables can be assigned values as the output of a function (which we will look at another week). "
   ]
  },
  {
   "cell_type": "markdown",
   "metadata": {},
   "source": [
    "#### TASK\n",
    "\n",
    "Using the information presented previously in this notebook if you need to:\n",
    "\n",
    "1.\tCreate a new script file \n",
    "2.\tIn the new script file type the code on lines 1 and 2 (ONLY) from the figure below\n",
    "3.\tSave the script with the name ‘Rainfall.py’ in your working directory\n",
    "4.\tRun the script\n",
    "\n",
    "<img src=\"https://kingsgeocomputation.files.wordpress.com/2016/09/rainfallscript_spyder.jpg\", width = 500>\n",
    "<center>This figure will be referred to as the 'rainfall script figure' below.</center>"
   ]
  },
  {
   "cell_type": "markdown",
   "metadata": {},
   "source": [
    "If you have completed the Task correctly you should see in the Interpreter pane that the text that was passed as an argument to the `raw_input` function on line 1 has appeared. The cursor should be flashing at the end of this text, indicating that the computer is waiting for an input from the user. This is what the `raw_input` function does – writes the text string passed to it and then waits for an input. "
   ]
  },
  {
   "cell_type": "markdown",
   "metadata": {},
   "source": [
    "#### TASK\n",
    "\n",
    "Ensuring the Interpreter pane is selected, type a value (number) on the keyboard for total rainfall and hit enter\n"
   ]
  },
  {
   "cell_type": "markdown",
   "metadata": {},
   "source": [
    "You should see that the value you entered appears below the input text and then the Interpreter moves on to the next prompt. This has happened because of the `print` statement on line 2. Think about this; the number you entered was passed to the `raw_input` function and assigned to the `total_rainfall` variable (on line 1) which was then printed out (line 2). But what if you had entered text instead of a number when prompted by the program? Let's have a look..."
   ]
  },
  {
   "cell_type": "markdown",
   "metadata": {},
   "source": [
    "#### TASK\n",
    "\n",
    "1.\tRun the current version Rainfall script file (i.e. two lines) again  \n",
    "2.\tWhen prompted, in the Interpreter pane type a word (letters) on the keyboard for total rainfall and hit enter\n"
   ]
  },
  {
   "cell_type": "markdown",
   "metadata": {},
   "source": [
    "You should see that the program has printed out the word you entered with no error. It seems like the `raw_input` function can receive different data types. Let’s check that."
   ]
  },
  {
   "cell_type": "markdown",
   "metadata": {},
   "source": [
    "#### TASK\n",
    "\n",
    "1.\tIn the current version of your Rainfall script file (two lines), add the code on line 3 (ONLY) from the rainfall script figure\n",
    "2.\tSave the script (using the same filename as before)\n",
    "3.\tRun the script\n",
    "4.\tWhen prompted, enter a value of 50 for the total rainfall (in mm) in the Interpreter pane. \n"
   ]
  },
  {
   "cell_type": "markdown",
   "metadata": {},
   "source": [
    "Take a look at the output from your script. Does it make sense? It should look something like the following:\n",
    "<p>`50`</p>\n",
    "<p>`<type 'str'>`</p>"
   ]
  },
  {
   "cell_type": "markdown",
   "metadata": {},
   "source": [
    "The output is telling us that the value `50` is actually of type `‘str’` for `string`! So even though it looks like an `integer`, Python is actually storing it as a `string`. [A quick search of the Internet confirms this](https://docs.python.org/2/library/functions.html#raw_input): _“The function then reads a line from input, converts it to a string (stripping a trailing newline), and returns that.”_ \n",
    "\n",
    "This would be fine if we wanted to use the input as a string, but what if we wanted to use it as some other type. For example, what if we wanted to use the input to calculate the rate of rainfall for this total amount that fell over some specified duration?\n",
    "\n",
    "To convert a text string input to an integer we can use the built-in function `int`. "
   ]
  },
  {
   "cell_type": "markdown",
   "metadata": {},
   "source": [
    "#### TASK\n",
    "\n",
    "1.\tIn the current version of your Rainfall script file (three lines), add the code on lines 5, 6 and 7 (ONLY) from the rainfall script figure\n",
    "2.\tSave the script (using the same filename as before)\n",
    "3.\tRun the script\n",
    "4.\tWhen prompted, enter a value of 50 for the total rainfall (in mm)  in the Interpreter pane. "
   ]
  },
  {
   "cell_type": "markdown",
   "metadata": {},
   "source": [
    "Now you should be able to see that the `int` function converts the value passed to it to an `integer` type; the value of `50` looks the same but Python is telling us it has changed from type `str` to type `int`. This change happened on line 5 of the script; we assigned the rainfall variable a new value equal to the output of the `int` function that took the original rainfall value as an input. Think about this and make sure you understand what’s is happening on line 5."
   ]
  },
  {
   "cell_type": "markdown",
   "metadata": {},
   "source": [
    "#### TASK\n",
    "\n",
    "1.\tIn the current version of your Rainfall script file (i.e. seven lines), add the code on lines 9, 10, 11, 12, 13 and 14 (ONLY) from the rainfall script figure\n",
    "2.\tSave the script (using the same filename as before)\n",
    "3.\tRun the script\n",
    "4.\tWhen prompted, in the Interpreter prompt enter a value of `50` for the total rainfall and a value of `3` for duration (in hours)\n"
   ]
  },
  {
   "cell_type": "markdown",
   "metadata": {},
   "source": [
    "In this last task you added similar code to that which was already existing, but the new lines prompt the user to input a duration of rainfall (line 9) and converted it to an integer (line 11). We then used an expression to calculate the rainfall rate (in mm per hour; line 13). Finally, we printed out the result of the calculation for the user to read. "
   ]
  },
  {
   "cell_type": "markdown",
   "metadata": {},
   "source": [
    "If you used the suggested input values the output should be 16 (mm per hour). Pretty good! To make it a little clearer to the user what the output is, we might provide some text and use our knowledge of string concatenation (from Code Camp Notebook 2). To concatenate our output value to some helpful text we will need to convert the `rainfall_rate` variable to a text string."
   ]
  },
  {
   "cell_type": "markdown",
   "metadata": {},
   "source": [
    "#### TASK\n",
    "\n",
    "1.\tIn the current version of your Rainfall script file (i.e. 14 lines), add the code on lines 16 and 17 (ONLY) from the rainfall script figure\n",
    "2.\tSave the script (using the same filename as before)\n",
    "3.\tRun the script\n",
    "4.\tWhen prompted, in the Interpreter pane enter a value of 50 for the total rainfall and a value of 3 for duration (in hours)\n"
   ]
  },
  {
   "cell_type": "markdown",
   "metadata": {},
   "source": [
    "Your output should now look something like this: `Rainfall rate (mm per hr): 16`. This is good, but is it as accurate as we could be? Wouldn’t 50 divided by 3 be more like 16.66667? \n",
    "\n",
    "The reason we get a result of only 16 is because we are using integer division; that is, we are dividing one `integer` by another which produces and `integer` result. In Python integer division is handled by truncating the result (i.e. removing everything after any decimal place) not by rounding. Hence, 16.66667 in integer division in Python becomes 16. "
   ]
  },
  {
   "cell_type": "markdown",
   "metadata": {},
   "source": [
    "#### TASK\n",
    "\n",
    "1.\tIn the current version of your Rainfall script file, modify the code on lines 5 and 11 from the rainfall script fle to convert values to `float` type rather than `int` type\n",
    "2.\tRemove any lines that have print statements that the user does not need to see.\n",
    "3.\tSave the script with a new file name (e.g. `RainfallScript_Tidy.py`)\n",
    "4.\tRun the script\n",
    "5.\tWhen prompted, in the Interpreter enter a value of 50 for the total rainfall and a value of 3 for duration (in hours)\n"
   ]
  },
  {
   "cell_type": "markdown",
   "metadata": {},
   "source": [
    "The result of your script should now looks something like this: `Rainfall rate (mm per hr): 16.66667` "
   ]
  },
  {
   "cell_type": "markdown",
   "metadata": {},
   "source": [
    "## Good work!\n",
    "\n",
    "You've now learned how to put the pieces of basic Python together with an understanding of variables and data types into a script that a user can interact with dynamically! \n",
    "\n",
    "Before you finish remember to **SAVE YOUR SCRIPT!** One of the main reasons to use a script is so that you can save your code for later use. So it's important to save your scripts regularly. Also, as this is the end of this session (other than the Exercises below), it's a good time to move your scripts from your Working Directory to a location on your hard drive for longer-term storage and backup (e.g. Dropbox). "
   ]
  },
  {
   "cell_type": "markdown",
   "metadata": {},
   "source": [
    "It probably seems like a lot of information (and it is). But hopefully you’ll look back to these instructions and see how important they are as fundamentals for everything you do with code subsequently. Revisit these instructions and the Code Camp Notebooks frequently and make sure you understand them. \n",
    "\n",
    "Also seek out other resources to help you understand these basics. For example:\n",
    "- The Python Learn book and website: http://pythonlearn.com/ \n",
    "- The Think Python book and website: http://www.greenteapress.com/thinkpython/\n",
    "- The Enthought Training videos: https://training.enthought.com/ \n",
    "- Your fellow students on the Slack channel\n",
    "- And lots of other places online…\n",
    "\n",
    "To finish this practical run through the following exercises (in this Notebook)."
   ]
  },
  {
   "cell_type": "markdown",
   "metadata": {},
   "source": [
    "## Exercises"
   ]
  },
  {
   "cell_type": "markdown",
   "metadata": {},
   "source": [
    "### Variables and Assignment\n",
    "\n",
    "Without running the code below, calculate what the values of `x`, `y` and `z` would be after all lines of code in the code block have been executed."
   ]
  },
  {
   "cell_type": "code",
   "execution_count": null,
   "metadata": {
    "collapsed": true
   },
   "outputs": [],
   "source": [
    "x = 12\n",
    "y = 10\n",
    "\n",
    "z = x + y\n",
    "x = x + y\n",
    "y = z + y"
   ]
  },
  {
   "cell_type": "markdown",
   "metadata": {},
   "source": [
    "Once you have calculated what you think `x`, `y` and `z` are, add print statements to the code above and run it to check."
   ]
  },
  {
   "cell_type": "markdown",
   "metadata": {},
   "source": [
    "### Operator Precedence\n",
    "\n",
    "Without running the script, calculate what the values of `x`, `y` and `z` would be after all lines of code in the code block have been executed."
   ]
  },
  {
   "cell_type": "code",
   "execution_count": null,
   "metadata": {
    "collapsed": true
   },
   "outputs": [],
   "source": [
    "x = 1 + 2 * 3 / 4\n",
    "y = (1 + 2) * (3 / 4)\n",
    "z = 1 + 2 * (3 / 4)"
   ]
  },
  {
   "cell_type": "markdown",
   "metadata": {},
   "source": [
    "Once you have calculated what you think `x`, `y` and `z` are, add print statements to the code above and run it to check."
   ]
  },
  {
   "cell_type": "markdown",
   "metadata": {},
   "source": [
    "### Integer Division\n",
    "\n",
    "Without running the script, calculate what the values of `x`, `y` and `z` would be after all lines of code in the code block have been executed."
   ]
  },
  {
   "cell_type": "code",
   "execution_count": null,
   "metadata": {
    "collapsed": true
   },
   "outputs": [],
   "source": [
    "width = 17\n",
    "height = 12.0\n",
    "\n",
    "x = width / 2\n",
    "y = width / 2.0\n",
    "z = height / 3"
   ]
  },
  {
   "cell_type": "markdown",
   "metadata": {},
   "source": [
    "Once you have calculated what you think `x`, `y` and `z` are, add print statements to the code above and run it to check."
   ]
  },
  {
   "cell_type": "markdown",
   "metadata": {},
   "source": [
    "### Bringing it Together\n",
    "\n",
    "Write a script in Spyder to prompt the user for the number of hours worked and the pay rate per hour to compute and print total pay. Save the script as `PayRate.py` When it has run, `PayRate.py` should look like the following (when the appropriate values are entered):\n",
    "\n",
    "<p>`Enter hours worked: 15`</p>\n",
    "<p>`Enter pay rate per hour: 12.50`</p>\n",
    "<p>`Total pay: 187.5`</p>\n"
   ]
  },
  {
   "cell_type": "markdown",
   "metadata": {},
   "source": [
    "## Save your work!\n",
    "\n",
    "As this is the end of your session, you should save any scripts you have made and this notebook (if you have made edits in it) and move it to a location on your hard drive for longer term storage and backup (e.g. Dropbox)."
   ]
  },
  {
   "cell_type": "markdown",
   "metadata": {},
   "source": [
    "## References\n",
    "Severance, C. (2014) _Python for Informatics: Exploring Information Version_ 2.7.0 [Online] Available at: http://pythonlearn.com/. [Accessed 20 September 2016]"
   ]
  },
  {
   "cell_type": "code",
   "execution_count": null,
   "metadata": {
    "collapsed": true
   },
   "outputs": [],
   "source": []
  }
 ],
 "metadata": {
  "anaconda-cloud": {},
  "kernelspec": {
   "display_name": "Python [Root]",
   "language": "python",
   "name": "Python [Root]"
  },
  "language_info": {
   "codemirror_mode": {
    "name": "ipython",
    "version": 2
   },
   "file_extension": ".py",
   "mimetype": "text/x-python",
   "name": "python",
   "nbconvert_exporter": "python",
   "pygments_lexer": "ipython2",
   "version": "2.7.12"
  },
  "nbpresent": {
   "slides": {
    "7ef708e9-9dd4-47e5-bc19-85af72df5434": {
     "id": "7ef708e9-9dd4-47e5-bc19-85af72df5434",
     "prev": null,
     "regions": {}
    }
   },
   "themes": {}
  }
 },
 "nbformat": 4,
 "nbformat_minor": 0
}
