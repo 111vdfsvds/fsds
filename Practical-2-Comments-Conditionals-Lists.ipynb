{
 "cells": [
  {
   "cell_type": "markdown",
   "metadata": {
    "nbpresent": {
     "id": "f730ab33-247e-4792-9e02-ab29c9f00c14"
    }
   },
   "source": [
    "<center><h1>7SSG2059 Geocomputation 2016/17</h1></center>\n",
    "\n",
    "<h1><center>Practical 2: Comments, Conditionals, Lists</h1></center>\n",
    "\n",
    "<p><center><i>James Millington, 3 October 2016</i></center>\n"
   ]
  },
  {
   "cell_type": "markdown",
   "metadata": {
    "nbpresent": {
     "id": "cada64b6-f8c9-4dbb-9ab1-b5617d0cc16a"
    }
   },
   "source": [
    "## Learning Outcomes\n",
    "\n",
    "By the end of this practical you should:\n",
    "-\tHave thought about the value of commenting your code and what is good practice\n",
    "-\tUnderstand different types of conditional execution and how to use it to control program flow\n",
    "-\tUnderstand how Python lists are structured and be able to access and manipulate their contents\n"
   ]
  },
  {
   "cell_type": "markdown",
   "metadata": {},
   "source": [
    "This document assumes you have created a working directory as described here: http://bit.ly/WorkingDirectory"
   ]
  },
  {
   "cell_type": "markdown",
   "metadata": {},
   "source": [
    "## Commenting on Code"
   ]
  },
  {
   "cell_type": "markdown",
   "metadata": {},
   "source": [
    "When writing code in the Python language (or any coding language for that matter), it can be easy to lose track of what you are trying to do with your code. This is particularly a problem for pieces of code that you return to use having written them a long time ago – what might seem obvious at the time of writing the code can be completely opaque when you come back to it. "
   ]
  },
  {
   "cell_type": "markdown",
   "metadata": {},
   "source": [
    "Computer coding languages therefore usually have a means for coders to write notes in the code in plain language. These notes are more usually known as comments and can be useful for multiple reasons:\n",
    "\n",
    "1.\tTo remind yourself in the future what the code was for\n",
    "2.\tTo communicate to others reading your code what the code intends to do and how to use it\n",
    "3.\tTo help you decipher what others’ code is doing (if it is not clear and/or if they have not provided comments)\n",
    "4.\tTo help you plan out a piece of code (in comments first, then supplement with actual code)\n"
   ]
  },
  {
   "cell_type": "markdown",
   "metadata": {},
   "source": [
    "In Python, comments can be single-line or multiple line. Single-line comments are indicated by the `#` character; anything appearing after this character on the same line will be ignored by Python. Multi-line comments are indicated by three single quotes `’’’` before and after the lines of code you wish to be ignored by Python."
   ]
  },
  {
   "cell_type": "markdown",
   "metadata": {},
   "source": [
    "When using Integrated Development Environments (IDEs; like Spyder) commented code will usually be shown in a different colour or font from other aspects of the code. For example, comments in Spyder look something like that in the figure  below.\n",
    "\n",
    "<img src=\"https://kingsgeocomputation.files.wordpress.com/2016/09/spyder_comments.jpg\" alt=\"Comments in Spyder\" width=\"300\">\n"
   ]
  },
  {
   "cell_type": "markdown",
   "metadata": {},
   "source": [
    "#### TASK\n",
    "\n",
    "Confirm you understand how comment characters `#` and `’’’` work in Python by copying the script from the figure above to your own script in and IDE (e.g. Spyder), saving it, running it and thinking about the output.  "
   ]
  },
  {
   "cell_type": "markdown",
   "metadata": {},
   "source": [
    "There is no single accepted way to comment code appropriately and every coder has their own style. However, there are some general points of good practice which we expect you to follow and which will contribute to evaluation of your code assignments. The points are:\n",
    "\n",
    "1. Include some header information at the top of your program. In the real world this information would likely include your name and contact information but for assignments it should include **only your student id**. The header may also include the date the code was last modified, its purpose and a brief explanation of what the code does.\n",
    "\n",
    "2. Assume the person reading the code is a coder themselves. This means you do not need to comment everything. For example simple assignments such as `my_variable = 1` or expressions such as `mean = total / count` are obvious enough without needing comments. But if you are creating a temporary variable that will be used later in the code for some purpose, this might be useful to indicate. However, that the use of clear variable (but short) names can mitigate against the need for some comments.\n",
    "\n",
    "3. Good commenting is sparse in the sense that it is precise and concise without being overly verbose. You are not aiming to repeat what the code does, rather you are clarifying what may not be immediately apparent and making it easier to understand For example, `#estimate gap compositions` is preferred over `#here the species composition of all gaps in the forest stand is estimated using a logistic regression model` as the latter contains information that will likely be apparent from other comments and/or the structure of the code itself.  \n",
    "\n",
    "4. Generally we suggest you use only `#` to comment code as although quoted comments might be clear in scripts, they sometimes do not work well at command-line or interpreter. \n",
    "\n",
    "5. Feel free to make comments in your code when working that are informal and useful for yourself when writing the code, but when sharing the code (e.g. for an assignment) think about removing these or making them more formal.\n",
    "\n",
    "6. It can be particularly useful to comment blocks of code that conditionally or alternatively execute to keep track of the ‘branch’ of the (imaginary) flow chart the algorithm is on  \n",
    "\n",
    "7. Comment your loop structures (you will get to these next week) – the logic underlying these can be difficult to understand later\n"
   ]
  },
  {
   "cell_type": "markdown",
   "metadata": {},
   "source": [
    "#### TASK\n",
    "\n",
    "Copy the *variables.py* and *rainfall.py* scripts from last week to this week’s working directory and edit them to add comments:\n",
    "\n",
    "1. For the variables script comment in a very verbose style with notes at the end of every line of code intended for yourself to explain exactly what is happening (do not include a header comment) – note this is not the sort of commenting to include in your assignments\n",
    "\n",
    "2. For the rainfall script comment in a concise style for someone else to read and quickly clarify what the code is doing (include a header comment) – this is a better style to include in your assignments\n",
    "\n",
    "Feel free to discuss (your) commenting style with James or Jon during practicals. \n"
   ]
  },
  {
   "cell_type": "markdown",
   "metadata": {},
   "source": [
    "## Conditional Execution"
   ]
  },
  {
   "cell_type": "markdown",
   "metadata": {},
   "source": [
    "### Comparison Operators"
   ]
  },
  {
   "cell_type": "markdown",
   "metadata": {},
   "source": [
    "This section of the practical (re)covers the concepts examined in Notebook 4 of [Python Code Camp](https://kingsgeocomputation.org/teaching/code-camp/code-camp-python/lessons/) but also add new questions and Tasks for you to tackle.  \n",
    "\n",
    "In particular, this section looks at how to compare sutff (like numerical quantities but also words and strings) via *Comparison Operators* and how logical concepts like: \" `if` this condition is `True`, then do something...\" can be expressed in Python. "
   ]
  },
  {
   "cell_type": "markdown",
   "metadata": {},
   "source": [
    "#### TASK\n",
    "\n",
    "Run through the information and activites in the **Comparisons** section of Notebook 4 in the [Python Code Camp](https://kingsgeocomputation.org/teaching/code-camp/code-camp-python/lessons/). Stop when you reach the **Conditions** section and return here (i.e. the last item to look at is _Testing for Inequality_.\n",
    "\n",
    "***"
   ]
  },
  {
   "cell_type": "markdown",
   "metadata": {},
   "source": [
    "Welcome back. \n",
    "\n",
    "Comparison operators are often used in conditional execution with _Boolean_ expressions (which produce True or False results). In conditional execution different lines of code are only executed under certain conditions (specified by the Boolean expression). For example, the code in the image below will only execute when the `hours` variable is greater than zero (as the output of the expression on line 2 is `true` in this circumstance).\n",
    "\n",
    "<img src=\"https://kingsgeocomputation.files.wordpress.com/2016/09/geocompweek2_task3_1a.jpg\", width = 389>"
   ]
  },
  {
   "cell_type": "markdown",
   "metadata": {},
   "source": [
    "#### TASK\n",
    "Copy the code from the image above into a script and after the existing code add two lines of code so that `Hours are less than 10` is printed if that condition is `True`. Run your code three times, once each with the following initial values (on line 1):\n",
    "1.\t`hours = 10`\n",
    "2.\t`hours = 2`\n",
    "3.\t`hours = 0`\n",
    "\n",
    "If you added your lines of code correctly, your output when running the code for the above initial values should be as follows:\n",
    "1.\t`Hours are greater than zero` \n",
    "2.\t`Hours are greater than zero`<br/>\n",
    "    `Hours are less than 10`\n",
    "3.\t`Hours are less than 10`\n"
   ]
  },
  {
   "cell_type": "markdown",
   "metadata": {},
   "source": [
    "#### TASK\n",
    "Add a new line to the script you wrote for yhe task above so that when the initial value of `hours = 12` (on line 1) BOTH conditionals will execute (i.e. both `Hours are greater than zero` and `Hours are less than 10` are printed). \n",
    "\n",
    "_Hint: the line of code to add could read something like `hours = hours – 3` and will be indented._\n",
    "\n",
    "Save your script!"
   ]
  },
  {
   "cell_type": "markdown",
   "metadata": {},
   "source": [
    "#### TASK\n",
    "Create a new script to execute the flow chart shown in the image below. You will need to assign values to `a` and `b` on lines 1 and 2 before using the flow chart to complete the code such that it produces the following:\n",
    "1.\tWhen `a = 2` and `b = 2` four lines of output will be written\n",
    "2.\tWhen `a = 1` and `b = 2` one line of output will be written\n",
    "\n",
    "<img src=\"https://kingsgeocomputation.files.wordpress.com/2016/09/geocompweek2_task3_3.jpg\", width = 600>\n",
    "\n",
    "Save your script!"
   ]
  },
  {
   "cell_type": "markdown",
   "metadata": {},
   "source": [
    "#### TASK\n",
    "Now that you've had some practice with comparison operators, return to where you stopped in Notebook 4 in the [Python Code Camp](https://kingsgeocomputation.org/teaching/code-camp/code-camp-python/lessons/) (the section on **Conditions** after  _Testing for Inequality_). Run through all the remaining material in the notebook (**Conditions** and **Boolean Logic** sections), but **don't** do the _Code (Applied Geo-Example)_ at the end. Return here when you're familiar with the materials and continue with the tasks below. \n",
    "\n",
    "***"
   ]
  },
  {
   "cell_type": "markdown",
   "metadata": {},
   "source": [
    "### Logical Operators\n",
    "Welcome back. \n",
    "As you've just been reading, logical operators can be combined with expressions containing comparison operators to produce more complicated conditional execution statements. The main logical operators are `and`, `or`, and `not`. How these logical operators work is shown in the lecture slides for this week. Review those examples before attempting the tasks below."
   ]
  },
  {
   "cell_type": "markdown",
   "metadata": {},
   "source": [
    "#### TASK\n",
    "Read the code in the code cell below. "
   ]
  },
  {
   "cell_type": "code",
   "execution_count": null,
   "metadata": {
    "collapsed": true
   },
   "outputs": [],
   "source": [
    "if x > 0 and x < 5:\n",
    "    print(\"Joe\")\n",
    "    \n",
    "if x > 0 or x < 5:\n",
    "    print(\"Aled\")\n",
    "    \n",
    "if not(x > 0):\n",
    "    print(\"Sarah\")"
   ]
  },
  {
   "cell_type": "markdown",
   "metadata": {},
   "source": [
    "Assume that the code executes for a given value of `x` and answer the following questions. Only test the code **AFTER** you have worked out the answers and typed them below.\n",
    "\n",
    "1.\tWhat names are name(s) are printed when `x = 5`? \n",
    "2.\tWhat value(s) can `x` be when the names `Joe` and `Aled` are printed?  \n",
    "3.\tWhat name(s) are printed when `x = -1`?\n",
    "4.\tIs there any value for which all three names will be printed?\n"
   ]
  },
  {
   "cell_type": "markdown",
   "metadata": {},
   "source": [
    "**Answers** _Edit this cell!_\n",
    "\n",
    "To edit this cell just double click on it (right _here_). Click the _run cell_ button when you're finished and remember to save your notebook [File -> Save and Checkpoint] to save your answers to disk!\n",
    "\n",
    "1.\n",
    "\n",
    "2.\n",
    "\n",
    "3.\n",
    "\n",
    "4."
   ]
  },
  {
   "cell_type": "markdown",
   "metadata": {},
   "source": [
    "### Alternative Execution\n",
    "The reserved word `else` can be used with the reserved word `if` to produce what is known as an ‘alternative execution’. It is ‘alternative’ because there are two possibilities and a condition determines which alternative gets executed. In an alternative execution, since a condition must either be `true` or `false` exactly one of the alternatives will be executed. The alternatives are called branches, because they are branches in the flow of execution."
   ]
  },
  {
   "cell_type": "markdown",
   "metadata": {},
   "source": [
    "#### TASK\n",
    "Read at the image below.\n",
    "\n",
    "<img src=\"https://kingsgeocomputation.files.wordpress.com/2016/09/geocompweek2_task3_5.jpg\", width = 600>\n",
    "\n",
    "Write a script to execute the alternative execution shown by the flow chart above. Check your code works by trying different values of `x` and comparing the outcomes. Also check you understand why the Boolean expression using the percent symbol `%` allows us to evaluate odd vs even numbers. "
   ]
  },
  {
   "cell_type": "markdown",
   "metadata": {},
   "source": [
    "### Nested Conditional\n",
    "Conditional statements can be nested within one another. That is, once one conditional statement has been evaluated others may subsequently be evaluated (or not) depending on the result of the initial conditional statement. The code below shows an example of this. "
   ]
  },
  {
   "cell_type": "code",
   "execution_count": null,
   "metadata": {
    "collapsed": true
   },
   "outputs": [],
   "source": [
    "if x != y:                                 #line 1\n",
    "    print(\"x is not equal to y\")\n",
    "    \n",
    "    if(x > y):                             #line 4\n",
    "        print(\"x is greater than y\")\n",
    "        \n",
    "    else:                                  #line 7\n",
    "        print(\"x is less than y\")\n",
    "\n",
    "else:\n",
    "    print(\"insert conclusion here\")"
   ]
  },
  {
   "cell_type": "markdown",
   "metadata": {},
   "source": [
    "Note how the indentation is useful to work out which ‘level’ the code is operating at. In the code above, lines 4 and 7 are at the same indentation meaning that both will be skipped if the initial condition (on line 1) is `False`. \n",
    "\n",
    "#### TASK\n",
    "To check you understand how the code in the image above works:\n",
    "1.\tDraw a flow chart to illustrate the flow of execution (on paper or use LibreOffice Impress or Microsoft PowerPoint)\n",
    "2.\tChange `insert conclusion here` in the code above to a string that explains the condition of `x` and `y`\n",
    "3.\tFor `x = 2` and `y = 3`, type below what line(s) will be output \n"
   ]
  },
  {
   "cell_type": "markdown",
   "metadata": {},
   "source": [
    "**Answer** _Edit this cell!_\n",
    "\n",
    "3. "
   ]
  },
  {
   "cell_type": "markdown",
   "metadata": {},
   "source": [
    "Great! You should now have a pretty good understanding of how conditional and logical operators work. This understanding will be handy in future as we work through other computational concepts. "
   ]
  },
  {
   "cell_type": "markdown",
   "metadata": {},
   "source": [
    "## Lists\n",
    "In the remainder of this practical we will look at the _list_ data structure. A _list_ is an _ordered_ collection of 'items' (numbers, strings, etc.). You can ask for the first item in a list, the 3rd, or the 1,000th, it doesn't really matter because your list has an order and maintains that order."
   ]
  },
  {
   "cell_type": "markdown",
   "metadata": {},
   "source": [
    "#### TASK\n",
    "Concepts regarding lists are covered comprehensively in in Notebook 5 in the [Python Code Camp](https://kingsgeocomputation.org/teaching/code-camp/code-camp-python/lessons/). Run through all the material in the notebook but **don't** do the _Code (Applied Geo-Example)_ at the end. Return here when you're familiar with the materials and continue with the tasks below. "
   ]
  },
  {
   "cell_type": "markdown",
   "metadata": {},
   "source": [
    "### Indexing"
   ]
  },
  {
   "cell_type": "markdown",
   "metadata": {},
   "source": [
    "As you've seen, and as in many other programming languages, lists in Python are zero indexed. That is, the index (or ‘address’) of the first element in the list has the index 0 (NOT 1). One way to remember this is that lists are like UK lifts, not US elevators – UK lifts start on the ground floor (0) and then are numbered above this; in the US the ground floor is numbered as floor 1."
   ]
  },
  {
   "cell_type": "markdown",
   "metadata": {},
   "source": [
    "#### TASK\n",
    "Referring back to lecture notes and Notebook 5 if necessary, answer the following questions for the list shown in code block below. Provide your answers **before** testing! \n",
    "\n",
    "1.\tWhat is index of `\"Manchester\"`?  \n",
    "2.\tWhat city will `cities[0]` return?\n",
    "3.\tIf `a = 2`, what city will `cities[a+2]` return?\n",
    "4. \tWhat will `cities[6]` return? "
   ]
  },
  {
   "cell_type": "code",
   "execution_count": null,
   "metadata": {
    "collapsed": false
   },
   "outputs": [],
   "source": [
    "cities = [\"Bristol\", \"London\", \"Manchester\", \"Edinburgh\", \"Belfast\", \"York\"]"
   ]
  },
  {
   "cell_type": "markdown",
   "metadata": {},
   "source": [
    "**Answers** _Edit this cell!_\n",
    "\n",
    "1.\n",
    "\n",
    "2.\n",
    "\n",
    "3.\n",
    "\n",
    "4."
   ]
  },
  {
   "cell_type": "markdown",
   "metadata": {},
   "source": [
    "If you now test what the answer to question 4. is above (e.g. by entering `print cities[6]` you should see that you receive an `IndexError`. Python offers some additional information: `list index out of range`. This is Python telling you that the index (i.e., 6) does not exist because the list is not that long. Think about this and ensure you understand (ask if not!)."
   ]
  },
  {
   "cell_type": "markdown",
   "metadata": {},
   "source": [
    "#### TASK\n",
    "Answer the following questions in the text block below:\n",
    "1.\tHow many elements are there in cities list (i.e. what is its length)? \n",
    "2.\tWhat is the index of the last element of the cities list?\n"
   ]
  },
  {
   "cell_type": "markdown",
   "metadata": {},
   "source": [
    "**Answers** _Double-click to edit this cell!_\n",
    "Remember to click the _run cell_ button when you're finished. And when was the last tine you saved your notebook? [File -> Save and Checkpoint]\n",
    "\n",
    "1.\n",
    "\n",
    "2."
   ]
  },
  {
   "cell_type": "markdown",
   "metadata": {},
   "source": [
    "You can check the answer to 1 in the task above using the `len()` function, passing `cities` as an argument to the function. Remember that the last element of a list is always one less than the length of the list (because of zero-indexing). "
   ]
  },
  {
   "cell_type": "markdown",
   "metadata": {},
   "source": [
    "### Slicing Lists"
   ]
  },
  {
   "cell_type": "markdown",
   "metadata": {},
   "source": [
    "As you saw in Notebook 5 in the [Python Code Camp](https://kingsgeocomputation.org/teaching/code-camp/code-camp-python/lessons/) the indexing of lists is particularly useful when we want to extract specific sections of a list. This is known as ‘slicing’. For example, if `myList` is a list and `start` and `end` are indexes, we can get a slice of the list using `myList[start:end]`. The important thing to remember is that `end` is the first index NOT in the selected slice. So `mylist[1:3]` would return the second and third elements of `myList` only (remember lists are zero indexed!)."
   ]
  },
  {
   "cell_type": "markdown",
   "metadata": {},
   "source": [
    "There are many different ways to slice lists. A very good overview of how slicing works and what you can do with it is provided by [this StackOverflow question and responses](http://stackoverflow.com/questions/509211/explain-pythons-slice-notation). In particular, [the most voted for answer](http://stackoverflow.com/a/509295) is very useful and discusses how negative indexes can be used. "
   ]
  },
  {
   "cell_type": "markdown",
   "metadata": {},
   "source": [
    "#### TASK\n",
    "Answer the following questions for the list shown in code block below. Provide your answers before testing! \n",
    "\n",
    "1.\tWhat would `temperatures[:3]` return?  \n",
    "2.\tWhat code would you need to return `[16.5, 13.4, 14,0]`?  \n",
    "3.\tWhat are two different pieces of code to return `[15.2, 14.8]` from the temperatures list? \n",
    "4.\t`temperatures[4:5]` is not a correct answer to question 3. Explain why and state what this code would return. \n"
   ]
  },
  {
   "cell_type": "code",
   "execution_count": null,
   "metadata": {
    "collapsed": true
   },
   "outputs": [],
   "source": [
    "temperatures = [15.6, 16.5, 13.4, 14.0, 15.2, 14.8]"
   ]
  },
  {
   "cell_type": "markdown",
   "metadata": {},
   "source": [
    "**Answers** _Edit this cell!_\n",
    "\n",
    "1.\n",
    "\n",
    "2.\n",
    "\n",
    "3a.\n",
    "\n",
    "3b.\n",
    "\n",
    "4."
   ]
  },
  {
   "cell_type": "markdown",
   "metadata": {},
   "source": [
    "### Changing Lists\n",
    "So far we have looked at how to access the contents of lists, but what if we wanted to change the elements of a list? This ability to change the contents is a key characteristic of a list – that is, lists are mutable. One of the simplest ways to change a list is to add values to it using **concatenation**.\n",
    "\n",
    "Concatenation means to link together in a series or chain; for lists this means joining multiple lists together to form a longer list. We do this using the `+` operator. "
   ]
  },
  {
   "cell_type": "markdown",
   "metadata": {},
   "source": [
    "#### TASK\n",
    "For the code below, what would `D` contain if `D = A + B`?"
   ]
  },
  {
   "cell_type": "markdown",
   "metadata": {},
   "source": [
    "**Answer** _Edit this cell!_ [double-click here]\n"
   ]
  },
  {
   "cell_type": "code",
   "execution_count": null,
   "metadata": {
    "collapsed": true
   },
   "outputs": [],
   "source": [
    "A = [1.3, 4.5, 2.8]\n",
    "B = [\"mountain\", \"river\", \"lake\"]\n",
    "C = [4, 5, 6]"
   ]
  },
  {
   "cell_type": "markdown",
   "metadata": {},
   "source": [
    "#### TASK\n",
    "1. Add code to the cell **above** that uses concatenation of existing lists to produce a new list named `E` with contents `[4, 5, 6, 1.3, 4.5, 2.8]`\n",
    "2. Run the code cell **below** and use the error message produced to modify the second line so that `F` contains `[4,5,6,7]` \n"
   ]
  },
  {
   "cell_type": "code",
   "execution_count": null,
   "metadata": {
    "collapsed": true
   },
   "outputs": [],
   "source": [
    "C = [4, 5, 6]\n",
    "F = C + 7 "
   ]
  },
  {
   "cell_type": "markdown",
   "metadata": {},
   "source": [
    "The reason you get an error for the initial code for `F` above is that only lists can be concatenated to other lists; but `7` is an `int`. However, by putting the `int` within square brackets (e.g. `[7]`) we create a list which can then be concatenated to the other list. "
   ]
  },
  {
   "cell_type": "markdown",
   "metadata": {},
   "source": [
    "Rather than creating a new list each time we do a concatenation we can update an existing list with an assignment. The code below demonstrates this."
   ]
  },
  {
   "cell_type": "code",
   "execution_count": null,
   "metadata": {
    "collapsed": false
   },
   "outputs": [],
   "source": [
    "myList = [1, 2, 3]\n",
    "myList = myList + [4, 5, 6]\n",
    "print(myList)"
   ]
  },
  {
   "cell_type": "markdown",
   "metadata": {},
   "source": [
    "#### TASK\n",
    "Execute the code above and check you understand why it outputs what it does. If not, read on... "
   ]
  },
  {
   "cell_type": "markdown",
   "metadata": {},
   "source": [
    "On line 1 we create a list named `myList` that contains some values. On line 2 we concatenate the original `myList` with another list we create ‘on the fly’ and assign it to a list named `myList`. We can then see when we print `myList` it now has the result of the concatenation of the original values with the new values: `[1, 2, 3, 4, 5, 6]`. \n",
    "\n",
    "This is a pretty neat way of changing lists to add new elements but there is another way and which is built upon the use of code that other people have written and packaged up to save you writing a lot of code yourself. These bits of code are called _functions_ or _methods_. You already saw some of these in Notebook 5 and we’ll learn more about these in a future week. For example, without thinking about it, we have already used the `len()` function above to get the number of elements in a list. \n",
    "\n",
    "One method for lists that does something similar to concatenation is `append()`. The code below shows how the append function works in a similar way to what we did above."
   ]
  },
  {
   "cell_type": "code",
   "execution_count": null,
   "metadata": {
    "collapsed": false
   },
   "outputs": [],
   "source": [
    "friends = [\"Joe\", \"Fatimah\", \"Sarah\"]\n",
    "print(friends)\n",
    "friends.append(\"Aled\")\n",
    "print(friends)"
   ]
  },
  {
   "cell_type": "markdown",
   "metadata": {},
   "source": [
    "One important thing to realise here is that the append method changes the list for us and we do not need to do any assignment. In fact, when we used the `+` operator to do concatenation above we weren’t actually assigning the concatenated lists to the original `myList` object, actually we were creating a new object that happened to have the same name. This is different from list methods which actually change the original list. This is a subtle difference that may be useful to recognise in future. For example, run the code below and see how it produces different output - think about what is going on here. "
   ]
  },
  {
   "cell_type": "code",
   "execution_count": null,
   "metadata": {
    "collapsed": false
   },
   "outputs": [],
   "source": [
    "friends = [\"Joe\", \"Fatimah\", \"Sarah\"]\n",
    "print(friends)\n",
    "friends = friends.append(\"Aled\")\n",
    "print(friends)"
   ]
  },
  {
   "cell_type": "markdown",
   "metadata": {},
   "source": [
    "As you saw in Notebook 5 in the [Python Code Camp](https://kingsgeocomputation.org/teaching/code-camp/code-camp-python/lessons/) there are lots of other methods available for us to work with lists.One of the reasons working in an IDE (like Spyder) to develop code is that if has built-in functionality to remind and suggest available methods for different types of objects. For example, in Spyder for a list named `myList` you would type `myList.` and a pop-up of available methods shoudl appear. Also, in both Spyder and Canopy you can hit the tab key after the fullstop to make the pop-up appear. [Note you can also use the tab key in Jupyter Notebooks but only once code has been run to create an object] "
   ]
  },
  {
   "cell_type": "markdown",
   "metadata": {},
   "source": [
    "#### TASK\n",
    "Run the code above as a script in an IDE (e.g. Spyder, Canopy) to make sure you have a friends list containing names of four friends. For that list experiment with the ways in which to view the available methods for the object."
   ]
  },
  {
   "cell_type": "markdown",
   "metadata": {},
   "source": [
    "The table below shows methods for lists (also known as 'list methods') in addition to those like `length` and `range` that we saw in Notebook 5 in the [Python Code Camp](https://kingsgeocomputation.org/teaching/code-camp/code-camp-python/lessons/). In each case, to use the method you would replace 'list' with the name of your list (e.g. `friends` above).\n",
    "\n",
    "Think about how the actions on lists that these methods produce are described (i.e., what do x and i stand for) and see if you can predict in your head (or on paper) how these would operate on some of the lists you have used above. \n",
    "\n",
    "| Method                 | Action |\n",
    "|------------------------|------------------------------------------------------------------|\n",
    "| list.count(`x`)        | Return the number of times x appears in the list                 |\n",
    "| list.insert(`i`, `x`)  | Insert value `x` at a given position `i`                         |\n",
    "| list.pop([`i`])        | Remove and return the value at position `i` *NB1*                |\n",
    "| list.remove(`x`)       | Remove the first element from the list whose value is `x`. *NB2* |\n",
    "| list.reverse()         | Reverse the elements of the list, in place.                      |\n",
    "| list.sort()            | Sort the items of the list, in place                             |\n",
    "\n",
    "*NB1* If `i` is not specified, removes and returns the last item in the list; if `i` is specified `[]` are not needed)\n",
    "\n",
    "*NB2* It is an error if there is no such item.\n"
   ]
  },
  {
   "cell_type": "markdown",
   "metadata": {},
   "source": [
    "Now, where would you find this information on list methods wasn't provided in a handy table? The answer: [online](http://lmgtfy.com/?q=python+2.7+list+methods&l=1)!"
   ]
  },
  {
   "cell_type": "markdown",
   "metadata": {},
   "source": [
    "For the following Tasks always start with the list shown in the code cell below. Work out the answers in your head (or on paper) **BEFORE** checking your answers in here or in an IDE."
   ]
  },
  {
   "cell_type": "code",
   "execution_count": null,
   "metadata": {
    "collapsed": true
   },
   "outputs": [],
   "source": [
    "#original state of myList\n",
    "myList = [1, 2, 3, 4, 1, 2, 3, 1, 2, 1]"
   ]
  },
  {
   "cell_type": "markdown",
   "metadata": {},
   "source": [
    "#### TASK\n",
    "Answer the following questions about the `count` method:\n",
    "\n",
    "1.\tWhat would `myList.count(2)` return? Answer: _[double-click here to enter your answer]_ \n",
    "2.\tEnter code below to count the number of times the number 1 appeared in `myList`? \n",
    " "
   ]
  },
  {
   "cell_type": "code",
   "execution_count": null,
   "metadata": {
    "collapsed": true
   },
   "outputs": [],
   "source": []
  },
  {
   "cell_type": "markdown",
   "metadata": {},
   "source": [
    "#### TASK\n",
    "Answer the following questions about the `insert` method:\n",
    "1.\tWhat would `myList` look like after executing `myList.insert(5, 4)` Answer: _[double-click here to enter your answer]_\n",
    "2.\tEnter code below to use the `insert` method to change `myList` from its original state to: `[1, 2, 3, 4, 1, 2, 3, 7, 1, 2, 1]` \n"
   ]
  },
  {
   "cell_type": "code",
   "execution_count": null,
   "metadata": {
    "collapsed": true
   },
   "outputs": [],
   "source": []
  },
  {
   "cell_type": "markdown",
   "metadata": {},
   "source": [
    "#### TASK\n",
    "Answer the following questions about the `pop` method:\n",
    "\n",
    "1.\tWhat would the original `myList` look like after executing `myList.pop()`? Answer: _[double-click here to enter your answer]_ \n",
    "2.\tIf you executed `popped = myList.pop(2)` (using the original `myList`), what value would `popped` contain? Answer: _[double-click here to enter your answer]_ \n",
    "3. Enter code below that uses the `pop` method to change `myList` from its original state to: `[1, 2, 3, 1, 2, 3, 1, 2, 1]` \n"
   ]
  },
  {
   "cell_type": "code",
   "execution_count": null,
   "metadata": {
    "collapsed": true
   },
   "outputs": [],
   "source": []
  },
  {
   "cell_type": "markdown",
   "metadata": {},
   "source": [
    "#### TASK\n",
    "Answer the following questions about the `remove` method:\n",
    "\n",
    "1. What would the original `myList` look like after executing `myList.remove(3)`? Answer: _[double-click here to enter your answer]_ \n",
    "2. Enter code below that uses with the `remove` method to change `myList` from its original state to: `[2, 3, 4, 1, 2, 3, 1, 2, 1]` \t\n"
   ]
  },
  {
   "cell_type": "code",
   "execution_count": null,
   "metadata": {
    "collapsed": true
   },
   "outputs": [],
   "source": []
  },
  {
   "cell_type": "markdown",
   "metadata": {},
   "source": [
    "#### TASK\n",
    "Answer the following questions about the `reverse` and `sort` methods:\n",
    "\n",
    "1.\tAfter executing `myList.reverse()` for the original version of `myList`, what would the value of myList[2] be? Answer: _[double-click here to enter your answer]_  \n",
    "2.\tAfter executing `myList.sort()` for the original version of myList, what would the value of `myList[4]` be? Answer: _[double-click here to enter your answer]_   \n"
   ]
  },
  {
   "cell_type": "markdown",
   "metadata": {},
   "source": [
    "Great work! Remember to save your notebook so that all your answers are saved and you can refer back to it in the future [File -> Save and Checkpoint].\n",
    "\n",
    "The Exercises below require you to write scripts in an IDE (e.g. Spyder).  "
   ]
  },
  {
   "cell_type": "markdown",
   "metadata": {},
   "source": [
    "## Exercises"
   ]
  },
  {
   "cell_type": "markdown",
   "metadata": {},
   "source": [
    "### Alterative Execution\n",
    "Write a script that reports whether a person A is older than person B or not. Whole numbers should be used as ages in years. The program should read the ages of the two people from the keyboard. *Hint: use `raw_input` function from Week 1.* Either “Person A is older than Person B” or “Person A is not older than Person B” should be reported to the used."
   ]
  },
  {
   "cell_type": "markdown",
   "metadata": {},
   "source": [
    "### Conditional Execution\n",
    "Build on the script you wrote in the previous exercise (but save this as a new, separate script). This time, the script should check if Person A is older than Person B but also whether they are the same age. As before, whole numbers should be used as ages (in years) and the program should read the ages of the two people from the keyboard. One of three responses should be reported to the user:\n",
    "1.\t“Person A is older than Person B”\n",
    "2.\t“Person B is older than Person A”\n",
    "3.\t“Person A and Person B are the same age”"
   ]
  },
  {
   "cell_type": "markdown",
   "metadata": {},
   "source": [
    "### Nested Execution\n",
    "Build on the script you wrote in the previous exercise (but again save this as a new, separate script). This third program should be designed to use a nested execution structure to report if Person A is much younger, a little younger, the same age, a little older or much older than Person B. Write your script with a nested structure so that first it evaluates whether one person is older than the other, and then if so whether they there is a large difference in age or a small difference in age. After reading the ages of the two people the program should prompt for the number of years that indicates a ‘large difference’ in age. One of the following five responses should be reported to the user:\n",
    "1.\t“Person A is much younger than Person B” [if age difference > ‘large difference’]\n",
    "2.\t“Person A is a little younger than Person B” [if age difference <= ‘large difference’]\n",
    "3.\t“Person A is the same age as Person B”\n",
    "4.\t“Person A is a little older than Person B” [if age difference <= ‘large difference’]\n",
    "5.\t“Person A is a much older than Person B” [if age difference > ‘large difference’]\n"
   ]
  },
  {
   "cell_type": "markdown",
   "metadata": {},
   "source": [
    "### Creating and Sorting Lists\n",
    "Write a script to read in five integers and place them in a list sorted into ascending numerical order. Your program should be designed so that one number at a time is read into the list and then once all five numbers have been read report the ordered list to the user. "
   ]
  },
  {
   "cell_type": "markdown",
   "metadata": {},
   "source": [
    "### More 'sorting'\n",
    "Build on your previous script so that once all five numbers have been read, they are reported back to the user in descending numerical order _[Hint: use the reverse list method]_"
   ]
  },
  {
   "cell_type": "markdown",
   "metadata": {},
   "source": [
    "### Bringing it all together\n",
    "Write a script to report the most frequent value in a list of FIVE integers. If there is not a single mode report this fact back to the user. Do not use a loop. For example, for the input list `myInput = [1,4,2,3,2]` the script would report that the mode is 2 and that it occurs 2 times. But for the input list `myInput = [1,4,1,3,4]` the script would report there is no single mode (as both 1 and 4 occur 2 times). \n",
    "\n",
    "_[Hint: For each element in the input list you will need to compare if the count for that value is greater than the current greatest count. Use the .count() list method to count the number of times a value occurs. You may find it useful to create a secondary list to hold the most frequently found value(s) as you check other values in the input list. ]_"
   ]
  },
  {
   "cell_type": "code",
   "execution_count": null,
   "metadata": {
    "collapsed": true
   },
   "outputs": [],
   "source": []
  }
 ],
 "metadata": {
  "anaconda-cloud": {},
  "kernelspec": {
   "display_name": "Python [Root]",
   "language": "python",
   "name": "Python [Root]"
  },
  "language_info": {
   "codemirror_mode": {
    "name": "ipython",
    "version": 2
   },
   "file_extension": ".py",
   "mimetype": "text/x-python",
   "name": "python",
   "nbconvert_exporter": "python",
   "pygments_lexer": "ipython2",
   "version": "2.7.12"
  },
  "nbpresent": {
   "slides": {
    "7ef708e9-9dd4-47e5-bc19-85af72df5434": {
     "id": "7ef708e9-9dd4-47e5-bc19-85af72df5434",
     "prev": null,
     "regions": {}
    }
   },
   "themes": {}
  }
 },
 "nbformat": 4,
 "nbformat_minor": 0
}
