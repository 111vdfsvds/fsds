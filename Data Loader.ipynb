{
 "cells": [
  {
   "cell_type": "markdown",
   "metadata": {},
   "source": [
    "# Data Set Creation Notebook\n",
    "\n",
    "This notebook creates the composite data set used in the Geocomputation module. You are welcome to add additional data sets for the purposes of the final assessment in the module if you so wish."
   ]
  },
  {
   "cell_type": "code",
   "execution_count": 1,
   "metadata": {
    "collapsed": false
   },
   "outputs": [],
   "source": [
    "# Needed on a Mac\n",
    "import matplotlib as mpl\n",
    "mpl.use('TkAgg')\n",
    "%matplotlib inline\n",
    "import matplotlib.pyplot as plt"
   ]
  },
  {
   "cell_type": "markdown",
   "metadata": {},
   "source": [
    "## Output Area Data\n",
    "\n",
    "Downloaded from the [London Data Store](https://data.london.gov.uk/dataset/statistical-gis-boundary-files-london), with the Output Area shapefile extracted and re-compressed to save space on GitHub. "
   ]
  },
  {
   "cell_type": "code",
   "execution_count": 18,
   "metadata": {
    "collapsed": false
   },
   "outputs": [
    {
     "data": {
      "text/plain": [
       "7801     POLYGON ((528511.459 163352.679, 528571.754 16...\n",
       "14874    POLYGON ((532097.0330000001 171194.536, 532092...\n",
       "5939     POLYGON ((541126.947 158305.481, 541216.747 15...\n",
       "22347    POLYGON ((530355.527 186172.034, 530306.284 18...\n",
       "22349    POLYGON ((530508.433 186212.221, 530454.270999...\n",
       "Name: geometry, dtype: object"
      ]
     },
     "execution_count": 18,
     "metadata": {},
     "output_type": "execute_result"
    }
   ],
   "source": [
    "import os\n",
    "import zipfile\n",
    "import geopandas as gpd\n",
    "\n",
    "zip_ref = zipfile.ZipFile(os.path.join('Data','OA.zip'), 'r')\n",
    "zip_ref.extractall('.')\n",
    "zip_ref.close()\n",
    "\n",
    "gdf = gpd.read_file(os.path.join('OA','OA_2011_London_gen_MHW.shp'))"
   ]
  },
  {
   "cell_type": "code",
   "execution_count": 20,
   "metadata": {
    "collapsed": false
   },
   "outputs": [
    {
     "data": {
      "text/plain": [
       "{u'datum': u'OSGB36',\n",
       " u'k': 0.999601272,\n",
       " u'lat_0': 49,\n",
       " u'lon_0': -2,\n",
       " u'no_defs': True,\n",
       " u'proj': u'tmerc',\n",
       " u'units': u'm',\n",
       " u'x_0': 400000,\n",
       " u'y_0': -100000}"
      ]
     },
     "execution_count": 20,
     "metadata": {},
     "output_type": "execute_result"
    }
   ],
   "source": [
    "gdf.crs"
   ]
  },
  {
   "cell_type": "code",
   "execution_count": null,
   "metadata": {
    "collapsed": true
   },
   "outputs": [],
   "source": []
  }
 ],
 "metadata": {
  "kernelspec": {
   "display_name": "Python [conda env:gsa2017]",
   "language": "python",
   "name": "conda-env-gsa2017-py"
  },
  "language_info": {
   "codemirror_mode": {
    "name": "ipython",
    "version": 2
   },
   "file_extension": ".py",
   "mimetype": "text/x-python",
   "name": "python",
   "nbconvert_exporter": "python",
   "pygments_lexer": "ipython2",
   "version": "2.7.13"
  }
 },
 "nbformat": 4,
 "nbformat_minor": 0
}
