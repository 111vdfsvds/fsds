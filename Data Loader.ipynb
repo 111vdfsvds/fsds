{
 "cells": [
  {
   "cell_type": "markdown",
   "metadata": {},
   "source": [
    "# Data Set Creation Notebook\n",
    "\n",
    "This notebook creates the composite data set used in the Geocomputation module. You are welcome to add additional data sets for the purposes of the final assessment in the module if you so wish."
   ]
  },
  {
   "cell_type": "code",
   "execution_count": 1,
   "metadata": {
    "collapsed": false
   },
   "outputs": [],
   "source": [
    "# Needed on a Mac\n",
    "import matplotlib as mpl\n",
    "mpl.use('TkAgg')\n",
    "%matplotlib inline\n",
    "import matplotlib.pyplot as plt"
   ]
  },
  {
   "cell_type": "code",
   "execution_count": 2,
   "metadata": {
    "collapsed": false
   },
   "outputs": [],
   "source": [
    "import requests\n",
    "import pandas as pd\n",
    "import geopandas as gpd"
   ]
  },
  {
   "cell_type": "code",
   "execution_count": 3,
   "metadata": {
    "collapsed": true
   },
   "outputs": [],
   "source": [
    "import os\n",
    "def ensure_dir(file_path):\n",
    "    directory = os.path.dirname(file_path)\n",
    "    if not os.path.exists(directory):\n",
    "        os.makedirs(directory)\n",
    "\n",
    "import zipfile\n",
    "def extract_all(file_path):\n",
    "    zip_ref = zipfile.ZipFile(file_path, 'r')\n",
    "    zip_ref.extractall('.')\n",
    "    zip_ref.close()\n",
    "\n",
    "def zipdir(path, ziph):\n",
    "    # ziph is zipfile handle\n",
    "    for root, dirs, files in os.walk(path):\n",
    "        for file in files:\n",
    "            ziph.write(os.path.join(root, file))\n",
    "    \n",
    "def compress_all(srcdir, name):\n",
    "    zipf = zipfile.ZipFile(name + '.zip', 'w', zipfile.ZIP_DEFLATED)\n",
    "    zipdir(srcdir, zipf)\n",
    "    zipf.close()"
   ]
  },
  {
   "cell_type": "markdown",
   "metadata": {},
   "source": [
    "## London\n",
    "\n",
    "Useful for filtering down the data sets that we've downloaded from OSOpen."
   ]
  },
  {
   "cell_type": "code",
   "execution_count": 4,
   "metadata": {
    "collapsed": false
   },
   "outputs": [
    {
     "data": {
      "text/plain": [
       "<matplotlib.axes._subplots.AxesSubplot at 0x11af9fa90>"
      ]
     },
     "execution_count": 4,
     "metadata": {},
     "output_type": "execute_result"
    },
    {
     "data": {
      "image/png": "[encoded data removed]",
      "text/plain": [
       "<matplotlib.figure.Figure at 0x11af9f1d0>"
      ]
     },
     "metadata": {},
     "output_type": "display_data"
    }
   ],
   "source": [
    "fpath = os.path.join('London','London.shp')\n",
    "if not (os.path.exists(fpath) and os.path.isfile(fpath)):\n",
    "    print(\"Unpacking...\")\n",
    "    extract_all(os.path.join('Data','London.zip'))\n",
    "ldn = gpd.read_file(fpath)\n",
    "ldn.crs = {'init': u'epsg:27700'}\n",
    "ldn.plot()"
   ]
  },
  {
   "cell_type": "markdown",
   "metadata": {},
   "source": [
    "## Lower Super Output Area Data\n",
    "\n",
    "Downloaded from the [London Data Store](https://data.london.gov.uk/dataset/statistical-gis-boundary-files-london), with the Output Area shapefile extracted and re-compressed to save space on GitHub. "
   ]
  },
  {
   "cell_type": "code",
   "execution_count": 5,
   "metadata": {
    "collapsed": false
   },
   "outputs": [],
   "source": [
    "# Extract Output Areas\n",
    "fpath = os.path.join('LSOA','LSOA_2011_London_gen_MHW.shp')\n",
    "if not (os.path.exists(fpath) and os.path.isfile(fpath)):\n",
    "    print(\"Unpacking...\")\n",
    "    extract_all(os.path.join('Data','LSOA.zip'))\n",
    "lsoa = gpd.read_file(fpath)\n",
    "lsoa.crs = {'init': u'epsg:27700'}\n",
    "\n",
    "# Stash a copy of original geometry and the centroids\n",
    "# since we'll need both again\n",
    "#lsoa['outlines']  = lsoa.geometry\n",
    "#lsoa['centroids'] = lsoa.geometry.centroid"
   ]
  },
  {
   "cell_type": "code",
   "execution_count": 6,
   "metadata": {
    "collapsed": false
   },
   "outputs": [
    {
     "data": {
      "text/html": [
       "<div>\n",
       "<style>\n",
       "    .dataframe thead tr:only-child th {\n",
       "        text-align: right;\n",
       "    }\n",
       "\n",
       "    .dataframe thead th {\n",
       "        text-align: left;\n",
       "    }\n",
       "\n",
       "    .dataframe tbody tr th {\n",
       "        vertical-align: top;\n",
       "    }\n",
       "</style>\n",
       "<table border=\"1\" class=\"dataframe\">\n",
       "  <thead>\n",
       "    <tr style=\"text-align: right;\">\n",
       "      <th></th>\n",
       "      <th>LSOA11CD</th>\n",
       "      <th>LSOA11NM</th>\n",
       "      <th>MSOA11CD</th>\n",
       "      <th>MSOA11NM</th>\n",
       "      <th>LAD11CD</th>\n",
       "      <th>LAD11NM</th>\n",
       "      <th>RGN11CD</th>\n",
       "      <th>RGN11NM</th>\n",
       "      <th>USUALRES</th>\n",
       "      <th>HHOLDRES</th>\n",
       "      <th>COMESTRES</th>\n",
       "      <th>POPDEN</th>\n",
       "      <th>HHOLDS</th>\n",
       "      <th>AVHHOLDSZ</th>\n",
       "      <th>geometry</th>\n",
       "    </tr>\n",
       "  </thead>\n",
       "  <tbody>\n",
       "    <tr>\n",
       "      <th>0</th>\n",
       "      <td>E01000001</td>\n",
       "      <td>City of London 001A</td>\n",
       "      <td>E02000001</td>\n",
       "      <td>City of London 001</td>\n",
       "      <td>E09000001</td>\n",
       "      <td>City of London</td>\n",
       "      <td>E12000007</td>\n",
       "      <td>London</td>\n",
       "      <td>1465</td>\n",
       "      <td>1465</td>\n",
       "      <td>0</td>\n",
       "      <td>112.9</td>\n",
       "      <td>876</td>\n",
       "      <td>1.7</td>\n",
       "      <td>POLYGON ((532105.0919998939 182011.23, 532162....</td>\n",
       "    </tr>\n",
       "    <tr>\n",
       "      <th>1</th>\n",
       "      <td>E01000002</td>\n",
       "      <td>City of London 001B</td>\n",
       "      <td>E02000001</td>\n",
       "      <td>City of London 001</td>\n",
       "      <td>E09000001</td>\n",
       "      <td>City of London</td>\n",
       "      <td>E12000007</td>\n",
       "      <td>London</td>\n",
       "      <td>1436</td>\n",
       "      <td>1436</td>\n",
       "      <td>0</td>\n",
       "      <td>62.9</td>\n",
       "      <td>830</td>\n",
       "      <td>1.7</td>\n",
       "      <td>POLYGON ((532746.8130000263 181786.891000028, ...</td>\n",
       "    </tr>\n",
       "  </tbody>\n",
       "</table>\n",
       "</div>"
      ],
      "text/plain": [
       "    LSOA11CD             LSOA11NM   MSOA11CD            MSOA11NM    LAD11CD  \\\n",
       "0  E01000001  City of London 001A  E02000001  City of London 001  E09000001   \n",
       "1  E01000002  City of London 001B  E02000001  City of London 001  E09000001   \n",
       "\n",
       "          LAD11NM    RGN11CD RGN11NM  USUALRES  HHOLDRES  COMESTRES  POPDEN  \\\n",
       "0  City of London  E12000007  London      1465      1465          0   112.9   \n",
       "1  City of London  E12000007  London      1436      1436          0    62.9   \n",
       "\n",
       "   HHOLDS  AVHHOLDSZ                                           geometry  \n",
       "0     876        1.7  POLYGON ((532105.0919998939 182011.23, 532162....  \n",
       "1     830        1.7  POLYGON ((532746.8130000263 181786.891000028, ...  "
      ]
     },
     "execution_count": 6,
     "metadata": {},
     "output_type": "execute_result"
    }
   ],
   "source": [
    "# Notice the range of geographies to which we can now join:\n",
    "# LSOA, MSOA, LA, and Region\n",
    "# We've also got some very simple, basic measures such as\n",
    "# population density, usual residents, and average household\n",
    "# size.\n",
    "lsoa.head(2)"
   ]
  },
  {
   "cell_type": "markdown",
   "metadata": {},
   "source": [
    "## OS Open Data Sets\n",
    "\n",
    "You can download the following data sets from the [OS Open Download Page](https://www.ordnancesurvey.co.uk/opendatadownload/products.html). This step cannot easily be automated, sorry.\n",
    "\n",
    "* OS Open Map - Local - ESRI SHAPE - TQ\n",
    "* OS VectorMap District - ESRI Shape - TQ\n",
    "* OS Open Greenspace - ESRI SHAPE - TQ\n",
    "\n",
    "For each of these data sets, we have filtered out everything that is _not_ within the GLA boundary. This reduces file size significantly and can be done fairly quickly within QGIS."
   ]
  },
  {
   "cell_type": "markdown",
   "metadata": {},
   "source": [
    "### Open Greenspace\n",
    "\n",
    "From OS Open Greenspace."
   ]
  },
  {
   "cell_type": "code",
   "execution_count": 7,
   "metadata": {
    "collapsed": false
   },
   "outputs": [
    {
     "name": "stdout",
     "output_type": "stream",
     "text": [
      "Loading...\n",
      "Starting buffer (5m) and dissolve...\n",
      "Calculating intersection...\n",
      "Saving results to LSOA data frame...\n"
     ]
    }
   ],
   "source": [
    "buffer_d = 5\n",
    "fpath = os.path.join('Greenspace','GLA Greenspace.shp')\n",
    "zpath = os.path.join('Data','Greenspace.zip')\n",
    "if not (os.path.exists(fpath) and os.path.isfile(fpath)):\n",
    "    print(\"Unpacking...\")\n",
    "    \n",
    "    if not (os.path.exists(zpath) and os.path.isfile(zpath)):\n",
    "        extract_all(os.path.join('Data','opgrsp_essh_tq.zip'))\n",
    "\n",
    "        grsp = gpd.read_file(os.path.join('OS Open Greenspace (ESRI Shape File) TQ','data','TQ_GreenspaceSite.shp'))\n",
    "        grsp.crs = {'init': u'epsg:27700'}\n",
    "        print(\"Raw file has \" + str(grsp.shape[0]) + \" rows.\")\n",
    "\n",
    "        grsp = grsp[grsp.function=='Public Park Or Garden']\n",
    "        grsp = gpd.sjoin(grsp, ldn, how=\"inner\", op='within')\n",
    "\n",
    "        print(\"Filtered down to \" + str(grsp.shape[0]) + \" rows.\")\n",
    "\n",
    "        ensure_dir(fpath)\n",
    "        grsp.to_file(fpath)\n",
    "\n",
    "        compress_all('Greenspace',os.path.join('Data','Greenspace'))\n",
    "    else:\n",
    "        print(\"Using processed greenspace data.\")\n",
    "        extract_all(zpath)\n",
    "        grsp = gpd.read_file(fpath)\n",
    "        grsp.crs = {'init': u'epsg:27700'}\n",
    "else:\n",
    "    print(\"Loading...\")\n",
    "    grsp = gpd.read_file(fpath)\n",
    "    grsp.crs = {'init': u'epsg:27700'}\n",
    "\n",
    "print(\"Starting buffer (\" + str(buffer_d) + \"m) and dissolve...\")\n",
    "grspd = grsp.simplify(5).buffer(buffer_d).unary_union\n",
    "\n",
    "print(\"Calculating intersection...\")\n",
    "lsoa_overlay = lsoa['geometry'].intersection(grspd)\n",
    "\n",
    "print(\"Saving results to LSOA data frame...\")\n",
    "lsoa['Area that is Designated Greenspace'] = pd.Series(lsoa_overlay.geometry.area, index=lsoa.index)"
   ]
  },
  {
   "cell_type": "markdown",
   "metadata": {},
   "source": [
    "### A- and M-class Roads\n",
    "\n",
    "From the OS VectorMap District file."
   ]
  },
  {
   "cell_type": "code",
   "execution_count": 8,
   "metadata": {
    "collapsed": false
   },
   "outputs": [
    {
     "name": "stdout",
     "output_type": "stream",
     "text": [
      "Loading...\n",
      "Starting buffer and dissolve...\n",
      "Calculating intersection...\n",
      "Saving results to LSOA data frame...\n"
     ]
    }
   ],
   "source": [
    "buffer_d = 250\n",
    "fpath = os.path.join('Roads','Roads.shp')\n",
    "zpath = os.path.join('Data','Roads.zip')\n",
    "if not (os.path.exists(fpath) and os.path.isfile(fpath)):\n",
    "    print(\"Unpacking...\")\n",
    "    \n",
    "    if not (os.path.exists(zpath) and os.path.isfile(zpath)):\n",
    "        extract_all(os.path.join('Data','opmplc_essh_tq.zip'))\n",
    "\n",
    "        rds = gpd.read_file(os.path.join('OS OpenMap Local (ESRI Shape File) TQ','data','TQ_Road.shp'))\n",
    "        rds.crs = {'init': u'epsg:27700'}\n",
    "        print(\"Raw file has \" + str(rds.shape[0]) + \" rows.\")\n",
    "\n",
    "        rds = rds[rds.CLASSIFICA.isin(['A Road','A Road, Collapsed Dual Carriageway','Motorway','Motorway, Collapsed Dual Carriageway'])]\n",
    "        rds = gpd.sjoin(rds, ldn, how=\"inner\", op='within')\n",
    "\n",
    "        print(\"Filtered down to \" + str(rds.shape[0]) + \" rows.\")\n",
    "\n",
    "        ensure_dir(os.path.join('Roads','Roads.shp'))\n",
    "        rds.to_file(os.path.join('Roads','Roads.shp'))\n",
    "\n",
    "        compress_all('Roads',os.path.join('Data','Roads'))\n",
    "    else:\n",
    "        print(\"Using processed roads data.\")\n",
    "        extract_all(zpath)\n",
    "        rds = gpd.read_file(fpath)\n",
    "        rds.crs = {'init': u'epsg:27700'}\n",
    "else:\n",
    "    print(\"Loading...\")\n",
    "    rds = gpd.read_file(fpath)\n",
    "    rds.crs = {'init': u'epsg:27700'}\n",
    "    \n",
    "print(\"Starting buffer and dissolve...\")\n",
    "impact = rds.simplify(25).buffer(buffer_d).unary_union\n",
    "\n",
    "print(\"Calculating intersection...\")\n",
    "lsoa_overlay = lsoa['geometry'].intersection(impact)\n",
    "\n",
    "print(\"Saving results to LSOA data frame...\")\n",
    "lsoa['Area within ' + str(buffer_d) + 'm of M or A Roads'] = pd.Series(lsoa_overlay.geometry.area, index=lsoa.index)"
   ]
  },
  {
   "cell_type": "markdown",
   "metadata": {},
   "source": [
    "## NOMIS Socioeconomic Data\n",
    "\n",
    "NOMIS (National Online Manpower Information Service) provides a [query and bulk download service](https://www.nomisweb.co.uk/default.asp). If you create a login then you can save geographies and queries so that it's easy to download more data.\n",
    "\n",
    "### KS402EW - Tenure"
   ]
  },
  {
   "cell_type": "code",
   "execution_count": 9,
   "metadata": {
    "collapsed": false
   },
   "outputs": [],
   "source": [
    "tenure = pd.read_excel(os.path.join('Data','KS402EW - Tenure.xlsx'), header=8)\n",
    "tenure['lsoacd'], tenure['lsoanm'] = tenure['2011 super output area - lower layer'].str.split(' : ').str\n",
    "tenure.drop(['lsoanm','2011 super output area - lower layer'], axis=1, inplace=True)\n",
    "tenure.sample(2)\n",
    "lsoa = pd.merge(lsoa, tenure, how='left', left_on='LSOA11CD', right_on='lsoacd')\n",
    "lsoa.drop(['lsoacd'], axis=1, inplace=True)"
   ]
  },
  {
   "cell_type": "markdown",
   "metadata": {},
   "source": [
    "### KS403EW - Rooms, bedrooms and central heating"
   ]
  },
  {
   "cell_type": "code",
   "execution_count": 10,
   "metadata": {
    "collapsed": false
   },
   "outputs": [],
   "source": [
    "rooms = pd.read_excel(os.path.join('Data','KS403EW - Rooms, bedrooms and central heating.xlsx'), header=8)\n",
    "rooms['lsoacd'], rooms['lsoanm'] = rooms['2011 super output area - lower layer'].str.split(' : ').str\n",
    "rooms.drop(['lsoanm','2011 super output area - lower layer'], axis=1, inplace=True)\n",
    "rooms.sample(2)\n",
    "lsoa = pd.merge(lsoa, rooms, how='left', left_on='LSOA11CD', right_on='lsoacd')\n",
    "lsoa.drop(['lsoacd'], axis=1, inplace=True)"
   ]
  },
  {
   "cell_type": "markdown",
   "metadata": {},
   "source": [
    "### KS201EW - Ethnic group"
   ]
  },
  {
   "cell_type": "code",
   "execution_count": 11,
   "metadata": {
    "collapsed": false
   },
   "outputs": [],
   "source": [
    "ethnicity = pd.read_excel(os.path.join('Data','KS201EW - Ethnic group.xlsx'), header=8)\n",
    "ethnicity['lsoacd'], ethnicity['lsoanm'] = ethnicity['2011 super output area - lower layer'].str.split(' : ').str\n",
    "ethnicity.drop(['lsoanm','2011 super output area - lower layer'], axis=1, inplace=True)\n",
    "ethnicity.sample(2)\n",
    "lsoa = pd.merge(lsoa, ethnicity, how='left', left_on='LSOA11CD', right_on='lsoacd')\n",
    "lsoa.drop(['lsoacd'], axis=1, inplace=True)"
   ]
  },
  {
   "cell_type": "markdown",
   "metadata": {},
   "source": [
    "## Modelled LSOA Household Income\n",
    "\n",
    "This is from the London Data Store."
   ]
  },
  {
   "cell_type": "code",
   "execution_count": 12,
   "metadata": {
    "collapsed": false
   },
   "outputs": [
    {
     "name": "stdout",
     "output_type": "stream",
     "text": [
      "Getting LSOA Household Income estimates from London Data Store...\n",
      "Note: this has already been converted to use LSOA 2011 codes.\n"
     ]
    }
   ],
   "source": [
    "print(\"Getting LSOA Household Income estimates from London Data Store...\")\n",
    "print(\"Note: this has already been converted to use LSOA 2011 codes.\")\n",
    "url  = ('https://files.datapress.com/london/dataset/'\n",
    "        'household-income-estimates-small-areas/'\n",
    "        'modelled-household-income-estimates-lsoa.csv')\n",
    "\n",
    "# Retrieve it\n",
    "hhi  = pd.read_csv(url)\n",
    "\n",
    "# Rename key cols\n",
    "hhi.rename(columns={'Code':'lsoacd'}, inplace=True)\n",
    "\n",
    "hhi.set_index('lsoacd', inplace=True)\n",
    "\n",
    "# And break them down into subsets\n",
    "hhi2011 = hhi.loc[:,['Median 2011/12']]\n",
    "hhi2011.rename(columns=lambda x: x.replace(' 2011/12', ' Income'), inplace=True)\n",
    "\n",
    "# Convert to numeric\n",
    "hhi2011.loc[:,('Median Income')] = pd.to_numeric(hhi2011.loc[:,'Median Income'].str.replace(\"\\D+\",\"\"), errors='coerce')\n",
    "hhi2011.sample(3)\n",
    "\n",
    "lsoa = pd.merge(lsoa, hhi2011, how='left', left_on='LSOA11CD', right_index=True)"
   ]
  },
  {
   "cell_type": "markdown",
   "metadata": {},
   "source": [
    "## AirBnB Listings\n",
    "\n",
    "From InsideAirBnB. \n",
    "\n",
    "We'll just get the smaller of the two data sets since we have to summarise anyway."
   ]
  },
  {
   "cell_type": "code",
   "execution_count": 13,
   "metadata": {
    "collapsed": false
   },
   "outputs": [
    {
     "name": "stdout",
     "output_type": "stream",
     "text": [
      "Data frame shape: (53904, 16)\n"
     ]
    },
    {
     "data": {
      "image/png": "[encoded data removed]",
      "text/plain": [
       "<matplotlib.figure.Figure at 0x12139d690>"
      ]
     },
     "metadata": {},
     "output_type": "display_data"
    }
   ],
   "source": [
    "from shapely.geometry import Point\n",
    "\n",
    "lsoa2 = gpd.read_file(os.path.join('LSOA','LSOA_2011_London_gen_MHW.shp'))\n",
    "lsoa2.crs = {'init': u'epsg:27700'}\n",
    "\n",
    "df = pd.read_csv(\n",
    "    'http://data.insideairbnb.com/united-kingdom/england/london/2017-03-04/visualisations/listings.csv',\n",
    "    low_memory=False) # The 'low memory' option means pandas doesn't guess data types\n",
    "print(\"Data frame shape: \" + str(df.shape)) # What is the shape of the data?\n",
    "\n",
    "geometry = [Point(xy) for xy in zip(df.longitude, df.latitude)]\n",
    "df.drop(['longitude', 'latitude'], axis=1, inplace=True)\n",
    "crs = {'init': 'epsg:4326'}\n",
    "airbnb = gpd.GeoDataFrame(df, crs=crs, geometry=geometry)\n",
    "airbnb = airbnb.to_crs({'init': 'epsg:27700'})\n",
    "airbnb.plot()\n",
    "del(df)"
   ]
  },
  {
   "cell_type": "code",
   "execution_count": 14,
   "metadata": {
    "collapsed": true
   },
   "outputs": [],
   "source": [
    "df = gpd.sjoin(airbnb, lsoa2, how=\"inner\", op='within')\n",
    "df = df[df.columns[0:17]]\n",
    "df['Multiple Location Host'] = df.calculated_host_listings_count >= 3\n",
    "df.drop(['index_right','geometry','neighbourhood_group',\n",
    "         'id','name','host_name','neighbourhood',\n",
    "         'last_review','calculated_host_listings_count',\n",
    "         'reviews_per_month', 'availability_365'\n",
    "        ], axis=1, inplace=True)"
   ]
  },
  {
   "cell_type": "code",
   "execution_count": 15,
   "metadata": {
    "collapsed": false
   },
   "outputs": [
    {
     "data": {
      "text/plain": [
       "Index([               u'host_id',              u'room_type',\n",
       "                        u'price',         u'minimum_nights',\n",
       "            u'number_of_reviews',               u'LSOA11CD',\n",
       "       u'Multiple Location Host'],\n",
       "      dtype='object')"
      ]
     },
     "execution_count": 15,
     "metadata": {},
     "output_type": "execute_result"
    }
   ],
   "source": [
    "df.columns"
   ]
  },
  {
   "cell_type": "markdown",
   "metadata": {},
   "source": [
    "### Price Data"
   ]
  },
  {
   "cell_type": "code",
   "execution_count": 16,
   "metadata": {
    "collapsed": false
   },
   "outputs": [],
   "source": [
    "f = {\n",
    "    'price':['sum','mean','median'],\n",
    "}\n",
    "airbnbg = df.groupby(['LSOA11CD']).agg(f)\n",
    "airbnbg = airbnbg.price.reset_index().set_index('LSOA11CD').rename(columns=lambda x: x.title() + \" Price\")\n",
    "lsoa = pd.merge(lsoa, airbnbg, how='left', left_on='LSOA11CD', right_index=True)"
   ]
  },
  {
   "cell_type": "code",
   "execution_count": 17,
   "metadata": {
    "collapsed": false
   },
   "outputs": [],
   "source": [
    "airbnbg = df[['LSOA11CD','room_type']].groupby(['LSOA11CD','room_type']).size().reset_index(name='counts')\n",
    "airbnbg = airbnbg.pivot(index='LSOA11CD', columns='room_type', values='counts').fillna(0)\n",
    "lsoa = pd.merge(lsoa, airbnbg, how='left', left_on='LSOA11CD', right_index=True)"
   ]
  },
  {
   "cell_type": "code",
   "execution_count": 18,
   "metadata": {
    "collapsed": false
   },
   "outputs": [],
   "source": [
    "airbnbg = df[['LSOA11CD','Multiple Location Host']].groupby(['LSOA11CD','Multiple Location Host']).size().reset_index(name='counts')\n",
    "airbnbg = airbnbg.pivot(index='LSOA11CD', columns='Multiple Location Host', values='counts').fillna(0).rename(columns = {True:'Multiple Location Host', False:'Small Host'})\n",
    "lsoa = pd.merge(lsoa, airbnbg, how='left', left_on='LSOA11CD', right_index=True)\n",
    "lsoa['Property Count'] = lsoa['Multiple Location Host'] + lsoa['Small Host']"
   ]
  },
  {
   "cell_type": "markdown",
   "metadata": {},
   "source": [
    "## Wrapping Up\n",
    "\n",
    "Save the final output for use by students."
   ]
  },
  {
   "cell_type": "code",
   "execution_count": 19,
   "metadata": {
    "collapsed": false
   },
   "outputs": [
    {
     "data": {
      "text/plain": [
       "Index([                                     u'LSOA11CD',\n",
       "                                            u'LSOA11NM',\n",
       "                                            u'MSOA11CD',\n",
       "                                            u'MSOA11NM',\n",
       "                                             u'LAD11CD',\n",
       "                                             u'LAD11NM',\n",
       "                                             u'RGN11CD',\n",
       "                                             u'RGN11NM',\n",
       "                                            u'USUALRES',\n",
       "                                            u'HHOLDRES',\n",
       "                                           u'COMESTRES',\n",
       "                                              u'POPDEN',\n",
       "                                              u'HHOLDS',\n",
       "                                           u'AVHHOLDSZ',\n",
       "                                            u'geometry',\n",
       "                  u'Area that is Designated Greenspace',\n",
       "                    u'Area within 250m of M or A Roads',\n",
       "                                               u'Owned',\n",
       "       u'Shared ownership (part owned and part rented)',\n",
       "                                       u'Social rented',\n",
       "                                      u'Private rented',\n",
       "                                    u'Living rent free',\n",
       "              u'Occupancy rating (rooms) of -1 or less',\n",
       "           u'Occupancy rating (bedrooms) of -1 or less',\n",
       "               u'Average number of rooms per household',\n",
       "            u'Average number of bedrooms per household',\n",
       "                                               u'White',\n",
       "                        u'Mixed/multiple ethnic groups',\n",
       "                                 u'Asian/Asian British',\n",
       "               u'Black/African/Caribbean/Black British',\n",
       "                                  u'Other ethnic group',\n",
       "                                       u'Median Income',\n",
       "                                           u'Sum Price',\n",
       "                                          u'Mean Price',\n",
       "                                        u'Median Price',\n",
       "                                     u'Entire home/apt',\n",
       "                                        u'Private room',\n",
       "                                         u'Shared room',\n",
       "                                          u'Small Host',\n",
       "                              u'Multiple Location Host',\n",
       "                                      u'Property Count',\n",
       "                                                u'Area'],\n",
       "      dtype='object')"
      ]
     },
     "execution_count": 19,
     "metadata": {},
     "output_type": "execute_result"
    }
   ],
   "source": [
    "lsoa['Area'] = lsoa.geometry.area\n",
    "lsoa = lsoa.fillna(0)\n",
    "lsoa.columns"
   ]
  },
  {
   "cell_type": "code",
   "execution_count": 20,
   "metadata": {
    "collapsed": false
   },
   "outputs": [
    {
     "data": {
      "text/html": [
       "<div>\n",
       "<style>\n",
       "    .dataframe thead tr:only-child th {\n",
       "        text-align: right;\n",
       "    }\n",
       "\n",
       "    .dataframe thead th {\n",
       "        text-align: left;\n",
       "    }\n",
       "\n",
       "    .dataframe tbody tr th {\n",
       "        vertical-align: top;\n",
       "    }\n",
       "</style>\n",
       "<table border=\"1\" class=\"dataframe\">\n",
       "  <thead>\n",
       "    <tr style=\"text-align: right;\">\n",
       "      <th></th>\n",
       "      <th>LSOA11CD</th>\n",
       "      <th>LSOA11NM</th>\n",
       "      <th>MSOA11CD</th>\n",
       "      <th>MSOA11NM</th>\n",
       "      <th>LAD11CD</th>\n",
       "      <th>LAD11NM</th>\n",
       "      <th>RGN11CD</th>\n",
       "      <th>RGN11NM</th>\n",
       "      <th>USUALRES</th>\n",
       "      <th>HHOLDRES</th>\n",
       "      <th>...</th>\n",
       "      <th>Sum Price</th>\n",
       "      <th>Mean Price</th>\n",
       "      <th>Median Price</th>\n",
       "      <th>Entire home/apt</th>\n",
       "      <th>Private room</th>\n",
       "      <th>Shared room</th>\n",
       "      <th>Small Host</th>\n",
       "      <th>Multiple Location Host</th>\n",
       "      <th>Property Count</th>\n",
       "      <th>Area</th>\n",
       "    </tr>\n",
       "  </thead>\n",
       "  <tbody>\n",
       "    <tr>\n",
       "      <th>1157</th>\n",
       "      <td>E01001176</td>\n",
       "      <td>Croydon 011C</td>\n",
       "      <td>E02000204</td>\n",
       "      <td>Croydon 011</td>\n",
       "      <td>E09000008</td>\n",
       "      <td>Croydon</td>\n",
       "      <td>E12000007</td>\n",
       "      <td>London</td>\n",
       "      <td>1902</td>\n",
       "      <td>1899</td>\n",
       "      <td>...</td>\n",
       "      <td>65.0</td>\n",
       "      <td>32.500</td>\n",
       "      <td>32.5</td>\n",
       "      <td>1.0</td>\n",
       "      <td>1.0</td>\n",
       "      <td>0.0</td>\n",
       "      <td>2.0</td>\n",
       "      <td>0.0</td>\n",
       "      <td>2.0</td>\n",
       "      <td>252948.226746</td>\n",
       "    </tr>\n",
       "    <tr>\n",
       "      <th>3224</th>\n",
       "      <td>E01003297</td>\n",
       "      <td>Lewisham 003A</td>\n",
       "      <td>E02000655</td>\n",
       "      <td>Lewisham 003</td>\n",
       "      <td>E09000023</td>\n",
       "      <td>Lewisham</td>\n",
       "      <td>E12000007</td>\n",
       "      <td>London</td>\n",
       "      <td>1538</td>\n",
       "      <td>1538</td>\n",
       "      <td>...</td>\n",
       "      <td>136.0</td>\n",
       "      <td>68.000</td>\n",
       "      <td>68.0</td>\n",
       "      <td>2.0</td>\n",
       "      <td>0.0</td>\n",
       "      <td>0.0</td>\n",
       "      <td>2.0</td>\n",
       "      <td>0.0</td>\n",
       "      <td>2.0</td>\n",
       "      <td>370591.180400</td>\n",
       "    </tr>\n",
       "    <tr>\n",
       "      <th>4322</th>\n",
       "      <td>E01004432</td>\n",
       "      <td>Waltham Forest 023D</td>\n",
       "      <td>E02000917</td>\n",
       "      <td>Waltham Forest 023</td>\n",
       "      <td>E09000031</td>\n",
       "      <td>Waltham Forest</td>\n",
       "      <td>E12000007</td>\n",
       "      <td>London</td>\n",
       "      <td>1755</td>\n",
       "      <td>1755</td>\n",
       "      <td>...</td>\n",
       "      <td>399.0</td>\n",
       "      <td>49.875</td>\n",
       "      <td>46.5</td>\n",
       "      <td>3.0</td>\n",
       "      <td>4.0</td>\n",
       "      <td>1.0</td>\n",
       "      <td>4.0</td>\n",
       "      <td>4.0</td>\n",
       "      <td>8.0</td>\n",
       "      <td>185827.555412</td>\n",
       "    </tr>\n",
       "  </tbody>\n",
       "</table>\n",
       "<p>3 rows × 42 columns</p>\n",
       "</div>"
      ],
      "text/plain": [
       "       LSOA11CD             LSOA11NM   MSOA11CD            MSOA11NM  \\\n",
       "1157  E01001176         Croydon 011C  E02000204         Croydon 011   \n",
       "3224  E01003297        Lewisham 003A  E02000655        Lewisham 003   \n",
       "4322  E01004432  Waltham Forest 023D  E02000917  Waltham Forest 023   \n",
       "\n",
       "        LAD11CD         LAD11NM    RGN11CD RGN11NM  USUALRES  HHOLDRES  \\\n",
       "1157  E09000008         Croydon  E12000007  London      1902      1899   \n",
       "3224  E09000023        Lewisham  E12000007  London      1538      1538   \n",
       "4322  E09000031  Waltham Forest  E12000007  London      1755      1755   \n",
       "\n",
       "          ...        Sum Price  Mean Price  Median Price  Entire home/apt  \\\n",
       "1157      ...             65.0      32.500          32.5              1.0   \n",
       "3224      ...            136.0      68.000          68.0              2.0   \n",
       "4322      ...            399.0      49.875          46.5              3.0   \n",
       "\n",
       "     Private room  Shared room  Small Host  Multiple Location Host  \\\n",
       "1157          1.0          0.0         2.0                     0.0   \n",
       "3224          0.0          0.0         2.0                     0.0   \n",
       "4322          4.0          1.0         4.0                     4.0   \n",
       "\n",
       "      Property Count           Area  \n",
       "1157             2.0  252948.226746  \n",
       "3224             2.0  370591.180400  \n",
       "4322             8.0  185827.555412  \n",
       "\n",
       "[3 rows x 42 columns]"
      ]
     },
     "execution_count": 20,
     "metadata": {},
     "output_type": "execute_result"
    }
   ],
   "source": [
    "lsoa.sample(3)"
   ]
  },
  {
   "cell_type": "code",
   "execution_count": 21,
   "metadata": {
    "collapsed": false
   },
   "outputs": [],
   "source": [
    "lsoa.to_csv(os.path.join('Data','LSOA Data.csv.gz'), index=False, compression='gzip')"
   ]
  }
 ],
 "metadata": {
  "anaconda-cloud": {},
  "kernelspec": {
   "display_name": "Python [conda env:gsa2017]",
   "language": "python",
   "name": "conda-env-gsa2017-py"
  },
  "language_info": {
   "codemirror_mode": {
    "name": "ipython",
    "version": 2
   },
   "file_extension": ".py",
   "mimetype": "text/x-python",
   "name": "python",
   "nbconvert_exporter": "python",
   "pygments_lexer": "ipython2",
   "version": "2.7.13"
  }
 },
 "nbformat": 4,
 "nbformat_minor": 0
}
