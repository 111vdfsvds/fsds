{
 "cells": [
  {
   "cell_type": "markdown",
   "metadata": {},
   "source": [
    "# Data Set Creation Notebook\n",
    "\n",
    "This notebook creates the composite data set used in the Geocomputation module. You are welcome to add additional data sets for the purposes of the final assessment in the module if you so wish."
   ]
  },
  {
   "cell_type": "code",
   "execution_count": 1,
   "metadata": {
    "collapsed": true
   },
   "outputs": [],
   "source": [
    "# Needed on a Mac\n",
    "import matplotlib as mpl\n",
    "mpl.use('TkAgg')\n",
    "%matplotlib inline\n",
    "import matplotlib.pyplot as plt"
   ]
  },
  {
   "cell_type": "code",
   "execution_count": 2,
   "metadata": {
    "collapsed": false
   },
   "outputs": [],
   "source": [
    "import requests\n",
    "import pandas as pd\n",
    "import geopandas as gpd"
   ]
  },
  {
   "cell_type": "code",
   "execution_count": 3,
   "metadata": {
    "collapsed": true
   },
   "outputs": [],
   "source": [
    "import os\n",
    "def ensure_dir(file_path):\n",
    "    directory = os.path.dirname(file_path)\n",
    "    if not os.path.exists(directory):\n",
    "        os.makedirs(directory)\n",
    "\n",
    "import zipfile\n",
    "def extract_all(file_path):\n",
    "    zip_ref = zipfile.ZipFile(file_path, 'r')\n",
    "    zip_ref.extractall('.')\n",
    "    zip_ref.close()\n",
    "\n",
    "def zipdir(path, ziph):\n",
    "    # ziph is zipfile handle\n",
    "    for root, dirs, files in os.walk(path):\n",
    "        for file in files:\n",
    "            ziph.write(os.path.join(root, file))\n",
    "    \n",
    "def compress_all(srcdir, name):\n",
    "    zipf = zipfile.ZipFile(name + '.zip', 'w', zipfile.ZIP_DEFLATED)\n",
    "    zipdir(srcdir, zipf)\n",
    "    zipf.close()"
   ]
  },
  {
   "cell_type": "markdown",
   "metadata": {},
   "source": [
    "## London\n",
    "\n",
    "Useful for filtering down the data sets that we've downloaded from OSOpen."
   ]
  },
  {
   "cell_type": "code",
   "execution_count": 4,
   "metadata": {
    "collapsed": false
   },
   "outputs": [
    {
     "data": {
      "text/plain": [
       "<matplotlib.axes._subplots.AxesSubplot at 0x11bcf4610>"
      ]
     },
     "execution_count": 4,
     "metadata": {},
     "output_type": "execute_result"
    },
    {
     "data": {
      "image/png": "[encoded data removed]",
      "text/plain": [
       "<matplotlib.figure.Figure at 0x11bcebdd0>"
      ]
     },
     "metadata": {},
     "output_type": "display_data"
    }
   ],
   "source": [
    "extract_all(os.path.join('Data','London.zip'))\n",
    "ldn = gpd.read_file(os.path.join('London','London.shp'))\n",
    "ldn.crs = {'init': u'epsg:27700'}\n",
    "ldn.plot()"
   ]
  },
  {
   "cell_type": "markdown",
   "metadata": {},
   "source": [
    "## Lower Super Output Area Data\n",
    "\n",
    "Downloaded from the [London Data Store](https://data.london.gov.uk/dataset/statistical-gis-boundary-files-london), with the Output Area shapefile extracted and re-compressed to save space on GitHub. "
   ]
  },
  {
   "cell_type": "code",
   "execution_count": 5,
   "metadata": {
    "collapsed": false
   },
   "outputs": [],
   "source": [
    "# Extract Output Areas\n",
    "extract_all(os.path.join('Data','LSOA.zip'))\n",
    "lsoa = gpd.read_file(os.path.join('LSOA','LSOA_2011_London_gen_MHW.shp'))\n",
    "lsoa.crs = {'init': u'epsg:27700'}\n",
    "\n",
    "# Stash a copy of original geometry and the centroids\n",
    "# since we'll need both again\n",
    "#lsoa['outlines']  = lsoa.geometry\n",
    "#lsoa['centroids'] = lsoa.geometry.centroid"
   ]
  },
  {
   "cell_type": "code",
   "execution_count": 6,
   "metadata": {
    "collapsed": false
   },
   "outputs": [
    {
     "data": {
      "text/html": [
       "<div>\n",
       "<style>\n",
       "    .dataframe thead tr:only-child th {\n",
       "        text-align: right;\n",
       "    }\n",
       "\n",
       "    .dataframe thead th {\n",
       "        text-align: left;\n",
       "    }\n",
       "\n",
       "    .dataframe tbody tr th {\n",
       "        vertical-align: top;\n",
       "    }\n",
       "</style>\n",
       "<table border=\"1\" class=\"dataframe\">\n",
       "  <thead>\n",
       "    <tr style=\"text-align: right;\">\n",
       "      <th></th>\n",
       "      <th>LSOA11CD</th>\n",
       "      <th>LSOA11NM</th>\n",
       "      <th>MSOA11CD</th>\n",
       "      <th>MSOA11NM</th>\n",
       "      <th>LAD11CD</th>\n",
       "      <th>LAD11NM</th>\n",
       "      <th>RGN11CD</th>\n",
       "      <th>RGN11NM</th>\n",
       "      <th>USUALRES</th>\n",
       "      <th>HHOLDRES</th>\n",
       "      <th>COMESTRES</th>\n",
       "      <th>POPDEN</th>\n",
       "      <th>HHOLDS</th>\n",
       "      <th>AVHHOLDSZ</th>\n",
       "      <th>geometry</th>\n",
       "    </tr>\n",
       "  </thead>\n",
       "  <tbody>\n",
       "    <tr>\n",
       "      <th>0</th>\n",
       "      <td>E01000001</td>\n",
       "      <td>City of London 001A</td>\n",
       "      <td>E02000001</td>\n",
       "      <td>City of London 001</td>\n",
       "      <td>E09000001</td>\n",
       "      <td>City of London</td>\n",
       "      <td>E12000007</td>\n",
       "      <td>London</td>\n",
       "      <td>1465</td>\n",
       "      <td>1465</td>\n",
       "      <td>0</td>\n",
       "      <td>112.9</td>\n",
       "      <td>876</td>\n",
       "      <td>1.7</td>\n",
       "      <td>POLYGON ((532105.0919998939 182011.23, 532162....</td>\n",
       "    </tr>\n",
       "    <tr>\n",
       "      <th>1</th>\n",
       "      <td>E01000002</td>\n",
       "      <td>City of London 001B</td>\n",
       "      <td>E02000001</td>\n",
       "      <td>City of London 001</td>\n",
       "      <td>E09000001</td>\n",
       "      <td>City of London</td>\n",
       "      <td>E12000007</td>\n",
       "      <td>London</td>\n",
       "      <td>1436</td>\n",
       "      <td>1436</td>\n",
       "      <td>0</td>\n",
       "      <td>62.9</td>\n",
       "      <td>830</td>\n",
       "      <td>1.7</td>\n",
       "      <td>POLYGON ((532746.8130000263 181786.891000028, ...</td>\n",
       "    </tr>\n",
       "  </tbody>\n",
       "</table>\n",
       "</div>"
      ],
      "text/plain": [
       "    LSOA11CD             LSOA11NM   MSOA11CD            MSOA11NM    LAD11CD  \\\n",
       "0  E01000001  City of London 001A  E02000001  City of London 001  E09000001   \n",
       "1  E01000002  City of London 001B  E02000001  City of London 001  E09000001   \n",
       "\n",
       "          LAD11NM    RGN11CD RGN11NM  USUALRES  HHOLDRES  COMESTRES  POPDEN  \\\n",
       "0  City of London  E12000007  London      1465      1465          0   112.9   \n",
       "1  City of London  E12000007  London      1436      1436          0    62.9   \n",
       "\n",
       "   HHOLDS  AVHHOLDSZ                                           geometry  \n",
       "0     876        1.7  POLYGON ((532105.0919998939 182011.23, 532162....  \n",
       "1     830        1.7  POLYGON ((532746.8130000263 181786.891000028, ...  "
      ]
     },
     "execution_count": 6,
     "metadata": {},
     "output_type": "execute_result"
    }
   ],
   "source": [
    "# Notice the range of geographies to which we can now join:\n",
    "# LSOA, MSOA, LA, and Region\n",
    "# We've also got some very simple, basic measures such as\n",
    "# population density, usual residents, and average household\n",
    "# size.\n",
    "lsoa.head(2)"
   ]
  },
  {
   "cell_type": "markdown",
   "metadata": {},
   "source": [
    "## OS Open Data Sets\n",
    "\n",
    "You can download the following data sets from the [OS Open Download Page](https://www.ordnancesurvey.co.uk/opendatadownload/products.html). This step cannot easily be automated, sorry.\n",
    "\n",
    "* OS Open Map - Local - ESRI SHAPE - TQ\n",
    "* OS VectorMap District - ESRI Shape - TQ\n",
    "* OS Open Greenspace - ESRI SHAPE - TQ\n",
    "\n",
    "For each of these data sets, we have filtered out everything that is _not_ within the GLA boundary. This reduces file size significantly and can be done fairly quickly within QGIS."
   ]
  },
  {
   "cell_type": "markdown",
   "metadata": {},
   "source": [
    "### Open Greenspace"
   ]
  },
  {
   "cell_type": "code",
   "execution_count": 7,
   "metadata": {
    "collapsed": false
   },
   "outputs": [
    {
     "name": "stdout",
     "output_type": "stream",
     "text": [
      "Raw file has 18023 rows.\n"
     ]
    },
    {
     "name": "stderr",
     "output_type": "stream",
     "text": [
      "/usr/local/lib/python2.7/site-packages/numpy/lib/function_base.py:1880: RuntimeWarning: invalid value encountered in find_contains (vectorized)\n",
      "  outputs = ufunc(*inputs)\n"
     ]
    },
    {
     "name": "stdout",
     "output_type": "stream",
     "text": [
      "Filtered down to 989 rows.\n"
     ]
    }
   ],
   "source": [
    "#extract_all(os.path.join('Data','opgrsp_essh_tq.zip'))\n",
    "\n",
    "grsp = gpd.read_file(os.path.join('OS Open Greenspace (ESRI Shape File) TQ','data','TQ_GreenspaceSite.shp'))\n",
    "grsp.crs = {'init': u'epsg:27700'}\n",
    "print(\"Raw file has \" + str(grsp.shape[0]) + \" rows.\")\n",
    "\n",
    "grsp = grsp[grsp.function=='Public Park Or Garden']\n",
    "grsp = gpd.sjoin(grsp, ldn, how=\"inner\", op='within')\n",
    "\n",
    "print(\"Filtered down to \" + str(grsp.shape[0]) + \" rows.\")\n",
    "\n",
    "ensure_dir(os.path.join('Greenspace','GLA Greenspace.shp'))\n",
    "grsp.to_file(os.path.join('Greenspace','GLA Greenspace.shp'))\n",
    "\n",
    "compress_all('Greenspace',os.path.join('Data','Greenspace'))"
   ]
  },
  {
   "cell_type": "code",
   "execution_count": 8,
   "metadata": {
    "collapsed": false
   },
   "outputs": [
    {
     "name": "stdout",
     "output_type": "stream",
     "text": [
      "Starting buffer and dissolve...\n",
      "Calculating intersection...\n",
      "Saving results to LSOA data frame...\n"
     ]
    }
   ],
   "source": [
    "print(\"Starting buffer and dissolve...\")\n",
    "grspd = grsp.simplify(5).buffer(5).unary_union\n",
    "\n",
    "print(\"Calculating intersection...\")\n",
    "lsoa_overlay = lsoa['geometry'].intersection(grspd)\n",
    "\n",
    "print(\"Saving results to LSOA data frame...\")\n",
    "lsoa['greenspace'] = pd.Series(lsoa_overlay.geometry.area, index=lsoa.index)"
   ]
  },
  {
   "cell_type": "markdown",
   "metadata": {},
   "source": [
    "## A- and M-class Roads"
   ]
  },
  {
   "cell_type": "code",
   "execution_count": 9,
   "metadata": {
    "collapsed": false
   },
   "outputs": [
    {
     "name": "stdout",
     "output_type": "stream",
     "text": [
      "Raw file has 375482 rows.\n",
      "Filtered down to 17988 rows.\n"
     ]
    }
   ],
   "source": [
    "extract_all(os.path.join('Data','opmplc_essh_tq.zip'))\n",
    "\n",
    "rds = gpd.read_file(os.path.join('OS OpenMap Local (ESRI Shape File) TQ','data','TQ_Road.shp'))\n",
    "rds.crs = {'init': u'epsg:27700'}\n",
    "print(\"Raw file has \" + str(rds.shape[0]) + \" rows.\")\n",
    "\n",
    "rds = rds[rds.CLASSIFICA.isin(['A Road','A Road, Collapsed Dual Carriageway','Motorway','Motorway, Collapsed Dual Carriageway'])]\n",
    "rds = gpd.sjoin(rds, ldn, how=\"inner\", op='within')\n",
    "\n",
    "print(\"Filtered down to \" + str(rds.shape[0]) + \" rows.\")\n",
    "\n",
    "ensure_dir(os.path.join('Roads','Roads.shp'))\n",
    "rds.to_file(os.path.join('Roads','Roads.shp'))\n",
    "\n",
    "compress_all('Roads',os.path.join('Data','Roads'))"
   ]
  },
  {
   "cell_type": "code",
   "execution_count": 10,
   "metadata": {
    "collapsed": false
   },
   "outputs": [
    {
     "name": "stdout",
     "output_type": "stream",
     "text": [
      "Starting buffer and dissolve...\n",
      "Calculating intersection...\n",
      "Saving results to LSOA data frame...\n"
     ]
    }
   ],
   "source": [
    "print(\"Starting buffer and dissolve...\")\n",
    "impact = rds.simplify(25).buffer(250).unary_union\n",
    "\n",
    "print(\"Calculating intersection...\")\n",
    "lsoa_overlay = lsoa['geometry'].intersection(impact)\n",
    "\n",
    "print(\"Saving results to LSOA data frame...\")\n",
    "lsoa['hvy_roads'] = pd.Series(lsoa_overlay.geometry.area, index=lsoa.index)"
   ]
  },
  {
   "cell_type": "code",
   "execution_count": 11,
   "metadata": {
    "collapsed": false
   },
   "outputs": [],
   "source": [
    "ensure_dir(os.path.join('Physical','Physical.shp'))\n",
    "lsoa.to_file(os.path.join('Physical','Physical.shp'))"
   ]
  },
  {
   "cell_type": "markdown",
   "metadata": {},
   "source": [
    "## KS402EW - Tenure"
   ]
  },
  {
   "cell_type": "code",
   "execution_count": 12,
   "metadata": {
    "collapsed": false
   },
   "outputs": [
    {
     "data": {
      "text/html": [
       "<div>\n",
       "<style>\n",
       "    .dataframe thead tr:only-child th {\n",
       "        text-align: right;\n",
       "    }\n",
       "\n",
       "    .dataframe thead th {\n",
       "        text-align: left;\n",
       "    }\n",
       "\n",
       "    .dataframe tbody tr th {\n",
       "        vertical-align: top;\n",
       "    }\n",
       "</style>\n",
       "<table border=\"1\" class=\"dataframe\">\n",
       "  <thead>\n",
       "    <tr style=\"text-align: right;\">\n",
       "      <th></th>\n",
       "      <th>Owned</th>\n",
       "      <th>Shared ownership (part owned and part rented)</th>\n",
       "      <th>Social rented</th>\n",
       "      <th>Private rented</th>\n",
       "      <th>Living rent free</th>\n",
       "      <th>lsoacd</th>\n",
       "    </tr>\n",
       "  </thead>\n",
       "  <tbody>\n",
       "    <tr>\n",
       "      <th>4393</th>\n",
       "      <td>290.0</td>\n",
       "      <td>1.0</td>\n",
       "      <td>23.0</td>\n",
       "      <td>245.0</td>\n",
       "      <td>8.0</td>\n",
       "      <td>E01003767</td>\n",
       "    </tr>\n",
       "    <tr>\n",
       "      <th>435</th>\n",
       "      <td>177.0</td>\n",
       "      <td>47.0</td>\n",
       "      <td>313.0</td>\n",
       "      <td>281.0</td>\n",
       "      <td>28.0</td>\n",
       "      <td>E01001979</td>\n",
       "    </tr>\n",
       "  </tbody>\n",
       "</table>\n",
       "</div>"
      ],
      "text/plain": [
       "      Owned  Shared ownership (part owned and part rented)  Social rented  \\\n",
       "4393  290.0                                            1.0           23.0   \n",
       "435   177.0                                           47.0          313.0   \n",
       "\n",
       "      Private rented  Living rent free     lsoacd  \n",
       "4393           245.0               8.0  E01003767  \n",
       "435            281.0              28.0  E01001979  "
      ]
     },
     "execution_count": 12,
     "metadata": {},
     "output_type": "execute_result"
    }
   ],
   "source": [
    "tenure = pd.read_excel(os.path.join('Data','KS402EW - Tenure.xlsx'), header=8)\n",
    "tenure['lsoacd'], tenure['lsoanm'] = tenure['2011 super output area - lower layer'].str.split(' : ').str\n",
    "tenure.drop(['lsoanm','2011 super output area - lower layer'], axis=1, inplace=True)\n",
    "tenure.sample(2)"
   ]
  },
  {
   "cell_type": "code",
   "execution_count": 13,
   "metadata": {
    "collapsed": false
   },
   "outputs": [
    {
     "data": {
      "text/html": [
       "<div>\n",
       "<style>\n",
       "    .dataframe thead tr:only-child th {\n",
       "        text-align: right;\n",
       "    }\n",
       "\n",
       "    .dataframe thead th {\n",
       "        text-align: left;\n",
       "    }\n",
       "\n",
       "    .dataframe tbody tr th {\n",
       "        vertical-align: top;\n",
       "    }\n",
       "</style>\n",
       "<table border=\"1\" class=\"dataframe\">\n",
       "  <thead>\n",
       "    <tr style=\"text-align: right;\">\n",
       "      <th></th>\n",
       "      <th>LSOA11CD</th>\n",
       "      <th>LSOA11NM</th>\n",
       "      <th>MSOA11CD</th>\n",
       "      <th>MSOA11NM</th>\n",
       "      <th>LAD11CD</th>\n",
       "      <th>LAD11NM</th>\n",
       "      <th>RGN11CD</th>\n",
       "      <th>RGN11NM</th>\n",
       "      <th>USUALRES</th>\n",
       "      <th>HHOLDRES</th>\n",
       "      <th>...</th>\n",
       "      <th>HHOLDS</th>\n",
       "      <th>AVHHOLDSZ</th>\n",
       "      <th>geometry</th>\n",
       "      <th>greenspace</th>\n",
       "      <th>hvy_roads</th>\n",
       "      <th>Owned</th>\n",
       "      <th>Shared ownership (part owned and part rented)</th>\n",
       "      <th>Social rented</th>\n",
       "      <th>Private rented</th>\n",
       "      <th>Living rent free</th>\n",
       "    </tr>\n",
       "  </thead>\n",
       "  <tbody>\n",
       "    <tr>\n",
       "      <th>3535</th>\n",
       "      <td>E01003616</td>\n",
       "      <td>Newham 012A</td>\n",
       "      <td>E02000725</td>\n",
       "      <td>Newham 012</td>\n",
       "      <td>E09000025</td>\n",
       "      <td>Newham</td>\n",
       "      <td>E12000007</td>\n",
       "      <td>London</td>\n",
       "      <td>1650</td>\n",
       "      <td>1650</td>\n",
       "      <td>...</td>\n",
       "      <td>658</td>\n",
       "      <td>2.5</td>\n",
       "      <td>POLYGON ((538860.3610000833 185251.882999958, ...</td>\n",
       "      <td>0.0</td>\n",
       "      <td>58121.300583</td>\n",
       "      <td>153.0</td>\n",
       "      <td>12.0</td>\n",
       "      <td>226.0</td>\n",
       "      <td>257.0</td>\n",
       "      <td>10.0</td>\n",
       "    </tr>\n",
       "    <tr>\n",
       "      <th>4704</th>\n",
       "      <td>E01032788</td>\n",
       "      <td>Hammersmith and Fulham 023D</td>\n",
       "      <td>E02000394</td>\n",
       "      <td>Hammersmith and Fulham 023</td>\n",
       "      <td>E09000013</td>\n",
       "      <td>Hammersmith and Fulham</td>\n",
       "      <td>E12000007</td>\n",
       "      <td>London</td>\n",
       "      <td>1106</td>\n",
       "      <td>1099</td>\n",
       "      <td>...</td>\n",
       "      <td>496</td>\n",
       "      <td>2.2</td>\n",
       "      <td>POLYGON ((526264.7460001282 176281.5390001138,...</td>\n",
       "      <td>0.0</td>\n",
       "      <td>33795.339915</td>\n",
       "      <td>170.0</td>\n",
       "      <td>3.0</td>\n",
       "      <td>177.0</td>\n",
       "      <td>142.0</td>\n",
       "      <td>4.0</td>\n",
       "    </tr>\n",
       "  </tbody>\n",
       "</table>\n",
       "<p>2 rows × 22 columns</p>\n",
       "</div>"
      ],
      "text/plain": [
       "       LSOA11CD                     LSOA11NM   MSOA11CD  \\\n",
       "3535  E01003616                  Newham 012A  E02000725   \n",
       "4704  E01032788  Hammersmith and Fulham 023D  E02000394   \n",
       "\n",
       "                        MSOA11NM    LAD11CD                 LAD11NM  \\\n",
       "3535                  Newham 012  E09000025                  Newham   \n",
       "4704  Hammersmith and Fulham 023  E09000013  Hammersmith and Fulham   \n",
       "\n",
       "        RGN11CD RGN11NM  USUALRES  HHOLDRES        ...         HHOLDS  \\\n",
       "3535  E12000007  London      1650      1650        ...            658   \n",
       "4704  E12000007  London      1106      1099        ...            496   \n",
       "\n",
       "      AVHHOLDSZ                                           geometry  \\\n",
       "3535        2.5  POLYGON ((538860.3610000833 185251.882999958, ...   \n",
       "4704        2.2  POLYGON ((526264.7460001282 176281.5390001138,...   \n",
       "\n",
       "      greenspace     hvy_roads  Owned  \\\n",
       "3535         0.0  58121.300583  153.0   \n",
       "4704         0.0  33795.339915  170.0   \n",
       "\n",
       "      Shared ownership (part owned and part rented)  Social rented  \\\n",
       "3535                                           12.0          226.0   \n",
       "4704                                            3.0          177.0   \n",
       "\n",
       "      Private rented  Living rent free  \n",
       "3535           257.0              10.0  \n",
       "4704           142.0               4.0  \n",
       "\n",
       "[2 rows x 22 columns]"
      ]
     },
     "execution_count": 13,
     "metadata": {},
     "output_type": "execute_result"
    }
   ],
   "source": [
    "lsoa = pd.merge(lsoa, tenure, how='left', left_on='LSOA11CD', right_on='lsoacd')\n",
    "lsoa.drop(['lsoacd'], axis=1, inplace=True)\n",
    "lsoa.sample(2)"
   ]
  },
  {
   "cell_type": "markdown",
   "metadata": {},
   "source": [
    "## KS403EW - Rooms, bedrooms and central heating"
   ]
  },
  {
   "cell_type": "code",
   "execution_count": 14,
   "metadata": {
    "collapsed": false
   },
   "outputs": [
    {
     "data": {
      "text/html": [
       "<div>\n",
       "<style>\n",
       "    .dataframe thead tr:only-child th {\n",
       "        text-align: right;\n",
       "    }\n",
       "\n",
       "    .dataframe thead th {\n",
       "        text-align: left;\n",
       "    }\n",
       "\n",
       "    .dataframe tbody tr th {\n",
       "        vertical-align: top;\n",
       "    }\n",
       "</style>\n",
       "<table border=\"1\" class=\"dataframe\">\n",
       "  <thead>\n",
       "    <tr style=\"text-align: right;\">\n",
       "      <th></th>\n",
       "      <th>LSOA11CD</th>\n",
       "      <th>LSOA11NM</th>\n",
       "      <th>MSOA11CD</th>\n",
       "      <th>MSOA11NM</th>\n",
       "      <th>LAD11CD</th>\n",
       "      <th>LAD11NM</th>\n",
       "      <th>RGN11CD</th>\n",
       "      <th>RGN11NM</th>\n",
       "      <th>USUALRES</th>\n",
       "      <th>HHOLDRES</th>\n",
       "      <th>...</th>\n",
       "      <th>hvy_roads</th>\n",
       "      <th>Owned</th>\n",
       "      <th>Shared ownership (part owned and part rented)</th>\n",
       "      <th>Social rented</th>\n",
       "      <th>Private rented</th>\n",
       "      <th>Living rent free</th>\n",
       "      <th>Occupancy rating (rooms) of -1 or less</th>\n",
       "      <th>Occupancy rating (bedrooms) of -1 or less</th>\n",
       "      <th>Average number of rooms per household</th>\n",
       "      <th>Average number of bedrooms per household</th>\n",
       "    </tr>\n",
       "  </thead>\n",
       "  <tbody>\n",
       "    <tr>\n",
       "      <th>2197</th>\n",
       "      <td>E01002248</td>\n",
       "      <td>Havering 017C</td>\n",
       "      <td>E02000480</td>\n",
       "      <td>Havering 017</td>\n",
       "      <td>E09000016</td>\n",
       "      <td>Havering</td>\n",
       "      <td>E12000007</td>\n",
       "      <td>London</td>\n",
       "      <td>1397</td>\n",
       "      <td>1395</td>\n",
       "      <td>...</td>\n",
       "      <td>158819.317353</td>\n",
       "      <td>371.0</td>\n",
       "      <td>0.0</td>\n",
       "      <td>127.0</td>\n",
       "      <td>92.0</td>\n",
       "      <td>2.0</td>\n",
       "      <td>56.0</td>\n",
       "      <td>41.0</td>\n",
       "      <td>4.8</td>\n",
       "      <td>2.5</td>\n",
       "    </tr>\n",
       "    <tr>\n",
       "      <th>115</th>\n",
       "      <td>E01000119</td>\n",
       "      <td>Barnet 009C</td>\n",
       "      <td>E02000032</td>\n",
       "      <td>Barnet 009</td>\n",
       "      <td>E09000003</td>\n",
       "      <td>Barnet</td>\n",
       "      <td>E12000007</td>\n",
       "      <td>London</td>\n",
       "      <td>1680</td>\n",
       "      <td>1680</td>\n",
       "      <td>...</td>\n",
       "      <td>91906.985226</td>\n",
       "      <td>509.0</td>\n",
       "      <td>1.0</td>\n",
       "      <td>24.0</td>\n",
       "      <td>64.0</td>\n",
       "      <td>9.0</td>\n",
       "      <td>36.0</td>\n",
       "      <td>32.0</td>\n",
       "      <td>6.0</td>\n",
       "      <td>3.2</td>\n",
       "    </tr>\n",
       "  </tbody>\n",
       "</table>\n",
       "<p>2 rows × 26 columns</p>\n",
       "</div>"
      ],
      "text/plain": [
       "       LSOA11CD       LSOA11NM   MSOA11CD      MSOA11NM    LAD11CD   LAD11NM  \\\n",
       "2197  E01002248  Havering 017C  E02000480  Havering 017  E09000016  Havering   \n",
       "115   E01000119    Barnet 009C  E02000032    Barnet 009  E09000003    Barnet   \n",
       "\n",
       "        RGN11CD RGN11NM  USUALRES  HHOLDRES  \\\n",
       "2197  E12000007  London      1397      1395   \n",
       "115   E12000007  London      1680      1680   \n",
       "\n",
       "                        ...                         hvy_roads  Owned  \\\n",
       "2197                    ...                     158819.317353  371.0   \n",
       "115                     ...                      91906.985226  509.0   \n",
       "\n",
       "      Shared ownership (part owned and part rented)  Social rented  \\\n",
       "2197                                            0.0          127.0   \n",
       "115                                             1.0           24.0   \n",
       "\n",
       "     Private rented  Living rent free  Occupancy rating (rooms) of -1 or less  \\\n",
       "2197           92.0               2.0                                    56.0   \n",
       "115            64.0               9.0                                    36.0   \n",
       "\n",
       "      Occupancy rating (bedrooms) of -1 or less  \\\n",
       "2197                                       41.0   \n",
       "115                                        32.0   \n",
       "\n",
       "      Average number of rooms per household  \\\n",
       "2197                                    4.8   \n",
       "115                                     6.0   \n",
       "\n",
       "      Average number of bedrooms per household  \n",
       "2197                                       2.5  \n",
       "115                                        3.2  \n",
       "\n",
       "[2 rows x 26 columns]"
      ]
     },
     "execution_count": 14,
     "metadata": {},
     "output_type": "execute_result"
    }
   ],
   "source": [
    "rooms = pd.read_excel(os.path.join('Data','KS403EW - Rooms, bedrooms and central heating.xlsx'), header=8)\n",
    "rooms['lsoacd'], rooms['lsoanm'] = rooms['2011 super output area - lower layer'].str.split(' : ').str\n",
    "rooms.drop(['lsoanm','2011 super output area - lower layer'], axis=1, inplace=True)\n",
    "rooms.sample(2)\n",
    "lsoa = pd.merge(lsoa, rooms, how='left', left_on='LSOA11CD', right_on='lsoacd')\n",
    "lsoa.drop(['lsoacd'], axis=1, inplace=True)"
   ]
  },
  {
   "cell_type": "markdown",
   "metadata": {},
   "source": [
    "## KS201EW - Ethnic group"
   ]
  },
  {
   "cell_type": "code",
   "execution_count": 15,
   "metadata": {
    "collapsed": false
   },
   "outputs": [
    {
     "data": {
      "text/html": [
       "<div>\n",
       "<style>\n",
       "    .dataframe thead tr:only-child th {\n",
       "        text-align: right;\n",
       "    }\n",
       "\n",
       "    .dataframe thead th {\n",
       "        text-align: left;\n",
       "    }\n",
       "\n",
       "    .dataframe tbody tr th {\n",
       "        vertical-align: top;\n",
       "    }\n",
       "</style>\n",
       "<table border=\"1\" class=\"dataframe\">\n",
       "  <thead>\n",
       "    <tr style=\"text-align: right;\">\n",
       "      <th></th>\n",
       "      <th>LSOA11CD</th>\n",
       "      <th>LSOA11NM</th>\n",
       "      <th>MSOA11CD</th>\n",
       "      <th>MSOA11NM</th>\n",
       "      <th>LAD11CD</th>\n",
       "      <th>LAD11NM</th>\n",
       "      <th>RGN11CD</th>\n",
       "      <th>RGN11NM</th>\n",
       "      <th>USUALRES</th>\n",
       "      <th>HHOLDRES</th>\n",
       "      <th>...</th>\n",
       "      <th>Living rent free</th>\n",
       "      <th>Occupancy rating (rooms) of -1 or less</th>\n",
       "      <th>Occupancy rating (bedrooms) of -1 or less</th>\n",
       "      <th>Average number of rooms per household</th>\n",
       "      <th>Average number of bedrooms per household</th>\n",
       "      <th>White</th>\n",
       "      <th>Mixed/multiple ethnic groups</th>\n",
       "      <th>Asian/Asian British</th>\n",
       "      <th>Black/African/Caribbean/Black British</th>\n",
       "      <th>Other ethnic group</th>\n",
       "    </tr>\n",
       "  </thead>\n",
       "  <tbody>\n",
       "    <tr>\n",
       "      <th>1249</th>\n",
       "      <td>E01001269</td>\n",
       "      <td>Ealing 001A</td>\n",
       "      <td>E02000238</td>\n",
       "      <td>Ealing 001</td>\n",
       "      <td>E09000009</td>\n",
       "      <td>Ealing</td>\n",
       "      <td>E12000007</td>\n",
       "      <td>London</td>\n",
       "      <td>1983</td>\n",
       "      <td>1983</td>\n",
       "      <td>...</td>\n",
       "      <td>2.0</td>\n",
       "      <td>135.0</td>\n",
       "      <td>92.0</td>\n",
       "      <td>5.0</td>\n",
       "      <td>2.8</td>\n",
       "      <td>986.0</td>\n",
       "      <td>69.0</td>\n",
       "      <td>593.0</td>\n",
       "      <td>224.0</td>\n",
       "      <td>111.0</td>\n",
       "    </tr>\n",
       "    <tr>\n",
       "      <th>1388</th>\n",
       "      <td>E01001409</td>\n",
       "      <td>Enfield 005B</td>\n",
       "      <td>E02000281</td>\n",
       "      <td>Enfield 005</td>\n",
       "      <td>E09000010</td>\n",
       "      <td>Enfield</td>\n",
       "      <td>E12000007</td>\n",
       "      <td>London</td>\n",
       "      <td>1889</td>\n",
       "      <td>1881</td>\n",
       "      <td>...</td>\n",
       "      <td>10.0</td>\n",
       "      <td>205.0</td>\n",
       "      <td>94.0</td>\n",
       "      <td>4.2</td>\n",
       "      <td>2.2</td>\n",
       "      <td>1162.0</td>\n",
       "      <td>116.0</td>\n",
       "      <td>223.0</td>\n",
       "      <td>307.0</td>\n",
       "      <td>81.0</td>\n",
       "    </tr>\n",
       "  </tbody>\n",
       "</table>\n",
       "<p>2 rows × 31 columns</p>\n",
       "</div>"
      ],
      "text/plain": [
       "       LSOA11CD      LSOA11NM   MSOA11CD     MSOA11NM    LAD11CD  LAD11NM  \\\n",
       "1249  E01001269   Ealing 001A  E02000238   Ealing 001  E09000009   Ealing   \n",
       "1388  E01001409  Enfield 005B  E02000281  Enfield 005  E09000010  Enfield   \n",
       "\n",
       "        RGN11CD RGN11NM  USUALRES  HHOLDRES         ...          \\\n",
       "1249  E12000007  London      1983      1983         ...           \n",
       "1388  E12000007  London      1889      1881         ...           \n",
       "\n",
       "      Living rent free  Occupancy rating (rooms) of -1 or less  \\\n",
       "1249               2.0                                   135.0   \n",
       "1388              10.0                                   205.0   \n",
       "\n",
       "      Occupancy rating (bedrooms) of -1 or less  \\\n",
       "1249                                       92.0   \n",
       "1388                                       94.0   \n",
       "\n",
       "      Average number of rooms per household  \\\n",
       "1249                                    5.0   \n",
       "1388                                    4.2   \n",
       "\n",
       "     Average number of bedrooms per household   White  \\\n",
       "1249                                      2.8   986.0   \n",
       "1388                                      2.2  1162.0   \n",
       "\n",
       "      Mixed/multiple ethnic groups  Asian/Asian British  \\\n",
       "1249                          69.0                593.0   \n",
       "1388                         116.0                223.0   \n",
       "\n",
       "      Black/African/Caribbean/Black British  Other ethnic group  \n",
       "1249                                  224.0               111.0  \n",
       "1388                                  307.0                81.0  \n",
       "\n",
       "[2 rows x 31 columns]"
      ]
     },
     "execution_count": 15,
     "metadata": {},
     "output_type": "execute_result"
    }
   ],
   "source": [
    "ethnicity = pd.read_excel(os.path.join('Data','KS201EW - Ethnic group.xlsx'), header=8)\n",
    "ethnicity['lsoacd'], ethnicity['lsoanm'] = ethnicity['2011 super output area - lower layer'].str.split(' : ').str\n",
    "ethnicity.drop(['lsoanm','2011 super output area - lower layer'], axis=1, inplace=True)\n",
    "ethnicity.sample(2)\n",
    "lsoa = pd.merge(lsoa, ethnicity, how='left', left_on='LSOA11CD', right_on='lsoacd')\n",
    "lsoa.drop(['lsoacd'], axis=1, inplace=True)"
   ]
  },
  {
   "cell_type": "markdown",
   "metadata": {},
   "source": [
    "## Wrapping Up\n",
    "\n",
    "Save the final output for use by students."
   ]
  },
  {
   "cell_type": "code",
   "execution_count": 30,
   "metadata": {
    "collapsed": false
   },
   "outputs": [
    {
     "data": {
      "text/plain": [
       "Index([                                     u'LSOA11CD',\n",
       "                                            u'LSOA11NM',\n",
       "                                            u'MSOA11CD',\n",
       "                                            u'MSOA11NM',\n",
       "                                             u'LAD11CD',\n",
       "                                             u'LAD11NM',\n",
       "                                             u'RGN11CD',\n",
       "                                             u'RGN11NM',\n",
       "                                            u'USUALRES',\n",
       "                                            u'HHOLDRES',\n",
       "                                           u'COMESTRES',\n",
       "                                              u'POPDEN',\n",
       "                                              u'HHOLDS',\n",
       "                                           u'AVHHOLDSZ',\n",
       "                                            u'geometry',\n",
       "                                          u'greenspace',\n",
       "                                           u'hvy_roads',\n",
       "                                               u'Owned',\n",
       "       u'Shared ownership (part owned and part rented)',\n",
       "                                       u'Social rented',\n",
       "                                      u'Private rented',\n",
       "                                    u'Living rent free',\n",
       "              u'Occupancy rating (rooms) of -1 or less',\n",
       "           u'Occupancy rating (bedrooms) of -1 or less',\n",
       "               u'Average number of rooms per household',\n",
       "            u'Average number of bedrooms per household',\n",
       "                                               u'White',\n",
       "                        u'Mixed/multiple ethnic groups',\n",
       "                                 u'Asian/Asian British',\n",
       "               u'Black/African/Caribbean/Black British',\n",
       "                                  u'Other ethnic group',\n",
       "                                                u'Area'],\n",
       "      dtype='object')"
      ]
     },
     "execution_count": 30,
     "metadata": {},
     "output_type": "execute_result"
    }
   ],
   "source": [
    "lsoa['Area'] = lsoa.geometry.area\n",
    "lsoa.columns"
   ]
  },
  {
   "cell_type": "code",
   "execution_count": 31,
   "metadata": {
    "collapsed": false
   },
   "outputs": [],
   "source": [
    "lsoadf = pd.DataFrame(lsoa.drop(['geometry'], axis=1))\n",
    "lsoadf.to_csv(os.path.join('Data','LSOA Data.csv.gz'), compression='gzip')"
   ]
  },
  {
   "cell_type": "code",
   "execution_count": 16,
   "metadata": {
    "collapsed": true
   },
   "outputs": [],
   "source": [
    "ensure_dir(os.path.join('Final','LSOA Data.shp'))\n",
    "lsoa.to_file(os.path.join('Final','LSOA Data.shp'))"
   ]
  }
 ],
 "metadata": {
  "kernelspec": {
   "display_name": "Python [conda env:gsa2017]",
   "language": "python",
   "name": "conda-env-gsa2017-py"
  },
  "language_info": {
   "codemirror_mode": {
    "name": "ipython",
    "version": 2
   },
   "file_extension": ".py",
   "mimetype": "text/x-python",
   "name": "python",
   "nbconvert_exporter": "python",
   "pygments_lexer": "ipython2",
   "version": "2.7.13"
  }
 },
 "nbformat": 4,
 "nbformat_minor": 0
}
