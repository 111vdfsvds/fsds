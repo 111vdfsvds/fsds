{
 "cells": [
  {
   "cell_type": "markdown",
   "metadata": {},
   "source": [
    "<div style=\"float:left\">\n",
    "            <h1 style=\"width:450px\">Practical 1: Getting Started</h1>\n",
    "            <h2 style=\"width:450px\">Getting to grips with Jupyter, Git and Markdown</h2>\n",
    "</div>\n",
    "<div style=\"float:right\"><img width=\"100\" src=\"https://github.com/jreades/i2p/raw/master/img/casa_logo.jpg\" /></div>"
   ]
  },
  {
   "cell_type": "markdown",
   "metadata": {},
   "source": [
    "## Task 1: Git and Version Control\n",
    "\n",
    "Understanding how to use Git and GitHub effectively is a core element of learning to code. So one of the _first_ things that we are going to do is set you up with an account and a new project.\n",
    "\n",
    "So in order to complete this task you need to:\n",
    "1. Create a login with [GitHub](https://github.com). You may wish to set it up with your UCL email and then link a personal email address as well.\n",
    "2. Using the **#intro-to-programming** channel on [Slack](https://casa-students-2020.slack.com) please share your GitHub acccount handle (*i.e.* [`jreades`](https://github.com/jreades)) by **replying** to Jon's welcome message. This will keep the account names in one place.\n",
    "3. Create a new **private** project directly on GitHub. You might as well call it `i2p` since that's a lot shorter than `intro_to_programming_for_spatial_analysts`.\n",
    "4. Edit the `README.md` file with some information about what's in the project (_e.g._ your notes and practicals for the module).\n",
    "5. Save the changes (this is called a 'commit') and say in a general way what edits you did.\n",
    "6. Work out how to compare the original and edited versions of `README.md` in your browser."
   ]
  },
  {
   "cell_type": "markdown",
   "metadata": {},
   "source": [
    "## Task 2: Getting Comfortable with Markdown\n",
    "\n",
    "To get some practice with Markdown let's write up some notes direclty in our GitHub repository (aka 'repo'). In order to complete this task you will need to:\n",
    "\n",
    "1. Select *one* of today's lectures by visiting [jreades/i2p/lectures](https://github.com/jreades/i2p/tree/master/lectures) and selecting one of the files starting `1.`\n",
    "2. You will need to click on `Raw` to see the Markdown. \n",
    "3. Select and copy all of the raw Markdown.\n",
    "4. Go back to **your** repository and select `Add File > Create New File`, then paste in the copied text.\n",
    "5. Once the file has been added successful, edit it by clicking on the 'pencil' icon. \n",
    "\n",
    "Add notes incorporating:\n",
    "  - Plain text\n",
    "  - Header levels: `#`, `##`, `###`, etc.\n",
    "  - Emphasis/Italics: `_italics_`, `**bold**`.\n",
    "  - Lists: `- ` and `1. `.\n",
    "  - Links: `[link text](url)`.\n",
    "  - Images: `![Alt text](url)`.\n",
    "  - Code: \\``...`\\`.\n",
    "  \n",
    "Save your changes (don't forget to add a basic comment outlining what you've done) and then view the difference (aka 'History) to see what you've edited."
   ]
  },
  {
   "cell_type": "markdown",
   "metadata": {},
   "source": [
    "## Task 3: Getting Set Up with Vagrant or Anaconda Python\n",
    "\n",
    "You may be tempted to leave this for later, but we'd _strongly_ encourage you to try installing the programming environment as soon as possible so that we have as long as possible to help you over any hurdles before we get to week 3 where it will be essential that you are running the environment successfully. In our experience, the students who put off trying to get the environment running end up falling quickly behind as they are unable to complete basic tasks successfully. \n",
    "\n",
    "The _majority_ of you will be able to use the [Vagrant](https://www.vagrantup.com/)/[VirtualBox](https://www.virtualbox.org/) solution, but there will be _some_ Windows 10 users whose computers will refuse to run either VirtualBox or Vagrant, in which case will need to run [Anaconda Python](https://anaconda.org/) directly."
   ]
  },
  {
   "cell_type": "markdown",
   "metadata": {},
   "source": [
    "### Installing Vagrant \n",
    "\n",
    "I have [produced an installation video](https://web.microsoftstream.com/video/d94bc09d-02c9-45cf-83ed-3badeab3568b) for users on Apple's MacOS that is available on MS Streams (you need to be logged in as a UCL user in order to view this).\n",
    "\n",
    "<figure class=\"video_container\">\n",
    "    <iframe width=\"640\" height=\"360\" src=\"https://web.microsoftstream.com/embed/video/d94bc09d-02c9-45cf-83ed-3badeab3568b?autoplay=false&amp;showinfo=false\" allowfullscreen style=\"border:none;\"></iframe>\n",
    "</figure>\n",
    "\n",
    "The process for Windows users will be similar, but you will need to install either the [Windows Subsystem for Linux](https://docs.microsoft.com/en-us/windows/wsl/install-win10) or [Git BASH](https://gitforwindows.org/). We are working on a video for this.\n",
    "\n",
    "You can **follow along** in a [text version of the installation guide on GitHub](https://github.com/jreades/sds_env/tree/master/vagrant)."
   ]
  },
  {
   "cell_type": "markdown",
   "metadata": {},
   "source": [
    "### Installing Anaconda Python\n",
    "\n",
    "If the installation of Vagrant/VirtualBox fails, then you will need to go down this route for installing the programming environment. \n",
    "\n",
    "Windows users will need to install either the [Windows Subsystem for Linux](https://docs.microsoft.com/en-us/windows/wsl/install-win10) or [Git BASH](https://gitforwindows.org/).\n",
    "\n",
    "You can **follow along** in a [text version of the installation guide on GitHub](https://github.com/jreades/sds_env/tree/master/conda)."
   ]
  },
  {
   "cell_type": "markdown",
   "metadata": {},
   "source": [
    "## Task 4: Installing Command Line Tools\n",
    "\n",
    "The final thing that we need to do (because it will be useful next week) is install some command line tools that will allow us to interact with Git from the Terminal/Command Prompt. You only need to do one of these:\n",
    "\n",
    "1. MacOS: install the Xcode Command Line Tools [directly from the command line](https://osxdaily.com/2014/02/12/install-command-line-tools-mac-os-x/).\n",
    "2. Windows: install Git Bash by following [these instructions](https://www.stanleyulili.com/git/how-to-install-git-bash-on-windows/).\n",
    "\n",
    "That's 'it'! You're done. We've had to put a lot of pieces of software in place for the term, but you'll find these useful across multiple modules that are part of your MSc/MRes and you're now set up for the future!"
   ]
  }
 ],
 "metadata": {
  "kernelspec": {
   "display_name": "Python 3",
   "language": "python",
   "name": "python3"
  },
  "language_info": {
   "codemirror_mode": {
    "name": "ipython",
    "version": 3
   },
   "file_extension": ".py",
   "mimetype": "text/x-python",
   "name": "python",
   "nbconvert_exporter": "python",
   "pygments_lexer": "ipython3",
   "version": "3.7.8"
  }
 },
 "nbformat": 4,
 "nbformat_minor": 4
}
