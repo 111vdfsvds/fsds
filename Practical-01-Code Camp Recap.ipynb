{
 "cells": [
  {
   "cell_type": "markdown",
   "metadata": {
    "geopyter": {
     "Contributors": "James Millington (james.millington@kcl.ac.uk)",
     "git": {
      "active_branch": "master",
      "author.name": "Jon Reades",
      "authored_date": "2017-08-17 19:06:58",
      "committed_date": "2017-08-17 19:06:58",
      "committer.name": "Jon Reades",
      "sha": "5e3b396ae18a982d693c4bfd86c721c7e1e21051"
     }
    }
   },
   "source": [
    "# Practical 1: Code Camp Recap\n"
   ]
  },
  {
   "cell_type": "markdown",
   "metadata": {
    "geopyter": {
     "Contributors": "James Millington (james.millington@kcl.ac.uk)",
     "git": {
      "active_branch": "master",
      "author.name": "Jon Reades",
      "authored_date": "2017-08-17 19:06:58",
      "committed_date": "2017-08-17 19:06:58",
      "committer.name": "Jon Reades",
      "sha": "5e3b396ae18a982d693c4bfd86c721c7e1e21051"
     }
    },
    "nbpresent": {
     "id": "f730ab33-247e-4792-9e02-ab29c9f00c14"
    }
   },
   "source": [
    "# Practical 1: Basics, Errors, Scripts\n",
    "\n"
   ]
  },
  {
   "cell_type": "markdown",
   "metadata": {
    "geopyter": {
     "Contributors": "James Millington (james.millington@kcl.ac.uk)",
     "git": {
      "active_branch": "master",
      "author.name": "Jon Reades",
      "authored_date": "2017-08-17 19:06:58",
      "committed_date": "2017-08-17 19:06:58",
      "committer.name": "Jon Reades",
      "sha": "5e3b396ae18a982d693c4bfd86c721c7e1e21051"
     }
    },
    "nbpresent": {
     "id": "cada64b6-f8c9-4dbb-9ab1-b5617d0cc16a"
    }
   },
   "source": [
    "## Learning Outcomes\n",
    "\n",
    "By the end of this practical you should:\n",
    "-\tHave a better appreciation for what the Python programming language is\n",
    "-\tUnderstand the ways in which Python code can be executed (interpreter vs scripts)\n",
    "-\tUnderstand variables and variable assignment\n",
    "-\tHave a better appreciation of data types, basic mathematic operators  and simple expressions\n",
    "-\tUnderstand the types of error (syntax, logical, semantic)\n"
   ]
  },
  {
   "cell_type": "markdown",
   "metadata": {
    "geopyter": {
     "Contributors": "James Millington (james.millington@kcl.ac.uk)",
     "git": {
      "active_branch": "master",
      "author.name": "Jon Reades",
      "authored_date": "2017-08-17 19:06:58",
      "committed_date": "2017-08-17 19:06:58",
      "committer.name": "Jon Reades",
      "sha": "5e3b396ae18a982d693c4bfd86c721c7e1e21051"
     }
    }
   },
   "source": [
    "This document assumes you have created a working directory as described here: http://bit.ly/WorkingDirectory"
   ]
  },
  {
   "cell_type": "markdown",
   "metadata": {
    "geopyter": {
     "Contributors": "James Millington (james.millington@kcl.ac.uk)",
     "git": {
      "active_branch": "master",
      "author.name": "Jon Reades",
      "authored_date": "2017-08-17 19:06:58",
      "committed_date": "2017-08-17 19:06:58",
      "committer.name": "Jon Reades",
      "sha": "5e3b396ae18a982d693c4bfd86c721c7e1e21051"
     }
    }
   },
   "source": [
    "## Hello Python!"
   ]
  },
  {
   "cell_type": "markdown",
   "metadata": {
    "geopyter": {
     "Contributors": "James Millington (james.millington@kcl.ac.uk)",
     "git": {
      "active_branch": "master",
      "author.name": "Jon Reades",
      "authored_date": "2017-08-17 19:06:58",
      "committed_date": "2017-08-17 19:06:58",
      "committer.name": "Jon Reades",
      "sha": "5e3b396ae18a982d693c4bfd86c721c7e1e21051"
     }
    }
   },
   "source": [
    "### Conversing with Python\n",
    "Python is a high-level programming language that makes it (relatively) easy for humans to talk to a computer to make it do things. As a language, Python has a ‘vocabulary’ and a ‘grammar’. The vocabulary of Python is pretty small and consists of a group of keywords also known as ‘reserved words’. Some of these reserved words are shown in the figure below.\n",
    "\n",
    "<img src=\"https://kingsgeocomputation.files.wordpress.com/2016/09/reservedwords.png\", width = 500>\n"
   ]
  },
  {
   "cell_type": "markdown",
   "metadata": {
    "collapsed": true,
    "geopyter": {
     "Contributors": "James Millington (james.millington@kcl.ac.uk)",
     "git": {
      "active_branch": "master",
      "author.name": "Jon Reades",
      "authored_date": "2017-08-17 19:06:58",
      "committed_date": "2017-08-17 19:06:58",
      "committer.name": "Jon Reades",
      "sha": "5e3b396ae18a982d693c4bfd86c721c7e1e21051"
     }
    }
   },
   "source": [
    "Python is a high-level language because computer interprets Python and converts this into yet another language (known as machine language) which it then uses. We can converse with the computer through Python in two ways which we will look at in turn:\n",
    "\n",
    "1.\tIn ‘interactive mode’\n",
    "2.\tIn ‘script mode’\n",
    "\n",
    "In _interactive mode_ Python gives immediate feedback for each statement entered, while running previously entered statements in active memory. Interactive mode is useful for running quick commands and experimeting with code, but is not the best way to save work for later. The Jupyter notebooks are an example of interactive mode so you should be quite familiar with this mode, but we will also see how we can work in interactive mode in other ways. \n",
    "\n",
    "In _script mode_ we save a sequence of Python statements in a file (usually with .py suffix) which is then executed all together. Script mode is useful for saving code to be run again later and to be shared with others. These scripts can be written in a text editor (like notepad) but more often is it easier to develop and edit scripts in an [Integrated Development Environment](https://en.wikipedia.org/wiki/Integrated_development_environment) (IDE).\n",
    "\n",
    "The IDE we will be using in Geocomputation is [Spyder](https://pythonhosted.org/spyder/). ‘Spyder’ stands for **S**cientific **PY**thon **D**evelopment **E**nvi**R**onment and is a powerful program to help develop, edit, run and test code written in the Python language. \n",
    "\n",
    "_Tip: The file suffix of a Python script file is’ .py’. At its most basic this is simply a text file that you could open in a text editor like notepad, EditPad etc. Depending on the computer and Operating System you are using this file type may be associated with different programs or development environments (like Spyder). ‘Associated’ in this context means that when you double click the file it will open in a given the associated program. In GeoCUP .py files are associated with Spyder_"
   ]
  },
  {
   "cell_type": "markdown",
   "metadata": {
    "geopyter": {
     "Contributors": "James Millington (james.millington@kcl.ac.uk)",
     "git": {
      "active_branch": "master",
      "author.name": "Jon Reades",
      "authored_date": "2017-08-17 19:06:58",
      "committed_date": "2017-08-17 19:06:58",
      "committer.name": "Jon Reades",
      "sha": "5e3b396ae18a982d693c4bfd86c721c7e1e21051"
     }
    }
   },
   "source": [
    "#### TASK \n",
    "\n",
    "Before we look at the two modes for conversing with Python in a little more detail, read the [Overview of Anaconda and Spyder document](https://keats.kcl.ac.uk/mod/resource/view.php?id=1377344) available on KEATS. "
   ]
  },
  {
   "cell_type": "markdown",
   "metadata": {
    "geopyter": {
     "Contributors": "James Millington (james.millington@kcl.ac.uk)",
     "git": {
      "active_branch": "master",
      "author.name": "Jon Reades",
      "authored_date": "2017-08-17 19:06:58",
      "committed_date": "2017-08-17 19:06:58",
      "committer.name": "Jon Reades",
      "sha": "5e3b396ae18a982d693c4bfd86c721c7e1e21051"
     }
    }
   },
   "source": [
    "### Interactive Python\n",
    "\n",
    "There is a [classic first program](https://en.wikipedia.org/wiki/%22Hello,_World!%22_program) that everyone learning a computer language writes. The program simply outputs the phrase _Hello World!_ to the screen using a `print` statement (note: `print` is a Python reserved word, as shown in the figure above). As we are learning the Python programming language in this module, we’ll change the program slightly and say hello to Python: "
   ]
  },
  {
   "cell_type": "code",
   "execution_count": null,
   "metadata": {
    "collapsed": true,
    "geopyter": {
     "Contributors": "James Millington (james.millington@kcl.ac.uk)",
     "git": {
      "active_branch": "master",
      "author.name": "Jon Reades",
      "authored_date": "2017-08-17 19:06:58",
      "committed_date": "2017-08-17 19:06:58",
      "committer.name": "Jon Reades",
      "sha": "5e3b396ae18a982d693c4bfd86c721c7e1e21051"
     }
    }
   },
   "outputs": [],
   "source": [
    "print \"Hello Python!\""
   ]
  },
  {
   "cell_type": "markdown",
   "metadata": {
    "geopyter": {
     "Contributors": "James Millington (james.millington@kcl.ac.uk)",
     "git": {
      "active_branch": "master",
      "author.name": "Jon Reades",
      "authored_date": "2017-08-17 19:06:58",
      "committed_date": "2017-08-17 19:06:58",
      "committer.name": "Jon Reades",
      "sha": "5e3b396ae18a982d693c4bfd86c721c7e1e21051"
     }
    }
   },
   "source": [
    "When you run the code cell above, you are running Python in interactive mode; Python takes the statement and executes it, returning any feedback immediately.\n",
    "\n",
    "We can do the same in the Spyder in the IPython Interpreter pane."
   ]
  },
  {
   "cell_type": "markdown",
   "metadata": {
    "geopyter": {
     "Contributors": "James Millington (james.millington@kcl.ac.uk)",
     "git": {
      "active_branch": "master",
      "author.name": "Jon Reades",
      "authored_date": "2017-08-17 19:06:58",
      "committed_date": "2017-08-17 19:06:58",
      "committer.name": "Jon Reades",
      "sha": "5e3b396ae18a982d693c4bfd86c721c7e1e21051"
     }
    }
   },
   "source": [
    "#### TASK\n",
    "\n",
    "1.\tOpen Spyder - if you’re unsure how to do this see the [Overview of Anaconda and Spyder document](https://keats.kcl.ac.uk/mod/resource/view.php?id=1377344) \n",
    "2.\tIn the IPython Interpreter pane type `print “Hello Python!”`\n",
    "3.\tPress Enter\n"
   ]
  },
  {
   "cell_type": "markdown",
   "metadata": {
    "geopyter": {
     "Contributors": "James Millington (james.millington@kcl.ac.uk)",
     "git": {
      "active_branch": "master",
      "author.name": "Jon Reades",
      "authored_date": "2017-08-17 19:06:58",
      "committed_date": "2017-08-17 19:06:58",
      "committer.name": "Jon Reades",
      "sha": "5e3b396ae18a982d693c4bfd86c721c7e1e21051"
     }
    }
   },
   "source": [
    "If you’ve done this successfully, your Interpreter pane should look something like the fiugure below. Python has printed your message and is now waiting for the next command. This is an example of using Python in interactive mode.\n",
    "\n",
    "<img src=\"https://kingsgeocomputation.files.wordpress.com/2016/09/ipythonhellopython.jpg\", width = 500>\n",
    "\n",
    "If your Interpreter does NOT look like the figure above, you’ve made a mistake (and are skipping ahead to the Errors section of this practical!). Check your typing and try again."
   ]
  },
  {
   "cell_type": "markdown",
   "metadata": {
    "geopyter": {
     "Contributors": "James Millington (james.millington@kcl.ac.uk)",
     "git": {
      "active_branch": "master",
      "author.name": "Jon Reades",
      "authored_date": "2017-08-17 19:06:58",
      "committed_date": "2017-08-17 19:06:58",
      "committer.name": "Jon Reades",
      "sha": "5e3b396ae18a982d693c4bfd86c721c7e1e21051"
     }
    }
   },
   "source": [
    "Let’s think about what we have done here: we input a command to Python (`print`) with an argument (`“Hello Python!”`) which Python has executed. The `print` keyword tells Python to output whatever the argument is to the screen. We can see this below the input (i.e. `Hello Python!` – without the quotes). Note how after execution, the Python Interpreter is ready for another input, indicated by `In [2]`:, where `2` is a sequentially numbered input (the first was `In [1]:`); this is the prompt in the Interpreter and similar to what we see in code block in Jupyter Notebooks. "
   ]
  },
  {
   "cell_type": "markdown",
   "metadata": {
    "geopyter": {
     "Contributors": "James Millington (james.millington@kcl.ac.uk)",
     "git": {
      "active_branch": "master",
      "author.name": "Jon Reades",
      "authored_date": "2017-08-17 19:06:58",
      "committed_date": "2017-08-17 19:06:58",
      "committer.name": "Jon Reades",
      "sha": "5e3b396ae18a982d693c4bfd86c721c7e1e21051"
     }
    }
   },
   "source": [
    "If you wanted to run the last command again exactly as before in the Interpreter, simply press the up arrow and the code you previously typed should appear. You can just hit enter to execute (run) the code again. Previous commands are stored temporarily in memory in the Interpreter and can be accessed using the up (and down) arrows. "
   ]
  },
  {
   "cell_type": "markdown",
   "metadata": {
    "geopyter": {
     "Contributors": "James Millington (james.millington@kcl.ac.uk)",
     "git": {
      "active_branch": "master",
      "author.name": "Jon Reades",
      "authored_date": "2017-08-17 19:06:58",
      "committed_date": "2017-08-17 19:06:58",
      "committer.name": "Jon Reades",
      "sha": "5e3b396ae18a982d693c4bfd86c721c7e1e21051"
     }
    }
   },
   "source": [
    "#### TASK\n",
    "\n",
    "Run the command in the previous task in Spyder again but _without_ typing the code out."
   ]
  },
  {
   "cell_type": "markdown",
   "metadata": {
    "geopyter": {
     "Contributors": "James Millington (james.millington@kcl.ac.uk)",
     "git": {
      "active_branch": "master",
      "author.name": "Jon Reades",
      "authored_date": "2017-08-17 19:06:58",
      "committed_date": "2017-08-17 19:06:58",
      "committer.name": "Jon Reades",
      "sha": "5e3b396ae18a982d693c4bfd86c721c7e1e21051"
     }
    }
   },
   "source": [
    "### Python from Scripts\n",
    "\n",
    "To save code for later use or to share with others we use script files. In the Spyder IDE scripts are written and shown in the Editor Pane, on the left of the IPython Interpreter. Code written in this pane is executed in the Interprteter only when we specifically tell Spyder (not when we hit Enter at the end of a line). "
   ]
  },
  {
   "cell_type": "markdown",
   "metadata": {
    "geopyter": {
     "Contributors": "James Millington (james.millington@kcl.ac.uk)",
     "git": {
      "active_branch": "master",
      "author.name": "Jon Reades",
      "authored_date": "2017-08-17 19:06:58",
      "committed_date": "2017-08-17 19:06:58",
      "committer.name": "Jon Reades",
      "sha": "5e3b396ae18a982d693c4bfd86c721c7e1e21051"
     }
    }
   },
   "source": [
    "You can create new Python script files in the Editor Pane in various ways:\n",
    "\n",
    "1.\tClicking the left-most icon on the toolbar \n",
    "2.\tFrom the File menu at the top of the window go File -> New File\n",
    "3.\tBy pressing Ctrl + N (with the cursor in an existing script)"
   ]
  },
  {
   "cell_type": "markdown",
   "metadata": {
    "geopyter": {
     "Contributors": "James Millington (james.millington@kcl.ac.uk)",
     "git": {
      "active_branch": "master",
      "author.name": "Jon Reades",
      "authored_date": "2017-08-17 19:06:58",
      "committed_date": "2017-08-17 19:06:58",
      "committer.name": "Jon Reades",
      "sha": "5e3b396ae18a982d693c4bfd86c721c7e1e21051"
     }
    }
   },
   "source": [
    "#### TASK\n",
    "\n",
    "1.\tCreate a new script file so that we can save code for later\n",
    "2.\tIn the file you have created type `print “Hello Python!”` on line 1\n",
    "3.\tPress Enter"
   ]
  },
  {
   "cell_type": "markdown",
   "metadata": {
    "geopyter": {
     "Contributors": "James Millington (james.millington@kcl.ac.uk)",
     "git": {
      "active_branch": "master",
      "author.name": "Jon Reades",
      "authored_date": "2017-08-17 19:06:58",
      "committed_date": "2017-08-17 19:06:58",
      "committer.name": "Jon Reades",
      "sha": "5e3b396ae18a982d693c4bfd86c721c7e1e21051"
     }
    }
   },
   "source": [
    "What happened after you pressed Enter? If you did it correctly, nothing all that should have happened is that the cursor should have moved down to the next line and the Editor Pane should look something like the figure below. Nothing in the IPython Interpreter pane will have changed.\n",
    "\n",
    "<img src=\"https://kingsgeocomputation.files.wordpress.com/2016/09/scripthellopython.jpg\", width = 400>"
   ]
  },
  {
   "cell_type": "markdown",
   "metadata": {
    "geopyter": {
     "Contributors": "James Millington (james.millington@kcl.ac.uk)",
     "git": {
      "active_branch": "master",
      "author.name": "Jon Reades",
      "authored_date": "2017-08-17 19:06:58",
      "committed_date": "2017-08-17 19:06:58",
      "committer.name": "Jon Reades",
      "sha": "5e3b396ae18a982d693c4bfd86c721c7e1e21051"
     }
    }
   },
   "source": [
    "So pressing Enter in the Editor Pane does not execute code (as it does in the Interpreter); instead it simply moves the cursor to the next line ready to for the next line of code to be typed. \n",
    "\n",
    "There are a few different ways to execute (run) all the instructions in the script file showing in the Editor Pane:\n",
    "1.\tGo to the Run menu then select Run File\n",
    "2.\tClick the Run the Current File button on the tool bar (a green triangle)\n",
    "3.\tPress F5"
   ]
  },
  {
   "cell_type": "markdown",
   "metadata": {
    "geopyter": {
     "Contributors": "James Millington (james.millington@kcl.ac.uk)",
     "git": {
      "active_branch": "master",
      "author.name": "Jon Reades",
      "authored_date": "2017-08-17 19:06:58",
      "committed_date": "2017-08-17 19:06:58",
      "committer.name": "Jon Reades",
      "sha": "5e3b396ae18a982d693c4bfd86c721c7e1e21051"
     }
    }
   },
   "source": [
    "#### TASK\n",
    "\n",
    "Using one of the ways above, run the code you have typed into the script file. \n",
    "\n",
    "If you do this properly you will be asked to save the scipt file before you can run it - do so in your working directory, naming the file `HelloPython.py`.\n",
    "\n",
    "After saving the file, as this is the first time you have run the script you will see the Run Settings dialogue box (like the figure below). You can keep all the default settings as they are now, but in future you may want to change some in future. \n",
    "\n",
    "Click Run. \n",
    "\n",
    "<img src=\"https://kingsgeocomputation.files.wordpress.com/2016/09/runsettingshellopython.jpg\", width = 380>"
   ]
  },
  {
   "cell_type": "markdown",
   "metadata": {
    "geopyter": {
     "Contributors": "James Millington (james.millington@kcl.ac.uk)",
     "git": {
      "active_branch": "master",
      "author.name": "Jon Reades",
      "authored_date": "2017-08-17 19:06:58",
      "committed_date": "2017-08-17 19:06:58",
      "committer.name": "Jon Reades",
      "sha": "5e3b396ae18a982d693c4bfd86c721c7e1e21051"
     }
    }
   },
   "source": [
    "If successful you should notice a change in the Interpreter pane (below the File Viewer) and it should look something like the figure below\n",
    "\n",
    "<img src=\"https://kingsgeocomputation.files.wordpress.com/2016/09/scriptipython_helloworld.jpg\", width = 500>"
   ]
  },
  {
   "cell_type": "markdown",
   "metadata": {
    "geopyter": {
     "Contributors": "James Millington (james.millington@kcl.ac.uk)",
     "git": {
      "active_branch": "master",
      "author.name": "Jon Reades",
      "authored_date": "2017-08-17 19:06:58",
      "committed_date": "2017-08-17 19:06:58",
      "committer.name": "Jon Reades",
      "sha": "5e3b396ae18a982d693c4bfd86c721c7e1e21051"
     }
    }
   },
   "source": [
    "Look at what has happened here. Spyder has given Python a command (`runfile`) with two arguments (shown in red); one is the text string of the path to the file currently in the Editor Pane, and the other is the text string of the path to the current working directory (set in the Run Settings dialogue - see previous figure). The command has been entered for us at the Interpreter (at `In [2]:`), the output has been produced (`Hello Python!`), and the Interpreter is ready for another input (at `In [3]:`)."
   ]
  },
  {
   "cell_type": "markdown",
   "metadata": {
    "geopyter": {
     "Contributors": "James Millington (james.millington@kcl.ac.uk)",
     "git": {
      "active_branch": "master",
      "author.name": "Jon Reades",
      "authored_date": "2017-08-17 19:06:58",
      "committed_date": "2017-08-17 19:06:58",
      "committer.name": "Jon Reades",
      "sha": "5e3b396ae18a982d693c4bfd86c721c7e1e21051"
     }
    }
   },
   "source": [
    "#### TASK\n",
    "\n",
    "Run the code you have typed into the script file, using the other two ways to run scripts listed above (and not used in the last task).  "
   ]
  },
  {
   "cell_type": "markdown",
   "metadata": {
    "geopyter": {
     "Contributors": "James Millington (james.millington@kcl.ac.uk)",
     "git": {
      "active_branch": "master",
      "author.name": "Jon Reades",
      "authored_date": "2017-08-17 19:06:58",
      "committed_date": "2017-08-17 19:06:58",
      "committer.name": "Jon Reades",
      "sha": "5e3b396ae18a982d693c4bfd86c721c7e1e21051"
     }
    }
   },
   "source": [
    "_Tip: Sometime we don’t want to run all the code in the script file, but only certain lines of code. To do this we can highlight the lines we want to execute and then press F9. We’ll try this later._"
   ]
  },
  {
   "cell_type": "markdown",
   "metadata": {
    "geopyter": {
     "Contributors": "James Millington (james.millington@kcl.ac.uk)",
     "git": {
      "active_branch": "master",
      "author.name": "Jon Reades",
      "authored_date": "2017-08-17 19:06:58",
      "committed_date": "2017-08-17 19:06:58",
      "committer.name": "Jon Reades",
      "sha": "5e3b396ae18a982d693c4bfd86c721c7e1e21051"
     }
    }
   },
   "source": [
    "Existing Python script files (like the one you have saved) can be opened in the Spyder Editor Pane in a variety of ways:\n",
    "1.\tClicking the second left-most icon on the toolbar \n",
    "2.\tFrom the File menu at the top of the window go Open then navigate to the file with Windows Explorer\n",
    "3.\tBy pressing Ctrl + O then navigating to the file\n",
    "4.\tDrag-drop .py files into the File Viewer pane"
   ]
  },
  {
   "cell_type": "markdown",
   "metadata": {
    "geopyter": {
     "Contributors": "James Millington (james.millington@kcl.ac.uk)",
     "git": {
      "active_branch": "master",
      "author.name": "Jon Reades",
      "authored_date": "2017-08-17 19:06:58",
      "committed_date": "2017-08-17 19:06:58",
      "committer.name": "Jon Reades",
      "sha": "5e3b396ae18a982d693c4bfd86c721c7e1e21051"
     }
    }
   },
   "source": [
    "#### TASK\n",
    "\n",
    "1.\tClose the Editor Pane of Spyder ensuring you know where you have saved your `HelloPython.py` script file. \n",
    "2.\tRe-open the Editor window and use one of the above ways to re-open your `HelloPython.py` script file. \n",
    "3.\tRun the script file \n"
   ]
  },
  {
   "cell_type": "markdown",
   "metadata": {
    "geopyter": {
     "Contributors": "James Millington (james.millington@kcl.ac.uk)",
     "git": {
      "active_branch": "master",
      "author.name": "Jon Reades",
      "authored_date": "2017-08-17 19:06:58",
      "committed_date": "2017-08-17 19:06:58",
      "committer.name": "Jon Reades",
      "sha": "5e3b396ae18a982d693c4bfd86c721c7e1e21051"
     }
    }
   },
   "source": [
    "Well done! You have now learned how to enter Python code at the Interpreter prompt and create and use script files to run code. Hopefully, you managed this without making any errors in writing your code. It won’t always be that way..."
   ]
  },
  {
   "cell_type": "markdown",
   "metadata": {
    "geopyter": {
     "Contributors": "James Millington (james.millington@kcl.ac.uk)",
     "git": {
      "active_branch": "master",
      "author.name": "Jon Reades",
      "authored_date": "2017-08-17 19:06:58",
      "committed_date": "2017-08-17 19:06:58",
      "committer.name": "Jon Reades",
      "sha": "5e3b396ae18a982d693c4bfd86c721c7e1e21051"
     }
    }
   },
   "source": [
    "## Python Errors"
   ]
  },
  {
   "cell_type": "markdown",
   "metadata": {
    "geopyter": {
     "Contributors": "James Millington (james.millington@kcl.ac.uk)",
     "git": {
      "active_branch": "master",
      "author.name": "Jon Reades",
      "authored_date": "2017-08-17 19:06:58",
      "committed_date": "2017-08-17 19:06:58",
      "committer.name": "Jon Reades",
      "sha": "5e3b396ae18a982d693c4bfd86c721c7e1e21051"
     }
    }
   },
   "source": [
    "### Why are we doing this?\n",
    "\n",
    "Because everyone makes mistakes. In programming, it is very easy to make errors. Because computers are stupid and do EXACTLY what we tell them, any small mistake can cause a program to fail to run. These errors in a program are often called bugs. There are other errors that mean that although a program will run, it may not do what you think it does. \n",
    "\n",
    "So we can classify a few general types of error: \n",
    "1.\t**syntax errors** are when the ‘grammar’ rules of Python (known as the syntax) have been violated, making it impossible for the code to be parsed; \n",
    "2.\t**logic errors**  have good syntax but there is an error in the order of statements or how they relate to one another;\n",
    "3.\t**semantic errors** make programs do something other than what the programmer intended.\n",
    "\n",
    "_“A good example of a logic error might be, “take a drink from your water bottle, put it in your backpack, walk to the library, and then put the top back on the bottle.”_ Severance (2014, p.14)\n"
   ]
  },
  {
   "cell_type": "markdown",
   "metadata": {
    "geopyter": {
     "Contributors": "James Millington (james.millington@kcl.ac.uk)",
     "git": {
      "active_branch": "master",
      "author.name": "Jon Reades",
      "authored_date": "2017-08-17 19:06:58",
      "committed_date": "2017-08-17 19:06:58",
      "committer.name": "Jon Reades",
      "sha": "5e3b396ae18a982d693c4bfd86c721c7e1e21051"
     }
    }
   },
   "source": [
    "#### TASK\n",
    "\n",
    "Run through the information and activites in Notebook 3 in the [Python Code Camp](https://kingsgeocomputation.org/teaching/code-camp/code-camp-python/lessons/) to refresh your understanding of Errors in Python. When you have done so return to this notebook to continue. "
   ]
  },
  {
   "cell_type": "markdown",
   "metadata": {
    "geopyter": {
     "Contributors": "James Millington (james.millington@kcl.ac.uk)",
     "git": {
      "active_branch": "master",
      "author.name": "Jon Reades",
      "authored_date": "2017-08-17 19:06:58",
      "committed_date": "2017-08-17 19:06:58",
      "committer.name": "Jon Reades",
      "sha": "5e3b396ae18a982d693c4bfd86c721c7e1e21051"
     }
    }
   },
   "source": [
    "## Back to Basics"
   ]
  },
  {
   "cell_type": "markdown",
   "metadata": {
    "geopyter": {
     "Contributors": "James Millington (james.millington@kcl.ac.uk)",
     "git": {
      "active_branch": "master",
      "author.name": "Jon Reades",
      "authored_date": "2017-08-17 19:06:58",
      "committed_date": "2017-08-17 19:06:58",
      "committer.name": "Jon Reades",
      "sha": "5e3b396ae18a982d693c4bfd86c721c7e1e21051"
     }
    }
   },
   "source": [
    "You should now have a feel for Spyder and the difference between using Python in Interactive vs Script mode. And you've just refreshed your memory about the sorts of errors you might make in Python. Befire we go on, let's just pause to check we have a good hold on the basics of Python. "
   ]
  },
  {
   "cell_type": "markdown",
   "metadata": {
    "geopyter": {
     "Contributors": "James Millington (james.millington@kcl.ac.uk)",
     "git": {
      "active_branch": "master",
      "author.name": "Jon Reades",
      "authored_date": "2017-08-17 19:06:58",
      "committed_date": "2017-08-17 19:06:58",
      "committer.name": "Jon Reades",
      "sha": "5e3b396ae18a982d693c4bfd86c721c7e1e21051"
     }
    }
   },
   "source": [
    "#### TASK\n",
    "\n",
    "Run through the information and activites in Notebook 2 in the [Python Code Camp](https://kingsgeocomputation.org/teaching/code-camp/code-camp-python/lessons/) to refresh your understanding of the basics in Python. **Don't do the Code (general exercises)** - come back here to continue with this practical. "
   ]
  },
  {
   "cell_type": "markdown",
   "metadata": {
    "geopyter": {
     "Contributors": "James Millington (james.millington@kcl.ac.uk)",
     "git": {
      "active_branch": "master",
      "author.name": "Jon Reades",
      "authored_date": "2017-08-17 19:06:58",
      "committed_date": "2017-08-17 19:06:58",
      "committer.name": "Jon Reades",
      "sha": "5e3b396ae18a982d693c4bfd86c721c7e1e21051"
     }
    }
   },
   "source": [
    "## Handling Input and Data Types"
   ]
  },
  {
   "cell_type": "markdown",
   "metadata": {
    "geopyter": {
     "Contributors": "James Millington (james.millington@kcl.ac.uk)",
     "git": {
      "active_branch": "master",
      "author.name": "Jon Reades",
      "authored_date": "2017-08-17 19:06:58",
      "committed_date": "2017-08-17 19:06:58",
      "committer.name": "Jon Reades",
      "sha": "5e3b396ae18a982d693c4bfd86c721c7e1e21051"
     }
    }
   },
   "source": [
    "Now that you've reviewed the how variables work again, let's move on to see some new ways we can interact with Python by using code to ask a user to enter data via the keyboard. Variables are useful in this instance because we don’t know what input user will enter, but we still need to be able to handle it in our program. It will also show how variables can be assigned values as the output of a function (which we will look at another week). "
   ]
  },
  {
   "cell_type": "markdown",
   "metadata": {
    "geopyter": {
     "Contributors": "James Millington (james.millington@kcl.ac.uk)",
     "git": {
      "active_branch": "master",
      "author.name": "Jon Reades",
      "authored_date": "2017-08-17 19:06:58",
      "committed_date": "2017-08-17 19:06:58",
      "committer.name": "Jon Reades",
      "sha": "5e3b396ae18a982d693c4bfd86c721c7e1e21051"
     }
    }
   },
   "source": [
    "#### TASK\n",
    "\n",
    "Using the information presented previously in this notebook if you need to:\n",
    "\n",
    "1.\tCreate a new script file \n",
    "2.\tIn the new script file type the code on lines 1 and 2 (ONLY) from the figure below\n",
    "3.\tSave the script with the name ‘Rainfall.py’ in your working directory\n",
    "4.\tRun the script\n",
    "\n",
    "<img src=\"https://kingsgeocomputation.files.wordpress.com/2016/09/rainfallscript_spyder.jpg\", width = 500>\n",
    "<center>This figure will be referred to as the 'rainfall script figure' below.</center>"
   ]
  },
  {
   "cell_type": "markdown",
   "metadata": {
    "geopyter": {
     "Contributors": "James Millington (james.millington@kcl.ac.uk)",
     "git": {
      "active_branch": "master",
      "author.name": "Jon Reades",
      "authored_date": "2017-08-17 19:06:58",
      "committed_date": "2017-08-17 19:06:58",
      "committer.name": "Jon Reades",
      "sha": "5e3b396ae18a982d693c4bfd86c721c7e1e21051"
     }
    }
   },
   "source": [
    "If you have completed the Task correctly you should see in the Interpreter pane that the text that was passed as an argument to the `raw_input` function on line 1 has appeared. The cursor should be flashing at the end of this text, indicating that the computer is waiting for an input from the user. This is what the `raw_input` function does – writes the text string passed to it and then waits for an input. "
   ]
  },
  {
   "cell_type": "markdown",
   "metadata": {
    "geopyter": {
     "Contributors": "James Millington (james.millington@kcl.ac.uk)",
     "git": {
      "active_branch": "master",
      "author.name": "Jon Reades",
      "authored_date": "2017-08-17 19:06:58",
      "committed_date": "2017-08-17 19:06:58",
      "committer.name": "Jon Reades",
      "sha": "5e3b396ae18a982d693c4bfd86c721c7e1e21051"
     }
    }
   },
   "source": [
    "#### TASK\n",
    "\n",
    "Ensuring the Interpreter pane is selected, type a value (number) on the keyboard for total rainfall and hit enter\n"
   ]
  },
  {
   "cell_type": "markdown",
   "metadata": {
    "geopyter": {
     "Contributors": "James Millington (james.millington@kcl.ac.uk)",
     "git": {
      "active_branch": "master",
      "author.name": "Jon Reades",
      "authored_date": "2017-08-17 19:06:58",
      "committed_date": "2017-08-17 19:06:58",
      "committer.name": "Jon Reades",
      "sha": "5e3b396ae18a982d693c4bfd86c721c7e1e21051"
     }
    }
   },
   "source": [
    "You should see that the value you entered appears below the input text and then the Interpreter moves on to the next prompt. This has happened because of the `print` statement on line 2. Think about this; the number you entered was passed to the `raw_input` function and assigned to the `total_rainfall` variable (on line 1) which was then printed out (line 2). But what if you had entered text instead of a number when prompted by the program? Let's have a look..."
   ]
  },
  {
   "cell_type": "markdown",
   "metadata": {
    "geopyter": {
     "Contributors": "James Millington (james.millington@kcl.ac.uk)",
     "git": {
      "active_branch": "master",
      "author.name": "Jon Reades",
      "authored_date": "2017-08-17 19:06:58",
      "committed_date": "2017-08-17 19:06:58",
      "committer.name": "Jon Reades",
      "sha": "5e3b396ae18a982d693c4bfd86c721c7e1e21051"
     }
    }
   },
   "source": [
    "#### TASK\n",
    "\n",
    "1.\tRun the current version Rainfall script file (i.e. two lines) again  \n",
    "2.\tWhen prompted, in the Interpreter pane type a word (letters) on the keyboard for total rainfall and hit enter\n"
   ]
  },
  {
   "cell_type": "markdown",
   "metadata": {
    "geopyter": {
     "Contributors": "James Millington (james.millington@kcl.ac.uk)",
     "git": {
      "active_branch": "master",
      "author.name": "Jon Reades",
      "authored_date": "2017-08-17 19:06:58",
      "committed_date": "2017-08-17 19:06:58",
      "committer.name": "Jon Reades",
      "sha": "5e3b396ae18a982d693c4bfd86c721c7e1e21051"
     }
    }
   },
   "source": [
    "You should see that the program has printed out the word you entered with no error. It seems like the `raw_input` function can receive different data types. Let’s check that."
   ]
  },
  {
   "cell_type": "markdown",
   "metadata": {
    "geopyter": {
     "Contributors": "James Millington (james.millington@kcl.ac.uk)",
     "git": {
      "active_branch": "master",
      "author.name": "Jon Reades",
      "authored_date": "2017-08-17 19:06:58",
      "committed_date": "2017-08-17 19:06:58",
      "committer.name": "Jon Reades",
      "sha": "5e3b396ae18a982d693c4bfd86c721c7e1e21051"
     }
    }
   },
   "source": [
    "#### TASK\n",
    "\n",
    "1.\tIn the current version of your Rainfall script file (two lines), add the code on line 3 (ONLY) from the rainfall script figure\n",
    "2.\tSave the script (using the same filename as before)\n",
    "3.\tRun the script\n",
    "4.\tWhen prompted, enter a value of 50 for the total rainfall (in mm) in the Interpreter pane. \n"
   ]
  },
  {
   "cell_type": "markdown",
   "metadata": {
    "geopyter": {
     "Contributors": "James Millington (james.millington@kcl.ac.uk)",
     "git": {
      "active_branch": "master",
      "author.name": "Jon Reades",
      "authored_date": "2017-08-17 19:06:58",
      "committed_date": "2017-08-17 19:06:58",
      "committer.name": "Jon Reades",
      "sha": "5e3b396ae18a982d693c4bfd86c721c7e1e21051"
     }
    }
   },
   "source": [
    "Take a look at the output from your script. Does it make sense? It should look something like the following:\n",
    "<p>`50`</p>\n",
    "<p>`<type 'str'>`</p>"
   ]
  },
  {
   "cell_type": "markdown",
   "metadata": {
    "geopyter": {
     "Contributors": "James Millington (james.millington@kcl.ac.uk)",
     "git": {
      "active_branch": "master",
      "author.name": "Jon Reades",
      "authored_date": "2017-08-17 19:06:58",
      "committed_date": "2017-08-17 19:06:58",
      "committer.name": "Jon Reades",
      "sha": "5e3b396ae18a982d693c4bfd86c721c7e1e21051"
     }
    }
   },
   "source": [
    "The output is telling us that the value `50` is actually of type `‘str’` for `string`! So even though it looks like an `integer`, Python is actually storing it as a `string`. [A quick search of the Internet confirms this](https://docs.python.org/2/library/functions.html#raw_input): _“The function then reads a line from input, converts it to a string (stripping a trailing newline), and returns that.”_ \n",
    "\n",
    "This would be fine if we wanted to use the input as a string, but what if we wanted to use it as some other type. For example, what if we wanted to use the input to calculate the rate of rainfall for this total amount that fell over some specified duration?\n",
    "\n",
    "To convert a text string input to an integer we can use the built-in function `int`. "
   ]
  },
  {
   "cell_type": "markdown",
   "metadata": {
    "geopyter": {
     "Contributors": "James Millington (james.millington@kcl.ac.uk)",
     "git": {
      "active_branch": "master",
      "author.name": "Jon Reades",
      "authored_date": "2017-08-17 19:06:58",
      "committed_date": "2017-08-17 19:06:58",
      "committer.name": "Jon Reades",
      "sha": "5e3b396ae18a982d693c4bfd86c721c7e1e21051"
     }
    }
   },
   "source": [
    "#### TASK\n",
    "\n",
    "1.\tIn the current version of your Rainfall script file (three lines), add the code on lines 5, 6 and 7 (ONLY) from the rainfall script figure\n",
    "2.\tSave the script (using the same filename as before)\n",
    "3.\tRun the script\n",
    "4.\tWhen prompted, enter a value of 50 for the total rainfall (in mm)  in the Interpreter pane. "
   ]
  },
  {
   "cell_type": "markdown",
   "metadata": {
    "geopyter": {
     "Contributors": "James Millington (james.millington@kcl.ac.uk)",
     "git": {
      "active_branch": "master",
      "author.name": "Jon Reades",
      "authored_date": "2017-08-17 19:06:58",
      "committed_date": "2017-08-17 19:06:58",
      "committer.name": "Jon Reades",
      "sha": "5e3b396ae18a982d693c4bfd86c721c7e1e21051"
     }
    }
   },
   "source": [
    "Now you should be able to see that the `int` function converts the value passed to it to an `integer` type; the value of `50` looks the same but Python is telling us it has changed from type `str` to type `int`. This change happened on line 5 of the script; we assigned the rainfall variable a new value equal to the output of the `int` function that took the original rainfall value as an input. Think about this and make sure you understand what’s is happening on line 5."
   ]
  },
  {
   "cell_type": "markdown",
   "metadata": {
    "geopyter": {
     "Contributors": "James Millington (james.millington@kcl.ac.uk)",
     "git": {
      "active_branch": "master",
      "author.name": "Jon Reades",
      "authored_date": "2017-08-17 19:06:58",
      "committed_date": "2017-08-17 19:06:58",
      "committer.name": "Jon Reades",
      "sha": "5e3b396ae18a982d693c4bfd86c721c7e1e21051"
     }
    }
   },
   "source": [
    "#### TASK\n",
    "\n",
    "1.\tIn the current version of your Rainfall script file (i.e. seven lines), add the code on lines 9, 10, 11, 12, 13 and 14 (ONLY) from the rainfall script figure\n",
    "2.\tSave the script (using the same filename as before)\n",
    "3.\tRun the script\n",
    "4.\tWhen prompted, in the Interpreter prompt enter a value of `50` for the total rainfall and a value of `3` for duration (in hours)\n"
   ]
  },
  {
   "cell_type": "markdown",
   "metadata": {
    "geopyter": {
     "Contributors": "James Millington (james.millington@kcl.ac.uk)",
     "git": {
      "active_branch": "master",
      "author.name": "Jon Reades",
      "authored_date": "2017-08-17 19:06:58",
      "committed_date": "2017-08-17 19:06:58",
      "committer.name": "Jon Reades",
      "sha": "5e3b396ae18a982d693c4bfd86c721c7e1e21051"
     }
    }
   },
   "source": [
    "In this last task you added similar code to that which was already existing, but the new lines prompt the user to input a duration of rainfall (line 9) and converted it to an integer (line 11). We then used an expression to calculate the rainfall rate (in mm per hour; line 13). Finally, we printed out the result of the calculation for the user to read. "
   ]
  },
  {
   "cell_type": "markdown",
   "metadata": {
    "geopyter": {
     "Contributors": "James Millington (james.millington@kcl.ac.uk)",
     "git": {
      "active_branch": "master",
      "author.name": "Jon Reades",
      "authored_date": "2017-08-17 19:06:58",
      "committed_date": "2017-08-17 19:06:58",
      "committer.name": "Jon Reades",
      "sha": "5e3b396ae18a982d693c4bfd86c721c7e1e21051"
     }
    }
   },
   "source": [
    "If you used the suggested input values the output should be 16 (mm per hour). Pretty good! To make it a little clearer to the user what the output is, we might provide some text and use our knowledge of string concatenation (from Code Camp Notebook 2). To concatenate our output value to some helpful text we will need to convert the `rainfall_rate` variable to a text string."
   ]
  },
  {
   "cell_type": "markdown",
   "metadata": {
    "geopyter": {
     "Contributors": "James Millington (james.millington@kcl.ac.uk)",
     "git": {
      "active_branch": "master",
      "author.name": "Jon Reades",
      "authored_date": "2017-08-17 19:06:58",
      "committed_date": "2017-08-17 19:06:58",
      "committer.name": "Jon Reades",
      "sha": "5e3b396ae18a982d693c4bfd86c721c7e1e21051"
     }
    }
   },
   "source": [
    "#### TASK\n",
    "\n",
    "1.\tIn the current version of your Rainfall script file (i.e. 14 lines), add the code on lines 16 and 17 (ONLY) from the rainfall script figure\n",
    "2.\tSave the script (using the same filename as before)\n",
    "3.\tRun the script\n",
    "4.\tWhen prompted, in the Interpreter pane enter a value of 50 for the total rainfall and a value of 3 for duration (in hours)\n"
   ]
  },
  {
   "cell_type": "markdown",
   "metadata": {
    "geopyter": {
     "Contributors": "James Millington (james.millington@kcl.ac.uk)",
     "git": {
      "active_branch": "master",
      "author.name": "Jon Reades",
      "authored_date": "2017-08-17 19:06:58",
      "committed_date": "2017-08-17 19:06:58",
      "committer.name": "Jon Reades",
      "sha": "5e3b396ae18a982d693c4bfd86c721c7e1e21051"
     }
    }
   },
   "source": [
    "Your output should now look something like this: `Rainfall rate (mm per hr): 16`. This is good, but is it as accurate as we could be? Wouldn’t 50 divided by 3 be more like 16.66667? \n",
    "\n",
    "The reason we get a result of only 16 is because we are using integer division; that is, we are dividing one `integer` by another which produces and `integer` result. In Python integer division is handled by truncating the result (i.e. removing everything after any decimal place) not by rounding. Hence, 16.66667 in integer division in Python becomes 16. "
   ]
  },
  {
   "cell_type": "markdown",
   "metadata": {
    "geopyter": {
     "Contributors": "James Millington (james.millington@kcl.ac.uk)",
     "git": {
      "active_branch": "master",
      "author.name": "Jon Reades",
      "authored_date": "2017-08-17 19:06:58",
      "committed_date": "2017-08-17 19:06:58",
      "committer.name": "Jon Reades",
      "sha": "5e3b396ae18a982d693c4bfd86c721c7e1e21051"
     }
    }
   },
   "source": [
    "#### TASK\n",
    "\n",
    "1.\tIn the current version of your Rainfall script file, modify the code on lines 5 and 11 from the rainfall script fle to convert values to `float` type rather than `int` type\n",
    "2.\tRemove any lines that have print statements that the user does not need to see.\n",
    "3.\tSave the script with a new file name (e.g. `RainfallScript_Tidy.py`)\n",
    "4.\tRun the script\n",
    "5.\tWhen prompted, in the Interpreter enter a value of 50 for the total rainfall and a value of 3 for duration (in hours)\n"
   ]
  },
  {
   "cell_type": "markdown",
   "metadata": {
    "geopyter": {
     "Contributors": "James Millington (james.millington@kcl.ac.uk)",
     "git": {
      "active_branch": "master",
      "author.name": "Jon Reades",
      "authored_date": "2017-08-17 19:06:58",
      "committed_date": "2017-08-17 19:06:58",
      "committer.name": "Jon Reades",
      "sha": "5e3b396ae18a982d693c4bfd86c721c7e1e21051"
     }
    }
   },
   "source": [
    "The result of your script should now looks something like this: `Rainfall rate (mm per hr): 16.66667` "
   ]
  },
  {
   "cell_type": "markdown",
   "metadata": {
    "geopyter": {
     "Contributors": "James Millington (james.millington@kcl.ac.uk)",
     "git": {
      "active_branch": "master",
      "author.name": "Jon Reades",
      "authored_date": "2017-08-17 19:06:58",
      "committed_date": "2017-08-17 19:06:58",
      "committer.name": "Jon Reades",
      "sha": "5e3b396ae18a982d693c4bfd86c721c7e1e21051"
     }
    }
   },
   "source": [
    "## Good work!\n",
    "\n",
    "You've now learned how to put the pieces of basic Python together with an understanding of variables and data types into a script that a user can interact with dynamically! \n",
    "\n",
    "Before you finish remember to **SAVE YOUR SCRIPT!** One of the main reasons to use a script is so that you can save your code for later use. So it's important to save your scripts regularly. Also, as this is the end of this session (other than the Exercises below), it's a good time to move your scripts from your Working Directory to a location on your hard drive for longer-term storage and backup (e.g. Dropbox). "
   ]
  },
  {
   "cell_type": "markdown",
   "metadata": {
    "geopyter": {
     "Contributors": "James Millington (james.millington@kcl.ac.uk)",
     "git": {
      "active_branch": "master",
      "author.name": "Jon Reades",
      "authored_date": "2017-08-17 19:06:58",
      "committed_date": "2017-08-17 19:06:58",
      "committer.name": "Jon Reades",
      "sha": "5e3b396ae18a982d693c4bfd86c721c7e1e21051"
     }
    }
   },
   "source": [
    "It probably seems like a lot of information (and it is). But hopefully you’ll look back to these instructions and see how important they are as fundamentals for everything you do with code subsequently. Revisit these instructions and the Code Camp Notebooks frequently and make sure you understand them. \n",
    "\n",
    "Also seek out other resources to help you understand these basics. For example:\n",
    "- The Python Learn book and website: http://pythonlearn.com/ \n",
    "- The Think Python book and website: http://www.greenteapress.com/thinkpython/\n",
    "- The Enthought Training videos: https://training.enthought.com/ \n",
    "- Your fellow students on the Slack channel\n",
    "- And lots of other places online…\n",
    "\n",
    "To finish this practical run through the following exercises (in this Notebook)."
   ]
  },
  {
   "cell_type": "markdown",
   "metadata": {
    "geopyter": {
     "Contributors": "James Millington (james.millington@kcl.ac.uk)",
     "git": {
      "active_branch": "master",
      "author.name": "Jon Reades",
      "authored_date": "2017-08-17 19:06:58",
      "committed_date": "2017-08-17 19:06:58",
      "committer.name": "Jon Reades",
      "sha": "5e3b396ae18a982d693c4bfd86c721c7e1e21051"
     }
    }
   },
   "source": [
    "## Exercises"
   ]
  },
  {
   "cell_type": "markdown",
   "metadata": {
    "geopyter": {
     "Contributors": "James Millington (james.millington@kcl.ac.uk)",
     "git": {
      "active_branch": "master",
      "author.name": "Jon Reades",
      "authored_date": "2017-08-17 19:06:58",
      "committed_date": "2017-08-17 19:06:58",
      "committer.name": "Jon Reades",
      "sha": "5e3b396ae18a982d693c4bfd86c721c7e1e21051"
     }
    }
   },
   "source": [
    "### Variables and Assignment\n",
    "\n",
    "Without running the code below, calculate what the values of `x`, `y` and `z` would be after all lines of code in the code block have been executed."
   ]
  },
  {
   "cell_type": "code",
   "execution_count": null,
   "metadata": {
    "collapsed": true,
    "geopyter": {
     "Contributors": "James Millington (james.millington@kcl.ac.uk)",
     "git": {
      "active_branch": "master",
      "author.name": "Jon Reades",
      "authored_date": "2017-08-17 19:06:58",
      "committed_date": "2017-08-17 19:06:58",
      "committer.name": "Jon Reades",
      "sha": "5e3b396ae18a982d693c4bfd86c721c7e1e21051"
     }
    }
   },
   "outputs": [],
   "source": [
    "x = 12\n",
    "y = 10\n",
    "\n",
    "z = x + y\n",
    "x = x + y\n",
    "y = z + y"
   ]
  },
  {
   "cell_type": "markdown",
   "metadata": {
    "geopyter": {
     "Contributors": "James Millington (james.millington@kcl.ac.uk)",
     "git": {
      "active_branch": "master",
      "author.name": "Jon Reades",
      "authored_date": "2017-08-17 19:06:58",
      "committed_date": "2017-08-17 19:06:58",
      "committer.name": "Jon Reades",
      "sha": "5e3b396ae18a982d693c4bfd86c721c7e1e21051"
     }
    }
   },
   "source": [
    "Once you have calculated what you think `x`, `y` and `z` are, add print statements to the code above and run it to check."
   ]
  },
  {
   "cell_type": "markdown",
   "metadata": {
    "geopyter": {
     "Contributors": "James Millington (james.millington@kcl.ac.uk)",
     "git": {
      "active_branch": "master",
      "author.name": "Jon Reades",
      "authored_date": "2017-08-17 19:06:58",
      "committed_date": "2017-08-17 19:06:58",
      "committer.name": "Jon Reades",
      "sha": "5e3b396ae18a982d693c4bfd86c721c7e1e21051"
     }
    }
   },
   "source": [
    "### Operator Precedence\n",
    "\n",
    "Without running the script, calculate what the values of `x`, `y` and `z` would be after all lines of code in the code block have been executed."
   ]
  },
  {
   "cell_type": "code",
   "execution_count": null,
   "metadata": {
    "collapsed": true,
    "geopyter": {
     "Contributors": "James Millington (james.millington@kcl.ac.uk)",
     "git": {
      "active_branch": "master",
      "author.name": "Jon Reades",
      "authored_date": "2017-08-17 19:06:58",
      "committed_date": "2017-08-17 19:06:58",
      "committer.name": "Jon Reades",
      "sha": "5e3b396ae18a982d693c4bfd86c721c7e1e21051"
     }
    }
   },
   "outputs": [],
   "source": [
    "x = 1 + 2 * 3 / 4\n",
    "y = (1 + 2) * (3 / 4)\n",
    "z = 1 + 2 * (3 / 4)"
   ]
  },
  {
   "cell_type": "markdown",
   "metadata": {
    "geopyter": {
     "Contributors": "James Millington (james.millington@kcl.ac.uk)",
     "git": {
      "active_branch": "master",
      "author.name": "Jon Reades",
      "authored_date": "2017-08-17 19:06:58",
      "committed_date": "2017-08-17 19:06:58",
      "committer.name": "Jon Reades",
      "sha": "5e3b396ae18a982d693c4bfd86c721c7e1e21051"
     }
    }
   },
   "source": [
    "Once you have calculated what you think `x`, `y` and `z` are, add print statements to the code above and run it to check."
   ]
  },
  {
   "cell_type": "markdown",
   "metadata": {
    "geopyter": {
     "Contributors": "James Millington (james.millington@kcl.ac.uk)",
     "git": {
      "active_branch": "master",
      "author.name": "Jon Reades",
      "authored_date": "2017-08-17 19:06:58",
      "committed_date": "2017-08-17 19:06:58",
      "committer.name": "Jon Reades",
      "sha": "5e3b396ae18a982d693c4bfd86c721c7e1e21051"
     }
    }
   },
   "source": [
    "### Integer Division\n",
    "\n",
    "Without running the script, calculate what the values of `x`, `y` and `z` would be after all lines of code in the code block have been executed."
   ]
  },
  {
   "cell_type": "code",
   "execution_count": null,
   "metadata": {
    "collapsed": true,
    "geopyter": {
     "Contributors": "James Millington (james.millington@kcl.ac.uk)",
     "git": {
      "active_branch": "master",
      "author.name": "Jon Reades",
      "authored_date": "2017-08-17 19:06:58",
      "committed_date": "2017-08-17 19:06:58",
      "committer.name": "Jon Reades",
      "sha": "5e3b396ae18a982d693c4bfd86c721c7e1e21051"
     }
    }
   },
   "outputs": [],
   "source": [
    "width = 17\n",
    "height = 12.0\n",
    "\n",
    "x = width / 2\n",
    "y = width / 2.0\n",
    "z = height / 3"
   ]
  },
  {
   "cell_type": "markdown",
   "metadata": {
    "geopyter": {
     "Contributors": "James Millington (james.millington@kcl.ac.uk)",
     "git": {
      "active_branch": "master",
      "author.name": "Jon Reades",
      "authored_date": "2017-08-17 19:06:58",
      "committed_date": "2017-08-17 19:06:58",
      "committer.name": "Jon Reades",
      "sha": "5e3b396ae18a982d693c4bfd86c721c7e1e21051"
     }
    }
   },
   "source": [
    "Once you have calculated what you think `x`, `y` and `z` are, add print statements to the code above and run it to check."
   ]
  },
  {
   "cell_type": "markdown",
   "metadata": {
    "geopyter": {
     "Contributors": "James Millington (james.millington@kcl.ac.uk)",
     "git": {
      "active_branch": "master",
      "author.name": "Jon Reades",
      "authored_date": "2017-08-17 19:06:58",
      "committed_date": "2017-08-17 19:06:58",
      "committer.name": "Jon Reades",
      "sha": "5e3b396ae18a982d693c4bfd86c721c7e1e21051"
     }
    }
   },
   "source": [
    "### Bringing it Together\n",
    "\n",
    "Write a script in Spyder to prompt the user for the number of hours worked and the pay rate per hour to compute and print total pay. Save the script as `PayRate.py` When it has run, `PayRate.py` should look like the following (when the appropriate values are entered):\n",
    "\n",
    "<p>`Enter hours worked: 15`</p>\n",
    "<p>`Enter pay rate per hour: 12.50`</p>\n",
    "<p>`Total pay: 187.5`</p>\n"
   ]
  },
  {
   "cell_type": "markdown",
   "metadata": {
    "geopyter": {
     "Contributors": "James Millington (james.millington@kcl.ac.uk)",
     "git": {
      "active_branch": "master",
      "author.name": "Jon Reades",
      "authored_date": "2017-08-17 19:06:58",
      "committed_date": "2017-08-17 19:06:58",
      "committer.name": "Jon Reades",
      "sha": "5e3b396ae18a982d693c4bfd86c721c7e1e21051"
     }
    }
   },
   "source": [
    "## Save your work!\n",
    "\n",
    "As this is the end of your session, you should save any scripts you have made and this notebook (if you have made edits in it) and move it to a location on your hard drive for longer term storage and backup (e.g. Dropbox)."
   ]
  },
  {
   "cell_type": "markdown",
   "metadata": {
    "geopyter": {
     "Contributors": "James Millington (james.millington@kcl.ac.uk)",
     "git": {
      "active_branch": "master",
      "author.name": "Jon Reades",
      "authored_date": "2017-08-17 19:06:58",
      "committed_date": "2017-08-17 19:06:58",
      "committer.name": "Jon Reades",
      "sha": "5e3b396ae18a982d693c4bfd86c721c7e1e21051"
     }
    }
   },
   "source": [
    "## References\n",
    "Severance, C. (2014) _Python for Informatics: Exploring Information Version_ 2.7.0 [Online] Available at: http://pythonlearn.com/. [Accessed 20 September 2016]"
   ]
  },
  {
   "cell_type": "code",
   "execution_count": null,
   "metadata": {
    "collapsed": true,
    "geopyter": {
     "Contributors": "James Millington (james.millington@kcl.ac.uk)",
     "git": {
      "active_branch": "master",
      "author.name": "Jon Reades",
      "authored_date": "2017-08-17 19:06:58",
      "committed_date": "2017-08-17 19:06:58",
      "committer.name": "Jon Reades",
      "sha": "5e3b396ae18a982d693c4bfd86c721c7e1e21051"
     }
    }
   },
   "outputs": [],
   "source": []
  },
  {
   "cell_type": "markdown",
   "metadata": {
    "geopyter": {
     "Contributors": "James Millington (james.millington@kcl.ac.uk)",
     "git": {
      "active_branch": "master",
      "author.name": "Jon Reades",
      "authored_date": "2017-08-17 19:06:58",
      "committed_date": "2017-08-17 19:06:58",
      "committer.name": "Jon Reades",
      "sha": "5e3b396ae18a982d693c4bfd86c721c7e1e21051"
     }
    },
    "nbpresent": {
     "id": "f730ab33-247e-4792-9e02-ab29c9f00c14"
    }
   },
   "source": [
    "# Practical 2: Comments, Conditionals, Lists\n",
    "\n"
   ]
  },
  {
   "cell_type": "markdown",
   "metadata": {
    "geopyter": {
     "Contributors": "James Millington (james.millington@kcl.ac.uk)",
     "git": {
      "active_branch": "master",
      "author.name": "Jon Reades",
      "authored_date": "2017-08-17 19:06:58",
      "committed_date": "2017-08-17 19:06:58",
      "committer.name": "Jon Reades",
      "sha": "5e3b396ae18a982d693c4bfd86c721c7e1e21051"
     }
    },
    "nbpresent": {
     "id": "cada64b6-f8c9-4dbb-9ab1-b5617d0cc16a"
    }
   },
   "source": [
    "## Learning Outcomes\n",
    "\n",
    "By the end of this practical you should:\n",
    "-\tHave thought about the value of commenting your code and what is good practice\n",
    "-\tUnderstand different types of conditional execution and how to use it to control program flow\n",
    "-\tUnderstand how Python lists are structured and be able to access and manipulate their contents\n"
   ]
  },
  {
   "cell_type": "markdown",
   "metadata": {
    "geopyter": {
     "Contributors": "James Millington (james.millington@kcl.ac.uk)",
     "git": {
      "active_branch": "master",
      "author.name": "Jon Reades",
      "authored_date": "2017-08-17 19:06:58",
      "committed_date": "2017-08-17 19:06:58",
      "committer.name": "Jon Reades",
      "sha": "5e3b396ae18a982d693c4bfd86c721c7e1e21051"
     }
    }
   },
   "source": [
    "This document assumes you have created a working directory as described here: http://bit.ly/WorkingDirectory"
   ]
  },
  {
   "cell_type": "markdown",
   "metadata": {
    "geopyter": {
     "Contributors": "James Millington (james.millington@kcl.ac.uk)",
     "git": {
      "active_branch": "master",
      "author.name": "Jon Reades",
      "authored_date": "2017-08-17 19:06:58",
      "committed_date": "2017-08-17 19:06:58",
      "committer.name": "Jon Reades",
      "sha": "5e3b396ae18a982d693c4bfd86c721c7e1e21051"
     }
    }
   },
   "source": [
    "## Commenting on Code"
   ]
  },
  {
   "cell_type": "markdown",
   "metadata": {
    "geopyter": {
     "Contributors": "James Millington (james.millington@kcl.ac.uk)",
     "git": {
      "active_branch": "master",
      "author.name": "Jon Reades",
      "authored_date": "2017-08-17 19:06:58",
      "committed_date": "2017-08-17 19:06:58",
      "committer.name": "Jon Reades",
      "sha": "5e3b396ae18a982d693c4bfd86c721c7e1e21051"
     }
    }
   },
   "source": [
    "When writing code in the Python language (or any coding language for that matter), it can be easy to lose track of what you are trying to do with your code. This is particularly a problem for pieces of code that you return to use having written them a long time ago – what might seem obvious at the time of writing the code can be completely opaque when you come back to it. "
   ]
  },
  {
   "cell_type": "markdown",
   "metadata": {
    "geopyter": {
     "Contributors": "James Millington (james.millington@kcl.ac.uk)",
     "git": {
      "active_branch": "master",
      "author.name": "Jon Reades",
      "authored_date": "2017-08-17 19:06:58",
      "committed_date": "2017-08-17 19:06:58",
      "committer.name": "Jon Reades",
      "sha": "5e3b396ae18a982d693c4bfd86c721c7e1e21051"
     }
    }
   },
   "source": [
    "Computer coding languages therefore usually have a means for coders to write notes in the code in plain language. These notes are more usually known as comments and can be useful for multiple reasons:\n",
    "\n",
    "1.\tTo remind yourself in the future what the code was for\n",
    "2.\tTo communicate to others reading your code what the code intends to do and how to use it\n",
    "3.\tTo help you decipher what others’ code is doing (if it is not clear and/or if they have not provided comments)\n",
    "4.\tTo help you plan out a piece of code (in comments first, then supplement with actual code)\n"
   ]
  },
  {
   "cell_type": "markdown",
   "metadata": {
    "geopyter": {
     "Contributors": "James Millington (james.millington@kcl.ac.uk)",
     "git": {
      "active_branch": "master",
      "author.name": "Jon Reades",
      "authored_date": "2017-08-17 19:06:58",
      "committed_date": "2017-08-17 19:06:58",
      "committer.name": "Jon Reades",
      "sha": "5e3b396ae18a982d693c4bfd86c721c7e1e21051"
     }
    }
   },
   "source": [
    "In Python, comments can be single-line or multiple line. Single-line comments are indicated by the `#` character; anything appearing after this character on the same line will be ignored by Python. Multi-line comments are indicated by three single quotes `’’’` before and after the lines of code you wish to be ignored by Python."
   ]
  },
  {
   "cell_type": "markdown",
   "metadata": {
    "geopyter": {
     "Contributors": "James Millington (james.millington@kcl.ac.uk)",
     "git": {
      "active_branch": "master",
      "author.name": "Jon Reades",
      "authored_date": "2017-08-17 19:06:58",
      "committed_date": "2017-08-17 19:06:58",
      "committer.name": "Jon Reades",
      "sha": "5e3b396ae18a982d693c4bfd86c721c7e1e21051"
     }
    }
   },
   "source": [
    "When using Integrated Development Environments (IDEs; like Spyder) commented code will usually be shown in a different colour or font from other aspects of the code. For example, comments in Spyder look something like that in the figure  below.\n",
    "\n",
    "<img src=\"https://kingsgeocomputation.files.wordpress.com/2016/09/spyder_comments.jpg\" alt=\"Comments in Spyder\" width=\"300\">\n"
   ]
  },
  {
   "cell_type": "markdown",
   "metadata": {
    "geopyter": {
     "Contributors": "James Millington (james.millington@kcl.ac.uk)",
     "git": {
      "active_branch": "master",
      "author.name": "Jon Reades",
      "authored_date": "2017-08-17 19:06:58",
      "committed_date": "2017-08-17 19:06:58",
      "committer.name": "Jon Reades",
      "sha": "5e3b396ae18a982d693c4bfd86c721c7e1e21051"
     }
    }
   },
   "source": [
    "#### TASK\n",
    "\n",
    "Confirm you understand how comment characters `#` and `’’’` work in Python by copying the script from the figure above to your own script in and IDE (e.g. Spyder), saving it, running it and thinking about the output.  "
   ]
  },
  {
   "cell_type": "markdown",
   "metadata": {
    "geopyter": {
     "Contributors": "James Millington (james.millington@kcl.ac.uk)",
     "git": {
      "active_branch": "master",
      "author.name": "Jon Reades",
      "authored_date": "2017-08-17 19:06:58",
      "committed_date": "2017-08-17 19:06:58",
      "committer.name": "Jon Reades",
      "sha": "5e3b396ae18a982d693c4bfd86c721c7e1e21051"
     }
    }
   },
   "source": [
    "There is no single accepted way to comment code appropriately and every coder has their own style. However, there are some general points of good practice which we expect you to follow and which will contribute to evaluation of your code assignments. The points are:\n",
    "\n",
    "1. Include some header information at the top of your program. In the real world this information would likely include your name and contact information but for assignments it should include **only your student id**. The header may also include the date the code was last modified, its purpose and a brief explanation of what the code does.\n",
    "\n",
    "2. Assume the person reading the code is a coder themselves. This means you do not need to comment everything. For example simple assignments such as `my_variable = 1` or expressions such as `mean = total / count` are obvious enough without needing comments. But if you are creating a temporary variable that will be used later in the code for some purpose, this might be useful to indicate. However, that the use of clear variable (but short) names can mitigate against the need for some comments.\n",
    "\n",
    "3. Good commenting is sparse in the sense that it is precise and concise without being overly verbose. You are not aiming to repeat what the code does, rather you are clarifying what may not be immediately apparent and making it easier to understand For example, `#estimate gap compositions` is preferred over `#here the species composition of all gaps in the forest stand is estimated using a logistic regression model` as the latter contains information that will likely be apparent from other comments and/or the structure of the code itself.  \n",
    "\n",
    "4. Generally we suggest you use only `#` to comment code as although quoted comments might be clear in scripts, they sometimes do not work well at command-line or interpreter. \n",
    "\n",
    "5. Feel free to make comments in your code when working that are informal and useful for yourself when writing the code, but when sharing the code (e.g. for an assignment) think about removing these or making them more formal.\n",
    "\n",
    "6. It can be particularly useful to comment blocks of code that conditionally or alternatively execute to keep track of the ‘branch’ of the (imaginary) flow chart the algorithm is on  \n",
    "\n",
    "7. Comment your loop structures (you will get to these next week) – the logic underlying these can be difficult to understand later\n"
   ]
  },
  {
   "cell_type": "markdown",
   "metadata": {
    "geopyter": {
     "Contributors": "James Millington (james.millington@kcl.ac.uk)",
     "git": {
      "active_branch": "master",
      "author.name": "Jon Reades",
      "authored_date": "2017-08-17 19:06:58",
      "committed_date": "2017-08-17 19:06:58",
      "committer.name": "Jon Reades",
      "sha": "5e3b396ae18a982d693c4bfd86c721c7e1e21051"
     }
    }
   },
   "source": [
    "#### TASK\n",
    "\n",
    "Copy the *variables.py* and *rainfall.py* scripts from last week to this week’s working directory and edit them to add comments:\n",
    "\n",
    "1. For the variables script comment in a very verbose style with notes at the end of every line of code intended for yourself to explain exactly what is happening (do not include a header comment) – note this is not the sort of commenting to include in your assignments\n",
    "\n",
    "2. For the rainfall script comment in a concise style for someone else to read and quickly clarify what the code is doing (include a header comment) – this is a better style to include in your assignments\n",
    "\n",
    "Feel free to discuss (your) commenting style with James or Jon during practicals. \n"
   ]
  },
  {
   "cell_type": "markdown",
   "metadata": {
    "geopyter": {
     "Contributors": "James Millington (james.millington@kcl.ac.uk)",
     "git": {
      "active_branch": "master",
      "author.name": "Jon Reades",
      "authored_date": "2017-08-17 19:06:58",
      "committed_date": "2017-08-17 19:06:58",
      "committer.name": "Jon Reades",
      "sha": "5e3b396ae18a982d693c4bfd86c721c7e1e21051"
     }
    }
   },
   "source": [
    "## Conditional Execution"
   ]
  },
  {
   "cell_type": "markdown",
   "metadata": {
    "geopyter": {
     "Contributors": "James Millington (james.millington@kcl.ac.uk)",
     "git": {
      "active_branch": "master",
      "author.name": "Jon Reades",
      "authored_date": "2017-08-17 19:06:58",
      "committed_date": "2017-08-17 19:06:58",
      "committer.name": "Jon Reades",
      "sha": "5e3b396ae18a982d693c4bfd86c721c7e1e21051"
     }
    }
   },
   "source": [
    "### Comparison Operators"
   ]
  },
  {
   "cell_type": "markdown",
   "metadata": {
    "geopyter": {
     "Contributors": "James Millington (james.millington@kcl.ac.uk)",
     "git": {
      "active_branch": "master",
      "author.name": "Jon Reades",
      "authored_date": "2017-08-17 19:06:58",
      "committed_date": "2017-08-17 19:06:58",
      "committer.name": "Jon Reades",
      "sha": "5e3b396ae18a982d693c4bfd86c721c7e1e21051"
     }
    }
   },
   "source": [
    "This section of the practical (re)covers the concepts examined in Notebook 4 of [Python Code Camp](https://kingsgeocomputation.org/teaching/code-camp/code-camp-python/lessons/) but also add new questions and Tasks for you to tackle.  \n",
    "\n",
    "In particular, this section looks at how to compare sutff (like numerical quantities but also words and strings) via *Comparison Operators* and how logical concepts like: \" `if` this condition is `True`, then do something...\" can be expressed in Python. "
   ]
  },
  {
   "cell_type": "markdown",
   "metadata": {
    "geopyter": {
     "Contributors": "James Millington (james.millington@kcl.ac.uk)",
     "git": {
      "active_branch": "master",
      "author.name": "Jon Reades",
      "authored_date": "2017-08-17 19:06:58",
      "committed_date": "2017-08-17 19:06:58",
      "committer.name": "Jon Reades",
      "sha": "5e3b396ae18a982d693c4bfd86c721c7e1e21051"
     }
    }
   },
   "source": [
    "#### TASK\n",
    "\n",
    "Run through the information and activites in the **Comparisons** section of Notebook 4 in the [Python Code Camp](https://kingsgeocomputation.org/teaching/code-camp/code-camp-python/lessons/). Stop when you reach the **Conditions** section and return here (i.e. the last item to look at is _Testing for Inequality_.\n",
    "\n",
    "***"
   ]
  },
  {
   "cell_type": "markdown",
   "metadata": {
    "geopyter": {
     "Contributors": "James Millington (james.millington@kcl.ac.uk)",
     "git": {
      "active_branch": "master",
      "author.name": "Jon Reades",
      "authored_date": "2017-08-17 19:06:58",
      "committed_date": "2017-08-17 19:06:58",
      "committer.name": "Jon Reades",
      "sha": "5e3b396ae18a982d693c4bfd86c721c7e1e21051"
     }
    }
   },
   "source": [
    "Welcome back. \n",
    "\n",
    "Comparison operators are often used in conditional execution with _Boolean_ expressions (which produce True or False results). In conditional execution different lines of code are only executed under certain conditions (specified by the Boolean expression). For example, the code in the image below will only execute when the `hours` variable is greater than zero (as the output of the expression on line 2 is `true` in this circumstance).\n",
    "\n",
    "<img src=\"https://kingsgeocomputation.files.wordpress.com/2016/09/geocompweek2_task3_1a.jpg\", width = 389>"
   ]
  },
  {
   "cell_type": "markdown",
   "metadata": {
    "geopyter": {
     "Contributors": "James Millington (james.millington@kcl.ac.uk)",
     "git": {
      "active_branch": "master",
      "author.name": "Jon Reades",
      "authored_date": "2017-08-17 19:06:58",
      "committed_date": "2017-08-17 19:06:58",
      "committer.name": "Jon Reades",
      "sha": "5e3b396ae18a982d693c4bfd86c721c7e1e21051"
     }
    }
   },
   "source": [
    "#### TASK\n",
    "Copy the code from the image above into a script and after the existing code add two lines of code so that `Hours are less than 10` is printed if that condition is `True`. Run your code three times, once each with the following initial values (on line 1):\n",
    "1.\t`hours = 10`\n",
    "2.\t`hours = 2`\n",
    "3.\t`hours = 0`\n",
    "\n",
    "If you added your lines of code correctly, your output when running the code for the above initial values should be as follows:\n",
    "1.\t`Hours are greater than zero` \n",
    "2.\t`Hours are greater than zero`<br/>\n",
    "    `Hours are less than 10`\n",
    "3.\t`Hours are less than 10`\n"
   ]
  },
  {
   "cell_type": "markdown",
   "metadata": {
    "geopyter": {
     "Contributors": "James Millington (james.millington@kcl.ac.uk)",
     "git": {
      "active_branch": "master",
      "author.name": "Jon Reades",
      "authored_date": "2017-08-17 19:06:58",
      "committed_date": "2017-08-17 19:06:58",
      "committer.name": "Jon Reades",
      "sha": "5e3b396ae18a982d693c4bfd86c721c7e1e21051"
     }
    }
   },
   "source": [
    "#### TASK\n",
    "Add a new line to the script you wrote for yhe task above so that when the initial value of `hours = 12` (on line 1) BOTH conditionals will execute (i.e. both `Hours are greater than zero` and `Hours are less than 10` are printed). \n",
    "\n",
    "_Hint: the line of code to add could read something like `hours = hours – 3` and will be indented._\n",
    "\n",
    "Save your script!"
   ]
  },
  {
   "cell_type": "markdown",
   "metadata": {
    "geopyter": {
     "Contributors": "James Millington (james.millington@kcl.ac.uk)",
     "git": {
      "active_branch": "master",
      "author.name": "Jon Reades",
      "authored_date": "2017-08-17 19:06:58",
      "committed_date": "2017-08-17 19:06:58",
      "committer.name": "Jon Reades",
      "sha": "5e3b396ae18a982d693c4bfd86c721c7e1e21051"
     }
    }
   },
   "source": [
    "#### TASK\n",
    "Create a new script to execute the flow chart shown in the image below. You will need to assign values to `a` and `b` on lines 1 and 2 before using the flow chart to complete the code such that it produces the following:\n",
    "1.\tWhen `a = 2` and `b = 2` four lines of output will be written\n",
    "2.\tWhen `a = 1` and `b = 2` one line of output will be written\n",
    "\n",
    "<img src=\"https://kingsgeocomputation.files.wordpress.com/2016/09/geocompweek2_task3_3.jpg\", width = 600>\n",
    "\n",
    "Save your script!"
   ]
  },
  {
   "cell_type": "markdown",
   "metadata": {
    "geopyter": {
     "Contributors": "James Millington (james.millington@kcl.ac.uk)",
     "git": {
      "active_branch": "master",
      "author.name": "Jon Reades",
      "authored_date": "2017-08-17 19:06:58",
      "committed_date": "2017-08-17 19:06:58",
      "committer.name": "Jon Reades",
      "sha": "5e3b396ae18a982d693c4bfd86c721c7e1e21051"
     }
    }
   },
   "source": [
    "#### TASK\n",
    "Now that you've had some practice with comparison operators, return to where you stopped in Notebook 4 in the [Python Code Camp](https://kingsgeocomputation.org/teaching/code-camp/code-camp-python/lessons/) (the section on **Conditions** after  _Testing for Inequality_). Run through all the remaining material in the notebook (**Conditions** and **Boolean Logic** sections), but **don't** do the _Code (Applied Geo-Example)_ at the end. Return here when you're familiar with the materials and continue with the tasks below. \n",
    "\n",
    "***"
   ]
  },
  {
   "cell_type": "markdown",
   "metadata": {
    "geopyter": {
     "Contributors": "James Millington (james.millington@kcl.ac.uk)",
     "git": {
      "active_branch": "master",
      "author.name": "Jon Reades",
      "authored_date": "2017-08-17 19:06:58",
      "committed_date": "2017-08-17 19:06:58",
      "committer.name": "Jon Reades",
      "sha": "5e3b396ae18a982d693c4bfd86c721c7e1e21051"
     }
    }
   },
   "source": [
    "### Logical Operators\n",
    "Welcome back. \n",
    "As you've just been reading, logical operators can be combined with expressions containing comparison operators to produce more complicated conditional execution statements. The main logical operators are `and`, `or`, and `not`. How these logical operators work is shown in the lecture slides for this week. Review those examples before attempting the tasks below."
   ]
  },
  {
   "cell_type": "markdown",
   "metadata": {
    "geopyter": {
     "Contributors": "James Millington (james.millington@kcl.ac.uk)",
     "git": {
      "active_branch": "master",
      "author.name": "Jon Reades",
      "authored_date": "2017-08-17 19:06:58",
      "committed_date": "2017-08-17 19:06:58",
      "committer.name": "Jon Reades",
      "sha": "5e3b396ae18a982d693c4bfd86c721c7e1e21051"
     }
    }
   },
   "source": [
    "#### TASK\n",
    "Read the code in the code cell below. "
   ]
  },
  {
   "cell_type": "code",
   "execution_count": null,
   "metadata": {
    "collapsed": true,
    "geopyter": {
     "Contributors": "James Millington (james.millington@kcl.ac.uk)",
     "git": {
      "active_branch": "master",
      "author.name": "Jon Reades",
      "authored_date": "2017-08-17 19:06:58",
      "committed_date": "2017-08-17 19:06:58",
      "committer.name": "Jon Reades",
      "sha": "5e3b396ae18a982d693c4bfd86c721c7e1e21051"
     }
    }
   },
   "outputs": [],
   "source": [
    "if x > 0 and x < 5:\n",
    "    print(\"Joe\")\n",
    "    \n",
    "if x > 0 or x < 5:\n",
    "    print(\"Aled\")\n",
    "    \n",
    "if not(x > 0):\n",
    "    print(\"Sarah\")"
   ]
  },
  {
   "cell_type": "markdown",
   "metadata": {
    "geopyter": {
     "Contributors": "James Millington (james.millington@kcl.ac.uk)",
     "git": {
      "active_branch": "master",
      "author.name": "Jon Reades",
      "authored_date": "2017-08-17 19:06:58",
      "committed_date": "2017-08-17 19:06:58",
      "committer.name": "Jon Reades",
      "sha": "5e3b396ae18a982d693c4bfd86c721c7e1e21051"
     }
    }
   },
   "source": [
    "Assume that the code executes for a given value of `x` and answer the following questions. Only test the code **AFTER** you have worked out the answers and typed them below.\n",
    "\n",
    "1.\tWhat names are name(s) are printed when `x = 5`? \n",
    "2.\tWhat value(s) can `x` be when the names `Joe` and `Aled` are printed?  \n",
    "3.\tWhat name(s) are printed when `x = -1`?\n",
    "4.\tIs there any value for which all three names will be printed?\n"
   ]
  },
  {
   "cell_type": "markdown",
   "metadata": {
    "geopyter": {
     "Contributors": "James Millington (james.millington@kcl.ac.uk)",
     "git": {
      "active_branch": "master",
      "author.name": "Jon Reades",
      "authored_date": "2017-08-17 19:06:58",
      "committed_date": "2017-08-17 19:06:58",
      "committer.name": "Jon Reades",
      "sha": "5e3b396ae18a982d693c4bfd86c721c7e1e21051"
     }
    }
   },
   "source": [
    "**Answers** _Edit this cell!_\n",
    "\n",
    "To edit this cell just double click on it (right _here_). Click the _run cell_ button when you're finished and remember to save your notebook [File -> Save and Checkpoint] to save your answers to disk!\n",
    "\n",
    "1.\n",
    "\n",
    "2.\n",
    "\n",
    "3.\n",
    "\n",
    "4."
   ]
  },
  {
   "cell_type": "markdown",
   "metadata": {
    "geopyter": {
     "Contributors": "James Millington (james.millington@kcl.ac.uk)",
     "git": {
      "active_branch": "master",
      "author.name": "Jon Reades",
      "authored_date": "2017-08-17 19:06:58",
      "committed_date": "2017-08-17 19:06:58",
      "committer.name": "Jon Reades",
      "sha": "5e3b396ae18a982d693c4bfd86c721c7e1e21051"
     }
    }
   },
   "source": [
    "### Alternative Execution\n",
    "The reserved word `else` can be used with the reserved word `if` to produce what is known as an ‘alternative execution’. It is ‘alternative’ because there are two possibilities and a condition determines which alternative gets executed. In an alternative execution, since a condition must either be `true` or `false` exactly one of the alternatives will be executed. The alternatives are called branches, because they are branches in the flow of execution."
   ]
  },
  {
   "cell_type": "markdown",
   "metadata": {
    "geopyter": {
     "Contributors": "James Millington (james.millington@kcl.ac.uk)",
     "git": {
      "active_branch": "master",
      "author.name": "Jon Reades",
      "authored_date": "2017-08-17 19:06:58",
      "committed_date": "2017-08-17 19:06:58",
      "committer.name": "Jon Reades",
      "sha": "5e3b396ae18a982d693c4bfd86c721c7e1e21051"
     }
    }
   },
   "source": [
    "#### TASK\n",
    "Read at the image below.\n",
    "\n",
    "<img src=\"https://kingsgeocomputation.files.wordpress.com/2016/09/geocompweek2_task3_5.jpg\", width = 600>\n",
    "\n",
    "Write a script to execute the alternative execution shown by the flow chart above. Check your code works by trying different values of `x` and comparing the outcomes. Also check you understand why the Boolean expression using the percent symbol `%` allows us to evaluate odd vs even numbers. "
   ]
  },
  {
   "cell_type": "markdown",
   "metadata": {
    "geopyter": {
     "Contributors": "James Millington (james.millington@kcl.ac.uk)",
     "git": {
      "active_branch": "master",
      "author.name": "Jon Reades",
      "authored_date": "2017-08-17 19:06:58",
      "committed_date": "2017-08-17 19:06:58",
      "committer.name": "Jon Reades",
      "sha": "5e3b396ae18a982d693c4bfd86c721c7e1e21051"
     }
    }
   },
   "source": [
    "### Nested Conditional\n",
    "Conditional statements can be nested within one another. That is, once one conditional statement has been evaluated others may subsequently be evaluated (or not) depending on the result of the initial conditional statement. The code below shows an example of this. "
   ]
  },
  {
   "cell_type": "code",
   "execution_count": null,
   "metadata": {
    "collapsed": true,
    "geopyter": {
     "Contributors": "James Millington (james.millington@kcl.ac.uk)",
     "git": {
      "active_branch": "master",
      "author.name": "Jon Reades",
      "authored_date": "2017-08-17 19:06:58",
      "committed_date": "2017-08-17 19:06:58",
      "committer.name": "Jon Reades",
      "sha": "5e3b396ae18a982d693c4bfd86c721c7e1e21051"
     }
    }
   },
   "outputs": [],
   "source": [
    "if x != y:                                 #line 1\n",
    "    print(\"x is not equal to y\")\n",
    "    \n",
    "    if(x > y):                             #line 4\n",
    "        print(\"x is greater than y\")\n",
    "        \n",
    "    else:                                  #line 7\n",
    "        print(\"x is less than y\")\n",
    "\n",
    "else:\n",
    "    print(\"insert conclusion here\")"
   ]
  },
  {
   "cell_type": "markdown",
   "metadata": {
    "geopyter": {
     "Contributors": "James Millington (james.millington@kcl.ac.uk)",
     "git": {
      "active_branch": "master",
      "author.name": "Jon Reades",
      "authored_date": "2017-08-17 19:06:58",
      "committed_date": "2017-08-17 19:06:58",
      "committer.name": "Jon Reades",
      "sha": "5e3b396ae18a982d693c4bfd86c721c7e1e21051"
     }
    }
   },
   "source": [
    "Note how the indentation is useful to work out which ‘level’ the code is operating at. In the code above, lines 4 and 7 are at the same indentation meaning that both will be skipped if the initial condition (on line 1) is `False`. \n",
    "\n",
    "#### TASK\n",
    "To check you understand how the code in the image above works:\n",
    "1.\tDraw a flow chart to illustrate the flow of execution (on paper or use LibreOffice Impress or Microsoft PowerPoint)\n",
    "2.\tChange `insert conclusion here` in the code above to a string that explains the condition of `x` and `y`\n",
    "3.\tFor `x = 2` and `y = 3`, type below what line(s) will be output \n"
   ]
  },
  {
   "cell_type": "markdown",
   "metadata": {
    "geopyter": {
     "Contributors": "James Millington (james.millington@kcl.ac.uk)",
     "git": {
      "active_branch": "master",
      "author.name": "Jon Reades",
      "authored_date": "2017-08-17 19:06:58",
      "committed_date": "2017-08-17 19:06:58",
      "committer.name": "Jon Reades",
      "sha": "5e3b396ae18a982d693c4bfd86c721c7e1e21051"
     }
    }
   },
   "source": [
    "**Answer** _Edit this cell!_\n",
    "\n",
    "3. "
   ]
  },
  {
   "cell_type": "markdown",
   "metadata": {
    "geopyter": {
     "Contributors": "James Millington (james.millington@kcl.ac.uk)",
     "git": {
      "active_branch": "master",
      "author.name": "Jon Reades",
      "authored_date": "2017-08-17 19:06:58",
      "committed_date": "2017-08-17 19:06:58",
      "committer.name": "Jon Reades",
      "sha": "5e3b396ae18a982d693c4bfd86c721c7e1e21051"
     }
    }
   },
   "source": [
    "Great! You should now have a pretty good understanding of how conditional and logical operators work. This understanding will be handy in future as we work through other computational concepts. "
   ]
  },
  {
   "cell_type": "markdown",
   "metadata": {
    "geopyter": {
     "Contributors": "James Millington (james.millington@kcl.ac.uk)",
     "git": {
      "active_branch": "master",
      "author.name": "Jon Reades",
      "authored_date": "2017-08-17 19:06:58",
      "committed_date": "2017-08-17 19:06:58",
      "committer.name": "Jon Reades",
      "sha": "5e3b396ae18a982d693c4bfd86c721c7e1e21051"
     }
    }
   },
   "source": [
    "## Exercises"
   ]
  },
  {
   "cell_type": "markdown",
   "metadata": {
    "geopyter": {
     "Contributors": "James Millington (james.millington@kcl.ac.uk)",
     "git": {
      "active_branch": "master",
      "author.name": "Jon Reades",
      "authored_date": "2017-08-17 19:06:58",
      "committed_date": "2017-08-17 19:06:58",
      "committer.name": "Jon Reades",
      "sha": "5e3b396ae18a982d693c4bfd86c721c7e1e21051"
     }
    }
   },
   "source": [
    "### Alterative Execution\n",
    "Write a script that reports whether a person A is older than person B or not. Whole numbers should be used as ages in years. The program should read the ages of the two people from the keyboard. *Hint: use `raw_input` function from Week 1.* Either “Person A is older than Person B” or “Person A is not older than Person B” should be reported to the used."
   ]
  },
  {
   "cell_type": "markdown",
   "metadata": {
    "geopyter": {
     "Contributors": "James Millington (james.millington@kcl.ac.uk)",
     "git": {
      "active_branch": "master",
      "author.name": "Jon Reades",
      "authored_date": "2017-08-17 19:06:58",
      "committed_date": "2017-08-17 19:06:58",
      "committer.name": "Jon Reades",
      "sha": "5e3b396ae18a982d693c4bfd86c721c7e1e21051"
     }
    }
   },
   "source": [
    "### Conditional Execution\n",
    "Build on the script you wrote in the previous exercise (but save this as a new, separate script). This time, the script should check if Person A is older than Person B but also whether they are the same age. As before, whole numbers should be used as ages (in years) and the program should read the ages of the two people from the keyboard. One of three responses should be reported to the user:\n",
    "1.\t“Person A is older than Person B”\n",
    "2.\t“Person B is older than Person A”\n",
    "3.\t“Person A and Person B are the same age”"
   ]
  },
  {
   "cell_type": "markdown",
   "metadata": {
    "geopyter": {
     "Contributors": "James Millington (james.millington@kcl.ac.uk)",
     "git": {
      "active_branch": "master",
      "author.name": "Jon Reades",
      "authored_date": "2017-08-17 19:06:58",
      "committed_date": "2017-08-17 19:06:58",
      "committer.name": "Jon Reades",
      "sha": "5e3b396ae18a982d693c4bfd86c721c7e1e21051"
     }
    }
   },
   "source": [
    "### Nested Execution\n",
    "Build on the script you wrote in the previous exercise (but again save this as a new, separate script). This third program should be designed to use a nested execution structure to report if Person A is much younger, a little younger, the same age, a little older or much older than Person B. Write your script with a nested structure so that first it evaluates whether one person is older than the other, and then if so whether they there is a large difference in age or a small difference in age. After reading the ages of the two people the program should prompt for the number of years that indicates a ‘large difference’ in age. One of the following five responses should be reported to the user:\n",
    "1.\t“Person A is much younger than Person B” [if age difference > ‘large difference’]\n",
    "2.\t“Person A is a little younger than Person B” [if age difference <= ‘large difference’]\n",
    "3.\t“Person A is the same age as Person B”\n",
    "4.\t“Person A is a little older than Person B” [if age difference <= ‘large difference’]\n",
    "5.\t“Person A is a much older than Person B” [if age difference > ‘large difference’]\n"
   ]
  },
  {
   "cell_type": "code",
   "execution_count": null,
   "metadata": {
    "collapsed": true,
    "geopyter": {
     "Contributors": "James Millington (james.millington@kcl.ac.uk)",
     "git": {
      "active_branch": "master",
      "author.name": "Jon Reades",
      "authored_date": "2017-08-17 19:06:58",
      "committed_date": "2017-08-17 19:06:58",
      "committer.name": "Jon Reades",
      "sha": "5e3b396ae18a982d693c4bfd86c721c7e1e21051"
     }
    }
   },
   "outputs": [],
   "source": []
  },
  {
   "cell_type": "markdown",
   "metadata": {
    "geopyter": {
     "Contributors": "James Millington (james.millington@kcl.ac.uk)",
     "git": {
      "active_branch": "master",
      "author.name": "Jon Reades",
      "authored_date": "2017-08-17 19:06:58",
      "committed_date": "2017-08-17 19:06:58",
      "committer.name": "Jon Reades",
      "sha": "5e3b396ae18a982d693c4bfd86c721c7e1e21051"
     }
    },
    "nbpresent": {
     "id": "f730ab33-247e-4792-9e02-ab29c9f00c14"
    }
   },
   "source": [
    "# Practical 3: Dictionaries, Loops, Iteration\n",
    "\n"
   ]
  },
  {
   "cell_type": "markdown",
   "metadata": {
    "geopyter": {
     "Contributors": "James Millington (james.millington@kcl.ac.uk)",
     "git": {
      "active_branch": "master",
      "author.name": "Jon Reades",
      "authored_date": "2017-08-17 19:06:58",
      "committed_date": "2017-08-17 19:06:58",
      "committer.name": "Jon Reades",
      "sha": "5e3b396ae18a982d693c4bfd86c721c7e1e21051"
     }
    },
    "nbpresent": {
     "id": "cada64b6-f8c9-4dbb-9ab1-b5617d0cc16a"
    }
   },
   "source": [
    "## Learning Outcomes\n",
    "\n",
    "By the end of this practical you should:\n",
    "- Be familiar with the majority of the operators you’ll encounter in basic programming.\n",
    "- Be able to use two different types of loop.\n",
    "- Understand the principles of iteration.\n",
    "- Understand how dictionaries are structured, created and accessed. \n"
   ]
  },
  {
   "cell_type": "markdown",
   "metadata": {
    "geopyter": {
     "Contributors": "James Millington (james.millington@kcl.ac.uk)",
     "git": {
      "active_branch": "master",
      "author.name": "Jon Reades",
      "authored_date": "2017-08-17 19:06:58",
      "committed_date": "2017-08-17 19:06:58",
      "committer.name": "Jon Reades",
      "sha": "5e3b396ae18a982d693c4bfd86c721c7e1e21051"
     }
    }
   },
   "source": [
    "This document assumes you have created a working directory as described here: http://bit.ly/WorkingDirectory"
   ]
  },
  {
   "cell_type": "markdown",
   "metadata": {
    "geopyter": {
     "Contributors": "James Millington (james.millington@kcl.ac.uk)",
     "git": {
      "active_branch": "master",
      "author.name": "Jon Reades",
      "authored_date": "2017-08-17 19:06:58",
      "committed_date": "2017-08-17 19:06:58",
      "committer.name": "Jon Reades",
      "sha": "5e3b396ae18a982d693c4bfd86c721c7e1e21051"
     }
    }
   },
   "source": [
    "## Loops and Iteration"
   ]
  },
  {
   "cell_type": "markdown",
   "metadata": {
    "geopyter": {
     "Contributors": "James Millington (james.millington@kcl.ac.uk)",
     "git": {
      "active_branch": "master",
      "author.name": "Jon Reades",
      "authored_date": "2017-08-17 19:06:58",
      "committed_date": "2017-08-17 19:06:58",
      "committer.name": "Jon Reades",
      "sha": "5e3b396ae18a982d693c4bfd86c721c7e1e21051"
     }
    }
   },
   "source": [
    "Loops are a form of iteration, the _repetition of a process_. There are two basic types of loop in Python; the [while loop](http://www.tutorialspoint.com/python/python_while_loop.htm) and the [for loop](https://www.tutorialspoint.com/python/python_for_loop.htm). Essentially, we use `for` loops to iterate over finite sequences of definite length, contrasting with `while` loops that we use when when our sequence is unknown or non-finite."
   ]
  },
  {
   "cell_type": "markdown",
   "metadata": {
    "geopyter": {
     "Contributors": "James Millington (james.millington@kcl.ac.uk)",
     "git": {
      "active_branch": "master",
      "author.name": "Jon Reades",
      "authored_date": "2017-08-17 19:06:58",
      "committed_date": "2017-08-17 19:06:58",
      "committer.name": "Jon Reades",
      "sha": "5e3b396ae18a982d693c4bfd86c721c7e1e21051"
     }
    }
   },
   "source": [
    "#### TASK\n",
    "Run through the information and activites in Notebook 7 in the [Python Code Camp](https://kingsgeocomputation.org/teaching/code-camp/code-camp-python/lessons/). Do not do the _Code (Applied Geo-example)_ section at the end, nor the 'Challenge' immediately before that (_Iterate over the GeoJSON marker_). Return here once you're done. "
   ]
  },
  {
   "cell_type": "markdown",
   "metadata": {
    "collapsed": true,
    "geopyter": {
     "Contributors": "James Millington (james.millington@kcl.ac.uk)",
     "git": {
      "active_branch": "master",
      "author.name": "Jon Reades",
      "authored_date": "2017-08-17 19:06:58",
      "committed_date": "2017-08-17 19:06:58",
      "committer.name": "Jon Reades",
      "sha": "5e3b396ae18a982d693c4bfd86c721c7e1e21051"
     }
    }
   },
   "source": [
    "### Looping over a String\n",
    "Let’s do a few more tasks to make sure things are clear before we revisit one of last week's Exercises to see how we could have coded it more efficiently using a loop. \n",
    "\n",
    "First, let's use a `for` loop to see how `string` objects are themselves lists of characters. To do this, we'll write a `for` loop to print out `Element: ` before every element of the string `Bristol!`. You may remember that we saw the following in lecture:\n",
    "\n",
    "`for x in myList:`<br/>\n",
    "&nbsp;&nbsp;&nbsp;&nbsp;&nbsp;&nbsp;`Do something`\n",
    "\n",
    "So all we need to do now is adapt this for our purposes as shown in the code cell below. "
   ]
  },
  {
   "cell_type": "code",
   "execution_count": null,
   "metadata": {
    "collapsed": true,
    "geopyter": {
     "Contributors": "James Millington (james.millington@kcl.ac.uk)",
     "git": {
      "active_branch": "master",
      "author.name": "Jon Reades",
      "authored_date": "2017-08-17 19:06:58",
      "committed_date": "2017-08-17 19:06:58",
      "committer.name": "Jon Reades",
      "sha": "5e3b396ae18a982d693c4bfd86c721c7e1e21051"
     }
    }
   },
   "outputs": [],
   "source": [
    "for x in \"Bristol!\":\n",
    "     print(\"Element: \" + x)"
   ]
  },
  {
   "cell_type": "markdown",
   "metadata": {
    "geopyter": {
     "Contributors": "James Millington (james.millington@kcl.ac.uk)",
     "git": {
      "active_branch": "master",
      "author.name": "Jon Reades",
      "authored_date": "2017-08-17 19:06:58",
      "committed_date": "2017-08-17 19:06:58",
      "committer.name": "Jon Reades",
      "sha": "5e3b396ae18a982d693c4bfd86c721c7e1e21051"
     }
    }
   },
   "source": [
    "Note that the string could be an object, as shown in the next code cell. "
   ]
  },
  {
   "cell_type": "code",
   "execution_count": null,
   "metadata": {
    "collapsed": true,
    "geopyter": {
     "Contributors": "James Millington (james.millington@kcl.ac.uk)",
     "git": {
      "active_branch": "master",
      "author.name": "Jon Reades",
      "authored_date": "2017-08-17 19:06:58",
      "committed_date": "2017-08-17 19:06:58",
      "committer.name": "Jon Reades",
      "sha": "5e3b396ae18a982d693c4bfd86c721c7e1e21051"
     }
    }
   },
   "outputs": [],
   "source": [
    "city = \"Bristol!\"\n",
    "for x in city:\n",
    "     print(\"Element: \" + x)"
   ]
  },
  {
   "cell_type": "markdown",
   "metadata": {
    "geopyter": {
     "Contributors": "James Millington (james.millington@kcl.ac.uk)",
     "git": {
      "active_branch": "master",
      "author.name": "Jon Reades",
      "authored_date": "2017-08-17 19:06:58",
      "committed_date": "2017-08-17 19:06:58",
      "committer.name": "Jon Reades",
      "sha": "5e3b396ae18a982d693c4bfd86c721c7e1e21051"
     }
    }
   },
   "source": [
    "#### TASK\n",
    "Run the last code cell and check you understand why the letters for `Bristol!` are printed and not those for `c`, `i`, `t`, `y`. "
   ]
  },
  {
   "cell_type": "markdown",
   "metadata": {
    "geopyter": {
     "Contributors": "James Millington (james.millington@kcl.ac.uk)",
     "git": {
      "active_branch": "master",
      "author.name": "Jon Reades",
      "authored_date": "2017-08-17 19:06:58",
      "committed_date": "2017-08-17 19:06:58",
      "committer.name": "Jon Reades",
      "sha": "5e3b396ae18a982d693c4bfd86c721c7e1e21051"
     }
    }
   },
   "source": [
    "### Doing More with For\n",
    "It is often really useful to break a problem down into simple parts and then add detail in small steps to get the functionality that you want. Until you are quite confident as a programmer, this approach helps you to avoid simple mistakes that could give you major headaches later – you know that each bit is working before you add the next bit."
   ]
  },
  {
   "cell_type": "markdown",
   "metadata": {
    "geopyter": {
     "Contributors": "James Millington (james.millington@kcl.ac.uk)",
     "git": {
      "active_branch": "master",
      "author.name": "Jon Reades",
      "authored_date": "2017-08-17 19:06:58",
      "committed_date": "2017-08-17 19:06:58",
      "committer.name": "Jon Reades",
      "sha": "5e3b396ae18a982d693c4bfd86c721c7e1e21051"
     }
    }
   },
   "source": [
    "With this in mind let’s try something a little harder – let’s assume we have a string of text that looks like a list, with values separated by commas :\n",
    "\n",
    "`myText = \"1, 3, 5, 7, 9, dog, cat\"`\n",
    "\n",
    "This is like the data we might find in a file that has a [comma separated values format](https://en.wikipedia.org/wiki/Comma-separated_values) (which we will meet again in future)."
   ]
  },
  {
   "cell_type": "markdown",
   "metadata": {
    "geopyter": {
     "Contributors": "James Millington (james.millington@kcl.ac.uk)",
     "git": {
      "active_branch": "master",
      "author.name": "Jon Reades",
      "authored_date": "2017-08-17 19:06:58",
      "committed_date": "2017-08-17 19:06:58",
      "committer.name": "Jon Reades",
      "sha": "5e3b396ae18a982d693c4bfd86c721c7e1e21051"
     }
    }
   },
   "source": [
    "Let's say we want add up all the numbers in this `text` object. For this, we’re going to need to use some string methods called `split()` and `isdigit()` (more on those below). Let’s do this in stages – make sure you get the right output at each stage before moving on to the next one. We'll put each stage in a new code cell. "
   ]
  },
  {
   "cell_type": "markdown",
   "metadata": {
    "geopyter": {
     "Contributors": "James Millington (james.millington@kcl.ac.uk)",
     "git": {
      "active_branch": "master",
      "author.name": "Jon Reades",
      "authored_date": "2017-08-17 19:06:58",
      "committed_date": "2017-08-17 19:06:58",
      "committer.name": "Jon Reades",
      "sha": "5e3b396ae18a982d693c4bfd86c721c7e1e21051"
     }
    }
   },
   "source": [
    "First, we'll turn it into something we can more easily deal with in a loop - a list! We can do this using the `string` method `split()` - read about this [here](http://www.tutorialspoint.com/python/string_split.htm). The code to do this is shown in the code cell below. Check you understand what it is doing (with reference to the link above)."
   ]
  },
  {
   "cell_type": "code",
   "execution_count": null,
   "metadata": {
    "collapsed": true,
    "geopyter": {
     "Contributors": "James Millington (james.millington@kcl.ac.uk)",
     "git": {
      "active_branch": "master",
      "author.name": "Jon Reades",
      "authored_date": "2017-08-17 19:06:58",
      "committed_date": "2017-08-17 19:06:58",
      "committer.name": "Jon Reades",
      "sha": "5e3b396ae18a982d693c4bfd86c721c7e1e21051"
     }
    }
   },
   "outputs": [],
   "source": [
    "myText = \"1, 3, 5, 7, 9, dog, cat\"\n",
    "myMixedList = myText.split(\", \")\n",
    "print(myMixedList)                  #just to check what it looks like"
   ]
  },
  {
   "cell_type": "markdown",
   "metadata": {
    "geopyter": {
     "Contributors": "James Millington (james.millington@kcl.ac.uk)",
     "git": {
      "active_branch": "master",
      "author.name": "Jon Reades",
      "authored_date": "2017-08-17 19:06:58",
      "committed_date": "2017-08-17 19:06:58",
      "committer.name": "Jon Reades",
      "sha": "5e3b396ae18a982d693c4bfd86c721c7e1e21051"
     }
    }
   },
   "source": [
    "If you run the code above, hopefully you'll agree `myMixedList` looks like a list! Now we can start creating our loop to work through each element in this list. \n",
    "\n",
    "First, we'll just create a loop that  prints out each element in `myMixedList`."
   ]
  },
  {
   "cell_type": "markdown",
   "metadata": {
    "geopyter": {
     "Contributors": "James Millington (james.millington@kcl.ac.uk)",
     "git": {
      "active_branch": "master",
      "author.name": "Jon Reades",
      "authored_date": "2017-08-17 19:06:58",
      "committed_date": "2017-08-17 19:06:58",
      "committer.name": "Jon Reades",
      "sha": "5e3b396ae18a982d693c4bfd86c721c7e1e21051"
     }
    }
   },
   "source": [
    "#### TASK\n",
    "In the code below, change `???` as appropriate so that “1”, “3”, “5”, “7”, “9”, “dog”, “cat” are printed on separate lines."
   ]
  },
  {
   "cell_type": "code",
   "execution_count": null,
   "metadata": {
    "collapsed": true,
    "geopyter": {
     "Contributors": "James Millington (james.millington@kcl.ac.uk)",
     "git": {
      "active_branch": "master",
      "author.name": "Jon Reades",
      "authored_date": "2017-08-17 19:06:58",
      "committed_date": "2017-08-17 19:06:58",
      "committer.name": "Jon Reades",
      "sha": "5e3b396ae18a982d693c4bfd86c721c7e1e21051"
     }
    }
   },
   "outputs": [],
   "source": [
    "for x in ???:\n",
    "    print(???)"
   ]
  },
  {
   "cell_type": "markdown",
   "metadata": {
    "geopyter": {
     "Contributors": "James Millington (james.millington@kcl.ac.uk)",
     "git": {
      "active_branch": "master",
      "author.name": "Jon Reades",
      "authored_date": "2017-08-17 19:06:58",
      "committed_date": "2017-08-17 19:06:58",
      "committer.name": "Jon Reades",
      "sha": "5e3b396ae18a982d693c4bfd86c721c7e1e21051"
     }
    }
   },
   "source": [
    "We'll now change this loop to print out `true` or `false` for every element based on whether or not it is a number. We'll do this using the string method `isdigit()` - read more about this method [here](http://www.tutorialspoint.com/python/string_isdigit.htm)."
   ]
  },
  {
   "cell_type": "markdown",
   "metadata": {
    "geopyter": {
     "Contributors": "James Millington (james.millington@kcl.ac.uk)",
     "git": {
      "active_branch": "master",
      "author.name": "Jon Reades",
      "authored_date": "2017-08-17 19:06:58",
      "committed_date": "2017-08-17 19:06:58",
      "committer.name": "Jon Reades",
      "sha": "5e3b396ae18a982d693c4bfd86c721c7e1e21051"
     }
    }
   },
   "source": [
    "#### TASK\n",
    "In the code below, change `???` as appropriate so that True, True, True, True, True, False, False are printed on separate lines. "
   ]
  },
  {
   "cell_type": "code",
   "execution_count": null,
   "metadata": {
    "collapsed": true,
    "geopyter": {
     "Contributors": "James Millington (james.millington@kcl.ac.uk)",
     "git": {
      "active_branch": "master",
      "author.name": "Jon Reades",
      "authored_date": "2017-08-17 19:06:58",
      "committed_date": "2017-08-17 19:06:58",
      "committer.name": "Jon Reades",
      "sha": "5e3b396ae18a982d693c4bfd86c721c7e1e21051"
     }
    }
   },
   "outputs": [],
   "source": [
    "for x in myMixedList:\n",
    "    print(???.isdigit())"
   ]
  },
  {
   "cell_type": "markdown",
   "metadata": {
    "geopyter": {
     "Contributors": "James Millington (james.millington@kcl.ac.uk)",
     "git": {
      "active_branch": "master",
      "author.name": "Jon Reades",
      "authored_date": "2017-08-17 19:06:58",
      "committed_date": "2017-08-17 19:06:58",
      "committer.name": "Jon Reades",
      "sha": "5e3b396ae18a982d693c4bfd86c721c7e1e21051"
     }
    }
   },
   "source": [
    "Next we will change our loop to use `isdigit()` as part of a condition – if the element is made of digits, then print it out, but don’t print anything that isn’t digits. "
   ]
  },
  {
   "cell_type": "markdown",
   "metadata": {
    "geopyter": {
     "Contributors": "James Millington (james.millington@kcl.ac.uk)",
     "git": {
      "active_branch": "master",
      "author.name": "Jon Reades",
      "authored_date": "2017-08-17 19:06:58",
      "committed_date": "2017-08-17 19:06:58",
      "committer.name": "Jon Reades",
      "sha": "5e3b396ae18a982d693c4bfd86c721c7e1e21051"
     }
    }
   },
   "source": [
    "#### TASK\n",
    "In the code below, change `???` as appropriate so that our loop prints any element made of digits but not anything else. This should print out “1”, “3”, “5”, “7”, “9” on separate lines."
   ]
  },
  {
   "cell_type": "code",
   "execution_count": null,
   "metadata": {
    "collapsed": true,
    "geopyter": {
     "Contributors": "James Millington (james.millington@kcl.ac.uk)",
     "git": {
      "active_branch": "master",
      "author.name": "Jon Reades",
      "authored_date": "2017-08-17 19:06:58",
      "committed_date": "2017-08-17 19:06:58",
      "committer.name": "Jon Reades",
      "sha": "5e3b396ae18a982d693c4bfd86c721c7e1e21051"
     }
    }
   },
   "outputs": [],
   "source": [
    "for x in myMixedList:\n",
    "    if x.isdigit():\n",
    "        print(???)"
   ]
  },
  {
   "cell_type": "markdown",
   "metadata": {
    "geopyter": {
     "Contributors": "James Millington (james.millington@kcl.ac.uk)",
     "git": {
      "active_branch": "master",
      "author.name": "Jon Reades",
      "authored_date": "2017-08-17 19:06:58",
      "committed_date": "2017-08-17 19:06:58",
      "committer.name": "Jon Reades",
      "sha": "5e3b396ae18a982d693c4bfd86c721c7e1e21051"
     }
    }
   },
   "source": [
    "We're almost there. Now we need to create a variable called `total` before the `for` loop begins and then use the `+=` operator to add each integer to `total` as we iterate through the list. However, we need to remember that each 'number' is still a `string` so we'll have to convert to an integer using `int()` "
   ]
  },
  {
   "cell_type": "markdown",
   "metadata": {
    "geopyter": {
     "Contributors": "James Millington (james.millington@kcl.ac.uk)",
     "git": {
      "active_branch": "master",
      "author.name": "Jon Reades",
      "authored_date": "2017-08-17 19:06:58",
      "committed_date": "2017-08-17 19:06:58",
      "committer.name": "Jon Reades",
      "sha": "5e3b396ae18a982d693c4bfd86c721c7e1e21051"
     }
    }
   },
   "source": [
    "#### TASK\n",
    "In the code below, change `???` as appropriate to add the integers and print out the total"
   ]
  },
  {
   "cell_type": "code",
   "execution_count": null,
   "metadata": {
    "collapsed": true,
    "geopyter": {
     "Contributors": "James Millington (james.millington@kcl.ac.uk)",
     "git": {
      "active_branch": "master",
      "author.name": "Jon Reades",
      "authored_date": "2017-08-17 19:06:58",
      "committed_date": "2017-08-17 19:06:58",
      "committer.name": "Jon Reades",
      "sha": "5e3b396ae18a982d693c4bfd86c721c7e1e21051"
     }
    }
   },
   "outputs": [],
   "source": [
    "??? = 0\n",
    "for x in myMixedList:\n",
    "    if x.isdigit():\n",
    "        total ??? int(x)"
   ]
  },
  {
   "cell_type": "markdown",
   "metadata": {
    "geopyter": {
     "Contributors": "James Millington (james.millington@kcl.ac.uk)",
     "git": {
      "active_branch": "master",
      "author.name": "Jon Reades",
      "authored_date": "2017-08-17 19:06:58",
      "committed_date": "2017-08-17 19:06:58",
      "committer.name": "Jon Reades",
      "sha": "5e3b396ae18a982d693c4bfd86c721c7e1e21051"
     }
    }
   },
   "source": [
    "Finally, we'll add a line at the end of the loop to print out `Total: 25`  "
   ]
  },
  {
   "cell_type": "markdown",
   "metadata": {
    "geopyter": {
     "Contributors": "James Millington (james.millington@kcl.ac.uk)",
     "git": {
      "active_branch": "master",
      "author.name": "Jon Reades",
      "authored_date": "2017-08-17 19:06:58",
      "committed_date": "2017-08-17 19:06:58",
      "committer.name": "Jon Reades",
      "sha": "5e3b396ae18a982d693c4bfd86c721c7e1e21051"
     }
    }
   },
   "source": [
    "#### TASK\n",
    "Add this code: `print(\"Total: \" + str(???))`, changing `???` where appropriate, to the code cell above to print out the final total (25) once all the numbers in the list have been added.  "
   ]
  },
  {
   "cell_type": "markdown",
   "metadata": {
    "geopyter": {
     "Contributors": "James Millington (james.millington@kcl.ac.uk)",
     "git": {
      "active_branch": "master",
      "author.name": "Jon Reades",
      "authored_date": "2017-08-17 19:06:58",
      "committed_date": "2017-08-17 19:06:58",
      "committer.name": "Jon Reades",
      "sha": "5e3b396ae18a982d693c4bfd86c721c7e1e21051"
     }
    }
   },
   "source": [
    "Note: the final code you should have produced above is shown at the very bottom of this notebook - try not to look at it until you have managed to produce the desired output!"
   ]
  },
  {
   "cell_type": "markdown",
   "metadata": {
    "geopyter": {
     "Contributors": "James Millington (james.millington@kcl.ac.uk)",
     "git": {
      "active_branch": "master",
      "author.name": "Jon Reades",
      "authored_date": "2017-08-17 19:06:58",
      "committed_date": "2017-08-17 19:06:58",
      "committer.name": "Jon Reades",
      "sha": "5e3b396ae18a982d693c4bfd86c721c7e1e21051"
     }
    }
   },
   "source": [
    "### Revisiting last week's Exercise\n",
    "Hopefully you tried to write the code for the final Exercise in week 2. You may have found it either a) impossible, or b) really, really tedious. The full code for _one_ solution to the problem is shown below (there are multiple, slightly different ways this could have been achieved)."
   ]
  },
  {
   "cell_type": "markdown",
   "metadata": {
    "geopyter": {
     "Contributors": "James Millington (james.millington@kcl.ac.uk)",
     "git": {
      "active_branch": "master",
      "author.name": "Jon Reades",
      "authored_date": "2017-08-17 19:06:58",
      "committed_date": "2017-08-17 19:06:58",
      "committer.name": "Jon Reades",
      "sha": "5e3b396ae18a982d693c4bfd86c721c7e1e21051"
     }
    }
   },
   "source": [
    "#### TASK\n",
    "Read through the code to ensure you understand what it is doing. Read the comments to help."
   ]
  },
  {
   "cell_type": "code",
   "execution_count": null,
   "metadata": {
    "collapsed": true,
    "geopyter": {
     "Contributors": "James Millington (james.millington@kcl.ac.uk)",
     "git": {
      "active_branch": "master",
      "author.name": "Jon Reades",
      "authored_date": "2017-08-17 19:06:58",
      "committed_date": "2017-08-17 19:06:58",
      "committer.name": "Jon Reades",
      "sha": "5e3b396ae18a982d693c4bfd86c721c7e1e21051"
     }
    }
   },
   "outputs": [],
   "source": [
    "myInput = [1,4,2,1,2]\n",
    "\n",
    "maxValues = []     #list to hold most frequent value(s)\n",
    "maxValue  = 0      #the current most frequent value \n",
    "maxFreq = 0        #frequency of maxValue\n",
    "\n",
    "value = myInput[0]               #get the value to be counted\n",
    "if value not in maxValues:       #conditional: if this value has not already been checked\n",
    "    \n",
    "    count = myInput.count(value)  #for this value count how many times it occurs in the input list\n",
    "\n",
    "    if count > maxFreq:           #conditional: if this value is found more frequently than any other yet checked\n",
    "        maxValue = value          #update current most frequent value \n",
    "        maxFreq  = count          #update frequency of maxValue\n",
    "        maxValues = [value]       #set the maxValues list to hold ONLY this value\n",
    "    elif count == maxFreq:        #conditional: if this value has equal frequency to the current most frequently found value \n",
    "        maxValues.append(value)   #add this value to list of most frequently found values\n",
    "\n",
    "#repeat what we did for myInput[0]\n",
    "value = myInput[1]               \n",
    "if value not in maxValues:       \n",
    "    \n",
    "    count = myInput.count(value)  \n",
    "\n",
    "    if count > maxFreq:           \n",
    "        maxValue = value          \n",
    "        maxFreq  = count          \n",
    "        maxValues = [value]       \n",
    "    elif count == maxFreq:        \n",
    "        maxValues.append(value)   \n",
    "\n",
    "#repeat what we did for myInput[0]\n",
    "value = myInput[2] \n",
    "if value not in maxValues:\n",
    "    \n",
    "    count = myInput.count(value)  \n",
    "\n",
    "    if count > maxFreq:\n",
    "        maxValue = value\n",
    "        maxFreq  = count\n",
    "        maxValues = [value]\n",
    "    elif count == maxFreq:   \n",
    "        maxValues.append(value)\n",
    "\n",
    "#repeat what we did for myInput[0]\n",
    "value = myInput[3] \n",
    "if value not in maxValues:\n",
    "    \n",
    "    count = myInput.count(value)  \n",
    "\n",
    "    if count > maxFreq:\n",
    "        maxValue = value\n",
    "        maxFreq  = count\n",
    "        maxValues = [value]\n",
    "    elif count == maxFreq:   \n",
    "        maxValues.append(value)\n",
    "\n",
    "#repeat what we did for myInput[0]\n",
    "value = myInput[4] \n",
    "if value not in maxValues:\n",
    "    \n",
    "    count = myInput.count(value)  \n",
    "\n",
    "    if count > maxFreq:\n",
    "        maxValue = value\n",
    "        maxFreq  = count\n",
    "        maxValues = [value]\n",
    "    elif count == maxFreq:   \n",
    "        maxValues.append(value)\n",
    "\n",
    "if len(maxValues) > 1:             #if there is more than one value in this list, there is no single mode\n",
    "    print(\"There is no single mode in the input\")\n",
    "else:                              #otherwise there is a single mode\n",
    "    print(\"Mode is \" + str(maxValue))\n",
    "    print(\"It occurs \" + str(maxFreq) + \" times in the input\")\n",
    "print(myInput)                     #always print the input"
   ]
  },
  {
   "cell_type": "markdown",
   "metadata": {
    "geopyter": {
     "Contributors": "James Millington (james.millington@kcl.ac.uk)",
     "git": {
      "active_branch": "master",
      "author.name": "Jon Reades",
      "authored_date": "2017-08-17 19:06:58",
      "committed_date": "2017-08-17 19:06:58",
      "committer.name": "Jon Reades",
      "sha": "5e3b396ae18a982d693c4bfd86c721c7e1e21051"
     }
    }
   },
   "source": [
    "You probably noticed that there are several blocks of code repeated in the script above. This should immediately get you thinking that this code could be improved by using a loop. \n",
    "\n",
    "Using a loop for this task will improve the code in at least two ways:\n",
    "\n",
    "1. It will reduce the number of lines of code, making it quicker both to write the code in the first place and easier to understand what the script is doing (theoretically!)\n",
    "2. It will allow us to evaluate lists of ANY length (not just length 5 as above)."
   ]
  },
  {
   "cell_type": "markdown",
   "metadata": {
    "geopyter": {
     "Contributors": "James Millington (james.millington@kcl.ac.uk)",
     "git": {
      "active_branch": "master",
      "author.name": "Jon Reades",
      "authored_date": "2017-08-17 19:06:58",
      "committed_date": "2017-08-17 19:06:58",
      "committer.name": "Jon Reades",
      "sha": "5e3b396ae18a982d693c4bfd86c721c7e1e21051"
     }
    }
   },
   "source": [
    "So where do we start? Often when coding loops it can be useful to think backwards from what you want the outcome to be. In this case we already have some code and we just want to [refactor](https://en.wikipedia.org/wiki/Code_refactoring) it. So here, first we should identify what should be within the loop, what should come before it, and what should come after the loop.\n",
    "\n",
    "Hopefully in this case it is clear that the block that repeats should be within the loop (because we're doing the same thing over and over which is the whole point of a loop!). The only thing that changes in these blocks is the index in the following line: `value = myInput[4]`. So this is our clue about what should be within the loop and what it will need to iterate over. "
   ]
  },
  {
   "cell_type": "markdown",
   "metadata": {
    "geopyter": {
     "Contributors": "James Millington (james.millington@kcl.ac.uk)",
     "git": {
      "active_branch": "master",
      "author.name": "Jon Reades",
      "authored_date": "2017-08-17 19:06:58",
      "committed_date": "2017-08-17 19:06:58",
      "committer.name": "Jon Reades",
      "sha": "5e3b396ae18a982d693c4bfd86c721c7e1e21051"
     }
    }
   },
   "source": [
    "#### TASK\n",
    "Before continuing, look at the code ABOVE and see if you can work out where you would add a line of code starting `for x in` to run the code as a loop."
   ]
  },
  {
   "cell_type": "markdown",
   "metadata": {
    "geopyter": {
     "Contributors": "James Millington (james.millington@kcl.ac.uk)",
     "git": {
      "active_branch": "master",
      "author.name": "Jon Reades",
      "authored_date": "2017-08-17 19:06:58",
      "committed_date": "2017-08-17 19:06:58",
      "committer.name": "Jon Reades",
      "sha": "5e3b396ae18a982d693c4bfd86c721c7e1e21051"
     }
    }
   },
   "source": [
    "Now compare where the `for` command should go, by looking at the code below. How did you do? The code below is nearly the final version of the code above refactored to use a `for` loop. However, there are some elements of code missing (indicated by `???`) and all indentation has been removed. "
   ]
  },
  {
   "cell_type": "markdown",
   "metadata": {
    "geopyter": {
     "Contributors": "James Millington (james.millington@kcl.ac.uk)",
     "git": {
      "active_branch": "master",
      "author.name": "Jon Reades",
      "authored_date": "2017-08-17 19:06:58",
      "committed_date": "2017-08-17 19:06:58",
      "committer.name": "Jon Reades",
      "sha": "5e3b396ae18a982d693c4bfd86c721c7e1e21051"
     }
    }
   },
   "source": [
    "#### TASK\n",
    "In the code below, change `???` and add indentation as appropriate to make the loop work and produce the same output as the script above.  "
   ]
  },
  {
   "cell_type": "code",
   "execution_count": null,
   "metadata": {
    "collapsed": true,
    "geopyter": {
     "Contributors": "James Millington (james.millington@kcl.ac.uk)",
     "git": {
      "active_branch": "master",
      "author.name": "Jon Reades",
      "authored_date": "2017-08-17 19:06:58",
      "committed_date": "2017-08-17 19:06:58",
      "committer.name": "Jon Reades",
      "sha": "5e3b396ae18a982d693c4bfd86c721c7e1e21051"
     }
    }
   },
   "outputs": [],
   "source": [
    "myInput = [1,4,2,1,2]\n",
    "\n",
    "maxValues = []     #list to hold most frequent value(s)\n",
    "maxValue  = 0      #the current most frequent value \n",
    "maxFreq = 0        #frequency of maxValue\n",
    "\n",
    "for x in ???:\n",
    "    \n",
    "value = myInput[???]                #get the value to be counted\n",
    "if value not in maxValues:        #conditional: if this value has not already been checked\n",
    "    \n",
    "count = myInput.count(value)  #for this value count how many times it occurs in the input list\n",
    "\n",
    "if count > maxFreq:           #conditional: if this value is found more frequently than any other yet checked\n",
    "maxValue = value          #update current most frequent value \n",
    "maxFreq  = count          #update frequency of maxValue\n",
    "maxValues = [value]       #set the maxValues list to hold ONLY this value\n",
    "elif count == maxFreq:        #conditional: if this value has equal frequency to the current most frequently found value \n",
    "maxValues.append(value)   #add this value to list of most frequently found values\n",
    "\n",
    "if len(maxValues) > 1:             #if there is more than one value in this list, there is no single mode\n",
    "print(\"There is no single mode in the input\")\n",
    "else:                              #otherwise there is a single mode\n",
    "print(\"Mode is \" + str(maxValue))\n",
    "print(\"It occurs \" + str(maxFreq) + \" times in the input\")\n",
    "print(myInput)                     #always print the input"
   ]
  },
  {
   "cell_type": "markdown",
   "metadata": {
    "geopyter": {
     "Contributors": "James Millington (james.millington@kcl.ac.uk)",
     "git": {
      "active_branch": "master",
      "author.name": "Jon Reades",
      "authored_date": "2017-08-17 19:06:58",
      "committed_date": "2017-08-17 19:06:58",
      "committer.name": "Jon Reades",
      "sha": "5e3b396ae18a982d693c4bfd86c721c7e1e21051"
     }
    }
   },
   "source": [
    "If you have edited the code correctly the output for the initially given list should look like the following:\n",
    "\n",
    "`There is no single mode in the input`<br>\n",
    "`[1, 4, 2, 1, 2]`\n"
   ]
  },
  {
   "cell_type": "markdown",
   "metadata": {
    "geopyter": {
     "Contributors": "James Millington (james.millington@kcl.ac.uk)",
     "git": {
      "active_branch": "master",
      "author.name": "Jon Reades",
      "authored_date": "2017-08-17 19:06:58",
      "committed_date": "2017-08-17 19:06:58",
      "committer.name": "Jon Reades",
      "sha": "5e3b396ae18a982d693c4bfd86c721c7e1e21051"
     }
    }
   },
   "source": [
    "If not, things you might check are:\n",
    "\n",
    "- what is `x`? i.e. are you iterating over the elements of `myInput` or a sequence of integers produced using `xrange`?   \n",
    "- the `value` variable should be a value from `myInput` - are you creating this variable correctly? \n",
    "- have you got the indenting right? For example, `myInput` should always be printed out.  \n",
    "\n",
    "If you are still having trouble, a solution is at the bottom of this notebook... "
   ]
  },
  {
   "cell_type": "markdown",
   "metadata": {
    "geopyter": {
     "Contributors": "James Millington (james.millington@kcl.ac.uk)",
     "git": {
      "active_branch": "master",
      "author.name": "Jon Reades",
      "authored_date": "2017-08-17 19:06:58",
      "committed_date": "2017-08-17 19:06:58",
      "committer.name": "Jon Reades",
      "sha": "5e3b396ae18a982d693c4bfd86c721c7e1e21051"
     }
    }
   },
   "source": [
    "Things to think about/try here:\n",
    "- check you understand how the indentation is is working and makes it easier to read the code\n",
    "- try chainging the length of the input list to see how the code will still execute for longer lists (check you understand why this is)\n",
    "- how would the code within the loop change if the loop used `for x in myInput` and not `xrange`? \n",
    "- why is using the `maxValues` list useful?"
   ]
  },
  {
   "cell_type": "markdown",
   "metadata": {
    "geopyter": {
     "Contributors": "James Millington (james.millington@kcl.ac.uk)",
     "git": {
      "active_branch": "master",
      "author.name": "Jon Reades",
      "authored_date": "2017-08-17 19:06:58",
      "committed_date": "2017-08-17 19:06:58",
      "committer.name": "Jon Reades",
      "sha": "5e3b396ae18a982d693c4bfd86c721c7e1e21051"
     }
    }
   },
   "source": [
    "## Solutions"
   ]
  },
  {
   "cell_type": "markdown",
   "metadata": {
    "geopyter": {
     "Contributors": "James Millington (james.millington@kcl.ac.uk)",
     "git": {
      "active_branch": "master",
      "author.name": "Jon Reades",
      "authored_date": "2017-08-17 19:06:58",
      "committed_date": "2017-08-17 19:06:58",
      "committer.name": "Jon Reades",
      "sha": "5e3b396ae18a982d693c4bfd86c721c7e1e21051"
     }
    }
   },
   "source": [
    "#### A solution to the tasks in the Dictionaries section"
   ]
  },
  {
   "cell_type": "code",
   "execution_count": null,
   "metadata": {
    "collapsed": true,
    "geopyter": {
     "Contributors": "James Millington (james.millington@kcl.ac.uk)",
     "git": {
      "active_branch": "master",
      "author.name": "Jon Reades",
      "authored_date": "2017-08-17 19:06:58",
      "committed_date": "2017-08-17 19:06:58",
      "committer.name": "Jon Reades",
      "sha": "5e3b396ae18a982d693c4bfd86c721c7e1e21051"
     }
    }
   },
   "outputs": [],
   "source": [
    "cities = {\n",
    "'San Francisco': [37.77, -122.43, 'SFO'],\n",
    "'London': [51.51, -0.08, 'LDN'],\n",
    "'Paris': [48.86,2.29, 'PAR'],\n",
    "'Beijing': [39.92,116.40 ,'BEI'],\n",
    "}\n",
    "\n",
    "print(cities)\n",
    "cities['Rio de Janeiro'] = [-22.97, -43.18, 'RIO']\n",
    "print(cities)\n",
    "cities['Bristol!'] = [51.45, -2.59, 'BRI']\n",
    "\n",
    "print(cities['Bristol!'])\n",
    "print(cities.get('Bristol!'))\n",
    "\n",
    "del cities['London']\n",
    "print(cities)\n",
    "\n",
    "cities.pop('Paris')\n",
    "print(cities)"
   ]
  },
  {
   "cell_type": "markdown",
   "metadata": {
    "geopyter": {
     "Contributors": "James Millington (james.millington@kcl.ac.uk)",
     "git": {
      "active_branch": "master",
      "author.name": "Jon Reades",
      "authored_date": "2017-08-17 19:06:58",
      "committed_date": "2017-08-17 19:06:58",
      "committer.name": "Jon Reades",
      "sha": "5e3b396ae18a982d693c4bfd86c721c7e1e21051"
     }
    }
   },
   "source": [
    "#### A solution to 'Doing More with For'"
   ]
  },
  {
   "cell_type": "code",
   "execution_count": null,
   "metadata": {
    "collapsed": true,
    "geopyter": {
     "Contributors": "James Millington (james.millington@kcl.ac.uk)",
     "git": {
      "active_branch": "master",
      "author.name": "Jon Reades",
      "authored_date": "2017-08-17 19:06:58",
      "committed_date": "2017-08-17 19:06:58",
      "committer.name": "Jon Reades",
      "sha": "5e3b396ae18a982d693c4bfd86c721c7e1e21051"
     }
    }
   },
   "outputs": [],
   "source": [
    "myText = \"1, 3, 5, 7, 9, dog, cat\"\n",
    "myMixedList = myText.split(\", \")\n",
    "\n",
    "total = 0\n",
    "for x in myMixedList:\n",
    "    if x.isdigit():\n",
    "        total += int(x)\n",
    "print(\"Total: \" + str(total)) "
   ]
  },
  {
   "cell_type": "markdown",
   "metadata": {
    "geopyter": {
     "Contributors": "James Millington (james.millington@kcl.ac.uk)",
     "git": {
      "active_branch": "master",
      "author.name": "Jon Reades",
      "authored_date": "2017-08-17 19:06:58",
      "committed_date": "2017-08-17 19:06:58",
      "committer.name": "Jon Reades",
      "sha": "5e3b396ae18a982d693c4bfd86c721c7e1e21051"
     }
    }
   },
   "source": [
    "#### A solution to writing last week's Exercise with a loop"
   ]
  },
  {
   "cell_type": "code",
   "execution_count": null,
   "metadata": {
    "collapsed": true,
    "geopyter": {
     "Contributors": "James Millington (james.millington@kcl.ac.uk)",
     "git": {
      "active_branch": "master",
      "author.name": "Jon Reades",
      "authored_date": "2017-08-17 19:06:58",
      "committed_date": "2017-08-17 19:06:58",
      "committer.name": "Jon Reades",
      "sha": "5e3b396ae18a982d693c4bfd86c721c7e1e21051"
     }
    }
   },
   "outputs": [],
   "source": [
    "myInput = [1,2,2,1,2]\n",
    "\n",
    "maxValues = []     #list to hold most frequent value(s)\n",
    "maxValue  = 0      #the current most frequent value \n",
    "maxFreq = 0        #frequency of maxValue\n",
    "\n",
    "for x in xrange(len(myInput)):\n",
    "    \n",
    "    value = myInput[x]                #get the value to be counted\n",
    "    if value not in maxValues:        #conditional: if this value has not already been checked\n",
    "    \n",
    "        count = myInput.count(value)  #for this value count how many times it occurs in the input list\n",
    "\n",
    "        if count > maxFreq:           #conditional: if this value is found more frequently than any other yet checked\n",
    "            maxValue = value          #update current most frequent value \n",
    "            maxFreq  = count          #update frequency of maxValue\n",
    "            maxValues = [value]       #set the maxValues list to hold ONLY this value\n",
    "        elif count == maxFreq:        #conditional: if this value has equal frequency to the current most frequently found value \n",
    "            maxValues.append(value)   #add this value to list of most frequently found values\n",
    "\n",
    "if len(maxValues) > 1:             #if there is more than one value in this list, there is no single mode\n",
    "    print(\"There is no single mode in the input\")\n",
    "else:                              #otherwise there is a single mode\n",
    "    print(\"Mode is \" + str(maxValue))\n",
    "    print(\"It occurs \" + str(maxFreq) + \" times in the input\")\n",
    "print(myInput)"
   ]
  },
  {
   "cell_type": "markdown",
   "metadata": {
    "geopyter": {
     "Contributors": "James Millington (james.millington@kcl.ac.uk)",
     "git": {
      "active_branch": "master",
      "author.name": "Jon Reades",
      "authored_date": "2017-08-17 19:06:58",
      "committed_date": "2017-08-17 19:06:58",
      "committer.name": "Jon Reades",
      "sha": "5e3b396ae18a982d693c4bfd86c721c7e1e21051"
     }
    }
   },
   "source": [
    "#### A solution to using loops with dictionaries"
   ]
  },
  {
   "cell_type": "code",
   "execution_count": null,
   "metadata": {
    "collapsed": true,
    "geopyter": {
     "Contributors": "James Millington (james.millington@kcl.ac.uk)",
     "git": {
      "active_branch": "master",
      "author.name": "Jon Reades",
      "authored_date": "2017-08-17 19:06:58",
      "committed_date": "2017-08-17 19:06:58",
      "committer.name": "Jon Reades",
      "sha": "5e3b396ae18a982d693c4bfd86c721c7e1e21051"
     }
    }
   },
   "outputs": [],
   "source": [
    "country_pops = {\n",
    "    'China': 1379150000,\n",
    "    'USA': 324644000,\n",
    "    'India': 1330910000,\n",
    "    'Indonesia': 260581000,\n",
    "    'USA': 324644000,\n",
    "    'India': 1330910000,\n",
    "}\n",
    "\n",
    "unique_pops = {}\n",
    "for country,pop in country_pops.iteritems():  \n",
    "    if country not in unique_pops.values():  \n",
    "        unique_pops[country] = pop  \n",
    "        \n",
    "print(unique_pops)"
   ]
  },
  {
   "cell_type": "markdown",
   "metadata": {},
   "source": [
    "\n",
    "### Credits!\n",
    "\n",
    "#### Contributors:\n",
    "The following individuals have contributed to these teaching materials: James Millington (james.millington@kcl.ac.uk)\n",
    "\n",
    "#### License\n",
    "These teaching materials are licensed under a mix of the MIT and CC-BY licenses...\n",
    "\n",
    "#### Acknowledgements:\n",
    "Supported by the [Royal Geographical Society](https://www.rgs.org/HomePage.htm) (with the Institute of British Geographers) with a Ray Y Gildea Jr Award.\n",
    "\n",
    "#### Potential Dependencies:\n",
    "This notebook may depend on the following libraries: None\n"
   ]
  }
 ],
 "metadata": {
  "anaconda-cloud": {},
  "geopyter": {
   "Contributors": [
    "James Millington (james.millington@kcl.ac.uk)"
   ],
   "git": {
    "active_branch": "master",
    "author.name": "Jon Reades",
    "authored_date": "2017-08-17 19:06:58",
    "committed_date": "2017-08-17 19:06:58",
    "committer.name": "Jon Reades",
    "sha": "5e3b396ae18a982d693c4bfd86c721c7e1e21051"
   },
   "libs": {}
  },
  "kernelspec": {
   "display_name": "Python [gsa2017]",
   "language": "python",
   "name": "Python [gsa2017]"
  },
  "language_info": {
   "codemirror_mode": {
    "name": "ipython",
    "version": 2
   },
   "file_extension": ".py",
   "mimetype": "text/x-python",
   "name": "python",
   "nbconvert_exporter": "python",
   "pygments_lexer": "ipython2",
   "version": "2.7.13"
  }
 },
 "nbformat": 4,
 "nbformat_minor": 1
}
