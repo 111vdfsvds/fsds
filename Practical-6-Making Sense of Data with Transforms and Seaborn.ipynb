{
 "cells": [
  {
   "cell_type": "markdown",
   "metadata": {},
   "source": [
    "# Making Sense of Data\n",
    "\n",
    "Last week we did some basic EDA (Exploratory Data Analysis) with the MetOffice weather data, but it was limited to mainly looking at a few graphs right at the end of the practical. Thanks to that, depending on the data you got you may spotted a 'problem' or two (_e.g._ temperature readings at the start or end of the time series that were basically 0).\n",
    "\n",
    "This week we want to tackle this in a more systematic way. We are going to switch data sets because the Socio-Economic data is easier to manipulate than the weather data and it has a few features that are particularly useful for demonstrating the value of transformation and standardisation."
   ]
  },
  {
   "cell_type": "markdown",
   "metadata": {},
   "source": [
    "## Introduction: all models are wrong, but some are useful\n",
    "\n",
    "The statistician George Box [once said](https://en.wikipedia.org/wiki/All_models_are_wrong) \"all models are wrong but some are useful\". Now you might think that 'wrong' _necessarily implies_ uselessness, but this aphorism should tell you that things are a lot more interesting than that: let's review the idea of statistics as the study of a '[data-generating process](http://onlinelibrary.wiley.com/doi/10.1111/j.1467-9639.2012.00524.x/full)'. \n",
    "\n",
    "The data that we work with is a _representation_ of reality, it is not reality itself. Just because I can say that the height of human beings is normally distributed with a mean of, say, 170cm and standard deviation of 8cm doesn't mean that I've _explained_ that process. What I have done is to say that reality can be reasonably well approximated by a data-generating process that uses the normal distribution. \n",
    "\n",
    "Given that understanding of height distributions, I know that someone with a heigh of 2m is very, very improbable. Not impossible, just highly unlikely. So if I meet someone that tall then that's quite exciting! But my use of a normal distribution to represent the empirical reality of human height doesn't mean that I think it is _actually_ distributed randomly amongst all human beings in a gigantic lottery system: some parts of the world are typically shorter, other parts typically taller; some families are typically shorter, while others are typically taller...\n",
    "\n",
    "So the _real_ reason for someone's height is to do with, I assume, a mix of genetics and nutrition. However, across large groups of people it's possible to _represent_ the cumulative impact of those individual realities with a simple normal distribution. And using that simplified data-generating process allows me to do things like estimate the likelihood of meeting someone more than 2m tall (which is why I'd be excited to do so, though not as excited as the guy in the next video...).\n",
    "\n",
    "Here's a (genuinely terrifying) video that tries to explain this whole idea in a different way:\n",
    "\n",
    "[![From reality to make-believe](http://img.youtube.com/vi/HAfI0g_S9oo/0.jpg)](https://www.youtube.com/watch?v=HAfI0g_S9oo)\n",
    "\n",
    "In the same way, real individuals earn different incomes for all sorts of reasons: skills, education, negotiation ability... and, of course, systematic discrimination or bias. Because of wide variations in individual lived experience, it's quite hard to _prove_ that any _one_ person has been discriminated against unless you have the 'smoking gun' of an email or other direct evidence that this has happened. \n",
    "\n",
    "But if I have data on _many_ men and women (from a company, industry, or society) to work with, then I can take a look at what data-generting processes best describe what I've observed. And I can also create a data generating process that would describe what I'd _expect_ to see if no systematic discrimination were taking place at all. I make that sound simple but, of course, it's really hard to do this properly: do you account for the fact that discrimination has probably happened throughout someone's lifetime, not just in their most recent job? And so on.\n",
    "\n",
    "But, when we have created a data-generating process that captures this at what we feel is an appropriate level, then the analytical process becomes about testing to see if there is a _significant_ difference between what I expected and what I observed. Once we've done that, then we can start to rule out claims that 'there are no good candidates' and the other defences of the indefensible. It is always theoretically _possible_ that a company had trouble finding qualified candidates, but as you put together the evidence from your model it may well  become increasingly _improbable_.\n",
    "\n",
    "So, always remember that, while the data is not reality, it _is_ a very useful abstraction of reality that allows us to make certain claims about what we expected to see. Linking our observations to what we know about the characteristics of the data generating process then allows us to look at the _significance_ of our results or to search for outliers in the data that seem highly improbable and, consequently, worth further investigation."
   ]
  },
  {
   "cell_type": "markdown",
   "metadata": {},
   "source": [
    "## Socio-economic Classification Data\n",
    "\n",
    "Many governments publish large data sets drawn from a national Census that takes place every 5 or 10 years. And we know that things like education and income affect people's life chances in the long-run: higher levels of education, higher incomes, more senior jobs, and owning a house (instead of renting) tend to be linked to better health and other long-term advantages. \n",
    "\n",
    "So if we want to understand the distribution of these advantages in the population as a whole it might be handy to derive a 'class' for every household based on their levels of education, their job, their, health, and so forth. We're not saying that these 'classes' are objective realities since you could clearly slice and dice income, profession, and so on in a nearly infinite number of ways; but we can look in the data for 'natural breaks' or other meanignful thresholds (given our assumptions about the 'data generating process'). \n",
    "\n",
    "We can then look at how those classes are distributed across an area to see whether or not there is mixing (generally thought to be a good thing), or to select an area for further investigation as part of a case study. In the UK this [classification](http://www.statistics.gov.uk/downloads/theme_compendia/ESRC_Review.pdf) is known as the National Statistics Socio-economic Classifcation (NS-SeC). You really should [read the manual](http://webarchive.nationalarchives.gov.uk/20160105160709/http://www.ons.gov.uk/ons/guide-method/classifications/current-standard-classifications/soc2010/soc2010-volume-3-ns-sec--rebased-on-soc2010--user-manual/index.html) before trying to work with this data for research (or an end-of-term essay) but the main point is the 8-fold classifcation:\n",
    "\n",
    "| Analytic Class | Description |\n",
    "| --- | --- |\n",
    "| 1 | Higher managerial and professional occupations |\n",
    "| 2 | Lower managerial and professional occupations |\n",
    "| 3 | Intermediate occupations (clerical, sales, service) |\n",
    "| 4 | Small employers and own account workers |\n",
    "| 5 | Lower supervisory and technical occupations |\n",
    "| 6 | Semi-routine occupations |\n",
    "| 7 | Routine occupations |\n",
    "| 8 | Never worked or long-term unemployed |\n",
    "| NC | Not classified elsewhere |\n",
    "\n",
    "These can be grouped into a higher-level 3-fold classification:\n",
    "\n",
    "| Class | Description |\n",
    "| --- | --- |\n",
    "| 1 | Higher occupations |\n",
    "| 2 | Intermediate occupations |\n",
    "| 3 | Lower occupations |\n",
    "\n",
    "And they can also be disaggregated into more detailed groups to support additional analyses."
   ]
  },
  {
   "cell_type": "markdown",
   "metadata": {},
   "source": [
    "----\n",
    "# Using InFuse to Access U.K. Census Data\n",
    "To obtain the NS-SeC data you'll have to visit the [InFuse](http://infuse.mimas.ac.uk) web site. Here's what you'll need to do:\n",
    "1. Select the 2011 Census data\n",
    "2. Scroll down the 'Filters' on the left-hand side of the page until you find 'NS-SeC' (*note*: there are _four_ NS-SeC options)\n",
    "3. Select the following filter: \"NS-SeC (National Statistics Socio-economic Classification) of household reference person\"\n",
    "4. Select the first option (Usual resident population; NS-SeC) from the range of data sets offered\n",
    "5. Read about the selected topic and then click 'Next'\n",
    "6. Select 'Total', classes 1–8, and Not Classified using the checkboxes. *[Note: you may wish to remember that other sub-classes exist that might help you to undertake individual research.]*\n",
    "7. Click 'Add' to add these to the 'Selected category combinations' below (it should say \"You have selected 10 category combinations)\n",
    "8. Click 'Next'\n",
    "9. Select 'Lower Super Output Areas' (42,619 areas) from the checkboxes and then click 'Add'\n",
    "10. Click 'Next', review the data extract information, and then click 'Get the data'\n",
    "11. When the big red 'Download the data' button appears after a few seconds click to download the data.\n",
    "12. Save the data to the _same folder_ as this notebook.\n",
    "\n",
    "If you've followed the steps above carefully, you should now have a Zip file showing in the 'Home' tab of the Jupyter application (the tab from which you launched this notebook).\n",
    "\n",
    "## Quick Sense Check\n",
    "\n",
    "We've just downloaded a data set consisting of _at least_ 42,619 rows and 11 columns (the location for the data, the total, groups 1–8, and NC classes), so that's a matrix with a minimum size of more than 468,000 cells. This is _technically_ load-able into Excel but it won't be much fun to work with: how do we quickly select/plot/compare when we need to drag each formula down 42,000 rows?\n",
    "\n",
    "This is why we want to use Python/pandas instead of push-button tools."
   ]
  },
  {
   "cell_type": "markdown",
   "metadata": {},
   "source": [
    "## Extracting Zipfiles using Python\n",
    "\n",
    "You could always unzip the downloaded file manually by double-clicking the zipfile, but given that we're programming in Python perhaps we could do it a different way?\n",
    "\n",
    "Perhaps [Google](http://www.google.com/) has the answer to 'unzipping zip files python'? And perhaps the first answer in that list will be something from [StackOverflow](http://stackoverflow.com/questions/3451111/unzipping-files-in-python)? "
   ]
  },
  {
   "cell_type": "code",
   "execution_count": null,
   "metadata": {
    "collapsed": true
   },
   "outputs": [],
   "source": [
    "import zipfile\n",
    "zip_ref = zipfile.ZipFile('2016101682859716_NSSHRP_UNIT_URESPOP.zip', 'r') # ???\n",
    "zip_ref.extractall('./Data/')\n",
    "zip_ref.close()"
   ]
  },
  {
   "cell_type": "markdown",
   "metadata": {},
   "source": [
    "## U.K. Census Data Layout\n",
    "\n",
    "If all has gone well you should now have a folder called 'Data' inside the folder where this notebook sits. The Data folder contains three files:\n",
    "\n",
    "1. citations.rtf – this is information about how to reference this data set so that other people know where it came from. \n",
    "2. Data_NSSHRP_UNIT_URESPOP.csv – this looks promising...\n",
    "3. Meta_NSSHRP_UNIT_URESPOP.csv – this file takes a little getting used to but it's very, very important since it's the metadata that describes each column in our downloaded data file!\n",
    "\n",
    "The hardest thing about the metadata file is that several rows can relate to _one_ column in the data file. That's because each row is giving us _different_ information about what the column contains: what's it about, where did it come from, what format is it in? Etc.\n",
    "\n",
    "Let's be _bit_ naughty and just see what happens if we try to load the _data_ file directly into pandas..."
   ]
  },
  {
   "cell_type": "code",
   "execution_count": 1,
   "metadata": {
    "collapsed": false
   },
   "outputs": [
    {
     "name": "stderr",
     "output_type": "stream",
     "text": [
      "/Applications/anaconda/lib/python2.7/site-packages/IPython/core/interactiveshell.py:2723: DtypeWarning: Columns (5,6,7,8,9,10,11,12,13,14) have mixed types. Specify dtype option on import or set low_memory=False.\n",
      "  interactivity=interactivity, compiler=compiler, result=result)\n"
     ]
    },
    {
     "data": {
      "text/html": [
       "<div>\n",
       "<table border=\"1\" class=\"dataframe\">\n",
       "  <thead>\n",
       "    <tr style=\"text-align: right;\">\n",
       "      <th></th>\n",
       "      <th>CDU_ID</th>\n",
       "      <th>GEO_CODE</th>\n",
       "      <th>GEO_LABEL</th>\n",
       "      <th>GEO_TYPE</th>\n",
       "      <th>GEO_TYP2</th>\n",
       "      <th>F2084</th>\n",
       "      <th>F2085</th>\n",
       "      <th>F2094</th>\n",
       "      <th>F2102</th>\n",
       "      <th>F2107</th>\n",
       "      <th>F2114</th>\n",
       "      <th>F2119</th>\n",
       "      <th>F2127</th>\n",
       "      <th>F2133</th>\n",
       "      <th>F2136</th>\n",
       "      <th>Unnamed: 15</th>\n",
       "    </tr>\n",
       "  </thead>\n",
       "  <tbody>\n",
       "    <tr>\n",
       "      <th>0</th>\n",
       "      <td>NaN</td>\n",
       "      <td>NaN</td>\n",
       "      <td>NaN</td>\n",
       "      <td>NaN</td>\n",
       "      <td>NaN</td>\n",
       "      <td>NS-SeC (National Statistics Socio-economic Cla...</td>\n",
       "      <td>NS-SeC (National Statistics Socio-economic Cla...</td>\n",
       "      <td>NS-SeC (National Statistics Socio-economic Cla...</td>\n",
       "      <td>NS-SeC (National Statistics Socio-economic Cla...</td>\n",
       "      <td>NS-SeC (National Statistics Socio-economic Cla...</td>\n",
       "      <td>NS-SeC (National Statistics Socio-economic Cla...</td>\n",
       "      <td>NS-SeC (National Statistics Socio-economic Cla...</td>\n",
       "      <td>NS-SeC (National Statistics Socio-economic Cla...</td>\n",
       "      <td>NS-SeC (National Statistics Socio-economic Cla...</td>\n",
       "      <td>NS-SeC (National Statistics Socio-economic Cla...</td>\n",
       "      <td>NaN</td>\n",
       "    </tr>\n",
       "    <tr>\n",
       "      <th>1</th>\n",
       "      <td>18373.0</td>\n",
       "      <td>95AA01S1</td>\n",
       "      <td>Aldergrove_1</td>\n",
       "      <td>Lower Super Output Areas and Data Zones</td>\n",
       "      <td>LSOADZ</td>\n",
       "      <td>982</td>\n",
       "      <td>98</td>\n",
       "      <td>464</td>\n",
       "      <td>234</td>\n",
       "      <td>35</td>\n",
       "      <td>80</td>\n",
       "      <td>39</td>\n",
       "      <td>25</td>\n",
       "      <td>0</td>\n",
       "      <td>NaN</td>\n",
       "      <td>NaN</td>\n",
       "    </tr>\n",
       "    <tr>\n",
       "      <th>2</th>\n",
       "      <td>18374.0</td>\n",
       "      <td>95AA01S2</td>\n",
       "      <td>Aldergrove_2</td>\n",
       "      <td>Lower Super Output Areas and Data Zones</td>\n",
       "      <td>LSOADZ</td>\n",
       "      <td>1814</td>\n",
       "      <td>256</td>\n",
       "      <td>417</td>\n",
       "      <td>170</td>\n",
       "      <td>446</td>\n",
       "      <td>162</td>\n",
       "      <td>156</td>\n",
       "      <td>156</td>\n",
       "      <td>47</td>\n",
       "      <td>NaN</td>\n",
       "      <td>NaN</td>\n",
       "    </tr>\n",
       "  </tbody>\n",
       "</table>\n",
       "</div>"
      ],
      "text/plain": [
       "    CDU_ID   GEO_CODE     GEO_LABEL                                 GEO_TYPE  \\\n",
       "0      NaN        NaN           NaN                                      NaN   \n",
       "1  18373.0  95AA01S1   Aldergrove_1  Lower Super Output Areas and Data Zones   \n",
       "2  18374.0  95AA01S2   Aldergrove_2  Lower Super Output Areas and Data Zones   \n",
       "\n",
       "  GEO_TYP2                                              F2084  \\\n",
       "0      NaN  NS-SeC (National Statistics Socio-economic Cla...   \n",
       "1   LSOADZ                                                982   \n",
       "2   LSOADZ                                               1814   \n",
       "\n",
       "                                               F2085  \\\n",
       "0  NS-SeC (National Statistics Socio-economic Cla...   \n",
       "1                                                 98   \n",
       "2                                                256   \n",
       "\n",
       "                                               F2094  \\\n",
       "0  NS-SeC (National Statistics Socio-economic Cla...   \n",
       "1                                                464   \n",
       "2                                                417   \n",
       "\n",
       "                                               F2102  \\\n",
       "0  NS-SeC (National Statistics Socio-economic Cla...   \n",
       "1                                                234   \n",
       "2                                                170   \n",
       "\n",
       "                                               F2107  \\\n",
       "0  NS-SeC (National Statistics Socio-economic Cla...   \n",
       "1                                                 35   \n",
       "2                                                446   \n",
       "\n",
       "                                               F2114  \\\n",
       "0  NS-SeC (National Statistics Socio-economic Cla...   \n",
       "1                                                 80   \n",
       "2                                                162   \n",
       "\n",
       "                                               F2119  \\\n",
       "0  NS-SeC (National Statistics Socio-economic Cla...   \n",
       "1                                                 39   \n",
       "2                                                156   \n",
       "\n",
       "                                               F2127  \\\n",
       "0  NS-SeC (National Statistics Socio-economic Cla...   \n",
       "1                                                 25   \n",
       "2                                                156   \n",
       "\n",
       "                                               F2133  \\\n",
       "0  NS-SeC (National Statistics Socio-economic Cla...   \n",
       "1                                                  0   \n",
       "2                                                 47   \n",
       "\n",
       "                                               F2136  Unnamed: 15  \n",
       "0  NS-SeC (National Statistics Socio-economic Cla...          NaN  \n",
       "1                                                NaN          NaN  \n",
       "2                                                NaN          NaN  "
      ]
     },
     "execution_count": 1,
     "metadata": {},
     "output_type": "execute_result"
    }
   ],
   "source": [
    "import pandas as pd\n",
    "df = pd.read_csv('./Data/Data_NSSHRP_UNIT_URESPOP.csv')\n",
    "df.head(3)"
   ]
  },
  {
   "cell_type": "markdown",
   "metadata": {},
   "source": [
    "It should be pretty obvious that this isn't quite what we want: although we did get the variable names from the first row of the file, row 0 of our data frame still contains metadata! _And_ pandas also tried to warn you about this likely problem by talking about \"<span style=\"color:red\">DtypeWarning: Columns (5,6,7,8,9,10,11,12,13,14) have mixed types</span>\".\n",
    "\n",
    "## Interlude: Doing more with `less`\n",
    "\n",
    "Although we can do a lot programmatically in Python, sometimes it's just faster and easier to 'drop' into the command line to have a peek at what's going on. There is a set of utilities (`less`, `head` and `tail`) that are particularly useful for looking at data _before_ you try to load it into a script or spreadsheet. Let's take a look:\n",
    "\n",
    "[![Using the Terminal](http://img.youtube.com/vi/x7Aw5ZYp_Sk/0.jpg)](http://www.youtube.com/watch?v=x7Aw5ZYp_Sk)\n",
    "\n",
    "So one thing that you _could_ do is use the Terminal to look at the first few lines of the data file in order to get a sense of what's there and what you might be able to do about it. That's _before_ you try to just blindly load the entire data set into pandas...\n",
    "\n",
    "## Controling Headers in Pandas\n",
    "\n",
    "Of course, if we had to open this file in Excel in order to remove the extra rows then that wouldn't be very useful, would it? Now it's time to see what we can do in pandas to tidy this up _when_ we do the import. I'd suggest looking at the [pandas documentation](http://pandas.pydata.org/pandas-docs/stable/generated/pandas.read_csv.html) for `read_csv`, and in particular at the following options that can be _passed_ to `read_csv()`:\n",
    "* header\n",
    "* names\n",
    "* usecols\n",
    "* skiprows\n",
    "* nrows\n",
    "\n",
    "By way of guidance:\n",
    "* I would _suggest_ that you skip one row\n",
    "* I would _suggest_ that you drop one of the columns immediately after the import\n",
    "* I would _suggest_ that you specify your own column names only after loading the data\n",
    "* I would _suggest_ that while you get this right you only read a small number of rows\n",
    "\n",
    "Try to develop the answer yourself by adding one parameter at a time to _build_ a working import statement (don't try all of these options at once!). This is critical: you _will not get it right first time_, so you need to take an incremental approach and assemble the code a little bit at a time. We keep coming back to this, but it _always_ bears repeating: rather than write all of your code and then cross your fingers, start with a small thing that _works_ and then build outwards from there. I've given you one parameter to get you started...\n",
    "\n",
    "Now over to you! *[Note: if you get stuck, answer at the end of the notebook.]"
   ]
  },
  {
   "cell_type": "code",
   "execution_count": null,
   "metadata": {
    "collapsed": false
   },
   "outputs": [],
   "source": [
    "df = pd.read_csv('./Data/Data_NSSHRP_UNIT_URESPOP.csv', nrows=1)\n",
    "df.head()"
   ]
  },
  {
   "cell_type": "markdown",
   "metadata": {},
   "source": [
    "### Finally\n",
    "\n",
    "To ensure that you end up with the same column names that I do, please add this to your code in the coding area below (and add some comments so that you know what's going on!):\n",
    "```python\n",
    "colnames = ['CDU','GeoCode','GeoLabel','GeoType','GeoType2','Total']\n",
    "for i in range(1,9):\n",
    "    colnames.append('Group' + str(i))\n",
    "colnames.append('NC')\n",
    "df.columns = colnames\n",
    "```\n",
    "\n",
    "You've now written the components of a Python script that can take a file downloaded from InFuse, automatically extract the contents from a Zip archive, and then load the data into pandas automatically. Now that we've done it for _one_ file, we can work out how to do it for _any_ file. That's what we mean by scalability: yes, the column names will be different for other files downloaded from InFuse, but the _process_ is the same: we could create a function that handles all of this for us and the only thing it would need is the names that we want to use for the columns! "
   ]
  },
  {
   "cell_type": "code",
   "execution_count": null,
   "metadata": {
    "collapsed": true
   },
   "outputs": [],
   "source": []
  },
  {
   "cell_type": "markdown",
   "metadata": {},
   "source": [
    "# Working with a Data Series\n",
    "\n",
    "We've already done quite a bit with the Series (i.e. column) class offered by pandas, but I want to revisit it so that you understand why getting to grips with how the series works (especially the 'index', which is a special type of series) is crucial to getting the most out of pandas.\n",
    "\n",
    "## Adding a New Series\n",
    "\n",
    "You saw last week that you can add a new series to an existing data frame using the dictionary-like syntax:\n",
    "```python\n",
    "df['<new series name>'] = pd.Series(... <series definition> ...)\n",
    "``` \n",
    "But just to remind you: see how familiar that syntax is? `df['NewSeriesName']` is _exactly_ like creating and assigning a new key/value pair to a dictionary! The only difference here is that the 'value' we store in the dictionary is a Series object, and not a simple variable (String, int, float)."
   ]
  },
  {
   "cell_type": "markdown",
   "metadata": {},
   "source": [
    "## Data Series & Indexing\n",
    "\n",
    "A DataFrame is composed of one or more data series (columns) objects and an index that is a non-data column useful for finding individual observations. In our 'city data' data set, the index would be the city names themselves because the names _aren't_ data in the usual sense: you can't calculate a mean from them and they aren't categorical variables (e.g. 'Metro' vs 'Town') that we'd use for grouping. They are unique non-data values, so that's your index.\n",
    "\n",
    "## Creating your own index\n",
    "\n",
    "Ordinarily, the data making up a df are read directly from a file and the index is automatically built using the first available 'index-like' column in the file. But you are not bound by what pandas thinks is the 'right' thing to do: you can set any column as an index, or even create one of your own!\n",
    "\n",
    "For instance, let's say that you wanted a series containing only latitudes for British cities, you could create a new Series with this custom index as follows:\n",
    "```python\n",
    "myLatitudes = pd.Series(\n",
    "    [7063197, 6708480, 6703134, 7538620], \n",
    "    index = ['Liverpool', 'Bristol', 'Reading', 'Glasgow']\n",
    ")\n",
    "```\n",
    "In this case, the index is a list of cities and it would, generally, make it quite quick to look up the latitude of any of the cities listed. You are never limited to _only_ looking up values by index, but this is usually faster."
   ]
  },
  {
   "cell_type": "code",
   "execution_count": null,
   "metadata": {
    "collapsed": true
   },
   "outputs": [],
   "source": [
    "import pandas as pd\n",
    "myLatitudes = pd.Series(\n",
    "    [7063197, 6708480, 6703134, 7538620], \n",
    "    index = ['Liverpool', 'Bristol', 'Reading', 'Glasgow']\n",
    ")\n",
    "print \"Type of myLatitudes: \"      + str(type(myLatitudes))\n",
    "print \"Access like a dictionary: \" + str(myLatitudes['Liverpool'])\n",
    "print \"Access like a method: \"     + str(myLatitudes.Liverpool)\n",
    "\n",
    "myLatitudes.Bristol = '555000'\n",
    "\n",
    "print \"Updated latitude: \" + str(myLatitudes.Bristol)"
   ]
  },
  {
   "cell_type": "markdown",
   "metadata": {},
   "source": [
    "You'll notice that we also just accessed the df in two different ways -- understanding the strengths and weaknesses of these two approaches is really important:\n",
    "\n",
    "1. The 'method' approach (`<df>.<series name>` and `<df>.<index name>`) makes for code that is easy to read. A good example of that would be the `df.Population.mean()` that we saw above.\n",
    "\n",
    "2. The 'dictionary' approach (`<df>['<series name>']` and `<df>['<index value>']`) is helpful when there is potentially ambiguity about what you want Python to do (you shouldn't run into this problem very often), but it's mainly about being able to access or modify a _range_ of values... as we'll see below."
   ]
  },
  {
   "cell_type": "markdown",
   "metadata": {},
   "source": [
    "## Access Data Using `loc` and `iloc`\n",
    "\n",
    "So, what about if you wanted to select several values from the df at the same time? How do you select, say, rows in the range from 0 to 2, or select Bristol and Glasgow in one go? \n",
    "\n",
    "Here's how:"
   ]
  },
  {
   "cell_type": "code",
   "execution_count": null,
   "metadata": {
    "collapsed": true
   },
   "outputs": [],
   "source": [
    "# Access like a list\n",
    "print myLatitudes.iloc[0:2]\n",
    "\n",
    "print \"\\n\"\n",
    "\n",
    "# Access a range\n",
    "print myLatitudes.loc['Reading':]\n",
    "\n",
    "print \"\\n\"\n",
    "\n",
    "# Access non-sequential values\n",
    "print myLatitudes.loc[ ['Bristol','Glasgow'] ]"
   ]
  },
  {
   "cell_type": "markdown",
   "metadata": {},
   "source": [
    "A simple mnemonic for loc and iloc is that iloc is about using _integers_ (i == integers) to to help you to find something in the data frame (like working with a list), while loc is about using the index _directly_ in a list-like way.\n",
    "\n",
    "*Note*: there is a [lot more](http://pandas.pydata.org/pandas-docs/version/0.18.1/indexing.html#selection-by-position) that you can do with this."
   ]
  },
  {
   "cell_type": "markdown",
   "metadata": {},
   "source": [
    "----\n",
    "\n",
    "# Transformation\n",
    "\n",
    "Now let's look at _why_ we just talked some more about the data series. It is _very_ rare that you want to overwrite the raw data columns that you loaded from a file or read from an API. Why? Because I can pretty much guarantee you that at some point you'll wonder if you made a mistake and will need to check your results. Or someone _else_ will wonder if you made a mistake and want to check your results. Or you'll decide that your first approach wasn't the right one and will want to recalculate a derived variable... unless you've overwritten the original! So you will _usually_ want to write a transformed set of data values into a new column (last week it was `df3.Time` to hold the transformed data from `df3.ts`).\n",
    "\n",
    "Anyway, transformations are useful when a data series has features that make comparisons or analysis difficult, or that affect our ability to intuit meaningful difference. By manipulating the data using one or more mathematical operations we can sometimes make it more *tractable* for subsequent analysis.\n",
    "\n",
    "Here's an example: let's say that we want to understand how student heights are distributed within a class. It's not at all easy if all you have to go on is a list of raw heights: 160cm, 158cm, 150cm, 185cm, 172cm, 175cm, 166cm... and, of course, Mr. Bill Gates himself, to know how big a range you've got on your hands and where people fall relative to the mean."
   ]
  },
  {
   "cell_type": "markdown",
   "metadata": {},
   "source": [
    "Let's try writing this out as Python code:\n",
    "```python\n",
    "# Create an empty data frame to \n",
    "# hold our height data\n",
    "df2 = pd.DataFrame() \n",
    "```\n",
    "Here we've created an empty data frame – as yet it contains no data.\n",
    "```python\n",
    "# Create and add a series\n",
    "df2['Height'] = pd.Series(\n",
    "    [160, 158, 150, 185, 172, 175, 166, 168],\n",
    "    index = ['Judy','Frank', 'Alice', 'Eve', 'Bob', 'Carlos', 'Dan', 'Bill G.']\n",
    ")\n",
    "```\n",
    "Then we create a new data series: the data for the series is the heights, the index is the name of the student. We assign this new data series to 'Heights' in the data frame.\n",
    "```python\n",
    "# Look at the results\n",
    "df2.describe()\n",
    "```\n",
    "And, as always, a good next step is to check that you got what you expected."
   ]
  },
  {
   "cell_type": "code",
   "execution_count": null,
   "metadata": {
    "collapsed": false
   },
   "outputs": [],
   "source": [
    "df2 = pd.DataFrame() \n",
    "\n",
    "# Create and add a series\n",
    "df2['Height'] = pd.Series(\n",
    "    [160, 158, 150, 185, 172, 175, 166, 168],\n",
    "    index = ['Judy','Frank', 'Alice', 'Eve', 'Bob', 'Carlos', 'Dan', 'Bill G.']\n",
    ")\n",
    "\n",
    "# Look at the results\n",
    "df2.describe()"
   ]
  },
  {
   "cell_type": "markdown",
   "metadata": {},
   "source": [
    "Now let's add their wealth..."
   ]
  },
  {
   "cell_type": "code",
   "execution_count": null,
   "metadata": {
    "collapsed": false
   },
   "outputs": [],
   "source": [
    "df2['Wealth'] = pd.Series([28300, 21258, 37234, 32748, 18536, 75093, 124382, 5124398742348], index=df2.index)\n",
    "\n",
    "# Check the results\n",
    "df2.describe()"
   ]
  },
  {
   "cell_type": "markdown",
   "metadata": {},
   "source": [
    "## Subtracting the Mean\n",
    "\n",
    "An obvious first step to understanding this student data would be to use the mean ($\\mu$) from the data since that tells us the _average_ height and wealth of all students in the class. But wouldn't it be even _more_ interesting to be able to look at how tall students are _relative_ to the mean? Is there someone from the basketball team taking this course? Or maybe the cox from a crew? How could we make it easy to compare the difference between each student and the overall class average in order to spot these 'special cases'?\n",
    "\n",
    "In many cases, the best way to make this comparison is to _subtract the mean_. Why is that? What does it achieve?\n",
    "\n",
    "Let's think it out:\n",
    "1. If a student is shorter _than average_ then their transformed height is less than 0\n",
    "2. If a student is taller _than average_ then their transformed height is more than 0\n",
    "3. The distance from 0 (e.g. -20 vs -3) gives us _some_ sense of how short or how tall someone is relative to that mean\n",
    "\n",
    "In a mathematical form we'd write this transformation as:\n",
    "$$\n",
    "x - \\mu\n",
    "$$\n",
    "\n",
    "In pandas we can express this transformation as:\n",
    "```python\n",
    "df['<new column name>'] = df.<column>-df.<column>.mean())\n",
    "df.describe()\n",
    "```\n",
    "\n",
    "We can break this apart as:\n",
    "\n",
    "* `df.<column>` – this is the _entire_ data series\n",
    "* `df.<column>.mean()` – this calculates the mean ($\\mu$) of the data series\n",
    "* We perform this calculation and then use the results to create a new data series\n",
    "* We assign this series to a new column in the data frame called `<new column name>`.\n",
    "\n",
    "Pandas is smart enough to know that it needs to take _each_ student height and then subtract the mean height of all students from that value. So even though it looks like we're performing a single calculation, we're actually performing as many calculations as there are rows in the data frame but without needing to write any tricky code!\n",
    "\n",
    "To recap: looking at the heights of the students (whether in code or in the notebook generally) it's hard to tell how far each student is from average, and who might be especially (*significantly*) tall or short. When this happens we can _transform_ the raw data in order to make it easier to see and interpret this variation.\n",
    "\n",
    "*Remember*: subtracting the mean is a linear transformation (unlike the log-transform).\n",
    "\n",
    "Try the transformation in the coding area below:"
   ]
  },
  {
   "cell_type": "code",
   "execution_count": null,
   "metadata": {
    "collapsed": false
   },
   "outputs": [],
   "source": [
    "df2['TransformedHeights'] = df.???-df.???\n",
    "df2['TransformedWealth']  = df.???-df.???\n",
    "df2.describe()"
   ]
  },
  {
   "cell_type": "markdown",
   "metadata": {},
   "source": [
    "What do the Transformed Heights mean? Does the notation make any sense to you? It may help to remember that Python, like nearly all programming languages, can rack up very, very minute errors when working with floating point numbers.\n",
    "\n",
    "So the output is in something called scientific notation, where numbers are represented using an exponent for accuracy and consistency in the formatting. To change this, try a Google search on `\"python data frame force non-scientific output\"`. You should find a solution in the first few results. \n",
    "\n",
    "The concept of `lambda` is something we haven't seen before: previously, when we wanted to define a function we _had_ to use `def <function name>:`, but sometimes we just need a tiny snippet of code to do something useful in a function-like way and don't want to have to write a full definition. That's where `labmda` comes in: it is creating something called an *anonymous* function, meaning that we can define a function without giving it a name. Why is this useful? [Read more about lambda](https://pythonconquerstheuniverse.wordpress.com/2011/08/29/lambda_tutorial/)."
   ]
  },
  {
   "cell_type": "markdown",
   "metadata": {},
   "source": [
    "# Looking at the Effect of a Transformation\n",
    "\n",
    "Now let’s see what effect this transformation has on real-world data. Let's go back to 'real world' of the NS-SeC data about socioeconomic 'class' from the UK and print out a few summary metrics:"
   ]
  },
  {
   "cell_type": "code",
   "execution_count": 4,
   "metadata": {
    "collapsed": false
   },
   "outputs": [
    {
     "name": "stdout",
     "output_type": "stream",
     "text": [
      "Summarising Group1...\n",
      "count   42619.000\n",
      "mean      194.482\n",
      "std       138.511\n",
      "min         0.000\n",
      "25%        88.000\n",
      "50%       161.000\n",
      "75%       270.000\n",
      "max      1252.000\n",
      "Name: Group1, dtype: float64\n",
      "\n",
      "\n",
      "Prettily formatted metrics from Group1...\n",
      "\tMedian:    161.0\n",
      "\tLQ:         88.0\n",
      "\tUQ:        270.0\n",
      "\tRange:    1252.0\n"
     ]
    }
   ],
   "source": [
    "# Print pandas summary for group\n",
    "series = df.Group1\n",
    "print \"Summarising \" + series.name + \"...\"\n",
    "print series.describe()\n",
    "print \"\\n\"\n",
    "\n",
    "# Or we can print just what we want!\n",
    "print \"Prettily formatted metrics from \" + series.name + \"...\"\n",
    "print \"\\tMedian:  {0:> 7.1f}\".format(series.median())\n",
    "print \"\\tLQ:      {0:> 7.1f}\".format(series.quantile(0.25))\n",
    "print \"\\tUQ:      {0:> 7.1f}\".format(series.quantile(0.75))\n",
    "print \"\\tRange:   {0:> 7.1f}\".format( (series.max()-series.min()) ) "
   ]
  },
  {
   "cell_type": "markdown",
   "metadata": {},
   "source": [
    "In the coding block below, why don't you use what we've just learned about transformations to subtract the mean from each Group1 cell and assign the result to a new series called `Group1LessMean`, for which we then print out the pretty-printed summary?\n",
    "\n",
    "Why do you think I have asked you to copy the new column (`df.Group1LessMean`) to a new variable called `series`? What if I asked you to do the same for Group 2? Constructively lazy!"
   ]
  },
  {
   "cell_type": "code",
   "execution_count": null,
   "metadata": {
    "collapsed": false
   },
   "outputs": [],
   "source": [
    "# Calculate and assign a transformed variable\n",
    "# to the data frame...\n",
    "df['Group1LessMean'] = ???\n",
    "\n",
    "# Copy the new column to a variable called 'series'\n",
    "???\n",
    "\n",
    "# Or we can do pretty numbers!\n",
    "print \"Prettily formatted metrics from \" + series.name + \"...\"\n",
    "print \"\\tMedian:  {0:> 8.1f}\".format(series.median())\n",
    "print \"\\tLQ:      {0:> 8.1f}\".format(series.quantile(0.25))\n",
    "print \"\\tUQ:      {0:> 8.1f}\".format(series.quantile(0.75))\n",
    "print \"\\tRange:   {0:> 8.1f}\".format(series.max()-series.min())"
   ]
  },
  {
   "cell_type": "markdown",
   "metadata": {},
   "source": [
    "If you compare the results how important are the changes? Which metrics have changed, and which remain unaffected?"
   ]
  },
  {
   "cell_type": "markdown",
   "metadata": {},
   "source": [
    "### String Formatting for Pretty-Printed Numbers \n",
    "\n",
    "Notice also the `<string>.format()` command I’ve used here: `{0:> 8.1f}`. In order to understand how this works for formatting the results in a nice, systematic way you will need to read  [the documentation](http://www.python.org/dev/peps/pep-3101/)\n",
    "\n",
    "The 'pep' tells you that:\n",
    "* `{0}` tells Python to grab the first value inside the parentheses (`format(... values ...)`) and to stick it into the string at this point, but `:...` tells Python that we also format the string in a particular way specified in the `...`.\n",
    "* `>` tells Python that the string should be right-aligned.\n",
    "* The space (' ') next to the > says that any 'fill' should be done with whitespace (you could also do it with a 0).\n",
    "* `8.1f` tells Python to treat anything it gets as a float (even if the variable is an int) and to format it for having 1 significant digit after the full-stop, and a total of 8 digits in all (which ties us back to the right-alignment up above). If you give it a number that has more than 3 digits to the left of the full-stop then it will still print them out,.\n",
    "\n",
    "Here are some suggestions to better-understand what’s going on:\n",
    "* Try changing the > to a < to see what happens to the alignment (then change it back)\n",
    "* Try changing the .1 to a .0 to see what happens to the alignment and precision\n",
    "* Try changing the .0 to a .6 to see what happens to the alignment and precision\n",
    "Do this in the coding area below."
   ]
  },
  {
   "cell_type": "code",
   "execution_count": null,
   "metadata": {
    "collapsed": false
   },
   "outputs": [],
   "source": [
    "print \"\\tMedian:  {0:???f}\".format(series.median())"
   ]
  },
  {
   "cell_type": "markdown",
   "metadata": {},
   "source": [
    "## Logarithmic Transformation\n",
    "\n",
    "Let’s do one more simple transformation: taking the natural logarithm of the Group1 values. If you don’t remember what a logarithm is try these:\n",
    "\n",
    "[![From reality to make-believe](http://img.youtube.com/vi/zzu2POfYv0Y/0.jpg)](https://www.youtube.com/watch?v=zzu2POfYv0Y)\n",
    "\n",
    "[![From reality to make-believe](http://img.youtube.com/vi/akXXXx2ahW0/0.jpg)](https://www.youtube.com/watch?v=akXXXx2ahW0)\n",
    "\n",
    "[![From reality to make-believe](http://img.youtube.com/vi/0fKBhvDjuy0/0.jpg)](https://www.youtube.com/watch?v=0fKBhvDjuy0)\n",
    "\n",
    "The last video was made by Ray & Charles Eames, two of the 20th Century’s most famous designers.\n",
    "\n",
    "Note also that logarithms are non-linear transformations -- can you think why this is?"
   ]
  },
  {
   "cell_type": "markdown",
   "metadata": {},
   "source": [
    "### Logarithmic Transforms in Pandas\n",
    "\n",
    "To create a new series in the data frame containing the natural log of the original value it’s a similar process to what we've done before; since pandas doesn't provide a log-transform operator (i.e. you can’t call `df.Group1.log()` and it makes no sense why it would) we need to use the `numpy` package again:\n",
    "```python\n",
    "import numpy as np\n",
    "df['Group1Log'] = pd.Series(np.log(df.Group1+1))\n",
    "```\n",
    "Try performing the transformation and then printing out the same summary measures as above in the coding area below. Is it more clear to you now why a log-transform is a non-linear transformation?\n",
    "\n",
    "**Also**: can you think why we added 1 to every Group1 value in the data set _before_ taking the log?"
   ]
  },
  {
   "cell_type": "code",
   "execution_count": 9,
   "metadata": {
    "collapsed": true
   },
   "outputs": [],
   "source": []
  },
  {
   "cell_type": "markdown",
   "metadata": {},
   "source": [
    "Perhaps it would be a little easier to see it visually?"
   ]
  },
  {
   "cell_type": "code",
   "execution_count": 7,
   "metadata": {
    "collapsed": false
   },
   "outputs": [
    {
     "data": {
      "text/plain": [
       "<matplotlib.axes._subplots.AxesSubplot at 0x1168a4350>"
      ]
     },
     "execution_count": 7,
     "metadata": {},
     "output_type": "execute_result"
    },
    {
     "data": {
      "image/png": "[encoded data removed]",
      "text/plain": [
       "<matplotlib.figure.Figure at 0x113e4cd90>"
      ]
     },
     "metadata": {},
     "output_type": "display_data"
    }
   ],
   "source": [
    "%matplotlib inline\n",
    "df.Group1.plot.hist()"
   ]
  },
  {
   "cell_type": "code",
   "execution_count": 10,
   "metadata": {
    "collapsed": false
   },
   "outputs": [
    {
     "data": {
      "text/plain": [
       "<matplotlib.axes._subplots.AxesSubplot at 0x119e35650>"
      ]
     },
     "execution_count": 10,
     "metadata": {},
     "output_type": "execute_result"
    },
    {
     "data": {
      "image/png": "[encoded data removed]",
      "text/plain": [
       "<matplotlib.figure.Figure at 0x119882450>"
      ]
     },
     "metadata": {},
     "output_type": "display_data"
    }
   ],
   "source": [
    "df.Group1Log.plot.hist()"
   ]
  },
  {
   "cell_type": "markdown",
   "metadata": {},
   "source": [
    "# Standardisation\n",
    "\n",
    "## Proportional Standardisation\n",
    "\n",
    "Clearly, a proportion (e.g. a percentage) is one way of standardising data since, unless you're measuring change, it limits the range to between 0% and 100%. Programmers and statisticians almost always write a proportion in a decimal format so the range is between 0.0 and 1.0. \n",
    "\n",
    "Mathematically, however, the notation is a little more forbidding:\n",
    "$$\n",
    "p_{i} = \\frac{x}{\\sum_{i=1}^{n} x}\n",
    "$$\n",
    "However, it's important that you begin to familiarise yourself with the mathematical notation since many papers on computational geography will make use of this form. Let's break it down:\n",
    "\n",
    "1. It's a fraction: the observation _x_ divided by, errrr, something involving x\n",
    "2. The numerator is easy\n",
    "3. The denominator is hard\n",
    "4. The key is in the $i=1$ and $n$, which tells us that the sum is for 'all i' (i.e. summing for every _x_-value in the data set) \n",
    "\n",
    "In other words, we take the `sum()` of the column of `x` as the divisor for *each* observation of `x`. \n",
    "\n",
    "To put it in terms of our heights data:\n",
    "\n",
    "1. Take each person's height (which we call '_x_')\n",
    "2. Add up (sum: $\\sum$) every _x_ (which runs from 1.._n_) in the data set\n",
    "3. And divide \\#1 by \\#2\n",
    "\n",
    "But the point is that that notation applies for every data set, not just our heights data. That's where the mathematical formula is more useful – it's not linked to the specifics of this particular data set."
   ]
  },
  {
   "cell_type": "markdown",
   "metadata": {},
   "source": [
    "### Proportional Standardisation in Pandas\n",
    "\n",
    "We can calculate the proportion of people in each area who come from Group 1 using a similar format to what we've seen before in the Transformation section:\n",
    "```\n",
    "df['Group1Pct'] = <Group 1>/<Sum of Group 1>\n",
    "```\n",
    "You might recognise that this is that dictionary style of key/value pairs again, so `'Group1Pct'` is the key, and new data series is the value. You can see the link here between the mathematical notation and the computational operation, right?\n",
    "\n",
    "Try printing out various summary metrics for the new column and comparing them to the raw values. "
   ]
  },
  {
   "cell_type": "code",
   "execution_count": null,
   "metadata": {
    "collapsed": false
   },
   "outputs": [],
   "source": [
    "df['Group1Pct'] = ???\n",
    "df.Group1Pct.describe()"
   ]
  },
  {
   "cell_type": "markdown",
   "metadata": {},
   "source": [
    "### Think\n",
    "\n",
    "Is this form of proportional standardisation very useful? Can you think why we might not be _that_ interested in the share of _all_ Group1 people in each LSOA? \n",
    "\n",
    "So if that's _not_ what we want, then what proportion _do_ we want? I'd suggest having a look at the other columns that are available to us... \n",
    "\n",
    "Try updating the code block above so that it gives you a more useful answer. *Hint*: the right answer in _this particular case_ will have the following output:\n",
    "```python\n",
    "count   42619.000\n",
    "mean        0.132\n",
    "std         0.085\n",
    "min         0.000\n",
    "25%         0.065\n",
    "50%         0.114\n",
    "75%         0.183\n",
    "max         0.550\n",
    "Name: Group1Pct, dtype: float64\n",
    "```\n",
    "\n",
    "### Why Use Proportions?\n",
    "\n",
    "Right, we've done something, but _why_ did we do it?\n",
    "\n",
    "Let's have a look at a chart:"
   ]
  },
  {
   "cell_type": "code",
   "execution_count": 13,
   "metadata": {
    "collapsed": false
   },
   "outputs": [
    {
     "data": {
      "text/plain": [
       "<matplotlib.axes._subplots.AxesSubplot at 0x11a40b090>"
      ]
     },
     "execution_count": 13,
     "metadata": {},
     "output_type": "execute_result"
    },
    {
     "data": {
      "image/png": "[encoded data removed]",
      "text/plain": [
       "<matplotlib.figure.Figure at 0x11a467f10>"
      ]
     },
     "metadata": {},
     "output_type": "display_data"
    }
   ],
   "source": [
    "# You always need this line once to make plots\n",
    "%matplotlib inline\n",
    "\n",
    "df.Group1Pct.plot.hist()"
   ]
  },
  {
   "cell_type": "markdown",
   "metadata": {},
   "source": [
    "Right, now we know that _nowhere_ has a share of Group 1 residents above about 50% (though that is _high_!), and that most LSOAs in England & Wales have a share that is substantially lower: in the range 0–15%. This already tells us quite a bit about the overall distribution of Group 1 households, but we can go a lot further..."
   ]
  },
  {
   "cell_type": "markdown",
   "metadata": {},
   "source": [
    "## Finding Rows in the Data\n",
    "\n",
    "You should remember from Week 5 that we can find out _where_ the maximum value in the data occurs using this code:\n",
    "```python\n",
    "print(df[df.Group1Pct == df.Group1Pct.max()])\n",
    "```\n",
    "\n",
    "Can you figure out how to list all of the LSOAs where the proportion of Group 1 residents is greater than 50%? "
   ]
  },
  {
   "cell_type": "code",
   "execution_count": 18,
   "metadata": {
    "collapsed": false
   },
   "outputs": [
    {
     "data": {
      "text/html": [
       "<div>\n",
       "<table border=\"1\" class=\"dataframe\">\n",
       "  <thead>\n",
       "    <tr style=\"text-align: right;\">\n",
       "      <th></th>\n",
       "      <th>CDU</th>\n",
       "      <th>GeoCode</th>\n",
       "      <th>GeoLabel</th>\n",
       "      <th>GeoType</th>\n",
       "      <th>GeoType2</th>\n",
       "      <th>Total</th>\n",
       "      <th>Group1</th>\n",
       "      <th>Group2</th>\n",
       "      <th>Group3</th>\n",
       "      <th>Group4</th>\n",
       "      <th>Group5</th>\n",
       "      <th>Group6</th>\n",
       "      <th>Group7</th>\n",
       "      <th>Group8</th>\n",
       "      <th>NC</th>\n",
       "      <th>Group1Log</th>\n",
       "      <th>Group1Pct</th>\n",
       "    </tr>\n",
       "  </thead>\n",
       "  <tbody>\n",
       "    <tr>\n",
       "      <th>35657</th>\n",
       "      <td>346451</td>\n",
       "      <td>S01006520</td>\n",
       "      <td>Cults, Bieldside and Milltimber East - 03</td>\n",
       "      <td>Lower Super Output Areas and Data Zones</td>\n",
       "      <td>LSOADZ</td>\n",
       "      <td>729</td>\n",
       "      <td>401</td>\n",
       "      <td>188</td>\n",
       "      <td>26</td>\n",
       "      <td>33</td>\n",
       "      <td>34</td>\n",
       "      <td>26</td>\n",
       "      <td>7</td>\n",
       "      <td>14</td>\n",
       "      <td>nan</td>\n",
       "      <td>5.996</td>\n",
       "      <td>0.550</td>\n",
       "    </tr>\n",
       "    <tr>\n",
       "      <th>37744</th>\n",
       "      <td>348538</td>\n",
       "      <td>S01008607</td>\n",
       "      <td>The Grange - 04</td>\n",
       "      <td>Lower Super Output Areas and Data Zones</td>\n",
       "      <td>LSOADZ</td>\n",
       "      <td>628</td>\n",
       "      <td>342</td>\n",
       "      <td>165</td>\n",
       "      <td>26</td>\n",
       "      <td>45</td>\n",
       "      <td>4</td>\n",
       "      <td>16</td>\n",
       "      <td>12</td>\n",
       "      <td>11</td>\n",
       "      <td>nan</td>\n",
       "      <td>5.838</td>\n",
       "      <td>0.545</td>\n",
       "    </tr>\n",
       "    <tr>\n",
       "      <th>9094</th>\n",
       "      <td>27467</td>\n",
       "      <td>E01008423</td>\n",
       "      <td>Newcastle upon Tyne 006G</td>\n",
       "      <td>Lower Super Output Areas and Data Zones</td>\n",
       "      <td>LSOADZ</td>\n",
       "      <td>1346</td>\n",
       "      <td>729</td>\n",
       "      <td>259</td>\n",
       "      <td>70</td>\n",
       "      <td>193</td>\n",
       "      <td>17</td>\n",
       "      <td>29</td>\n",
       "      <td>20</td>\n",
       "      <td>9</td>\n",
       "      <td>20.000</td>\n",
       "      <td>6.593</td>\n",
       "      <td>0.542</td>\n",
       "    </tr>\n",
       "    <tr>\n",
       "      <th>37762</th>\n",
       "      <td>348556</td>\n",
       "      <td>S01008625</td>\n",
       "      <td>Morningside - 02</td>\n",
       "      <td>Lower Super Output Areas and Data Zones</td>\n",
       "      <td>LSOADZ</td>\n",
       "      <td>566</td>\n",
       "      <td>303</td>\n",
       "      <td>160</td>\n",
       "      <td>19</td>\n",
       "      <td>51</td>\n",
       "      <td>0</td>\n",
       "      <td>6</td>\n",
       "      <td>8</td>\n",
       "      <td>10</td>\n",
       "      <td>nan</td>\n",
       "      <td>5.717</td>\n",
       "      <td>0.535</td>\n",
       "    </tr>\n",
       "    <tr>\n",
       "      <th>32712</th>\n",
       "      <td>51085</td>\n",
       "      <td>E01032637</td>\n",
       "      <td>Southwark 003F</td>\n",
       "      <td>Lower Super Output Areas and Data Zones</td>\n",
       "      <td>LSOADZ</td>\n",
       "      <td>1080</td>\n",
       "      <td>576</td>\n",
       "      <td>339</td>\n",
       "      <td>79</td>\n",
       "      <td>40</td>\n",
       "      <td>4</td>\n",
       "      <td>6</td>\n",
       "      <td>1</td>\n",
       "      <td>9</td>\n",
       "      <td>26.000</td>\n",
       "      <td>6.358</td>\n",
       "      <td>0.533</td>\n",
       "    </tr>\n",
       "    <tr>\n",
       "      <th>35710</th>\n",
       "      <td>346504</td>\n",
       "      <td>S01006573</td>\n",
       "      <td>West End North - 03</td>\n",
       "      <td>Lower Super Output Areas and Data Zones</td>\n",
       "      <td>LSOADZ</td>\n",
       "      <td>724</td>\n",
       "      <td>383</td>\n",
       "      <td>176</td>\n",
       "      <td>21</td>\n",
       "      <td>53</td>\n",
       "      <td>38</td>\n",
       "      <td>22</td>\n",
       "      <td>4</td>\n",
       "      <td>7</td>\n",
       "      <td>nan</td>\n",
       "      <td>5.951</td>\n",
       "      <td>0.529</td>\n",
       "    </tr>\n",
       "    <tr>\n",
       "      <th>28905</th>\n",
       "      <td>47278</td>\n",
       "      <td>E01028747</td>\n",
       "      <td>Vale of White Horse 016C</td>\n",
       "      <td>Lower Super Output Areas and Data Zones</td>\n",
       "      <td>LSOADZ</td>\n",
       "      <td>1250</td>\n",
       "      <td>635</td>\n",
       "      <td>272</td>\n",
       "      <td>72</td>\n",
       "      <td>103</td>\n",
       "      <td>34</td>\n",
       "      <td>52</td>\n",
       "      <td>46</td>\n",
       "      <td>9</td>\n",
       "      <td>27.000</td>\n",
       "      <td>6.455</td>\n",
       "      <td>0.508</td>\n",
       "    </tr>\n",
       "    <tr>\n",
       "      <th>9090</th>\n",
       "      <td>27463</td>\n",
       "      <td>E01008419</td>\n",
       "      <td>Newcastle upon Tyne 006E</td>\n",
       "      <td>Lower Super Output Areas and Data Zones</td>\n",
       "      <td>LSOADZ</td>\n",
       "      <td>1493</td>\n",
       "      <td>757</td>\n",
       "      <td>425</td>\n",
       "      <td>80</td>\n",
       "      <td>95</td>\n",
       "      <td>21</td>\n",
       "      <td>38</td>\n",
       "      <td>21</td>\n",
       "      <td>24</td>\n",
       "      <td>32.000</td>\n",
       "      <td>6.631</td>\n",
       "      <td>0.507</td>\n",
       "    </tr>\n",
       "  </tbody>\n",
       "</table>\n",
       "</div>"
      ],
      "text/plain": [
       "          CDU    GeoCode                                   GeoLabel  \\\n",
       "35657  346451  S01006520  Cults, Bieldside and Milltimber East - 03   \n",
       "37744  348538  S01008607                            The Grange - 04   \n",
       "9094    27467  E01008423                   Newcastle upon Tyne 006G   \n",
       "37762  348556  S01008625                           Morningside - 02   \n",
       "32712   51085  E01032637                             Southwark 003F   \n",
       "35710  346504  S01006573                        West End North - 03   \n",
       "28905   47278  E01028747                   Vale of White Horse 016C   \n",
       "9090    27463  E01008419                   Newcastle upon Tyne 006E   \n",
       "\n",
       "                                       GeoType GeoType2  Total  Group1  \\\n",
       "35657  Lower Super Output Areas and Data Zones   LSOADZ    729     401   \n",
       "37744  Lower Super Output Areas and Data Zones   LSOADZ    628     342   \n",
       "9094   Lower Super Output Areas and Data Zones   LSOADZ   1346     729   \n",
       "37762  Lower Super Output Areas and Data Zones   LSOADZ    566     303   \n",
       "32712  Lower Super Output Areas and Data Zones   LSOADZ   1080     576   \n",
       "35710  Lower Super Output Areas and Data Zones   LSOADZ    724     383   \n",
       "28905  Lower Super Output Areas and Data Zones   LSOADZ   1250     635   \n",
       "9090   Lower Super Output Areas and Data Zones   LSOADZ   1493     757   \n",
       "\n",
       "       Group2  Group3  Group4  Group5  Group6  Group7  Group8     NC  \\\n",
       "35657     188      26      33      34      26       7      14    nan   \n",
       "37744     165      26      45       4      16      12      11    nan   \n",
       "9094      259      70     193      17      29      20       9 20.000   \n",
       "37762     160      19      51       0       6       8      10    nan   \n",
       "32712     339      79      40       4       6       1       9 26.000   \n",
       "35710     176      21      53      38      22       4       7    nan   \n",
       "28905     272      72     103      34      52      46       9 27.000   \n",
       "9090      425      80      95      21      38      21      24 32.000   \n",
       "\n",
       "       Group1Log  Group1Pct  \n",
       "35657      5.996      0.550  \n",
       "37744      5.838      0.545  \n",
       "9094       6.593      0.542  \n",
       "37762      5.717      0.535  \n",
       "32712      6.358      0.533  \n",
       "35710      5.951      0.529  \n",
       "28905      6.455      0.508  \n",
       "9090       6.631      0.507  "
      ]
     },
     "execution_count": 18,
     "metadata": {},
     "output_type": "execute_result"
    }
   ],
   "source": []
  },
  {
   "cell_type": "markdown",
   "metadata": {},
   "source": [
    "Now, let's find out what are the top 10 areas in terms of the concentration of Group 1 residents and compare to the top 10 areas in terms of _raw_ counts of Group 1 residents... This is a nice illustration of how you can _chain_ together a whole series of methods to do some pretty cool stuff:"
   ]
  },
  {
   "cell_type": "code",
   "execution_count": 25,
   "metadata": {
    "collapsed": false
   },
   "outputs": [
    {
     "data": {
      "text/html": [
       "<div>\n",
       "<table border=\"1\" class=\"dataframe\">\n",
       "  <thead>\n",
       "    <tr style=\"text-align: right;\">\n",
       "      <th></th>\n",
       "      <th>GeoLabel</th>\n",
       "      <th>Group1</th>\n",
       "      <th>Group1Pct</th>\n",
       "    </tr>\n",
       "  </thead>\n",
       "  <tbody>\n",
       "    <tr>\n",
       "      <th>35657</th>\n",
       "      <td>Cults, Bieldside and Milltimber East - 03</td>\n",
       "      <td>401</td>\n",
       "      <td>0.550</td>\n",
       "    </tr>\n",
       "    <tr>\n",
       "      <th>37744</th>\n",
       "      <td>The Grange - 04</td>\n",
       "      <td>342</td>\n",
       "      <td>0.545</td>\n",
       "    </tr>\n",
       "    <tr>\n",
       "      <th>9094</th>\n",
       "      <td>Newcastle upon Tyne 006G</td>\n",
       "      <td>729</td>\n",
       "      <td>0.542</td>\n",
       "    </tr>\n",
       "    <tr>\n",
       "      <th>37762</th>\n",
       "      <td>Morningside - 02</td>\n",
       "      <td>303</td>\n",
       "      <td>0.535</td>\n",
       "    </tr>\n",
       "    <tr>\n",
       "      <th>32712</th>\n",
       "      <td>Southwark 003F</td>\n",
       "      <td>576</td>\n",
       "      <td>0.533</td>\n",
       "    </tr>\n",
       "    <tr>\n",
       "      <th>35710</th>\n",
       "      <td>West End North - 03</td>\n",
       "      <td>383</td>\n",
       "      <td>0.529</td>\n",
       "    </tr>\n",
       "    <tr>\n",
       "      <th>28905</th>\n",
       "      <td>Vale of White Horse 016C</td>\n",
       "      <td>635</td>\n",
       "      <td>0.508</td>\n",
       "    </tr>\n",
       "    <tr>\n",
       "      <th>9090</th>\n",
       "      <td>Newcastle upon Tyne 006E</td>\n",
       "      <td>757</td>\n",
       "      <td>0.507</td>\n",
       "    </tr>\n",
       "    <tr>\n",
       "      <th>28728</th>\n",
       "      <td>Oxford 003A</td>\n",
       "      <td>620</td>\n",
       "      <td>0.495</td>\n",
       "    </tr>\n",
       "    <tr>\n",
       "      <th>35659</th>\n",
       "      <td>Cults, Bieldside and Milltimber East - 05</td>\n",
       "      <td>284</td>\n",
       "      <td>0.495</td>\n",
       "    </tr>\n",
       "  </tbody>\n",
       "</table>\n",
       "</div>"
      ],
      "text/plain": [
       "                                        GeoLabel  Group1  Group1Pct\n",
       "35657  Cults, Bieldside and Milltimber East - 03     401      0.550\n",
       "37744                            The Grange - 04     342      0.545\n",
       "9094                    Newcastle upon Tyne 006G     729      0.542\n",
       "37762                           Morningside - 02     303      0.535\n",
       "32712                             Southwark 003F     576      0.533\n",
       "35710                        West End North - 03     383      0.529\n",
       "28905                   Vale of White Horse 016C     635      0.508\n",
       "9090                    Newcastle upon Tyne 006E     757      0.507\n",
       "28728                                Oxford 003A     620      0.495\n",
       "35659  Cults, Bieldside and Milltimber East - 05     284      0.495"
      ]
     },
     "execution_count": 25,
     "metadata": {},
     "output_type": "execute_result"
    }
   ],
   "source": [
    "df.sort_values(by='Group1Pct', ascending=False).head(10)[['GeoLabel','Group1','Group1Pct']]"
   ]
  },
  {
   "cell_type": "code",
   "execution_count": 26,
   "metadata": {
    "collapsed": false
   },
   "outputs": [
    {
     "data": {
      "text/html": [
       "<div>\n",
       "<table border=\"1\" class=\"dataframe\">\n",
       "  <thead>\n",
       "    <tr style=\"text-align: right;\">\n",
       "      <th></th>\n",
       "      <th>GeoLabel</th>\n",
       "      <th>Group1</th>\n",
       "      <th>Group1Pct</th>\n",
       "    </tr>\n",
       "  </thead>\n",
       "  <tbody>\n",
       "    <tr>\n",
       "      <th>28746</th>\n",
       "      <td>Oxford 003C</td>\n",
       "      <td>1252</td>\n",
       "      <td>0.485</td>\n",
       "    </tr>\n",
       "    <tr>\n",
       "      <th>33303</th>\n",
       "      <td>Oxford 008E</td>\n",
       "      <td>1052</td>\n",
       "      <td>0.400</td>\n",
       "    </tr>\n",
       "    <tr>\n",
       "      <th>24099</th>\n",
       "      <td>Three Rivers 011A</td>\n",
       "      <td>1026</td>\n",
       "      <td>0.456</td>\n",
       "    </tr>\n",
       "    <tr>\n",
       "      <th>268</th>\n",
       "      <td>Rosetta_1</td>\n",
       "      <td>998</td>\n",
       "      <td>0.328</td>\n",
       "    </tr>\n",
       "    <tr>\n",
       "      <th>32826</th>\n",
       "      <td>Wokingham 008G</td>\n",
       "      <td>932</td>\n",
       "      <td>0.363</td>\n",
       "    </tr>\n",
       "    <tr>\n",
       "      <th>8640</th>\n",
       "      <td>Sheffield 041B</td>\n",
       "      <td>918</td>\n",
       "      <td>0.418</td>\n",
       "    </tr>\n",
       "    <tr>\n",
       "      <th>18588</th>\n",
       "      <td>South Cambridgeshire 010A</td>\n",
       "      <td>913</td>\n",
       "      <td>0.369</td>\n",
       "    </tr>\n",
       "    <tr>\n",
       "      <th>30477</th>\n",
       "      <td>Elmbridge 009D</td>\n",
       "      <td>904</td>\n",
       "      <td>0.403</td>\n",
       "    </tr>\n",
       "    <tr>\n",
       "      <th>32630</th>\n",
       "      <td>Oxford 002F</td>\n",
       "      <td>901</td>\n",
       "      <td>0.443</td>\n",
       "    </tr>\n",
       "    <tr>\n",
       "      <th>253</th>\n",
       "      <td>Malone_1</td>\n",
       "      <td>900</td>\n",
       "      <td>0.463</td>\n",
       "    </tr>\n",
       "  </tbody>\n",
       "</table>\n",
       "</div>"
      ],
      "text/plain": [
       "                        GeoLabel  Group1  Group1Pct\n",
       "28746                Oxford 003C    1252      0.485\n",
       "33303                Oxford 008E    1052      0.400\n",
       "24099          Three Rivers 011A    1026      0.456\n",
       "268                    Rosetta_1     998      0.328\n",
       "32826             Wokingham 008G     932      0.363\n",
       "8640              Sheffield 041B     918      0.418\n",
       "18588  South Cambridgeshire 010A     913      0.369\n",
       "30477             Elmbridge 009D     904      0.403\n",
       "32630                Oxford 002F     901      0.443\n",
       "253                     Malone_1     900      0.463"
      ]
     },
     "execution_count": 26,
     "metadata": {},
     "output_type": "execute_result"
    }
   ],
   "source": [
    "df.sort_values(by='Group1', ascending=False).head(10)[['GeoLabel','Group1','Group1Pct']]"
   ]
  },
  {
   "cell_type": "markdown",
   "metadata": {},
   "source": [
    "### Quick Quiz\n",
    "\n",
    "So, given these results, which do you think is a _better_ answer to the question: where is there the highest concentration of highly-skilled 'NS-SeC Group 1' residents in England and Wales? Were these the answer that you were expecting?\n",
    "\n",
    "### Explaining the Code\n",
    "\n",
    "Just so that you understand what we just did with this:\n",
    "```python\n",
    "df.sort_values(by='Group1', ascending=False).head(10)[['GeoLabel','Group1','Group1Pct']]\n",
    "```\n",
    "Let's pull it apart step-by-step:\n",
    "\n",
    "* The first step in this process is `df.sort_values` -- you can probably guess what this does: it sorts the data frame!\n",
    "* The parameters passed to the `sort_values` function are `by`, which is the column on which to sort, and `ascending=False`, which gives us the data frame sorted in _descending_ order!\n",
    "* The output of `df.sort(...)` is a _new_ data frame, which means that we can simply add `.head(10)` to get the first ten rows of the newly-sorted data frame.\n",
    "* And the output of `df.sort(...).head(...)` is yet _another_ data frame, which means that we can print out the values of selected columns using the 'dictionary-like' syntax: we use the outer set of square brackets (`[...]`) to tell pandas that we want to access a subset of the top-10 data frame, and we use the inner set of square brackets (`['GeoLabel','Group1','Group1Pct']`) to tell pandas which columns we want to see.\n",
    "\n",
    "I'd say 'simples, right?' but that's obviously _not_ simple. It _is_, however, very, very _elegant_ because it's quite clear (once you get past the way that lots of methods can be chained together) and it's very succinct (we did all of that in _one_ line of code!)."
   ]
  },
  {
   "cell_type": "markdown",
   "metadata": {},
   "source": [
    "## Z-Score Standardisation\n",
    "\n",
    "The z-score is a common type of standardisation, but it's a little more complex than a simple proportion; however, both are designed to enable us to compare data across different groups of observations. We can easily compare two percentages to know which one is more, and which less (e.g. I got 80% on one exam and 70% on the other).\n",
    "\n",
    "But let's think about a slightly different question: 'which exam did I do _better_ on?' What if you got 80% on an exam where everyone else got 85%? Suddenly that doesn't look quite so good right? And what if your 70% was on an exam where the average mark was 50%? Suddenly that looks a lot better, right?\n",
    "\n",
    "The z-score is designed to help you perform this comparison directly.\n",
    "\n",
    "As a reminder, the z-score looks like this:\n",
    "$$\n",
    "z=(x-\\mu)/\\sigma\n",
    "$$\n"
   ]
  },
  {
   "cell_type": "markdown",
   "metadata": {},
   "source": [
    "### Z-Score Standardisation in Pandas\n",
    "\n",
    "Let’s figure out how to translate this into a new columns called `Group1ZStd`!\n",
    "\n",
    "We’ve already done the first part of this calculation up above in `Group1LessMean`. That series is the same as $x-\\mu$, so all we need to do is divide by the standard deviation.\n",
    "\n",
    "So one way to do this is:\n",
    "```python\n",
    "df['Group1ZStd'] = \n",
    "     df.Group1LessMean/df.Group1.std()\n",
    "```\n",
    "That works exactly the same way as what we did when we subtracted the mean in the first place: we’re just taking the results from the previous equation and passing them on to this one. But now that you've seen how we can 'chain' together method calls, then you should know that we could _also_ do it this way:\n",
    "```python\n",
    "df['Group1ZStd'] = \n",
    "     (df.Group1 - df.Group1.mean()) / df.Group1.std()\n",
    "```\n",
    "Do you see how we can begin to build increasingly complicated equations into the process of creating a new data series?"
   ]
  },
  {
   "cell_type": "code",
   "execution_count": null,
   "metadata": {
    "collapsed": false
   },
   "outputs": [],
   "source": []
  },
  {
   "cell_type": "markdown",
   "metadata": {},
   "source": [
    "### Using the Z-Score\n",
    "\n",
    "Let's start to bring the idea of the 'data generating processes' to life. The first thing to do with the z-score is to look at what it implies:\n",
    "\n",
    "1. Subtracting the mean implies that the mean _is a useful measure of centrality_: in other words, the only reason to subtract the mean is if the mean is _meaningful_. If you are dealing with highly skewed data then the mean is not going to be very useful and, by implication, neither is the z-score.\n",
    "2. Dividing by the Standard Deviation implies that this _is a useful measure of distribution_: again, if the data is heavily skewed or follows some exponential distribution then the standard deviation is not going to very useful as an analytical tool.\n",
    "\n",
    "So the z-score is _most_ relevant when we are dealing with something that look vaguely like a standard normal distribution (which has mean=0 and standard deviation=1). In those cases, anything with a z-score more than 1.96 standard deviations from the mean is in the 5% significance zone. \n",
    "\n",
    "But remember: we can't really say _why_ one particular area has a high concentration of well-off individuals or why one individual is over 2m tall. All we are saying is that this standardised value is a pretty unlikely outcome _when compared to our expectation that people are randomly distributed across the region_ or _that people have randomly-distributed heights of mean 'x' and standard deviation 'y'_. \n",
    "\n",
    "Of course, we _know_ that people aren't randomly distributed around the country in the same way that we know that height isn't genuinely random becuase of the influence of genetics, nutrition, etc. But we need a way to pick out what counts as _**significant**_ over- or under-concentration (or height) from the wide range of 'a bit more' or 'a bit less' than 'normal'. **_If_** a normal distribution does a good job of representing the overall distribution of heights (_whatever_ the reason) then someone of 2m is highly unlikely but we can't say _how_ unlikely until we've placed them on the distribution.\n",
    "\n",
    "Let's put it another way:\n",
    "* Is 10% of wealthy individuals in a small area a high concentration?\n",
    "* How about 20%?\n",
    "* 30%?\n",
    "\n",
    "The only way to answer that question is to use something like the z-score since it standardises all of the values _against the average_. If wealthy people were distributed at random then we would _expect_ that most areas would have about the average concentration. Some areas will have a few more. Some areas a few less. But according to the way that the standard normal distribution works, _nowhere_ should have a z-score of 10. Or 20, since that is 20 standard deviations from the mean and just shouldn't exist in the lifetime of the universe. So if we see that kind of result then we know two things:\n",
    "\n",
    "1. That our assumption that normal distribution is a reasonable representation of reality breaks down at some point.\n",
    "2. That there are _some_ areas with _highly significant_ over- or under-representation by wealthy residents.\n",
    "\n",
    "But that's ok, because we're trying to set an expectation of what we think we'll see so that we can pick out the significant outliers.\n",
    "\n",
    "### Setting Expectations\n",
    "\n",
    "And here we get to the crux of the issue, most frequentist statistics boils down to this: subtracting **what you expected** from **what you got**, and then dividing by **some measure of spread** to control for the range of the data. We then look at what's _left_ to see if we think the gap between expectations and observations is _meaningful_ or whether it falls within the range of 'random noise'.\n",
    "\n",
    "It should be obvious that it's the _**expected**_ part of that equation that is absolutely crucial: we come up with a process that generates data that _represents_ the most important aspects of reality, but we shouldn't imagine that our process has explained them. It's the first step, not the last.\n",
    "\n",
    "### Illustrating Z-Score Selection\n",
    "\n",
    "So let's see how this works... let's take two of the NS-SeC groups: Group 1 and Group 4. And let's investigate their distributions and whether they contain obvious outliers (extremes that shouldn't exist if they were to follow a normal – which is to say: random – distribution). But we _can't_ do this with the raw counts because the raw counts are truncated (you can't have -1 Group 1 households, only positive counts). We'll use the z-score:"
   ]
  },
  {
   "cell_type": "code",
   "execution_count": 28,
   "metadata": {
    "collapsed": false
   },
   "outputs": [],
   "source": [
    "df['Group1ZStd'] = (df.Group1 - df.Group1.mean()) / df.Group1.std()\n",
    "df['Group4ZStd'] = (df.Group4 - df.Group4.mean()) / df.Group4.std()"
   ]
  },
  {
   "cell_type": "code",
   "execution_count": 34,
   "metadata": {
    "collapsed": false
   },
   "outputs": [
    {
     "data": {
      "text/plain": [
       "<matplotlib.axes._subplots.AxesSubplot at 0x11c30ead0>"
      ]
     },
     "execution_count": 34,
     "metadata": {},
     "output_type": "execute_result"
    },
    {
     "data": {
      "image/png": "[encoded data removed]",
      "text/plain": [
       "<matplotlib.figure.Figure at 0x11a3aee90>"
      ]
     },
     "metadata": {},
     "output_type": "display_data"
    }
   ],
   "source": [
    "df.Group1ZStd.plot.hist(bins=20)"
   ]
  },
  {
   "cell_type": "code",
   "execution_count": 35,
   "metadata": {
    "collapsed": false
   },
   "outputs": [
    {
     "data": {
      "text/plain": [
       "<matplotlib.axes._subplots.AxesSubplot at 0x11c46c350>"
      ]
     },
     "execution_count": 35,
     "metadata": {},
     "output_type": "execute_result"
    },
    {
     "data": {
      "image/png": "[encoded data removed]",
      "text/plain": [
       "<matplotlib.figure.Figure at 0x11a1cc650>"
      ]
     },
     "metadata": {},
     "output_type": "display_data"
    }
   ],
   "source": [
    "df.Group4ZStd.plot.hist(bins=20)"
   ]
  },
  {
   "cell_type": "markdown",
   "metadata": {},
   "source": [
    "Just from _looking_ at those you can tell that the mean ($\\mu$) is going to be more relevant to Group 4 than to Group 1: it will be closer to the 'middle' of the data. Here we have a choice to make: we know that the mean wasn't the best measure of the middle of the data for Group 1 but does that mean we can't use the z-score for our analysis?\n",
    "\n",
    "Yes and no, but first let's use the z-score _as if_ there were no 'problems' and see what we get when we select for 99.9% significance... you can find a calculator to convert between the 2-tailed significance (more of this in subsequent weeks) and the z-score [here](https://www.fourmilab.ch/rpkp/experiments/analysis/zCalc.html).\n",
    "\n",
    "Let's see what we get with an _actually_ random distribution of the same size as our LSOA data. We can do that with [`numpy`](https://docs.scipy.org/doc/numpy/reference/generated/numpy.random.normal.html):"
   ]
  },
  {
   "cell_type": "code",
   "execution_count": 51,
   "metadata": {
    "collapsed": false
   },
   "outputs": [
    {
     "name": "stdout",
     "output_type": "stream",
     "text": [
      "We selected 46 of 42619\n",
      "\tThat's  0.0011%\n"
     ]
    }
   ],
   "source": [
    "import numpy as np\n",
    "\n",
    "# Generate a pandas series containing a normal distribution\n",
    "# of the same size as the LSOA data frame\n",
    "nDist = pd.Series(np.random.normal(size=df.shape[0]))\n",
    "\n",
    "# How many of them fall outside the 99.9% CI?\n",
    "outliers = nDist[ nDist > 3.029 ]\n",
    "\n",
    "print(\"We selected \" + str(outliers.shape[0]) + \" of \" + str(nDist.shape[0]))\n",
    "print(\"\\tThat's {0: .4f}%\".format(float(outliers.shape[0])/nDist.shape[0]))"
   ]
  },
  {
   "cell_type": "code",
   "execution_count": 52,
   "metadata": {
    "collapsed": false
   },
   "outputs": [
    {
     "data": {
      "text/plain": [
       "<matplotlib.axes._subplots.AxesSubplot at 0x11c61d0d0>"
      ]
     },
     "execution_count": 52,
     "metadata": {},
     "output_type": "execute_result"
    },
    {
     "data": {
      "image/png": "[encoded data removed]",
      "text/plain": [
       "<matplotlib.figure.Figure at 0x11cb12ad0>"
      ]
     },
     "metadata": {},
     "output_type": "display_data"
    }
   ],
   "source": [
    "# And plot, just to show that it _was_ a normal distribution\n",
    "nDist.plot.hist(bins=20)"
   ]
  },
  {
   "cell_type": "markdown",
   "metadata": {},
   "source": [
    "Now let's compare that to what we get with our NS-SeC data:"
   ]
  },
  {
   "cell_type": "code",
   "execution_count": 53,
   "metadata": {
    "collapsed": false
   },
   "outputs": [
    {
     "name": "stdout",
     "output_type": "stream",
     "text": [
      "We selected 364 of 42619\n",
      "\tThat's  0.0085%\n",
      "We selected 573 of 42619\n",
      "\tThat's  0.0134%\n"
     ]
    }
   ],
   "source": [
    "dfG1 = df[df.Group1ZStd >= 3.09]\n",
    "dfG4 = df[df.Group4ZStd >= 3.09]\n",
    "\n",
    "print(\"We selected \" + str(dfG1.shape[0]) + \" of \" + str(df.shape[0]))\n",
    "print(\"\\tThat's {0: .4f}%\".format(float(dfG1.shape[0])/df.shape[0]))\n",
    "\n",
    "print(\"We selected \" + str(dfG4.shape[0]) + \" of \" + str(df.shape[0]))\n",
    "print(\"\\tThat's {0: .4f}%\".format(float(dfG4.shape[0])/df.shape[0]))"
   ]
  },
  {
   "cell_type": "markdown",
   "metadata": {},
   "source": [
    "So in both cases we got _quite_ a few more 'significantly' over-represented LSOAs than we would have expected if the real distribution had closely matched a random normal one. Without even looking at the plots, we could tell that both of these distributions are positively skewed but with the plots it's super-obvious. So can we use the z-score to make these selections... given that we can tell the mean is not a good measure of central tendency?"
   ]
  },
  {
   "cell_type": "markdown",
   "metadata": {},
   "source": [
    "## Statistics as Judgement\n",
    "\n",
    "There is no simple answer to when the mean is, or is not, a good measure to use in an analysis. We'll spend a lot more time on this over the coming weeks, but the answer _seems_ to be: it depends what you are trying to accomplish.\n",
    "\n",
    "Let's say that you were a researcher planning to undertake some in-person interviews in areas that have high concentrations of well-off households (Group 1, basically). How would you go about choosing which LSOAs to target? How could we use the z-score to make this process a little less 'random' than picking a couple of areas that you know well and trundling off to find... exactly what you expected because your choice was influenced _not_ by data but by _personal bias_?\n",
    "\n",
    "Let's look at this way:\n",
    "1. Remember that _if_ something followed a normal distribution then you would _expect_ 95% of values to fall within the range of -1.96 to +1.96 standard deviations from the mean. So if you wanted 5% 'significance' then you could say \"I'm going to select everything outside of this range as being _significantly_ over- or under-represented in terms of the Group 1 population at the 5% significance level.\"\n",
    "2. If you wanted to select only the _real_ outliers (say, 99.9% 'significance') then you want that z-score of 3.09 that we used above. In both of the cases above we can see that there are values _way_ beyond that level, so we can be pretty certain that there is something non-random happening there.\n",
    "3. The point is that we are moving away from just saying \"Well, it's more than average so it's interesting'. We are actually filtering out a lot areas that might plausibly have higher (or lower) concentrations **'by chance'** _if a normal distribution is a reasonable representation_. We know it's not, but we're stating here that our _naive_ expectation is that people are distributed at random, so what's interesting is the areas where our results show this obviously is _not_ the case. Do you see what I meant above about subtract what we _expected_ from what we _observed_?\n",
    "4. So rather than just saying \"25% of Group 1 households is a lot\" or \"36% of Group 4 households is a lot\" we are finding a way to use the z-score to set a threshold that is less influenced by our own ideas about what is 'significant' and more influenced by what the data actually _says_ is significantly outside 'the norm'.\n",
    "\n",
    "The _only_ problem with this approach in this case is that we can tell that our expectation of normality isn't very accurate. The positive skew of Groups 1 and 4 means that we're getting _too many_ areas being flagged as 'significantly over-represented by Group X'. If we were to pick a better distribution, or if we could 'make' the Group distribution _appear_ more like a normal distribution then the z-score would work better for selecting the really interesting cases...\n",
    "\n",
    "Which is why we had the log-transformation:"
   ]
  },
  {
   "cell_type": "code",
   "execution_count": 36,
   "metadata": {
    "collapsed": false
   },
   "outputs": [
    {
     "data": {
      "text/plain": [
       "<matplotlib.axes._subplots.AxesSubplot at 0x11c816e50>"
      ]
     },
     "execution_count": 36,
     "metadata": {},
     "output_type": "execute_result"
    },
    {
     "data": {
      "image/png": "[encoded data removed]",
      "text/plain": [
       "<matplotlib.figure.Figure at 0x11a7310d0>"
      ]
     },
     "metadata": {},
     "output_type": "display_data"
    }
   ],
   "source": [
    "df.Group1Log.plot.hist(bins=20)"
   ]
  },
  {
   "cell_type": "markdown",
   "metadata": {},
   "source": [
    "That's still not perfect but it's a lot better than the hugely skewed data we had before! If you _really_ care, then there's a [Box-Cox transform](https://docs.scipy.org/doc/scipy/reference/generated/scipy.stats.boxcox.html) in `scipy.stats` to get something that is almost _exactly_ normal.\n",
    "\n",
    "Now, if we calculate a z-score from the log-transformed data to select areas that fall outside the 95% interval then we get:"
   ]
  },
  {
   "cell_type": "code",
   "execution_count": 55,
   "metadata": {
    "collapsed": false
   },
   "outputs": [
    {
     "name": "stdout",
     "output_type": "stream",
     "text": [
      "We selected 698 of 42619\n",
      "\tThat's  0.0164%\n"
     ]
    }
   ],
   "source": [
    "df['Group1LogZStd'] = (df.Group1Log - df.Group1Log.mean()) / df.Group1Log.std()\n",
    "dfG1LogZ = df[df.Group1LogZStd >= 1.65]\n",
    "\n",
    "print(\"We selected \" + str(dfG1LogZ.shape[0]) + \" of \" + str(df.shape[0]))\n",
    "print(\"\\tThat's {0: .4f}%\".format(float(dfG1LogZ.shape[0])/df.shape[0]))"
   ]
  },
  {
   "cell_type": "markdown",
   "metadata": {},
   "source": [
    "## Location Quotient Standardisation (LQ)\n",
    "\n",
    "This 'LQ' is used in geography to measure the concentration of 'something' in a sub-region to the overall concentration of that 'something' in the larger region of which that sub-region is a part. That's a bit of a mouthful, but one of the most common applications of hte LQ is in economic geography where we are trying to find concentrations (or absences) of employment in a sector that seem significant. \n",
    "\n",
    "For example, let's pretend that we have a (very small) country composed of three regions:\n",
    "- Region 1: 400 employees; 200 in steel\n",
    "- Region 2: 200 employees; 150 in steel\n",
    "- Region 3: 300 employees; 80 in steel\n",
    "  \n",
    "**Question**: which region has the greatest concentration of steelworkers?\n",
    "\n",
    "**Answer**: depends what you mean by concentration. \n",
    "\n",
    "There are _more_ steelworkers in Region 1 overall, but their _density_ is higher in Zone 2 (because `150/200 > 200/400`). We use the density (which is a simple proportion) to ensure that we are comparing like-for-like: larger areas can be compared to smaller areas. The proportion therefore controls for the fact that each of the regions has a different number of total employees. \n",
    "\n",
    "Let's put it another way: cities like London and New York are gigantic. If you want to know where there are the _most_ bankers or _most_ bagel factories then your answer will almost always be... London and New York. But what if there's a small town where 95% of people are bankers, and another town where 80% of people are bakers? Surely that's pretty interesting too, no? What's going on that a place can support way more people in these professions that we'd expect...\n",
    "\n",
    "_Expect_, there's that word again. How do we define what we _expect_ so that we can compare it to what we _got_? Well, the mean is one way of defining our expectations -- if you had to guess the height of a new student in your class, your _expectation_ would be based on the heights of the existing students, and the best possible guess that you could make would be the _average_ height of all students because the majority of students are about that tall.\n",
    "\n",
    "In the case of our little steel-producing country, we would need to define our expectation a little differently. We're already using a proportion (steelworkers in a region/all workers in a region) to control for the fact that our regions have different sizes. Why not use a _second_ proportion (all steelworkers in the country/all workers in the country) to set our expectations about how concentrated steel employment will be in each area?\n",
    "\n",
    "That's the LQ.\n",
    "\n",
    "$$\n",
    "LQ = \\frac{{Employment}_{sR}/{Employment}_{eR}}{{Employment}_{sA}/{Employment}_{eA}}\n",
    "$$\n",
    "\n",
    "In this formula $sR$ is the count of steelworkers in a Region, and $eR$ is the count of employees in all industries. Similarly, $sA$ is the count of steelworkers in All Areas (i.e. the country), while $eA$ is total employment in the country.\n",
    "\n",
    "What we do by using the proportion across the entire country is to set our _expectation_ that employment should be distributed evenly across all regions. If steelworkers don't have any specialist needs then each region would be expected to have a proportion of steelworkers in line with the proportion of steelworkers in the country as a whole. So if we find areas that are way above or below this then that might be something worth digging into.\n",
    "\n",
    "### Calculating the LQ in Pandas\n",
    "\n",
    "To illustrate this, I've set up our three region steel-producing country in a pandas data frame. Try running the code below, but you should know _now_ that I've made a deliberate mistake..."
   ]
  },
  {
   "cell_type": "code",
   "execution_count": null,
   "metadata": {
    "collapsed": false
   },
   "outputs": [],
   "source": [
    "# Notice how we can create a data frame 'by hand'\n",
    "d = {\n",
    "  'allemp': pd.Series([400,200,300], index=['Region1','Region2','Region3']),\n",
    "  'steel' : pd.Series([200,150,80], index=['Region1','Region2','Region3']),\n",
    "}\n",
    "df3 = pd.DataFrame(d)\n",
    "\n",
    "# Look at what we've done\n",
    "print df3\n",
    "\n",
    "print \"\\n\"\n",
    "\n",
    "print \"Proportion in each region: \"\n",
    "print df3.steel / df3.allemp\n",
    "\n",
    "print \"\\n\"\n",
    "\n",
    "print \"Proportion in entire country: \"\n",
    "print df3.steel.sum() / df3.allemp.sum()\n",
    "\n",
    "print \"\\n\"\n",
    "\n",
    "print \"LQs for each region: \"\n",
    "print (df3.steel / df3.allemp) / (df3.steel.sum() / df3.allemp.sum())\n"
   ]
  },
  {
   "cell_type": "markdown",
   "metadata": {},
   "source": [
    "#### Debugging\n",
    "\n",
    "Huh, what's going on here? Why is the LQ `inf` (i.e. infinite)? That's not very helpful! This is a little bit of debugging that revisits something you did in the first couple of weeks!\n",
    "\n",
    "Fix the code block above so that you get three LQs in the range between 0.558 and 1.57.\n",
    "\n",
    "Sometimes it can be really useful to manually double-check the results of a calculation using a calculator or just by typing the numbers into a separate line in Python's interpreter -- if you were to get the LQ wrong here then all of the analysis that you do later would be wrong too. And while the replicability of code helps (i.e. you can fix the mistake and then re-run the entire analysis very quickly), you should never assume that you got it exactly right until you’ve double-checked.\n",
    "\n",
    "### Interpreting Your Results\n",
    "\n",
    "How do we interpret the LQ results? Let's start with the two simplest results: 0 and 1. \n",
    "\n",
    "If the LQ is 0 then that means that the denominator (top half of the LQ formula) was 0; there is no employment in the sector of interest in that region. \n",
    "\n",
    "If the LQ is 1 then that means that the top and bottom of the LQ equation were the same; the density of employment in the region is _the same_ as the density in the country as a whole. Anything more than one means a greater density than in the country as a whole.[1]\n",
    "\n",
    "[1] _Note_: you don't have to do this analysis at the country level, your 'country' could be a city and your regions be neighbourhoods or districts... basically, any time you have smaller zones nested within a larger one.\n",
    "\n",
    "From there, the most straightforward way to think about the LQ more deeply is, perhaps surprisingly, using numbers. What do we get if the LQ is: $\\frac{0.5}{0.25}$? In this case, we'd be saying that 50% of employment in the region of interest is in our sector of interest, while in the country as a whole we would expect 25% of employment to be in that sector. That gives us a LQ of 2, and we can read that directly as being _twice_ as concentrated! If we had the reverse: $\\frac{0.25}{0.5}$ then we'd get 0.5 as the result and we'd know that employment was _half_ as concentrated...\n",
    "\n",
    "## Applying the LQ to Groups 1 & 4\n",
    "\n",
    "Now let's calculate the LQ for two groups and see what the resulting distributions looks like:"
   ]
  },
  {
   "cell_type": "code",
   "execution_count": 59,
   "metadata": {
    "collapsed": false
   },
   "outputs": [],
   "source": [
    "df['g1LQ'] = (df.Group1/df.Total) / (float(df.Group1.sum())/df.Total.sum())\n",
    "df['g4LQ'] = (df.Group4/df.Total) / (float(df.Group4.sum())/df.Total.sum())"
   ]
  },
  {
   "cell_type": "code",
   "execution_count": 63,
   "metadata": {
    "collapsed": false
   },
   "outputs": [
    {
     "data": {
      "text/plain": [
       "<matplotlib.axes._subplots.AxesSubplot at 0x11e7bb0d0>"
      ]
     },
     "execution_count": 63,
     "metadata": {},
     "output_type": "execute_result"
    },
    {
     "data": {
      "image/png": "[encoded data removed]",
      "text/plain": [
       "<matplotlib.figure.Figure at 0x11e2b13d0>"
      ]
     },
     "metadata": {},
     "output_type": "display_data"
    }
   ],
   "source": [
    "df.g1LQ.plot.hist(bins=20)"
   ]
  },
  {
   "cell_type": "code",
   "execution_count": 64,
   "metadata": {
    "collapsed": false
   },
   "outputs": [
    {
     "data": {
      "text/plain": [
       "<matplotlib.axes._subplots.AxesSubplot at 0x11e7bb210>"
      ]
     },
     "execution_count": 64,
     "metadata": {},
     "output_type": "execute_result"
    },
    {
     "data": {
      "image/png": "[encoded data removed]",
      "text/plain": [
       "<matplotlib.figure.Figure at 0x11a186910>"
      ]
     },
     "metadata": {},
     "output_type": "display_data"
    }
   ],
   "source": [
    "df.g4LQ.plot.hist(bins=20)"
   ]
  },
  {
   "cell_type": "markdown",
   "metadata": {},
   "source": [
    "There's (honestly) not much of a difference between the LQ plots and the z-score plots, so why is this useful? Well, there's one _very_ useful feature of the LQ: the value '1' is special in the LQ, because it means 'about what we expected'. So if the LQ were 'as expected' then we'd see variation around a LQ of 1. If there's positive skew then it means that, relatively speaking, there are a small number of areas with very high concentrations of that group. But it's a lot easier to interpret the LQ than it is the z-score even if, functionally, there's not a huge difference between them.\n",
    "\n",
    "But using the n"
   ]
  },
  {
   "cell_type": "markdown",
   "metadata": {},
   "source": [
    "# Visualising Data\n",
    "\n",
    "If we weren't learning how to program at the same time as we learn to do data analysis then my recommendation would have been this: **start with a chart**. There is _no_ better tool for understanding what is going on in your data than to visualise it, but we couldn't show you how to make a plot without first teaching you how to load data and perform some basic operations on a data frame! Now that we've done *that*, we can get to grips with VDQI (the [Visual Display of Quantitative Information](https://www.edwardtufte.com/tufte/books_vdqi) and how this supports our understanding of the data.\n",
    "\n",
    "## Why Seaborn\n",
    "\n",
    "For data visualisation we are going to use the [Seaborn package](http://stanford.edu/~mwaskom/software/seaborn/) because it provides a lot of quite complex functionality (and very pretty pictures) at quite low cost. There are, however, other options out there; the two that you are most likely to hear mentioned are: [Bokeh](http://bokeh.pydata.org/en/latest/) and matplotlib. Bokeh is, like, Seaborn designed to make it easy for you to create good-looking plots with minimal effort. \n",
    "\n",
    "Matplotlib is a different beast: it is actually the _underlying_ library that supports the majority of plotting (drawing graphs) in Python. So Seaborn and Bokeh both make use of the matplotlib library to create their plots, and if you want to customise a figure from either of these two libraries then you will eventually need to get to grips with matplotlib. The reason we don't teach matplotlib directly is that it's much harder to make a good plot and the syntax is much more complex.\n",
    "\n",
    "A more recent entrant is ŷhat's ggplot library, which deliberately mimics R’s ggplot2 (http://ggplot.yhathq.com) -- this has become the dominant way of creating plots in the R programming language and it uses a 'visualisation' grammar that many people find incredibly powerful and highly customisable. Unfortunately, ggplot on Python does not currently support mapping (which R does in ggplot2).\n",
    "\n",
    "## Loading Seaborn \n",
    "\n",
    "As with other libraries that we’ve used, we’ll import Seaborn using an alias:\n",
    "```python\n",
    "import seaborn as sns\n",
    "```\n",
    "So to access Seaborn's functions we will now always just write `sns.<function name>()` (where `<function name>` would be something like `distplot`). Try importing Seaborn..."
   ]
  },
  {
   "cell_type": "code",
   "execution_count": null,
   "metadata": {
    "collapsed": false
   },
   "outputs": [],
   "source": [
    "import seaborn as sns"
   ]
  },
  {
   "cell_type": "markdown",
   "metadata": {},
   "source": [
    "If you've not made any changes to your Anaconda distribution then you will probably get:\n",
    "```\n",
    "---------------------------------------------------------------------------\n",
    "ImportError                               Traceback (most recent call last)\n",
    "<ipython-input-43-ed9806ce3570> in <module>()\n",
    "----> 1 import seaborn as sns\n",
    "\n",
    "ImportError: No module named seaborn\n",
    "```\n",
    "So, what's the error?\n",
    "\n",
    "To fix it, we'll need to install Seaborn manually. The best way to do this is to open up the Terminal.\n",
    "\n",
    "[![Installing Packages with Anaconda Python](http://img.youtube.com/vi/P0hA3vMUBuU/0.jpg)](https://www.youtube.com/watch?v=P0hA3vMUBuU)"
   ]
  },
  {
   "cell_type": "markdown",
   "metadata": {},
   "source": [
    "## Making a Distribution Plot\n",
    "\n",
    "One of the most useful ways to get a sense of a data series is simply to look at its overall distribution. Something like this:\n",
    "```python\n",
    "%matplotlib inline\n",
    "...\n",
    "sns.distplot(<data series>)\n",
    "```\n",
    "The `%matplotlib inline` command only need to be run _once_ in a jupyter notebook; it tells jupyter to show the plots as part of the web page, rather than trying to show them in a separate window. "
   ]
  },
  {
   "cell_type": "code",
   "execution_count": null,
   "metadata": {
    "collapsed": false
   },
   "outputs": [],
   "source": [
    "%matplotlib inline\n",
    "import seaborn as sns\n",
    "\n",
    "df.Group1Lq = (df.Group1 / df.Total) / (float(df.Group1.sum()) / df.Total.sum())\n",
    "\n",
    "df.Group1Lq.describe()\n",
    "\n",
    "sns.distplot(df.Group1Lq)"
   ]
  },
  {
   "cell_type": "markdown",
   "metadata": {},
   "source": [
    "If all at went well you should see a nice distribution plot for the Group 1 Location Quotient! \n",
    "\n",
    "\n",
    "### Recap\n",
    "\n",
    "OK, I want you to take a second here: although there was a lot of setup work that needed to be done, we just created a distribution plot in one line of code. One line. This is a more sophisticated plot than you could ever create in Excel and you just created it in one line of code. \n",
    "\n",
    "Try producing similar plots for some of the other groups. You should be able to do this using two things:\n",
    "* A `for` loop to iterate over the column names\n",
    "* String interpolation to create a new LQ column name\n",
    "\n",
    "I'll get you started... this also demonstrates how we can use pandas' dictionary-style notation to create a new string that we can then use as a key for a new data series."
   ]
  },
  {
   "cell_type": "code",
   "execution_count": null,
   "metadata": {
    "collapsed": false
   },
   "outputs": [],
   "source": [
    "for c in ???:\n",
    "    df[c + 'Lq'] = (df[???] / df['Total']) / (float(df[???].sum()) / df[???].sum())\n",
    "\n",
    "    print(???.describe())\n",
    "\n",
    "    sns.distplot(???, hist=False)"
   ]
  },
  {
   "cell_type": "markdown",
   "metadata": {},
   "source": [
    "If all has gone well, then you should have multiple overlapping figures showing the distribution of each NS-SeC Group in the downloaded data. Do you understand more about the data and its distribution now?\n",
    "\n",
    "And did you notice how we turned off the histogram (which would have been confusing with 8 overlapping plots) using the `hist=False` option? More on this, as always, using `help(sns.distplot)` or [RTM](https://seaborn.github.io).\n",
    "\n",
    "## Saving a Plot\n",
    "\n",
    "Saving a plot isn’t quite as easy as creating one... but wouldn’t be it a lot easier if we could save our plot automatically and not have to even touch a button to do so? This is where we need to use matplotlib syntax (and where you'll see why we opted not to spend too much time on it):\n",
    "```python\n",
    "# Simple save\n",
    "\n",
    "import matplotlib.pyplot as plt # Plotting library needed by seaborn\n",
    "series = df.Group1Lq # Copy the data series to a new variable\n",
    "fig = plt.figure(series.name) # Create a figure using a title based on the series name\n",
    "sb.distplot(series) # Plot the series to the open 'figure' device\n",
    "fig = plt.gcf() # *G*et the *C*urrent *F*igure environment so that the next command works\n",
    "plt.savefig(\"{0}-Test.pdf\".format(series.name), bbox_inches=\"tight\")\n",
    "plt.close() # Close the plot so that nothing else overwrites our work\n",
    "\n",
    "```\n",
    "To explain what's happening here: \n",
    "1. We import a sub-package of `matplotlib` that gives us access to all kind of useful functions.\n",
    "2. We copy the Group1Lq data series to a new variable (this would mean that, to print out Group2 or Group8 we'd only have to change this one line... see: we're preparing to use a `for` loop!)\n",
    "3. We create a `figure` object into which Seaborn can 'print' its outputs.\n",
    "4. We call Seaborn and ask it to print (it doesn't really need to know that it's printing to something, it just nees to know what 'device' is should use for output).\n",
    "5. We save the plot, using the `format` command to replace the `{0}` with the name of the data series (so in this example we'd be saving our figure to `Group1Lq-Test.pdf`).\n",
    "6. We then close the figure output so that we don't print other plots over top of it -- that's what happened in the earlier code when we used the `for` loop!\n",
    " \n",
    "The plot should have been saved to your working directory (where the Jupyter notebook is running) using the name of the data series that you were working with. We want to use string replacement (the `{0}`) so that when we save the plot for Group3Lq or Group4Lq we don't overwrite the one for Group1!\n",
    "\n",
    "### Recap\n",
    "\n",
    "If you think back a little bit to where we started 6 weeks ago, you’ll see just how far we’ve come, and just how far you can go now: the ability to automatically load, clean, process (e.g. standardise and filter), and print out data in a variety of forms is incredibly powerful. You could repeat an entire analysis simply by changing the input file (assuming the format doesn’t change too much). \n",
    "\n",
    "It’s the automation component that sits at the heart of geocomputational techniques -- you still need individuals and their judgement to figure out what to do and what to produce, but once you’ve done that you can make the computer do the boring stuff while you focus on the interpretation and the meaning of the results!"
   ]
  },
  {
   "cell_type": "code",
   "execution_count": null,
   "metadata": {
    "collapsed": true
   },
   "outputs": [],
   "source": []
  },
  {
   "cell_type": "markdown",
   "metadata": {},
   "source": [
    "# Automation with Loops & Functions\n",
    "\n",
    "When we're undertaking an analysis of a data set, we often have to perform the same (or at least similar) tasks for each weather station or socio-economic class or ethnic group. We *could* copy and paste the code, and then just change the variable names to update the analysis... but that would be a definite instance of what Larry Wall would have called 'false laziness': it seems like a time-saving device in the short run, but in the long run you've made your code less readily maintainable (what if you want to _add_ to your analysis or find a bug?) and less easy to understand.\n",
    "\n",
    "There are nearly always two things that you should look at if you find yourself repeating the same code: \n",
    "1. write a for loop; \n",
    "2. consider writing a function.\n",
    "\n",
    "Why these two strategies?"
   ]
  },
  {
   "cell_type": "markdown",
   "metadata": {},
   "source": [
    "## Automating Summaries\n",
    "\n",
    "Let’s start with a for loop to generate summary statistics and a distribution plot for several of our data columns – you’ve already typed all of this code more than once so all we need to do is take the right bits of it and put them in a for loop like this:\n",
    "```python\n",
    "for series in ...:\n",
    "    print 'Sumarising ' + series.name\n",
    "    \n",
    "    print \"\\tMean:    {0:> 9.2f}\".format(series.mean())\n",
    "    print \"\\tMedian:  {0:> 9.2f}\".format(series.median())\n",
    "```\n",
    " \n",
    "All you need to do is figure out which data series go into the for loop in the first place and then your code will run for each one, producing a nicely formatted summary for each."
   ]
  },
  {
   "cell_type": "markdown",
   "metadata": {},
   "source": [
    "## Automating Analysis\n",
    "\n",
    "It is much, much harder to automate the analysis than it is to automate the summary, but there are certain things that we can do to make life easier -- transformation and standardisation is one of the easiest things to do as part of automation!\n",
    "\n",
    "Here’s some code to generate the additional columns for our analysis on the pattern that we created for Group 1:\n",
    "```python\n",
    "imprt numpy as np\n",
    "for group in ['Group1','Group3',...,'NC']:\n",
    "\n",
    "    # Log Transform\n",
    "    df[group+'Log'] = pd.Series(np.log(df[group]))\n",
    "    \n",
    "    # Proportional Transform\n",
    "    df[group+'Pct'] = pd.Series(df[group]/df.Total)\n",
    "    \n",
    "    # Location Quotients\n",
    "    df[group+'LQ'] = pd.Series( df[group+'Pct'] / ( float(df[group].sum()) / df.Total.sum() ) )\n",
    "    \n",
    "    # Range Standardisation\n",
    "    df[group+'RangeStd'] = pd.Series( df[group] / ( float(df[group].max()) - df[group].min() ) )\n",
    "    \n",
    "    # Z-Score Standardisation\n",
    "    df[group+'Z'] = pd.Series( (df[group]-df[group].mean()) / df[group].std() )\n",
    "```\n",
    " \n",
    "Do you see how that works? We use the group names as keys to access the data in the data frames (using the `df[<column name>]` syntax), but we also use them as strings to create the new column names by doing: `<group name> + typeOfTransformation`.\n",
    "\n",
    "Make sure that you understand how this works before moving on to the next bit, which is harder.\n",
    "\n",
    "You can check your understanding in the code block below:"
   ]
  },
  {
   "cell_type": "code",
   "execution_count": null,
   "metadata": {
    "collapsed": false
   },
   "outputs": [],
   "source": [
    "df.describe()"
   ]
  },
  {
   "cell_type": "markdown",
   "metadata": {},
   "source": [
    "## Improving our Automated Summaries\n",
    "\n",
    "Seaborn is a handy library because it makes a lot of difficult plots quite easy, but to help us make sense of the data it will be useful to add some additional information to our distribution plots: lines to show the location of the mean, median, and outlier thresholds.\n",
    "\n",
    "To do this, we need to get at the library that Seaborn itself uses: `matplotlib`."
   ]
  },
  {
   "cell_type": "code",
   "execution_count": null,
   "metadata": {
    "collapsed": false
   },
   "outputs": [],
   "source": [
    "import matplotlib.pyplot as plt\n",
    "\n",
    "# Setup work -- enables parameterisation\n",
    "series = df.Group1Lq\n",
    "fig = plt.figure(series.name)\n",
    "\n",
    "# Create the plot\n",
    "d   = sns.distplot(series)\n",
    "\n",
    "# Now add mean and median\n",
    "plt.vlines(series.mean(), 0, 1, colors='red', linestyles='dotted', label='Mean')\n",
    "plt.vlines(series.median(), 0, 1, colors='green', linestyles='dotted', label='Median')\n",
    "\n",
    "# Add outlier marks\n",
    "iqr = series.quantile(0.75)-series.quantile(0.25)\n",
    "if series.quantile(0.25)-1.5*iqr > 0:\n",
    "    plt.vlines(series.quantile(0.25)-1.5*iqr, d.get_ylim()[0], d.get_ylim()[1], colors='blue', linestyles='dotted', label='Lower Outlier')\n",
    "if series.quantile(0.75)+1.5*iqr > 0:\n",
    "    plt.vlines(series.quantile(0.75)+1.5*iqr, d.get_ylim()[0], d.get_ylim()[1], colors='blue', linestyles='dotted', label='Upper Outlier')\n"
   ]
  },
  {
   "cell_type": "code",
   "execution_count": null,
   "metadata": {
    "collapsed": false
   },
   "outputs": [],
   "source": [
    "help(plt.vlines)"
   ]
  },
  {
   "cell_type": "markdown",
   "metadata": {},
   "source": [
    "Remember that you type `help(plt.vlines)` to discover what parameters that function takes. \n",
    "\n",
    "Try changing the style of the median to a solid green line to make it easier to distinguish from the line marking the mean.\n",
    "\n",
    "Why do you think I put an `if` condition on the outlier lines? Would this always be appropriate? Why? Why not?"
   ]
  },
  {
   "cell_type": "markdown",
   "metadata": {},
   "source": [
    "# Taking a Cut of the Data\n",
    "\n",
    "For some types of plots we can be overwhelmed by the data -- trying to show the distribution of Group 1 people as grouped by, say, borough or Local Authority would be tricky since, not only are there a lot of them, but we also don't even _have_ a LA column to use!\n",
    "\n",
    "To take a 'cut' of the data based on LAs, we need some way to get to grips with what's happening in the `GeoLabel` series as that's pretty obviously the only place we're going to get location data. \n",
    "\n",
    "## Taking a Random Sample\n",
    "\n",
    "Rather than trying to step through the whole data frame, wouldn't it be handy to take a random sample first. Since this is something we're likely to want to do many times, let's do it using a function. As usual, [Stack Overflow](http://stackoverflow.com/questions/15923826/random-row-selection-in-pandas-dataframe) is your friend:"
   ]
  },
  {
   "cell_type": "code",
   "execution_count": null,
   "metadata": {
    "collapsed": false
   },
   "outputs": [],
   "source": [
    "# We need numpy again to do this\n",
    "import numpy as np\n",
    "\n",
    "# Our function selects 'some' of \n",
    "# the rows in the dataframe\n",
    "# Adapted from: Stack Overflow\n",
    "def some(x, n):\n",
    "    return x.ix[np.random.choice(df.index, n, replace=False)]\n",
    "\n",
    "# Now we can take a random sample\n",
    "# of 20 rows from df (or any other\n",
    "# number of rows)\n",
    "sdf = some(df, 20)\n",
    "\n",
    "# And let's look at the geography\n",
    "sdf.GeoLabel"
   ]
  },
  {
   "cell_type": "markdown",
   "metadata": {},
   "source": [
    "If you run the random sample several times, you'll see that there is something of a patter here: there is something that is obviously the name of a Local Authority (LA) and it's often followed by some kind of identifier (because LSOAs are smaller than LAs). There are a couple of ways that we can approach this:\n",
    "\n",
    "1. We could try to match on the name of the LA in the GeoLabel (*e.g.* find the GeoLabels starting with 'Hackney')\n",
    "2. We could try to find a way to strip off the identifier so that what we'd be left with was the name of LA.\n",
    "\n",
    "### Matching on the Start of a Word\n",
    "\n",
    "This is easier in the short-term because we can just say \"find the Hackney GeoLabels\" but it's less flexible in the long-term because we can't actually use the GeoLabel column as a way to group our results (because each GeoLabel is _still_ unique, so grouping will group by LSOA).\n",
    "\n",
    "But let's take a look at how that works anyway:"
   ]
  },
  {
   "cell_type": "code",
   "execution_count": null,
   "metadata": {
    "collapsed": false
   },
   "outputs": [],
   "source": [
    "df.ix[df.GeoLabel.str.startswith('Hackney'),['CDU','GeoCode','GeoLabel','Total']].head(10)"
   ]
  },
  {
   "cell_type": "markdown",
   "metadata": {},
   "source": [
    "You'll see that that gave us the Hackney LSOAs, but without modifying any of the data. This is also the first time you've seen the `<data frame>.ix` notation which allows us to combine row and and column access via a mix of integer and label. In other words, you can use this to [select _any_ kind of subset you like](http://pandas.pydata.org/pandas-docs/stable/generated/pandas.DataFrame.ix.html).\n",
    "\n",
    "Just to make it really obvious what I did:\n",
    "```python\n",
    "<data frame>.ix[ <row selection criteria>, <column selection criteria> ].head()\n",
    "```\n",
    "So this is:\n",
    "1. Select rows where `<data frame>.<series name>.str.startswith(<search string>)` (treats the LSOA GeoLable as a string and the searches for strings that start with...)\n",
    "2. Select columns in the list `['CDU','GeoCode','GeoLabel','Total']`\n",
    "3. Return the first 10 rows using `head()`\n",
    "\n",
    "You could _also_ use integer selection on the columns as you would with any normal list: e.g. `xrange(2,5)`."
   ]
  },
  {
   "cell_type": "markdown",
   "metadata": {},
   "source": [
    "### Extracting the LA* Name\n",
    "\n",
    "* _[Note: technically this isn't a local authority, but it's close enough for our purposes.]_\n",
    "\n",
    "The alternative approach, actually extracting the name of LA to a new column, requires a more sophisticated approach because we need to define a _pattern_ that takes into account the different ways that the LA names are embedded in the LSOA GeoLabel columns. For that, we need something called a regular expression. \n",
    "\n",
    "Regular expressions are the real workhorses of data munging: we can use them to set up complex patterns that split, remove, replace, or change text columns in our data set. They are well beyond the scope of Term 1, but it's important that you know that: a) they exist, and b) you'll have to cope with them at some point.\n",
    "\n",
    "After poking around in the data it seems there are generally four different ways that LAs have additional numbers/letters that distinguish between the sub-regions inside each LA:\n",
    "* 3 numbers and a letter: _e.g._ ' 060D'\n",
    "* A hyphen and some numbers: _e.g._ ' - 03'\n",
    "* An underscore and a number: _e.g._ '\\_1'\n",
    "* Nothing: _e.g._ [none] or ''\n",
    "\n",
    "Each of these has a matching regular expression that allows us to find it in a string:\n",
    "* `\\s\\d+[A-Z]` = find a space (`\\s`), followed by 1 or more numbers (`\\d+`), and a capital letter (`[A-Z]`)\n",
    "* `\\s-\\s\\d+` = find a space (`\\s`), followed by a hyphen, followed by another space (`\\s`), and then one or more numbers (`\\d+`)\n",
    "* `_\\d+` = find an underscore followed by one or more numbers (`\\d+`)\n",
    "\n",
    "You'll have to [look up how to use regular expressions](https://developers.google.com/edu/python/regular-expressions) to make sense of the rest, but here's how we do it the _hard way_ that is also the more flexible way:"
   ]
  },
  {
   "cell_type": "code",
   "execution_count": null,
   "metadata": {
    "collapsed": true
   },
   "outputs": [],
   "source": [
    "df['LA'] = df.GeoLabel.str.extract('(^[^_\\d]+)(?:_\\d+|\\s\\d+[A-Z]|\\s-\\s\\d+)?$', expand=False)\n",
    "df['LA'] = df['LA'].astype('category')"
   ]
  },
  {
   "cell_type": "code",
   "execution_count": null,
   "metadata": {
    "collapsed": false
   },
   "outputs": [],
   "source": [
    "# Don't believe me? Take a look.\n",
    "some(df, 10)[ ['GeoLabel','LA'] ]"
   ]
  },
  {
   "cell_type": "markdown",
   "metadata": {},
   "source": [
    "### Selecting by Match\n",
    "\n",
    "Now we can take a 'cut' of the data by selecting only some London-based boroughs for further analysis... we’re going to arbitrarily select K&C, Hackney and Barking because I know they’re quite different boroughs, but you could also use the data to make this selection, right? For instance, I could ask pandas to help me pick the three boroughs that are the furthest apart in terms of their Group 1 means...\n",
    "\n",
    "Anyway, here’s the code to select a cut:\n",
    "```python\n",
    "# sdf = subsetted data frame\n",
    "\n",
    "# Select where the LA value 'is in' one of our pre-defined list\n",
    "sdf = df.loc[df.LA.isin(['Kensington and Chelsea','Hackney','Barking and Dagenham'])]\n",
    "\n",
    "# Remove the remaining unused categories\n",
    "sdf.LA = sdf.LA.cat.remove_unused_categories()\n",
    "\n",
    "# And a simple check to see how many categorical values are left\n",
    "print(\"sdf now contains: {0} values\".format(sdf.LA.describe().unique()[1]))\n",
    "```\n",
    "You’ll notice two unusual bits of code in there that need some explanation:\n",
    "* To 'select  multiple' we need to write: `<data frame>.<series name>.isin([...])`, so we can't just write `<data frame>.<series name>==[...]` unfortunately.\n",
    "* We also have this line: `<data frame>.<column name> = <data frame>.<column name>.cat.remove_unused_categories()`. This should be fairly self-explanatory, but it’s because by default pandas doesn’t update the list of valid categories (i.e. Local Authorities) just because we filtered out boroughs that weren’t of interest. We therefore need to update the Series so that Seaborn doesn’t include a bunch of empty categories in when we make our plots."
   ]
  },
  {
   "cell_type": "markdown",
   "metadata": {},
   "source": [
    "## Other Types of Plots\n",
    "\n",
    "Using our subset, let’s have a look at some other types of plots..."
   ]
  },
  {
   "cell_type": "code",
   "execution_count": null,
   "metadata": {
    "collapsed": false
   },
   "outputs": [],
   "source": [
    "%matplotlib inline\n",
    "b = sns.boxplot(x='LA', y='Group1', data=sdf.sort_values(by='Group1'), palette='PRGn', fliersize=3, linewidth=1)\n",
    "sns.despine(offset=10, trim=True)\n",
    "for item in b.get_xticklabels():\n",
    "    item.set_rotation('vertical')\n",
    "plt.title(\"Group 1 Distribution\")"
   ]
  },
  {
   "cell_type": "code",
   "execution_count": null,
   "metadata": {
    "collapsed": false
   },
   "outputs": [],
   "source": [
    "b = sns.boxplot(x='LA', y='Group1Log', data=sdf.sort_values(by='Group1Log'), palette='PRGn', fliersize=3, linewidth=1)\n",
    "sns.despine(offset=10, trim=True)\n",
    "for item in b.get_xticklabels():\n",
    "    item.set_rotation('vertical')"
   ]
  },
  {
   "cell_type": "code",
   "execution_count": null,
   "metadata": {
    "collapsed": false
   },
   "outputs": [],
   "source": [
    "sns.factorplot(x='LA', y='Group1Z', data=sdf, kind='violin')"
   ]
  },
  {
   "cell_type": "code",
   "execution_count": null,
   "metadata": {
    "collapsed": false
   },
   "outputs": [],
   "source": [
    "sns.regplot(x='Group1Pct', y='Group3Pct', data=sdf)"
   ]
  },
  {
   "cell_type": "code",
   "execution_count": null,
   "metadata": {
    "collapsed": false
   },
   "outputs": [],
   "source": [
    "sns.lmplot(x='Group1', y='Group8', col='LA', data=sdf,\n",
    "          col_wrap=3, ci=None, palette='muted', size=4, \n",
    "          scatter_kws={'s':50, 'alpha': 1})"
   ]
  },
  {
   "cell_type": "code",
   "execution_count": null,
   "metadata": {
    "collapsed": false
   },
   "outputs": [],
   "source": [
    "sns.jointplot(sdf.Group1, sdf.Group8, kind='hex', color='#4CB391')"
   ]
  },
  {
   "cell_type": "code",
   "execution_count": null,
   "metadata": {
    "collapsed": false
   },
   "outputs": [],
   "source": [
    "#sdf.columns\n",
    "sdf2 = sdf[ ['Group2Lq', 'Group3Lq', 'Group4Lq', 'LA'] ]\n",
    "sns.pairplot(sdf2, hue='LA', palette='husl').add_legend()"
   ]
  },
  {
   "cell_type": "markdown",
   "metadata": {},
   "source": [
    "## 3D Plots\n",
    "Finally, I wanted to show you how to create a 3D scatter plot – in this case the plot doesn’t add a lot to our understanding of the data, but there are cases where it might and it does illustrate how pandas, seaborn, and matplotlib work together to produce some pretty incredible outputs.\n",
    "  \n",
    "I would encourage you to look into the options in more detail:\n",
    "* Can you change the colour map used to indicate which Borough each LSOA is drawn from?\n",
    "* Can you change the icons used to mark each Borough so that they are different?\n",
    "* Can you add a legend to indicate which marker is for which Borough?\n",
    "\n",
    "On with the show!"
   ]
  },
  {
   "cell_type": "code",
   "execution_count": null,
   "metadata": {
    "collapsed": false
   },
   "outputs": [],
   "source": [
    "%matplotlib inline \n",
    "# The notebook option would be nice, but doesn't seem to work\n",
    "\n",
    "from mpl_toolkits.mplot3d import Axes3D\n",
    "import matplotlib.colors as colours \n",
    "import matplotlib.cm as cmx\n",
    "\n",
    "# Set up the figure\n",
    "w, h = 12, 8\n",
    "fig = plt.figure(figsize=(w, h))\n",
    "ax  = fig.add_subplot(111, projection='3d')\n",
    "\n",
    "# Set up the 3D axes\n",
    "x = sdf2.Group2Lq\n",
    "y = sdf2.Group3Lq\n",
    "z = sdf2.Group4Lq\n",
    "\n",
    "# Set up the colourmap so that we see\n",
    "# different colours for each borough's\n",
    "# data.\n",
    "# From: http://stackoverflow.com/questions/28033046/matplotlib-scatter-color-by-categorical-factors\n",
    "boroughs  = list(set(sdf2.LA))\n",
    "hot       = plt.get_cmap('hot')\n",
    "cNorm     = colours.Normalize(vmin=0, vmax=len(boroughs))\n",
    "scalarMap = cmx.ScalarMappable(norm=cNorm, cmap=hot)\n",
    "\n",
    "for i in xrange(len(boroughs)):\n",
    "    indx = sdf2.LA==boroughs[i]\n",
    "    ax.scatter(x[indx], y[indx], z[indx], c=scalarMap.to_rgba(i), marker='o')\n",
    "\n",
    "ax.set_xlabel(x.name)\n",
    "ax.set_ylabel(y.name)\n",
    "ax.set_zlabel(z.name)"
   ]
  },
  {
   "cell_type": "markdown",
   "metadata": {},
   "source": [
    "# Additional Resources\n",
    "\n",
    "Here's the answer to loading the NS-SeC data:"
   ]
  },
  {
   "cell_type": "code",
   "execution_count": 2,
   "metadata": {
    "collapsed": false
   },
   "outputs": [
    {
     "data": {
      "text/html": [
       "<div>\n",
       "<table border=\"1\" class=\"dataframe\">\n",
       "  <thead>\n",
       "    <tr style=\"text-align: right;\">\n",
       "      <th></th>\n",
       "      <th>CDU</th>\n",
       "      <th>GeoCode</th>\n",
       "      <th>GeoLabel</th>\n",
       "      <th>GeoType</th>\n",
       "      <th>GeoType2</th>\n",
       "      <th>Total</th>\n",
       "      <th>Group1</th>\n",
       "      <th>Group2</th>\n",
       "      <th>Group3</th>\n",
       "      <th>Group4</th>\n",
       "      <th>Group5</th>\n",
       "      <th>Group6</th>\n",
       "      <th>Group7</th>\n",
       "      <th>Group8</th>\n",
       "      <th>NC</th>\n",
       "    </tr>\n",
       "  </thead>\n",
       "  <tbody>\n",
       "    <tr>\n",
       "      <th>0</th>\n",
       "      <td>18373</td>\n",
       "      <td>95AA01S1</td>\n",
       "      <td>Aldergrove_1</td>\n",
       "      <td>Lower Super Output Areas and Data Zones</td>\n",
       "      <td>LSOADZ</td>\n",
       "      <td>982</td>\n",
       "      <td>98</td>\n",
       "      <td>464</td>\n",
       "      <td>234</td>\n",
       "      <td>35</td>\n",
       "      <td>80</td>\n",
       "      <td>39</td>\n",
       "      <td>25</td>\n",
       "      <td>0</td>\n",
       "      <td>NaN</td>\n",
       "    </tr>\n",
       "    <tr>\n",
       "      <th>1</th>\n",
       "      <td>18374</td>\n",
       "      <td>95AA01S2</td>\n",
       "      <td>Aldergrove_2</td>\n",
       "      <td>Lower Super Output Areas and Data Zones</td>\n",
       "      <td>LSOADZ</td>\n",
       "      <td>1814</td>\n",
       "      <td>256</td>\n",
       "      <td>417</td>\n",
       "      <td>170</td>\n",
       "      <td>446</td>\n",
       "      <td>162</td>\n",
       "      <td>156</td>\n",
       "      <td>156</td>\n",
       "      <td>47</td>\n",
       "      <td>NaN</td>\n",
       "    </tr>\n",
       "    <tr>\n",
       "      <th>2</th>\n",
       "      <td>18375</td>\n",
       "      <td>95AA01S3</td>\n",
       "      <td>Aldergrove_3</td>\n",
       "      <td>Lower Super Output Areas and Data Zones</td>\n",
       "      <td>LSOADZ</td>\n",
       "      <td>1494</td>\n",
       "      <td>226</td>\n",
       "      <td>399</td>\n",
       "      <td>176</td>\n",
       "      <td>294</td>\n",
       "      <td>86</td>\n",
       "      <td>114</td>\n",
       "      <td>159</td>\n",
       "      <td>30</td>\n",
       "      <td>NaN</td>\n",
       "    </tr>\n",
       "    <tr>\n",
       "      <th>3</th>\n",
       "      <td>18376</td>\n",
       "      <td>95AA02W1</td>\n",
       "      <td>Balloo</td>\n",
       "      <td>Lower Super Output Areas and Data Zones</td>\n",
       "      <td>LSOADZ</td>\n",
       "      <td>1734</td>\n",
       "      <td>76</td>\n",
       "      <td>326</td>\n",
       "      <td>216</td>\n",
       "      <td>112</td>\n",
       "      <td>251</td>\n",
       "      <td>296</td>\n",
       "      <td>383</td>\n",
       "      <td>68</td>\n",
       "      <td>NaN</td>\n",
       "    </tr>\n",
       "    <tr>\n",
       "      <th>4</th>\n",
       "      <td>18377</td>\n",
       "      <td>95AA03W1</td>\n",
       "      <td>Ballycraigy</td>\n",
       "      <td>Lower Super Output Areas and Data Zones</td>\n",
       "      <td>LSOADZ</td>\n",
       "      <td>1822</td>\n",
       "      <td>67</td>\n",
       "      <td>244</td>\n",
       "      <td>231</td>\n",
       "      <td>94</td>\n",
       "      <td>239</td>\n",
       "      <td>407</td>\n",
       "      <td>427</td>\n",
       "      <td>106</td>\n",
       "      <td>NaN</td>\n",
       "    </tr>\n",
       "  </tbody>\n",
       "</table>\n",
       "</div>"
      ],
      "text/plain": [
       "     CDU    GeoCode      GeoLabel                                  GeoType  \\\n",
       "0  18373  95AA01S1   Aldergrove_1  Lower Super Output Areas and Data Zones   \n",
       "1  18374  95AA01S2   Aldergrove_2  Lower Super Output Areas and Data Zones   \n",
       "2  18375  95AA01S3   Aldergrove_3  Lower Super Output Areas and Data Zones   \n",
       "3  18376  95AA02W1         Balloo  Lower Super Output Areas and Data Zones   \n",
       "4  18377  95AA03W1    Ballycraigy  Lower Super Output Areas and Data Zones   \n",
       "\n",
       "  GeoType2  Total  Group1  Group2  Group3  Group4  Group5  Group6  Group7  \\\n",
       "0   LSOADZ    982      98     464     234      35      80      39      25   \n",
       "1   LSOADZ   1814     256     417     170     446     162     156     156   \n",
       "2   LSOADZ   1494     226     399     176     294      86     114     159   \n",
       "3   LSOADZ   1734      76     326     216     112     251     296     383   \n",
       "4   LSOADZ   1822      67     244     231      94     239     407     427   \n",
       "\n",
       "   Group8  NC  \n",
       "0       0 NaN  \n",
       "1      47 NaN  \n",
       "2      30 NaN  \n",
       "3      68 NaN  \n",
       "4     106 NaN  "
      ]
     },
     "execution_count": 2,
     "metadata": {},
     "output_type": "execute_result"
    }
   ],
   "source": [
    "df = pd.read_csv('./Data/Data_NSSHRP_UNIT_URESPOP.csv', skiprows=[1])\n",
    "del df['Unnamed: 15'] # If you have this column, this deletes it\n",
    "\n",
    "# Now just to rename the columns...\n",
    "colnames = ['CDU','GeoCode','GeoLabel','GeoType','GeoType2','Total']\n",
    "for i in range(1,9):\n",
    "    colnames.append('Group' + str(i))\n",
    "colnames.append('NC')\n",
    "df.columns = colnames\n",
    "\n",
    "df.head() # Success! "
   ]
  },
  {
   "cell_type": "code",
   "execution_count": 3,
   "metadata": {
    "collapsed": true
   },
   "outputs": [],
   "source": [
    "# Set the display format of numbers from scientific\n",
    "pd.set_option('display.float_format', lambda x: '%.3f' % x)"
   ]
  }
 ],
 "metadata": {
  "anaconda-cloud": {},
  "kernelspec": {
   "display_name": "Python [Root]",
   "language": "python",
   "name": "Python [Root]"
  },
  "language_info": {
   "codemirror_mode": {
    "name": "ipython",
    "version": 2
   },
   "file_extension": ".py",
   "mimetype": "text/x-python",
   "name": "python",
   "nbconvert_exporter": "python",
   "pygments_lexer": "ipython2",
   "version": "2.7.12"
  }
 },
 "nbformat": 4,
 "nbformat_minor": 0
}
