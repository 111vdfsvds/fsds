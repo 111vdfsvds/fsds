{
 "cells": [
  {
   "cell_type": "markdown",
   "metadata": {},
   "source": [
    "# This Week’s Overview\n",
    "\n",
    "This week we're going to apply a number of the concepts covered in class in order to read a remote CSV file, turn it into data, and then perform some simple analyses on it. We're going to first do it 'by hand' (building the tools we need) and then using the 'pandas' package that gives us a very different way to do things.\n",
    "\n",
    "## Learning Outcomes\n",
    "\n",
    "By the end of this practical you should:\n",
    "- Have read a remote data file\n",
    "- Written a function to derive some statistics\n",
    "- Have imported a package\n",
    "- Have made use of methods"
   ]
  },
  {
   "cell_type": "markdown",
   "metadata": {},
   "source": [
    "# Taking a Second to Think\n",
    "\n",
    "To a computer, reading data from a remote location (e.g. a web site halfway around the world) is not really any different from reading one that's sitting on your desktop, you just need to make set it up a bit differently and, in Python, make use of a different _package_. In all cases – local and remote – Python gives you a 'filehandle' that supports certain operations like 'open a filehandle', 'read a line', 'close a filehandle'. It's called a filehandle because it's something that gives you a 'grip' on a file-like object.\n",
    "\n",
    "I also want you to understand how we're approaching the problem set out above: we want to read a remote file (i.e. a text file halfway round the planet), turn it into a local data structure (i.e a list or a dictionary), and then perform operations on it using functions (e.g. calculate the mean, find the westernmost city, etc.).\n",
    "\n",
    "_**But**_, we _don't_ try to do all of this at once by writing a whole lot of code and the hoping for the best; when you're tackling a problem like this you break it down into separate, simpler steps, and then tick them off one by one. So first we'll get Python _reading_ remote data, then we'll _convert_ text into data, and finally we'll _analyse_ the data using functions.\n",
    "\n",
    "_**Note**_: you might also find it helpful to take a close look at the URL that we are reading by pasting this link into a web browser: http://www.reades.com/CitiesWithWikipediaData-simple.csv. "
   ]
  },
  {
   "cell_type": "markdown",
   "metadata": {},
   "source": [
    "# Step 1: Reading a Remote File\n",
    "\n",
    "So, as I said, we are going to parse a data file hosted on a remote web site. This is just the first step: we are going to build from this first step towards more substantial exercises and, eventually, you could easily request Megabytes of data in real-time according to flexibly-specified parameters!\n",
    "\n",
    "You'll probably need to do a quick Google in order to make sense of what you're about to do; I'd suggest \"`read remote CSV file Python urllib2`\"."
   ]
  },
  {
   "cell_type": "code",
   "execution_count": null,
   "metadata": {
    "collapsed": false
   },
   "outputs": [],
   "source": [
    "import urllib2\n",
    "\n",
    "help(urllib2.urlopen) # Notice!\n",
    "\n",
    "url = \"http://www.reades.com/CitiesWithWikipediaData-simple.csv\"\n",
    "print(\"URL: \" + url + \".\\n\")\n",
    "\n",
    "response = urllib2.urlopen(url)\n",
    "for ??? in response:\n",
    "    print line.rstrip()"
   ]
  },
  {
   "cell_type": "markdown",
   "metadata": {},
   "source": [
    "If you've managed to get the code above to run after fixing the '???' and have received 11 rows of text in response to your `urlopen` query then, congratulations, You've now read a text file sitting on a server in, I think, Alberta, Canada and Python _didn't care_. \n",
    "\n",
    "The last row should be `10,Sheffield,10,-163545.3257,7055177.403,685368`.\n",
    "\n",
    "### URLLIB2\n",
    "\n",
    "In this particular case, I 'gave' you the fact that you'd need to make use of the `urllib2` package in order to read the file. But you could certainly have Googled this for yourself using something like 'Python read file on server' or 'Python read remote file'...\n",
    "\n",
    "Urllib2 is a very useful library, but compared to pandas (which we'll see next week), it's pretty simple since it just sends a 'request' to a web site and 'reads' the results. You can also do things like submit a form (e.g. you could submit hundreds of applications for a free TV if someone ran a competition... that's why they have 'captchas' now).\n",
    "\n",
    "Anyway, that's some background, let's move on to step 2! "
   ]
  },
  {
   "cell_type": "markdown",
   "metadata": {},
   "source": [
    "## Step 2: Turning Text into Data\n",
    "\n",
    "We now need to work on turning that text into useful data. You'll notice that we are dealing with a _CSV_ (Comma-Separated Value) file and that the format is quite simple since none of the rows have fields that contain commas. So to turn this into data we just need to _split_ the row into separate fields using the commas.\n",
    "\n",
    "In the code below, `dir('string')` lists the available methods for strings (because `'string'` is a String; we could as easily written `dir('foo')`). Methods that start and end with `__` are generally considered private, so you can skip over these and focus on the ones further down that are designed to be useful to programmers. Can you spot the method that is most likely to be useful?"
   ]
  },
  {
   "cell_type": "code",
   "execution_count": null,
   "metadata": {
    "collapsed": false
   },
   "outputs": [],
   "source": [
    "dir('string')"
   ]
  },
  {
   "cell_type": "markdown",
   "metadata": {},
   "source": [
    "Now that you've found the method, why not use the `help` function to figure out how to make use of it?"
   ]
  },
  {
   "cell_type": "code",
   "execution_count": null,
   "metadata": {
    "collapsed": false
   },
   "outputs": [],
   "source": [
    "help('string'.split)"
   ]
  },
  {
   "cell_type": "markdown",
   "metadata": {},
   "source": [
    "OK, so you've tracked down the way to split a string using a delimiter. You might want to make a mental note of some of the other useful ones: `splitlines`, `upper`, `lower`, `rstrip`, and the whole `is...` series. We work a lot with strings, so it's handy to get to know the readily-available methods well.\n",
    "\n",
    "Let's test string splitting using our sample string to make sure it works the way we think it does."
   ]
  },
  {
   "cell_type": "code",
   "execution_count": null,
   "metadata": {
    "collapsed": false
   },
   "outputs": [],
   "source": [
    "test = \"10,Sheffield,10,-163545.3257,7055177.403,685368\".split(???)\n",
    "print test"
   ]
  },
  {
   "cell_type": "markdown",
   "metadata": {},
   "source": [
    "Cool! Now that you've figured out how to make use of the appropriate method using `help` and a simple test, it's time to revise the code above so that it turns the remote file into data. You can hopefully see how we're breaking a complex problem down into a set of _increments_, each of which is a bit easier to write and understand. \n",
    "\n",
    "Now, remember that ultimately we want to make use of the data in this file, so simply printing it back out isn't particularly helpful. What we really want to do is stash the data we've read in some kind of _data structure_ that resembles the CSV file but is easier and faster for the computer to navigate.\n",
    "\n",
    "We need:\n",
    "1. To keep the rows in order\n",
    "2. To keep the columns in order\n",
    "\n",
    "With what we've covered in previous sessions and what we've covered in class, what approach might allow us to do this? _Hint:_ is it likely to be a dictionary? "
   ]
  },
  {
   "cell_type": "code",
   "execution_count": null,
   "metadata": {
    "collapsed": false
   },
   "outputs": [],
   "source": [
    "import urllib2\n",
    "\n",
    "url = \"http://www.reades.com/CitiesWithWikipediaData-simple.csv\"\n",
    "\n",
    "cityData = [] # Somewhere to store the data\n",
    "\n",
    "response = urllib2.urlopen(???) \n",
    "for line in response: \n",
    "    cityData.append( line.rstrip().split(???) )\n",
    "\n",
    "print cityData # Check it worked!"
   ]
  },
  {
   "cell_type": "markdown",
   "metadata": {},
   "source": [
    "# Functions\n",
    "\n",
    "Everything we do form here on out will be modelled on the code that we've just finished, so if you get lost you can always come back to this step and start over! Sometimes, you can tie yourself in knots thinking about a problem and it ends up being easier to throw everything out and start again with a simpler approach or new angle...\n",
    "\n",
    "We can write functions in much the same way that we developed the code above: incrementally. Rather than just sitting down, typing out your function, and hoping for the best, it's often easier to write the code first and _then_ turn it into a function! Let's try this for the code we've written so far by creating a function that will access _any_ URL and return a 'simple' list-of-lists that represents any CSV data stored at the URL's location. \n",
    "\n",
    "### Designing a function\n",
    "\n",
    "The first stage in writing a function is to figure out what inputs and outputs it should have. For this function that is fairly straightforward:\n",
    "* We give the function a URL that we want to it read in\n",
    "* The function gives us back a list-of-lists containing the CSV data\n",
    "\n",
    "We should also give it a name that is fairly obvious to anyone else who comes along and tries to read our code; how about: `readRemoteCSV`?\n",
    "\n",
    "### Creating  a function\n",
    "\n",
    "This is a good point to hit Google or StackOverflow for some help. We're trying to `write a function in Python` so why not search for that? I quickly found some useful ones from sites like TutorialPoint and the Python documentation.\n",
    "\n",
    "I've created the sketch of a function below but have left out quite a bit that you'll have to fill in by searching on your own."
   ]
  },
  {
   "cell_type": "code",
   "execution_count": null,
   "metadata": {
    "collapsed": false
   },
   "outputs": [],
   "source": [
    "def readRemoteCSV(url):\n",
    "    \"\"\"\n",
    "    Reads a remote CSV file and returns\n",
    "    a list-of-lists containing the data.\n",
    "    \"\"\"\n",
    "    urlData = [] # Somewhere to store the data\n",
    "\n",
    "    response = urllib2.urlopen(???)\n",
    "    for line in response: \n",
    "        urlData.append( line.rstrip().split(???) )\n",
    "        \n",
    "    return ???\n",
    "\n",
    "print \"URL 1:\\n\"\n",
    "data1 = readRemoteCSV(\"http://www.reades.com/CitiesWithWikipediaData-simple.csv\")\n",
    "print data1\n",
    "\n",
    "# Now...\n",
    "\n",
    "print \"URL 2:\\n\"\n",
    "data2 = readRemoteCSV(\"http://www.reades.com/CitiesWithWikipediaData.csv\")\n",
    "print data2\n"
   ]
  },
  {
   "cell_type": "markdown",
   "metadata": {},
   "source": [
    "### Review!\n",
    "\n",
    "OK, let's just take a look at that again: do you see how, by packaging up the code as a function, we have made it more useful and more re-usable? We now have a little snippet of code that we can _call_ to process _any_ valid URL. So we called `readRemoteCSV` once to read the 'Cities-simple.csv' file, and again to read to the much larger 'Cities.csv' file. We could read 1,000 other URLs using the same function! Now our code is a lot cleaner because we don't need to keep reading lines of code about calling remote files and parsing them; and it's also a lot easier to maintain because if we want to _change_ the way that we parse remote CSV files then we only need to do it in _one place_ and then everywhere that we use this function benefits form the improvement... which is what we're going to do now."
   ]
  },
  {
   "cell_type": "markdown",
   "metadata": {},
   "source": [
    "## Calculating the Mean\n",
    "\n",
    "I'd like you to write a function that will enable you to calculate the mean city size of data retrieved from _any_ URL. So you should be able to call _one_ function that will work for both `Cities.csv` and `Cities-simple.csv`. You'll need to look closely at how the two files are 'laid out': where is the population column, and how would be iterate over the rows to find the mean?\n",
    "\n",
    "### Designing the Function\n",
    "\n",
    "OK, we know that `readRemoteCSV` will give us back a list-of-lists: the 'big list' contains a large number of 'small lists', each of which represents a row in the data set. Let's break this down:\n",
    "* We know that we will have a LoL (List-of-Lists) to work from\n",
    "* We know that each 'small list' represents a row in the data\n",
    "* We know that the position of the column of interest might change from data set to data set\n",
    "* We know that we'll need to convert every value to a... `float`? `int`? Let's assume `float`.\n",
    "* We know that we'll need to sum up the values\n",
    "* We know that we'll need to keep track of how many rows of data there are\n",
    "\n",
    "As before, let's start by working it out _as code_, and then package it up _as a function_ once it's working."
   ]
  },
  {
   "cell_type": "code",
   "execution_count": null,
   "metadata": {
    "collapsed": false
   },
   "outputs": [],
   "source": [
    "# The starting point...\n",
    "for row in data1:\n",
    "    print row"
   ]
  },
  {
   "cell_type": "code",
   "execution_count": null,
   "metadata": {
    "collapsed": false
   },
   "outputs": [],
   "source": [
    "# Now let's track a particular column\n",
    "col = 3\n",
    "for row in ???:\n",
    "    print row[???]"
   ]
  },
  {
   "cell_type": "code",
   "execution_count": null,
   "metadata": {
    "collapsed": false
   },
   "outputs": [],
   "source": [
    "# And now let's figure out the mean\n",
    "col   = 3\n",
    "total = 0 # What's the sum of the values?\n",
    "count = 0 # How many values have we read?\n",
    "for row in data1:\n",
    "    print row[col]\n",
    "    value = row[col]\n",
    "    count += 1\n",
    "    total += value"
   ]
  },
  {
   "cell_type": "markdown",
   "metadata": {},
   "source": [
    "Ooops, that last one didn't work so well. How would you fix this?\n",
    "\n",
    "Here are _two_ hints:\n",
    "1. What is the count when you are reading the first row (which contains the column name)?\n",
    "2. If the value is a string, how do you convert it to an int\n",
    "\n",
    "_P.S._ I also broke one very important thing deliberately"
   ]
  },
  {
   "cell_type": "code",
   "execution_count": null,
   "metadata": {
    "collapsed": false
   },
   "outputs": [],
   "source": [
    "# And now let's figure out the mean\n",
    "col   = 5\n",
    "total = 0.0 # What's the sum of the values?\n",
    "count = 0   # How many values have we read?\n",
    "for row in data1:\n",
    "    print(row[col])\n",
    "    if count == 0: # ???\n",
    "        count += 1\n",
    "    else: \n",
    "        value = float(row[col]) # ???\n",
    "        count += 1\n",
    "        total += total\n",
    "\n",
    "\n",
    "print total/count"
   ]
  },
  {
   "cell_type": "markdown",
   "metadata": {},
   "source": [
    "OK, we're almost there now: we know _how_ to calculate the mean for any column that is numeric (dealing with non-numeric columns would be nice but it's just adding extra difficulty to this notebook). Now we want to package this up as a function so that you can just write `calcMean(...)` and get back an answer!\n",
    "\n",
    "Here's a skeleton to get you started:"
   ]
  },
  {
   "cell_type": "code",
   "execution_count": null,
   "metadata": {
    "collapsed": false
   },
   "outputs": [],
   "source": [
    "def calcMean(data, col):\n",
    "    \"Take a list-of-lists and derive the mean for a specified column.\"\n",
    "    total = 0.0\n",
    "    count = 0\n",
    "    \n",
    "    for row in data:\n",
    "        # print(row[col]) # Uncomment to debug\n",
    "        if count == 0: # ???\n",
    "            count += 1\n",
    "        else: \n",
    "            value = float(row[col]) # ???\n",
    "            count += 1\n",
    "            total += value\n",
    "    \n",
    "    return total/count\n",
    "\n",
    "data1 = readRemoteCSV(\"http://www.reades.com/CitiesWithWikipediaData-simple.csv\")\n",
    "print \"Mean of simple file populations is: \" + str(calcMean(data1,5))\n",
    "\n",
    "# Now...\n",
    "\n",
    "data2 = readRemoteCSV(\"http://www.reades.com/CitiesWithWikipediaData.csv\")\n",
    "print \"Mean of big file populations is: \" + str(calcMean(data2,5))"
   ]
  },
  {
   "cell_type": "markdown",
   "metadata": {},
   "source": [
    "And there you go! Done.\n",
    "\n",
    "You've written two functions: one to read a remote file from a URL, and one to calculate the mean for a simple CSV file of _any_ size. I hope you'll agree that that is pretty handy, but that it's also pretty awkward: we're not doing any type-checking (to see if something is an integer, float, or string) and if we get it wrong the whole thing 'blows up' on us. It's also just kind of _inelegant_ since we have all of these counters (`total` and `count`) to keep track of things... is this what's really going on behind the scenes?"
   ]
  },
  {
   "cell_type": "markdown",
   "metadata": {},
   "source": [
    "# Thinking About Data\n",
    "\n",
    "I've said before that the way a computer 'thinks' and the way that we think doesn't always line up naturally. Experienced programmers can think their way _around_ a problem by working _with_ the computer, rather than against it. Let's apply this approach to the parsing of CSV files.\n",
    "\n",
    "## What's an _Appropriate_ Data Structure?\n",
    "\n",
    "As you saw when I asked you to calculate the mean population of British cities twice – once using the simple file, and once using the bigger, more complex file – there is a 'problem': our list-of-lists isn't very easy to navigate. Not only _might_ the location of the Population column be different in the two files (as it was, deliberately), but when we want to work out the mean we need to step through a lot of irrelevant data as well (we need to skip past the name, latitude, longitude, etc.). And if I asked you to find the _largest_ city you'd need to do even more work.\n",
    "\n",
    "So how does the experienced programmer get around this? 'Simple': she realises that the data is organised the wrong way! We humans naturally tend to think in rows of data: London has the following _attributes_ (population, location, etc.), and York has a different set of attributes. Se we read across the row because that's the easiest way for us to read it.\n",
    "\n",
    "But a computer doesn't have to work that way. For a computer, it's as easy to read _down_ a column as it is to read _across_ a row. In fact, it's easier, because each column has a different _type_ of data: so one column contains names (strings), another column contains population (integers), and other columns contain other types of data (floats, etc.). Better still, the order of the columns often doesn't matter as long as we know what they are called: it's easier to ask for the 'population column' than it is to ask for the 6th column since, for all we know, the population column might be in a different place.\n",
    "\n",
    "## A Dictionary of Lists\n",
    "\n",
    "So if we don't mind about column order, only row order (so that we can still link up all of the London data) then a dictionary of lists would be a nice way to handle things. Let's talk this out a bit with some example code, but first, here are the first four rows of data from the simple file:\n",
    "\n",
    "```python\n",
    "['id', 'Name', 'Rank', 'Longitude', 'Latitude', 'Population'], \n",
    "['1', 'Greater London', '1', '-18162.92767', '6711153.709', '9787426'], \n",
    "['2', 'Greater Manchester', '2', '-251761.802', '7073067.458', '2553379'], \n",
    "['3', 'West Midlands', '3', '-210635.2396', '6878950.083', '2440986']\n",
    "```\n",
    "\n",
    "Here's how it would look as a dictionary of lists organised by _column_, not by row:\n",
    "\n",
    "```python\n",
    "myData = {\n",
    "    'id'         : [1, 2, 3],\n",
    "    'Name'       : ['London', 'Manchester', 'West Midlands'],\n",
    "    'Rank'       : [1, 2, 3],\n",
    "    'Longitude'  : [-18162.92767, -251761.802, -210635.2396],\n",
    "    'Latitude'   : [6711153.709, 7073067.458, 6878950.083],\n",
    "    'Population' : [9787426, 2553379, 2440986],\n",
    "}\n",
    "\n",
    "```\n",
    "\n",
    "What does this do better? Well, for starters, we know that everything in the 'Name' column will be a string, and that everything in the 'Longitude' column is a float, while the 'Population' column contains integers. So that's made life easier already. But let's test this out and see how it works."
   ]
  },
  {
   "cell_type": "code",
   "execution_count": null,
   "metadata": {
    "collapsed": false
   },
   "outputs": [],
   "source": [
    "myData = {\n",
    "    'Name'       : ['London','Manchester','West Midlands'],\n",
    "    'Rank'       : [1, 2, 3, 4],\n",
    "    'Longitude'  : [-18162.92767, -251761.802, -210635.2396],\n",
    "    'Latitude'   : [6711153.709, 7073067.458, 6878950.083],\n",
    "    'Population' : [9787426, 2553379, 2440986],\n",
    "}\n",
    "\n",
    "# Find the population of Manchester\n",
    "pop = myData['Population'][myData['Name'].index('Manchester')]\n",
    "print \"The population of Manchester is: \" + str(pop)\n",
    "\n",
    "# Find the westernmost city\n",
    "city = myData['Name'][myData['Longitude'].index(max(myData['Longitude']))]\n",
    "print \"The westernmost city is: \" + str(city)\n",
    "\n",
    "# Find the mean population of the cities\n",
    "import numpy as np # Need to import a useful package\n",
    "mean = np.mean(myData['Population'])\n",
    "print \"The mean population is: \" + str(mean)"
   ]
  },
  {
   "cell_type": "markdown",
   "metadata": {},
   "source": [
    "## Review!\n",
    "\n",
    "There's a _lot_ of content to process in the code above, so do _not_ rush blindly on if this is confusing. Stop. Think it through. We'll go through each one in turn, but they nearly all work in the same way.\n",
    "\n",
    "### The Population of Manchester\n",
    "\n",
    "The code can look pretty daunting, so let's break it down into two parts.\n",
    "\n",
    "What would you get if you ran just this code?\n",
    "```python\n",
    "myData['Population'][0]\n",
    "```\n",
    "Remember that this is a dictionary-of-lists (DoL). So, Python first looks for a key named `Population` in the myData dictionary. It finds out that the value associated with this key is a _list_ (`[9787426, 2553379, 2440986]`). And this example, it just pulls out the first value (index 0), which is `9787426`. Does that make sense?\n",
    "\n",
    "Now, to the second part:\n",
    "```python\n",
    "myData['Name'].index('Manchester')\n",
    "\n",
    "```\n",
    "This is very similar: we look in the dictionary for the key `Name` and find that that's _also_ a list (`['London','Manchester','West Midlands']`, since you asked). If you don't remember what `index` does, don't worry, here's the output from Python's `help()` function:\n",
    "```\n",
    "Help on built-in function index:\n",
    "\n",
    "index(...)\n",
    "    L.index(value, [start, [stop]]) -> integer -- return first index of value.\n",
    "    Raises ValueError if the value is not present.\n",
    "```\n",
    "So all we're doing is asking Python to find out the index of 'Manchester' in the list associated with the dictionary key 'Name' _instead_ of just sticking in a `0` to get the first index value. Putting these two things back together what we're doing is:\n",
    "* Finding the index (i.e. **row**) of 'Manchester' in the Name column,\n",
    "* Using that index to read a value out of the Population column (by **row**).\n",
    "\n",
    "Does that make sense? If it does then you should be having a kind of an Alice-through-the-Looking-Glass moment because what we've done by taking a column view, rather than a row view is to make Python's ``index()`` command do the work for us. Instead of having to look through each row for a field that matches 'Name' and then check to see if it's 'Manchester', we've pointed Python at the right column immediately and asked it to find the match (which it can do very quickly). Once we have a match then we _also_ have the row number to go and do the lookup in the 'Population' column because the index _is_ the row number!\n",
    "\n",
    "### The Westernmost City\n",
    "\n",
    "Where this approach really comes into its own is on problems that involve maths. To figure out the westernmost city in this list we need to find the _maximum_ Longitude and then use _that_ to look up the right city. So let's do the same process of pulling this appart into two steps:\n",
    "\n",
    "It should be _pretty_ obvious what this does:\n",
    "```python\n",
    "myData['Name'][0]\n",
    "```\n",
    "But we don't just want the first city in the list, we want the one with the highest longitude. So to achieve that we need to replace the `0` with an index that we found by looking in the `Longitude` list.\n",
    "```python\n",
    "myData['Longitude'].index(max(myData['Longitude']))\n",
    "\n",
    "```\n",
    "Ugh, that's still a little hard to read, isn't it? Let's break it down differently:\n",
    "\n",
    "```python\n",
    "myData['Longitude'].index(\n",
    "    max(myData['Longitude'])\n",
    ")\n",
    "\n",
    "```\n",
    "There's the same `.index` which tells us that Python is going to look for something in the list associated with the `Longitude` key. All we've done is change what's _inside_ that index function: `max(myData['Longitude'])` is telling Python to find the _maximum_ value in the `myData['Longitude']` list. So to explain this in three steps, what we're doing is:\n",
    "* Finding the maximum value in the Longitude column (we know there must be one, but we don't know what it is!),\n",
    "* Finding the index (position) of that maximum value in the Longitude column (now we know what the value is!),\n",
    "* Using that index to read a value out of the Name column.\n",
    "\n",
    "I am a nerd, but that's pretty cool, right? In one line of code we managed to quickly find out where the data we needed was even though it involved three discrete steps. Remember how much work it was to find the mean when you were still thinking in _rows_, not _columns_?\n",
    "\n",
    "### The Average City Size\n",
    "\n",
    "Yeah, let's try that too.\n",
    "\n",
    "Here we're going to 'cheat' a little bit: rather than writing our own function, we're going to import a package and use someone _else's_ function. The `numpy` package contains a _lot_ of useful functions that we can call on (if you don't believe me, add \"`dir(np)`\" on a new line after the `import` statement), and one of them calculates the average of a list or array of data.\n",
    "```python\n",
    "import numpy as np # Need to import a useful package\n",
    "mean = np.mean(myData['Population'])\n",
    "```\n",
    "This is where our new approach really comes into its own: because all of the population data is in one place (a.k.a. a _series_ or column), we can just throw the whole list into the `np.mean` function rather than having to use all of those convoluted loops and counters. Simples, right?\n",
    "\n",
    "### Standard Deviation\n",
    "\n",
    "By using `numpy` can you figure out how to modify the code above to look at the standard deviation instead of the mean? You might need a refresher as to how to calculate the standard deviation: http://www.mathsisfun.com/data/standard-deviation.html\n",
    "\n",
    "## Review!\n",
    "\n",
    "So the _really_ clever bit in all of this isn't switching from a list-of-lists to a dictionary-of-lists, it's recognising that the latter is a _better_ way to work _with_ the data that we're trying to analyse and that that there are useful functions that we can exploit to do the heavy lifting for us. Simply be changing the way that we stored the data in a 'data structure' (i.e. complex arrangement of lists, dictionaries, and variables) we were able to do away with lots of for loops and counters and conditions, and reduce many difficult operations to something that could be done on one line! "
   ]
  },
  {
   "cell_type": "markdown",
   "metadata": {},
   "source": [
    "# Formatting a Number\n",
    "\n",
    "A final, handy trick if you want to output numbers in a _pretty_ way is to understand how the `format` method associated with string objects works: different cultures format numbers differently, so the English use commas as the thousands separator and a full-stop as the decimal separator but the French, naturally, do it their own way.\n",
    "\n",
    "Here's an example:"
   ]
  },
  {
   "cell_type": "code",
   "execution_count": null,
   "metadata": {
    "collapsed": false
   },
   "outputs": [],
   "source": [
    "print \"{:,.2f}\".format(mean)\n",
    "\n",
    "import locale\n",
    "locale.setlocale(locale.LC_ALL, 'fr_FR')\n",
    "print locale.format('%0.2f', mean, grouping=True, monetary=True)"
   ]
  },
  {
   "cell_type": "markdown",
   "metadata": {},
   "source": [
    "Unfortunately, most programming languages were written by Anglophones and so most applications will happily output Anglo-formatted numbers but are rather less happy doing anyone else's.\n",
    "\n",
    "More on `format` in the _Python String Format Cookbook_: https://mkaz.tech/python-string-format.html"
   ]
  }
 ],
 "metadata": {
  "anaconda-cloud": {},
  "kernelspec": {
   "display_name": "Python [Root]",
   "language": "python",
   "name": "Python [Root]"
  },
  "language_info": {
   "codemirror_mode": {
    "name": "ipython",
    "version": 2
   },
   "file_extension": ".py",
   "mimetype": "text/x-python",
   "name": "python",
   "nbconvert_exporter": "python",
   "pygments_lexer": "ipython2",
   "version": "2.7.12"
  }
 },
 "nbformat": 4,
 "nbformat_minor": 0
}
