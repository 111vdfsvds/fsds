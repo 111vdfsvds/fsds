{
 "cells": [
  {
   "cell_type": "markdown",
   "metadata": {
    "geopyter": {
     "Contributors": "James Millington (james.millington@kcl.ac.uk)",
     "git": {
      "active_branch": "master",
      "author.name": "Jon Reades",
      "authored_date": "2017-08-17 19:06:58",
      "committed_date": "2017-08-17 19:06:58",
      "committer.name": "Jon Reades",
      "sha": "5e3b396ae18a982d693c4bfd86c721c7e1e21051"
     }
    }
   },
   "source": [
    "# Scripts in Spyder\n"
   ]
  },
  {
   "cell_type": "markdown",
   "metadata": {
    "geopyter": {
     "Contributors": "James Millington (james.millington@kcl.ac.uk)",
     "git": {
      "active_branch": "master",
      "author.name": "Jon Reades",
      "authored_date": "2017-08-17 19:06:58",
      "committed_date": "2017-08-17 19:06:58",
      "committer.name": "Jon Reades",
      "sha": "5e3b396ae18a982d693c4bfd86c721c7e1e21051"
     }
    },
    "nbpresent": {
     "id": "cada64b6-f8c9-4dbb-9ab1-b5617d0cc16a"
    }
   },
   "source": [
    "## Learning Outcomes\n",
    "\n",
    "By the end of this practical you should:\n",
    "-\tUnderstand the ways in which Python code can be executed (interpreter vs scripts)\n",
    "-   Be able to use scripts to save and run Python code\n",
    "-\tHave thought about the value of commenting your code in scripts and what is good practice\n",
    "\n",
    "\n"
   ]
  },
  {
   "cell_type": "markdown",
   "metadata": {
    "geopyter": {
     "Contributors": "James Millington (james.millington@kcl.ac.uk)",
     "git": {
      "active_branch": "master",
      "author.name": "Jon Reades",
      "authored_date": "2017-08-17 19:06:58",
      "committed_date": "2017-08-17 19:06:58",
      "committer.name": "Jon Reades",
      "sha": "5e3b396ae18a982d693c4bfd86c721c7e1e21051"
     }
    }
   },
   "source": [
    "This document assumes you have created a working directory as described here: http://bit.ly/WorkingDirectory"
   ]
  },
  {
   "cell_type": "markdown",
   "metadata": {
    "geopyter": {
     "Contributors": "James Millington (james.millington@kcl.ac.uk)",
     "git": {
      "active_branch": "master",
      "author.name": "Jon Reades",
      "authored_date": "2017-08-17 19:06:58",
      "committed_date": "2017-08-17 19:06:58",
      "committer.name": "Jon Reades",
      "sha": "5e3b396ae18a982d693c4bfd86c721c7e1e21051"
     }
    }
   },
   "source": [
    "## Hello Python!"
   ]
  },
  {
   "cell_type": "markdown",
   "metadata": {
    "geopyter": {
     "Contributors": "James Millington (james.millington@kcl.ac.uk)",
     "git": {
      "active_branch": "master",
      "author.name": "Jon Reades",
      "authored_date": "2017-08-17 19:06:58",
      "committed_date": "2017-08-17 19:06:58",
      "committer.name": "Jon Reades",
      "sha": "5e3b396ae18a982d693c4bfd86c721c7e1e21051"
     }
    }
   },
   "source": [
    "### Conversing with Python\n",
    "Python is a high-level programming language that makes it (relatively) easy for humans to talk to a computer to make it do things. As a language, Python has a ‘vocabulary’ and a ‘grammar’. The vocabulary of Python is pretty small and consists of a group of keywords also known as ‘reserved words’. Some of these reserved words are shown in the figure below.\n",
    "\n",
    "<img src=\"https://kingsgeocomputation.files.wordpress.com/2016/09/reservedwords.png\", width = 500>\n"
   ]
  },
  {
   "cell_type": "markdown",
   "metadata": {
    "collapsed": true,
    "geopyter": {
     "Contributors": "James Millington (james.millington@kcl.ac.uk)",
     "git": {
      "active_branch": "master",
      "author.name": "Jon Reades",
      "authored_date": "2017-08-17 19:06:58",
      "committed_date": "2017-08-17 19:06:58",
      "committer.name": "Jon Reades",
      "sha": "5e3b396ae18a982d693c4bfd86c721c7e1e21051"
     }
    }
   },
   "source": [
    "Python is a high-level language because computer interprets Python and converts this into yet another language (known as machine language) which it then uses. We can converse with the computer through Python in two ways which we will look at in turn:\n",
    "\n",
    "1.\tIn ‘interactive mode’\n",
    "2.\tIn ‘script mode’\n",
    "\n",
    "In _interactive mode_ Python gives immediate feedback for each statement entered, while running previously entered statements in active memory. Interactive mode is useful for running quick commands and experimeting with code, but is not the best way to save work for later. The Jupyter notebooks are an example of interactive mode so you should be quite familiar with this mode, but we will also see how we can work in interactive mode in other ways. \n",
    "\n",
    "In _script mode_ we save a sequence of Python statements in a file (usually with .py suffix) which is then executed all together. Script mode is useful for saving code to be run again later and to be shared with others. These scripts can be written in a text editor (like notepad) but more often is it easier to develop and edit scripts in an [Integrated Development Environment](https://en.wikipedia.org/wiki/Integrated_development_environment) (IDE).\n",
    "\n",
    "The IDE we will be using in Geocomputation is [Spyder](https://pythonhosted.org/spyder/). ‘Spyder’ stands for **S**cientific **PY**thon **D**evelopment **E**nvi**R**onment and is a powerful program to help develop, edit, run and test code written in the Python language. \n",
    "\n",
    "_Tip: The file suffix of a Python script file is’ .py’. At its most basic this is simply a text file that you could open in a text editor like notepad, EditPad etc. Depending on the computer and Operating System you are using this file type may be associated with different programs or development environments (like Spyder). ‘Associated’ in this context means that when you double click the file it will open in a given the associated program. In GeoCUP .py files are associated with Spyder_"
   ]
  },
  {
   "cell_type": "markdown",
   "metadata": {
    "geopyter": {
     "Contributors": "James Millington (james.millington@kcl.ac.uk)",
     "git": {
      "active_branch": "master",
      "author.name": "Jon Reades",
      "authored_date": "2017-08-17 19:06:58",
      "committed_date": "2017-08-17 19:06:58",
      "committer.name": "Jon Reades",
      "sha": "5e3b396ae18a982d693c4bfd86c721c7e1e21051"
     }
    }
   },
   "source": [
    "#### TASK \n",
    "\n",
    "Before we look at the two modes for conversing with Python in a little more detail, read the [Overview of Anaconda and Spyder document](https://keats.kcl.ac.uk/mod/resource/view.php?id=1377344) available on KEATS. "
   ]
  },
  {
   "cell_type": "markdown",
   "metadata": {
    "geopyter": {
     "Contributors": "James Millington (james.millington@kcl.ac.uk)",
     "git": {
      "active_branch": "master",
      "author.name": "Jon Reades",
      "authored_date": "2017-08-17 19:06:58",
      "committed_date": "2017-08-17 19:06:58",
      "committer.name": "Jon Reades",
      "sha": "5e3b396ae18a982d693c4bfd86c721c7e1e21051"
     }
    }
   },
   "source": [
    "### Interactive Python\n",
    "\n",
    "There is a [classic first program](https://en.wikipedia.org/wiki/%22Hello,_World!%22_program) that everyone learning a computer language writes. The program simply outputs the phrase _Hello World!_ to the screen using a `print` statement (note: `print` is a Python reserved word, as shown in the figure above). As we are learning the Python programming language in this module, we’ll change the program slightly and say hello to Python: "
   ]
  },
  {
   "cell_type": "code",
   "execution_count": null,
   "metadata": {
    "collapsed": true,
    "geopyter": {
     "Contributors": "James Millington (james.millington@kcl.ac.uk)",
     "git": {
      "active_branch": "master",
      "author.name": "Jon Reades",
      "authored_date": "2017-08-17 19:06:58",
      "committed_date": "2017-08-17 19:06:58",
      "committer.name": "Jon Reades",
      "sha": "5e3b396ae18a982d693c4bfd86c721c7e1e21051"
     }
    }
   },
   "outputs": [],
   "source": [
    "print \"Hello Python!\""
   ]
  },
  {
   "cell_type": "markdown",
   "metadata": {
    "geopyter": {
     "Contributors": "James Millington (james.millington@kcl.ac.uk)",
     "git": {
      "active_branch": "master",
      "author.name": "Jon Reades",
      "authored_date": "2017-08-17 19:06:58",
      "committed_date": "2017-08-17 19:06:58",
      "committer.name": "Jon Reades",
      "sha": "5e3b396ae18a982d693c4bfd86c721c7e1e21051"
     }
    }
   },
   "source": [
    "When you run the code cell above, you are running Python in interactive mode; Python takes the statement and executes it, returning any feedback immediately.\n",
    "\n",
    "We can do the same in the Spyder in the IPython Interpreter pane."
   ]
  },
  {
   "cell_type": "markdown",
   "metadata": {
    "geopyter": {
     "Contributors": "James Millington (james.millington@kcl.ac.uk)",
     "git": {
      "active_branch": "master",
      "author.name": "Jon Reades",
      "authored_date": "2017-08-17 19:06:58",
      "committed_date": "2017-08-17 19:06:58",
      "committer.name": "Jon Reades",
      "sha": "5e3b396ae18a982d693c4bfd86c721c7e1e21051"
     }
    }
   },
   "source": [
    "#### TASK\n",
    "\n",
    "1.\tOpen Spyder - if you’re unsure how to do this see the [Overview of Anaconda and Spyder document](https://keats.kcl.ac.uk/mod/resource/view.php?id=1377344) \n",
    "2.\tIn the IPython Interpreter pane type `print “Hello Python!”`\n",
    "3.\tPress Enter\n"
   ]
  },
  {
   "cell_type": "markdown",
   "metadata": {
    "geopyter": {
     "Contributors": "James Millington (james.millington@kcl.ac.uk)",
     "git": {
      "active_branch": "master",
      "author.name": "Jon Reades",
      "authored_date": "2017-08-17 19:06:58",
      "committed_date": "2017-08-17 19:06:58",
      "committer.name": "Jon Reades",
      "sha": "5e3b396ae18a982d693c4bfd86c721c7e1e21051"
     }
    }
   },
   "source": [
    "If you’ve done this successfully, your Interpreter pane should look something like the fiugure below. Python has printed your message and is now waiting for the next command. This is an example of using Python in interactive mode.\n",
    "\n",
    "<img src=\"https://kingsgeocomputation.files.wordpress.com/2016/09/ipythonhellopython.jpg\", width = 500>\n",
    "\n",
    "If your Interpreter does NOT look like the figure above, you’ve made a mistake (and are skipping ahead to the Errors section of this practical!). Check your typing and try again."
   ]
  },
  {
   "cell_type": "markdown",
   "metadata": {
    "geopyter": {
     "Contributors": "James Millington (james.millington@kcl.ac.uk)",
     "git": {
      "active_branch": "master",
      "author.name": "Jon Reades",
      "authored_date": "2017-08-17 19:06:58",
      "committed_date": "2017-08-17 19:06:58",
      "committer.name": "Jon Reades",
      "sha": "5e3b396ae18a982d693c4bfd86c721c7e1e21051"
     }
    }
   },
   "source": [
    "Let’s think about what we have done here: we input a command to Python (`print`) with an argument (`“Hello Python!”`) which Python has executed. The `print` keyword tells Python to output whatever the argument is to the screen. We can see this below the input (i.e. `Hello Python!` – without the quotes). Note how after execution, the Python Interpreter is ready for another input, indicated by `In [2]`:, where `2` is a sequentially numbered input (the first was `In [1]:`); this is the prompt in the Interpreter and similar to what we see in code block in Jupyter Notebooks. "
   ]
  },
  {
   "cell_type": "markdown",
   "metadata": {
    "geopyter": {
     "Contributors": "James Millington (james.millington@kcl.ac.uk)",
     "git": {
      "active_branch": "master",
      "author.name": "Jon Reades",
      "authored_date": "2017-08-17 19:06:58",
      "committed_date": "2017-08-17 19:06:58",
      "committer.name": "Jon Reades",
      "sha": "5e3b396ae18a982d693c4bfd86c721c7e1e21051"
     }
    }
   },
   "source": [
    "If you wanted to run the last command again exactly as before in the Interpreter, simply press the up arrow and the code you previously typed should appear. You can just hit enter to execute (run) the code again. Previous commands are stored temporarily in memory in the Interpreter and can be accessed using the up (and down) arrows. "
   ]
  },
  {
   "cell_type": "markdown",
   "metadata": {
    "geopyter": {
     "Contributors": "James Millington (james.millington@kcl.ac.uk)",
     "git": {
      "active_branch": "master",
      "author.name": "Jon Reades",
      "authored_date": "2017-08-17 19:06:58",
      "committed_date": "2017-08-17 19:06:58",
      "committer.name": "Jon Reades",
      "sha": "5e3b396ae18a982d693c4bfd86c721c7e1e21051"
     }
    }
   },
   "source": [
    "#### TASK\n",
    "\n",
    "Run the command in the previous task in Spyder again but _without_ typing the code out."
   ]
  },
  {
   "cell_type": "markdown",
   "metadata": {
    "geopyter": {
     "Contributors": "James Millington (james.millington@kcl.ac.uk)",
     "git": {
      "active_branch": "master",
      "author.name": "Jon Reades",
      "authored_date": "2017-08-17 19:06:58",
      "committed_date": "2017-08-17 19:06:58",
      "committer.name": "Jon Reades",
      "sha": "5e3b396ae18a982d693c4bfd86c721c7e1e21051"
     }
    }
   },
   "source": [
    "### Python from Scripts\n",
    "\n",
    "To save code for later use or to share with others we use script files. In the Spyder IDE scripts are written and shown in the Editor Pane, on the left of the IPython Interpreter. Code written in this pane is executed in the Interprteter only when we specifically tell Spyder (not when we hit Enter at the end of a line). "
   ]
  },
  {
   "cell_type": "markdown",
   "metadata": {
    "geopyter": {
     "Contributors": "James Millington (james.millington@kcl.ac.uk)",
     "git": {
      "active_branch": "master",
      "author.name": "Jon Reades",
      "authored_date": "2017-08-17 19:06:58",
      "committed_date": "2017-08-17 19:06:58",
      "committer.name": "Jon Reades",
      "sha": "5e3b396ae18a982d693c4bfd86c721c7e1e21051"
     }
    }
   },
   "source": [
    "You can create new Python script files in the Editor Pane in various ways:\n",
    "\n",
    "1.\tClicking the left-most icon on the toolbar \n",
    "2.\tFrom the File menu at the top of the window go File -> New File\n",
    "3.\tBy pressing Ctrl + N (with the cursor in an existing script)"
   ]
  },
  {
   "cell_type": "markdown",
   "metadata": {
    "geopyter": {
     "Contributors": "James Millington (james.millington@kcl.ac.uk)",
     "git": {
      "active_branch": "master",
      "author.name": "Jon Reades",
      "authored_date": "2017-08-17 19:06:58",
      "committed_date": "2017-08-17 19:06:58",
      "committer.name": "Jon Reades",
      "sha": "5e3b396ae18a982d693c4bfd86c721c7e1e21051"
     }
    }
   },
   "source": [
    "#### TASK\n",
    "\n",
    "1.\tCreate a new script file so that we can save code for later\n",
    "2.\tIn the file you have created type `print “Hello Python!”` on line 1\n",
    "3.\tPress Enter"
   ]
  },
  {
   "cell_type": "markdown",
   "metadata": {
    "geopyter": {
     "Contributors": "James Millington (james.millington@kcl.ac.uk)",
     "git": {
      "active_branch": "master",
      "author.name": "Jon Reades",
      "authored_date": "2017-08-17 19:06:58",
      "committed_date": "2017-08-17 19:06:58",
      "committer.name": "Jon Reades",
      "sha": "5e3b396ae18a982d693c4bfd86c721c7e1e21051"
     }
    }
   },
   "source": [
    "What happened after you pressed Enter? If you did it correctly, nothing all that should have happened is that the cursor should have moved down to the next line and the Editor Pane should look something like the figure below. Nothing in the IPython Interpreter pane will have changed.\n",
    "\n",
    "<img src=\"https://kingsgeocomputation.files.wordpress.com/2016/09/scripthellopython.jpg\", width = 400>"
   ]
  },
  {
   "cell_type": "markdown",
   "metadata": {
    "geopyter": {
     "Contributors": "James Millington (james.millington@kcl.ac.uk)",
     "git": {
      "active_branch": "master",
      "author.name": "Jon Reades",
      "authored_date": "2017-08-17 19:06:58",
      "committed_date": "2017-08-17 19:06:58",
      "committer.name": "Jon Reades",
      "sha": "5e3b396ae18a982d693c4bfd86c721c7e1e21051"
     }
    }
   },
   "source": [
    "So pressing Enter in the Editor Pane does not execute code (as it does in the Interpreter); instead it simply moves the cursor to the next line ready to for the next line of code to be typed. \n",
    "\n",
    "There are a few different ways to execute (run) all the instructions in the script file showing in the Editor Pane:\n",
    "1.\tGo to the Run menu then select Run File\n",
    "2.\tClick the Run the Current File button on the tool bar (a green triangle)\n",
    "3.\tPress F5"
   ]
  },
  {
   "cell_type": "markdown",
   "metadata": {
    "geopyter": {
     "Contributors": "James Millington (james.millington@kcl.ac.uk)",
     "git": {
      "active_branch": "master",
      "author.name": "Jon Reades",
      "authored_date": "2017-08-17 19:06:58",
      "committed_date": "2017-08-17 19:06:58",
      "committer.name": "Jon Reades",
      "sha": "5e3b396ae18a982d693c4bfd86c721c7e1e21051"
     }
    }
   },
   "source": [
    "#### TASK\n",
    "\n",
    "Using one of the ways above, run the code you have typed into the script file. \n",
    "\n",
    "If you do this properly you will be asked to save the scipt file before you can run it - do so in your working directory, naming the file `HelloPython.py`.\n",
    "\n",
    "After saving the file, as this is the first time you have run the script you will see the Run Settings dialogue box (like the figure below). You can keep all the default settings as they are now, but in future you may want to change some in future. \n",
    "\n",
    "Click Run. \n",
    "\n",
    "<img src=\"https://kingsgeocomputation.files.wordpress.com/2016/09/runsettingshellopython.jpg\", width = 380>"
   ]
  },
  {
   "cell_type": "markdown",
   "metadata": {
    "geopyter": {
     "Contributors": "James Millington (james.millington@kcl.ac.uk)",
     "git": {
      "active_branch": "master",
      "author.name": "Jon Reades",
      "authored_date": "2017-08-17 19:06:58",
      "committed_date": "2017-08-17 19:06:58",
      "committer.name": "Jon Reades",
      "sha": "5e3b396ae18a982d693c4bfd86c721c7e1e21051"
     }
    }
   },
   "source": [
    "If successful you should notice a change in the Interpreter pane (below the File Viewer) and it should look something like the figure below\n",
    "\n",
    "<img src=\"https://kingsgeocomputation.files.wordpress.com/2016/09/scriptipython_helloworld.jpg\", width = 500>"
   ]
  },
  {
   "cell_type": "markdown",
   "metadata": {
    "geopyter": {
     "Contributors": "James Millington (james.millington@kcl.ac.uk)",
     "git": {
      "active_branch": "master",
      "author.name": "Jon Reades",
      "authored_date": "2017-08-17 19:06:58",
      "committed_date": "2017-08-17 19:06:58",
      "committer.name": "Jon Reades",
      "sha": "5e3b396ae18a982d693c4bfd86c721c7e1e21051"
     }
    }
   },
   "source": [
    "Look at what has happened here. Spyder has given Python a command (`runfile`) with two arguments (shown in red); one is the text string of the path to the file currently in the Editor Pane, and the other is the text string of the path to the current working directory (set in the Run Settings dialogue - see previous figure). The command has been entered for us at the Interpreter (at `In [2]:`), the output has been produced (`Hello Python!`), and the Interpreter is ready for another input (at `In [3]:`)."
   ]
  },
  {
   "cell_type": "markdown",
   "metadata": {
    "geopyter": {
     "Contributors": "James Millington (james.millington@kcl.ac.uk)",
     "git": {
      "active_branch": "master",
      "author.name": "Jon Reades",
      "authored_date": "2017-08-17 19:06:58",
      "committed_date": "2017-08-17 19:06:58",
      "committer.name": "Jon Reades",
      "sha": "5e3b396ae18a982d693c4bfd86c721c7e1e21051"
     }
    }
   },
   "source": [
    "#### TASK\n",
    "\n",
    "Run the code you have typed into the script file, using the other two ways to run scripts listed above (and not used in the last task).  "
   ]
  },
  {
   "cell_type": "markdown",
   "metadata": {
    "geopyter": {
     "Contributors": "James Millington (james.millington@kcl.ac.uk)",
     "git": {
      "active_branch": "master",
      "author.name": "Jon Reades",
      "authored_date": "2017-08-17 19:06:58",
      "committed_date": "2017-08-17 19:06:58",
      "committer.name": "Jon Reades",
      "sha": "5e3b396ae18a982d693c4bfd86c721c7e1e21051"
     }
    }
   },
   "source": [
    "_Tip: Sometime we don’t want to run all the code in the script file, but only certain lines of code. To do this we can highlight the lines we want to execute and then press F9. We’ll try this later._"
   ]
  },
  {
   "cell_type": "markdown",
   "metadata": {
    "geopyter": {
     "Contributors": "James Millington (james.millington@kcl.ac.uk)",
     "git": {
      "active_branch": "master",
      "author.name": "Jon Reades",
      "authored_date": "2017-08-17 19:06:58",
      "committed_date": "2017-08-17 19:06:58",
      "committer.name": "Jon Reades",
      "sha": "5e3b396ae18a982d693c4bfd86c721c7e1e21051"
     }
    }
   },
   "source": [
    "Existing Python script files (like the one you have saved) can be opened in the Spyder Editor Pane in a variety of ways:\n",
    "1.\tClicking the second left-most icon on the toolbar \n",
    "2.\tFrom the File menu at the top of the window go Open then navigate to the file with Windows Explorer\n",
    "3.\tBy pressing Ctrl + O then navigating to the file\n",
    "4.\tDrag-drop .py files into the File Viewer pane"
   ]
  },
  {
   "cell_type": "markdown",
   "metadata": {
    "geopyter": {
     "Contributors": "James Millington (james.millington@kcl.ac.uk)",
     "git": {
      "active_branch": "master",
      "author.name": "Jon Reades",
      "authored_date": "2017-08-17 19:06:58",
      "committed_date": "2017-08-17 19:06:58",
      "committer.name": "Jon Reades",
      "sha": "5e3b396ae18a982d693c4bfd86c721c7e1e21051"
     }
    }
   },
   "source": [
    "#### TASK\n",
    "\n",
    "1.\tClose the Editor Pane of Spyder ensuring you know where you have saved your `HelloPython.py` script file. \n",
    "2.\tRe-open the Editor window and use one of the above ways to re-open your `HelloPython.py` script file. \n",
    "3.\tRun the script file \n"
   ]
  },
  {
   "cell_type": "markdown",
   "metadata": {
    "geopyter": {
     "Contributors": "James Millington (james.millington@kcl.ac.uk)",
     "git": {
      "active_branch": "master",
      "author.name": "Jon Reades",
      "authored_date": "2017-08-17 19:06:58",
      "committed_date": "2017-08-17 19:06:58",
      "committer.name": "Jon Reades",
      "sha": "5e3b396ae18a982d693c4bfd86c721c7e1e21051"
     }
    }
   },
   "source": [
    "Well done! You have now learned how to enter Python code at the Interpreter prompt and create and use script files to run code. Hopefully, you managed this without making any errors in writing your code. It won’t always be that way..."
   ]
  },
  {
   "cell_type": "markdown",
   "metadata": {
    "geopyter": {
     "Contributors": "James Millington (james.millington@kcl.ac.uk)",
     "git": {
      "active_branch": "master",
      "author.name": "Jon Reades",
      "authored_date": "2017-08-17 19:06:58",
      "committed_date": "2017-08-17 19:06:58",
      "committer.name": "Jon Reades",
      "sha": "5e3b396ae18a982d693c4bfd86c721c7e1e21051"
     }
    }
   },
   "source": [
    "## Handling Input and Data Types"
   ]
  },
  {
   "cell_type": "markdown",
   "metadata": {
    "geopyter": {
     "Contributors": "James Millington (james.millington@kcl.ac.uk)",
     "git": {
      "active_branch": "master",
      "author.name": "Jon Reades",
      "authored_date": "2017-08-17 19:06:58",
      "committed_date": "2017-08-17 19:06:58",
      "committer.name": "Jon Reades",
      "sha": "5e3b396ae18a982d693c4bfd86c721c7e1e21051"
     }
    }
   },
   "source": [
    "Now that you've reviewed the how variables work again, let's move on to see some new ways we can interact with Python by using code to ask a user to enter data via the keyboard. Variables are useful in this instance because we don’t know what input user will enter, but we still need to be able to handle it in our program. It will also show how variables can be assigned values as the output of a function (which we will look at another week). "
   ]
  },
  {
   "cell_type": "markdown",
   "metadata": {
    "geopyter": {
     "Contributors": "James Millington (james.millington@kcl.ac.uk)",
     "git": {
      "active_branch": "master",
      "author.name": "Jon Reades",
      "authored_date": "2017-08-17 19:06:58",
      "committed_date": "2017-08-17 19:06:58",
      "committer.name": "Jon Reades",
      "sha": "5e3b396ae18a982d693c4bfd86c721c7e1e21051"
     }
    }
   },
   "source": [
    "#### TASK\n",
    "\n",
    "Using the information presented previously in this notebook if you need to:\n",
    "\n",
    "1.\tCreate a new script file \n",
    "2.\tIn the new script file type the code on lines 1 and 2 (ONLY) from the figure below\n",
    "3.\tSave the script with the name ‘Rainfall.py’ in your working directory\n",
    "4.\tRun the script\n",
    "\n",
    "<img src=\"https://kingsgeocomputation.files.wordpress.com/2016/09/rainfallscript_spyder.jpg\", width = 500>\n",
    "<center>This figure will be referred to as the 'rainfall script figure' below.</center>"
   ]
  },
  {
   "cell_type": "markdown",
   "metadata": {
    "geopyter": {
     "Contributors": "James Millington (james.millington@kcl.ac.uk)",
     "git": {
      "active_branch": "master",
      "author.name": "Jon Reades",
      "authored_date": "2017-08-17 19:06:58",
      "committed_date": "2017-08-17 19:06:58",
      "committer.name": "Jon Reades",
      "sha": "5e3b396ae18a982d693c4bfd86c721c7e1e21051"
     }
    }
   },
   "source": [
    "If you have completed the Task correctly you should see in the Interpreter pane that the text that was passed as an argument to the `raw_input` function on line 1 has appeared. The cursor should be flashing at the end of this text, indicating that the computer is waiting for an input from the user. This is what the `raw_input` function does – writes the text string passed to it and then waits for an input. "
   ]
  },
  {
   "cell_type": "markdown",
   "metadata": {
    "geopyter": {
     "Contributors": "James Millington (james.millington@kcl.ac.uk)",
     "git": {
      "active_branch": "master",
      "author.name": "Jon Reades",
      "authored_date": "2017-08-17 19:06:58",
      "committed_date": "2017-08-17 19:06:58",
      "committer.name": "Jon Reades",
      "sha": "5e3b396ae18a982d693c4bfd86c721c7e1e21051"
     }
    }
   },
   "source": [
    "#### TASK\n",
    "\n",
    "Ensuring the Interpreter pane is selected, type a value (number) on the keyboard for total rainfall and hit enter\n"
   ]
  },
  {
   "cell_type": "markdown",
   "metadata": {
    "geopyter": {
     "Contributors": "James Millington (james.millington@kcl.ac.uk)",
     "git": {
      "active_branch": "master",
      "author.name": "Jon Reades",
      "authored_date": "2017-08-17 19:06:58",
      "committed_date": "2017-08-17 19:06:58",
      "committer.name": "Jon Reades",
      "sha": "5e3b396ae18a982d693c4bfd86c721c7e1e21051"
     }
    }
   },
   "source": [
    "You should see that the value you entered appears below the input text and then the Interpreter moves on to the next prompt. This has happened because of the `print` statement on line 2. Think about this; the number you entered was passed to the `raw_input` function and assigned to the `total_rainfall` variable (on line 1) which was then printed out (line 2). But what if you had entered text instead of a number when prompted by the program? Let's have a look..."
   ]
  },
  {
   "cell_type": "markdown",
   "metadata": {
    "geopyter": {
     "Contributors": "James Millington (james.millington@kcl.ac.uk)",
     "git": {
      "active_branch": "master",
      "author.name": "Jon Reades",
      "authored_date": "2017-08-17 19:06:58",
      "committed_date": "2017-08-17 19:06:58",
      "committer.name": "Jon Reades",
      "sha": "5e3b396ae18a982d693c4bfd86c721c7e1e21051"
     }
    }
   },
   "source": [
    "#### TASK\n",
    "\n",
    "1.\tRun the current version Rainfall script file (i.e. two lines) again  \n",
    "2.\tWhen prompted, in the Interpreter pane type a word (letters) on the keyboard for total rainfall and hit enter\n"
   ]
  },
  {
   "cell_type": "markdown",
   "metadata": {
    "geopyter": {
     "Contributors": "James Millington (james.millington@kcl.ac.uk)",
     "git": {
      "active_branch": "master",
      "author.name": "Jon Reades",
      "authored_date": "2017-08-17 19:06:58",
      "committed_date": "2017-08-17 19:06:58",
      "committer.name": "Jon Reades",
      "sha": "5e3b396ae18a982d693c4bfd86c721c7e1e21051"
     }
    }
   },
   "source": [
    "You should see that the program has printed out the word you entered with no error. It seems like the `raw_input` function can receive different data types. Let’s check that."
   ]
  },
  {
   "cell_type": "markdown",
   "metadata": {
    "geopyter": {
     "Contributors": "James Millington (james.millington@kcl.ac.uk)",
     "git": {
      "active_branch": "master",
      "author.name": "Jon Reades",
      "authored_date": "2017-08-17 19:06:58",
      "committed_date": "2017-08-17 19:06:58",
      "committer.name": "Jon Reades",
      "sha": "5e3b396ae18a982d693c4bfd86c721c7e1e21051"
     }
    }
   },
   "source": [
    "#### TASK\n",
    "\n",
    "1.\tIn the current version of your Rainfall script file (two lines), add the code on line 3 (ONLY) from the rainfall script figure\n",
    "2.\tSave the script (using the same filename as before)\n",
    "3.\tRun the script\n",
    "4.\tWhen prompted, enter a value of 50 for the total rainfall (in mm) in the Interpreter pane. \n"
   ]
  },
  {
   "cell_type": "markdown",
   "metadata": {
    "geopyter": {
     "Contributors": "James Millington (james.millington@kcl.ac.uk)",
     "git": {
      "active_branch": "master",
      "author.name": "Jon Reades",
      "authored_date": "2017-08-17 19:06:58",
      "committed_date": "2017-08-17 19:06:58",
      "committer.name": "Jon Reades",
      "sha": "5e3b396ae18a982d693c4bfd86c721c7e1e21051"
     }
    }
   },
   "source": [
    "Take a look at the output from your script. Does it make sense? It should look something like the following:\n",
    "<p>`50`</p>\n",
    "<p>`<type 'str'>`</p>"
   ]
  },
  {
   "cell_type": "markdown",
   "metadata": {
    "geopyter": {
     "Contributors": "James Millington (james.millington@kcl.ac.uk)",
     "git": {
      "active_branch": "master",
      "author.name": "Jon Reades",
      "authored_date": "2017-08-17 19:06:58",
      "committed_date": "2017-08-17 19:06:58",
      "committer.name": "Jon Reades",
      "sha": "5e3b396ae18a982d693c4bfd86c721c7e1e21051"
     }
    }
   },
   "source": [
    "The output is telling us that the value `50` is actually of type `‘str’` for `string`! So even though it looks like an `integer`, Python is actually storing it as a `string`. [A quick search of the Internet confirms this](https://docs.python.org/2/library/functions.html#raw_input): _“The function then reads a line from input, converts it to a string (stripping a trailing newline), and returns that.”_ \n",
    "\n",
    "This would be fine if we wanted to use the input as a string, but what if we wanted to use it as some other type. For example, what if we wanted to use the input to calculate the rate of rainfall for this total amount that fell over some specified duration?\n",
    "\n",
    "To convert a text string input to an integer we can use the built-in function `int`. "
   ]
  },
  {
   "cell_type": "markdown",
   "metadata": {
    "geopyter": {
     "Contributors": "James Millington (james.millington@kcl.ac.uk)",
     "git": {
      "active_branch": "master",
      "author.name": "Jon Reades",
      "authored_date": "2017-08-17 19:06:58",
      "committed_date": "2017-08-17 19:06:58",
      "committer.name": "Jon Reades",
      "sha": "5e3b396ae18a982d693c4bfd86c721c7e1e21051"
     }
    }
   },
   "source": [
    "#### TASK\n",
    "\n",
    "1.\tIn the current version of your Rainfall script file (three lines), add the code on lines 5, 6 and 7 (ONLY) from the rainfall script figure\n",
    "2.\tSave the script (using the same filename as before)\n",
    "3.\tRun the script\n",
    "4.\tWhen prompted, enter a value of 50 for the total rainfall (in mm)  in the Interpreter pane. "
   ]
  },
  {
   "cell_type": "markdown",
   "metadata": {
    "geopyter": {
     "Contributors": "James Millington (james.millington@kcl.ac.uk)",
     "git": {
      "active_branch": "master",
      "author.name": "Jon Reades",
      "authored_date": "2017-08-17 19:06:58",
      "committed_date": "2017-08-17 19:06:58",
      "committer.name": "Jon Reades",
      "sha": "5e3b396ae18a982d693c4bfd86c721c7e1e21051"
     }
    }
   },
   "source": [
    "Now you should be able to see that the `int` function converts the value passed to it to an `integer` type; the value of `50` looks the same but Python is telling us it has changed from type `str` to type `int`. This change happened on line 5 of the script; we assigned the rainfall variable a new value equal to the output of the `int` function that took the original rainfall value as an input. Think about this and make sure you understand what’s is happening on line 5."
   ]
  },
  {
   "cell_type": "markdown",
   "metadata": {
    "geopyter": {
     "Contributors": "James Millington (james.millington@kcl.ac.uk)",
     "git": {
      "active_branch": "master",
      "author.name": "Jon Reades",
      "authored_date": "2017-08-17 19:06:58",
      "committed_date": "2017-08-17 19:06:58",
      "committer.name": "Jon Reades",
      "sha": "5e3b396ae18a982d693c4bfd86c721c7e1e21051"
     }
    }
   },
   "source": [
    "#### TASK\n",
    "\n",
    "1.\tIn the current version of your Rainfall script file (i.e. seven lines), add the code on lines 9, 10, 11, 12, 13 and 14 (ONLY) from the rainfall script figure\n",
    "2.\tSave the script (using the same filename as before)\n",
    "3.\tRun the script\n",
    "4.\tWhen prompted, in the Interpreter prompt enter a value of `50` for the total rainfall and a value of `3` for duration (in hours)\n"
   ]
  },
  {
   "cell_type": "markdown",
   "metadata": {
    "geopyter": {
     "Contributors": "James Millington (james.millington@kcl.ac.uk)",
     "git": {
      "active_branch": "master",
      "author.name": "Jon Reades",
      "authored_date": "2017-08-17 19:06:58",
      "committed_date": "2017-08-17 19:06:58",
      "committer.name": "Jon Reades",
      "sha": "5e3b396ae18a982d693c4bfd86c721c7e1e21051"
     }
    }
   },
   "source": [
    "In this last task you added similar code to that which was already existing, but the new lines prompt the user to input a duration of rainfall (line 9) and converted it to an integer (line 11). We then used an expression to calculate the rainfall rate (in mm per hour; line 13). Finally, we printed out the result of the calculation for the user to read. "
   ]
  },
  {
   "cell_type": "markdown",
   "metadata": {
    "geopyter": {
     "Contributors": "James Millington (james.millington@kcl.ac.uk)",
     "git": {
      "active_branch": "master",
      "author.name": "Jon Reades",
      "authored_date": "2017-08-17 19:06:58",
      "committed_date": "2017-08-17 19:06:58",
      "committer.name": "Jon Reades",
      "sha": "5e3b396ae18a982d693c4bfd86c721c7e1e21051"
     }
    }
   },
   "source": [
    "If you used the suggested input values the output should be 16 (mm per hour). Pretty good! To make it a little clearer to the user what the output is, we might provide some text and use our knowledge of string concatenation (from Code Camp Notebook 2). To concatenate our output value to some helpful text we will need to convert the `rainfall_rate` variable to a text string."
   ]
  },
  {
   "cell_type": "markdown",
   "metadata": {
    "geopyter": {
     "Contributors": "James Millington (james.millington@kcl.ac.uk)",
     "git": {
      "active_branch": "master",
      "author.name": "Jon Reades",
      "authored_date": "2017-08-17 19:06:58",
      "committed_date": "2017-08-17 19:06:58",
      "committer.name": "Jon Reades",
      "sha": "5e3b396ae18a982d693c4bfd86c721c7e1e21051"
     }
    }
   },
   "source": [
    "#### TASK\n",
    "\n",
    "1.\tIn the current version of your Rainfall script file (i.e. 14 lines), add the code on lines 16 and 17 (ONLY) from the rainfall script figure\n",
    "2.\tSave the script (using the same filename as before)\n",
    "3.\tRun the script\n",
    "4.\tWhen prompted, in the Interpreter pane enter a value of 50 for the total rainfall and a value of 3 for duration (in hours)\n"
   ]
  },
  {
   "cell_type": "markdown",
   "metadata": {
    "geopyter": {
     "Contributors": "James Millington (james.millington@kcl.ac.uk)",
     "git": {
      "active_branch": "master",
      "author.name": "Jon Reades",
      "authored_date": "2017-08-17 19:06:58",
      "committed_date": "2017-08-17 19:06:58",
      "committer.name": "Jon Reades",
      "sha": "5e3b396ae18a982d693c4bfd86c721c7e1e21051"
     }
    }
   },
   "source": [
    "Your output should now look something like this: `Rainfall rate (mm per hr): 16`. This is good, but is it as accurate as we could be? Wouldn’t 50 divided by 3 be more like 16.66667? \n",
    "\n",
    "The reason we get a result of only 16 is because we are using integer division; that is, we are dividing one `integer` by another which produces and `integer` result. In Python integer division is handled by truncating the result (i.e. removing everything after any decimal place) not by rounding. Hence, 16.66667 in integer division in Python becomes 16. "
   ]
  },
  {
   "cell_type": "markdown",
   "metadata": {
    "geopyter": {
     "Contributors": "James Millington (james.millington@kcl.ac.uk)",
     "git": {
      "active_branch": "master",
      "author.name": "Jon Reades",
      "authored_date": "2017-08-17 19:06:58",
      "committed_date": "2017-08-17 19:06:58",
      "committer.name": "Jon Reades",
      "sha": "5e3b396ae18a982d693c4bfd86c721c7e1e21051"
     }
    }
   },
   "source": [
    "#### TASK\n",
    "\n",
    "1.\tIn the current version of your Rainfall script file, modify the code on lines 5 and 11 from the rainfall script fle to convert values to `float` type rather than `int` type\n",
    "2.\tRemove any lines that have print statements that the user does not need to see.\n",
    "3.\tSave the script with a new file name (e.g. `RainfallScript_Tidy.py`)\n",
    "4.\tRun the script\n",
    "5.\tWhen prompted, in the Interpreter enter a value of 50 for the total rainfall and a value of 3 for duration (in hours)\n"
   ]
  },
  {
   "cell_type": "markdown",
   "metadata": {
    "geopyter": {
     "Contributors": "James Millington (james.millington@kcl.ac.uk)",
     "git": {
      "active_branch": "master",
      "author.name": "Jon Reades",
      "authored_date": "2017-08-17 19:06:58",
      "committed_date": "2017-08-17 19:06:58",
      "committer.name": "Jon Reades",
      "sha": "5e3b396ae18a982d693c4bfd86c721c7e1e21051"
     }
    }
   },
   "source": [
    "The result of your script should now looks something like this: `Rainfall rate (mm per hr): 16.66667` "
   ]
  },
  {
   "cell_type": "markdown",
   "metadata": {
    "geopyter": {
     "Contributors": "James Millington (james.millington@kcl.ac.uk)",
     "git": {
      "active_branch": "master",
      "author.name": "Jon Reades",
      "authored_date": "2017-08-17 19:06:58",
      "committed_date": "2017-08-17 19:06:58",
      "committer.name": "Jon Reades",
      "sha": "5e3b396ae18a982d693c4bfd86c721c7e1e21051"
     }
    }
   },
   "source": [
    "## Good work!\n",
    "\n",
    "You've now learned how to put the pieces of basic Python together with an understanding of variables and data types into a script that a user can interact with dynamically! \n",
    "\n",
    "Before you finish remember to **SAVE YOUR SCRIPT!** One of the main reasons to use a script is so that you can save your code for later use. So it's important to save your scripts regularly. Also, as this is the end of this session (other than the Exercises below), it's a good time to move your scripts from your Working Directory to a location on your hard drive for longer-term storage and backup (e.g. Dropbox). "
   ]
  },
  {
   "cell_type": "markdown",
   "metadata": {
    "geopyter": {
     "Contributors": "James Millington (james.millington@kcl.ac.uk)",
     "git": {
      "active_branch": "master",
      "author.name": "Jon Reades",
      "authored_date": "2017-08-17 19:06:58",
      "committed_date": "2017-08-17 19:06:58",
      "committer.name": "Jon Reades",
      "sha": "5e3b396ae18a982d693c4bfd86c721c7e1e21051"
     }
    }
   },
   "source": [
    "It probably seems like a lot of information (and it is). But hopefully you’ll look back to these instructions and see how important they are as fundamentals for everything you do with code subsequently. Revisit these instructions and the Code Camp Notebooks frequently and make sure you understand them. \n",
    "\n",
    "Also seek out other resources to help you understand these basics. For example:\n",
    "- The Python Learn book and website: http://pythonlearn.com/ \n",
    "- The Think Python book and website: http://www.greenteapress.com/thinkpython/\n",
    "- The Enthought Training videos: https://training.enthought.com/ \n",
    "- Your fellow students on the Slack channel\n",
    "- And lots of other places online…\n",
    "\n",
    "To finish this practical run through the following exercises (in this Notebook)."
   ]
  },
  {
   "cell_type": "markdown",
   "metadata": {
    "geopyter": {
     "Contributors": "James Millington (james.millington@kcl.ac.uk)",
     "git": {
      "active_branch": "master",
      "author.name": "Jon Reades",
      "authored_date": "2017-08-17 19:06:58",
      "committed_date": "2017-08-17 19:06:58",
      "committer.name": "Jon Reades",
      "sha": "5e3b396ae18a982d693c4bfd86c721c7e1e21051"
     }
    }
   },
   "source": [
    "## Exercise"
   ]
  },
  {
   "cell_type": "markdown",
   "metadata": {
    "geopyter": {
     "Contributors": "James Millington (james.millington@kcl.ac.uk)",
     "git": {
      "active_branch": "master",
      "author.name": "Jon Reades",
      "authored_date": "2017-08-17 19:06:58",
      "committed_date": "2017-08-17 19:06:58",
      "committer.name": "Jon Reades",
      "sha": "5e3b396ae18a982d693c4bfd86c721c7e1e21051"
     }
    }
   },
   "source": [
    "Write a script in Spyder to prompt the user for the number of hours worked and the pay rate per hour to compute and print total pay. Save the script as `PayRate.py` When it has run, `PayRate.py` should look like the following (when the appropriate values are entered):\n",
    "\n",
    "<p>`Enter hours worked: 15`</p>\n",
    "<p>`Enter pay rate per hour: 12.50`</p>\n",
    "<p>`Total pay: 187.5`</p>\n"
   ]
  },
  {
   "cell_type": "markdown",
   "metadata": {
    "geopyter": {
     "Contributors": "James Millington (james.millington@kcl.ac.uk)",
     "git": {
      "active_branch": "master",
      "author.name": "Jon Reades",
      "authored_date": "2017-08-17 19:06:58",
      "committed_date": "2017-08-17 19:06:58",
      "committer.name": "Jon Reades",
      "sha": "5e3b396ae18a982d693c4bfd86c721c7e1e21051"
     }
    }
   },
   "source": [
    "# Commenting on Code"
   ]
  },
  {
   "cell_type": "markdown",
   "metadata": {
    "geopyter": {
     "Contributors": "James Millington (james.millington@kcl.ac.uk)",
     "git": {
      "active_branch": "master",
      "author.name": "Jon Reades",
      "authored_date": "2017-08-17 19:06:58",
      "committed_date": "2017-08-17 19:06:58",
      "committer.name": "Jon Reades",
      "sha": "5e3b396ae18a982d693c4bfd86c721c7e1e21051"
     }
    }
   },
   "source": [
    "When writing code in the Python language (or any coding language for that matter), it can be easy to lose track of what you are trying to do with your code. This is particularly a problem for pieces of code that you return to use having written them a long time ago – what might seem obvious at the time of writing the code can be completely opaque when you come back to it. "
   ]
  },
  {
   "cell_type": "markdown",
   "metadata": {
    "geopyter": {
     "Contributors": "James Millington (james.millington@kcl.ac.uk)",
     "git": {
      "active_branch": "master",
      "author.name": "Jon Reades",
      "authored_date": "2017-08-17 19:06:58",
      "committed_date": "2017-08-17 19:06:58",
      "committer.name": "Jon Reades",
      "sha": "5e3b396ae18a982d693c4bfd86c721c7e1e21051"
     }
    }
   },
   "source": [
    "Computer coding languages therefore usually have a means for coders to write notes in the code in plain language. These notes are more usually known as comments and can be useful for multiple reasons:\n",
    "\n",
    "1.\tTo remind yourself in the future what the code was for\n",
    "2.\tTo communicate to others reading your code what the code intends to do and how to use it\n",
    "3.\tTo help you decipher what others’ code is doing (if it is not clear and/or if they have not provided comments)\n",
    "4.\tTo help you plan out a piece of code (in comments first, then supplement with actual code)\n"
   ]
  },
  {
   "cell_type": "markdown",
   "metadata": {
    "geopyter": {
     "Contributors": "James Millington (james.millington@kcl.ac.uk)",
     "git": {
      "active_branch": "master",
      "author.name": "Jon Reades",
      "authored_date": "2017-08-17 19:06:58",
      "committed_date": "2017-08-17 19:06:58",
      "committer.name": "Jon Reades",
      "sha": "5e3b396ae18a982d693c4bfd86c721c7e1e21051"
     }
    }
   },
   "source": [
    "In Python, comments can be single-line or multiple line. Single-line comments are indicated by the `#` character; anything appearing after this character on the same line will be ignored by Python. Multi-line comments are indicated by three single quotes `’’’` before and after the lines of code you wish to be ignored by Python."
   ]
  },
  {
   "cell_type": "markdown",
   "metadata": {
    "geopyter": {
     "Contributors": "James Millington (james.millington@kcl.ac.uk)",
     "git": {
      "active_branch": "master",
      "author.name": "Jon Reades",
      "authored_date": "2017-08-17 19:06:58",
      "committed_date": "2017-08-17 19:06:58",
      "committer.name": "Jon Reades",
      "sha": "5e3b396ae18a982d693c4bfd86c721c7e1e21051"
     }
    }
   },
   "source": [
    "When using Integrated Development Environments (IDEs; like Spyder) commented code will usually be shown in a different colour or font from other aspects of the code. For example, comments in Spyder look something like that in the figure  below.\n",
    "\n",
    "<img src=\"https://kingsgeocomputation.files.wordpress.com/2016/09/spyder_comments.jpg\" alt=\"Comments in Spyder\" width=\"300\">\n"
   ]
  },
  {
   "cell_type": "markdown",
   "metadata": {
    "geopyter": {
     "Contributors": "James Millington (james.millington@kcl.ac.uk)",
     "git": {
      "active_branch": "master",
      "author.name": "Jon Reades",
      "authored_date": "2017-08-17 19:06:58",
      "committed_date": "2017-08-17 19:06:58",
      "committer.name": "Jon Reades",
      "sha": "5e3b396ae18a982d693c4bfd86c721c7e1e21051"
     }
    }
   },
   "source": [
    "#### TASK\n",
    "\n",
    "Confirm you understand how comment characters `#` and `’’’` work in Python by copying the script from the figure above to your own script in and IDE (e.g. Spyder), saving it, running it and thinking about the output.  "
   ]
  },
  {
   "cell_type": "markdown",
   "metadata": {
    "geopyter": {
     "Contributors": "James Millington (james.millington@kcl.ac.uk)",
     "git": {
      "active_branch": "master",
      "author.name": "Jon Reades",
      "authored_date": "2017-08-17 19:06:58",
      "committed_date": "2017-08-17 19:06:58",
      "committer.name": "Jon Reades",
      "sha": "5e3b396ae18a982d693c4bfd86c721c7e1e21051"
     }
    }
   },
   "source": [
    "There is no single accepted way to comment code appropriately and every coder has their own style. However, there are some general points of good practice which we expect you to follow and which will contribute to evaluation of your code assignments. The points are:\n",
    "\n",
    "1. Include some header information at the top of your program. In the real world this information would likely include your name and contact information but for assignments it should include **only your student id**. The header may also include the date the code was last modified, its purpose and a brief explanation of what the code does.\n",
    "\n",
    "2. Assume the person reading the code is a coder themselves. This means you do not need to comment everything. For example simple assignments such as `my_variable = 1` or expressions such as `mean = total / count` are obvious enough without needing comments. But if you are creating a temporary variable that will be used later in the code for some purpose, this might be useful to indicate. However, that the use of clear variable (but short) names can mitigate against the need for some comments.\n",
    "\n",
    "3. Good commenting is sparse in the sense that it is precise and concise without being overly verbose. You are not aiming to repeat what the code does, rather you are clarifying what may not be immediately apparent and making it easier to understand For example, `#estimate gap compositions` is preferred over `#here the species composition of all gaps in the forest stand is estimated using a logistic regression model` as the latter contains information that will likely be apparent from other comments and/or the structure of the code itself.  \n",
    "\n",
    "4. Generally we suggest you use only `#` to comment code as although quoted comments might be clear in scripts, they sometimes do not work well at command-line or interpreter. \n",
    "\n",
    "5. Feel free to make comments in your code when working that are informal and useful for yourself when writing the code, but when sharing the code (e.g. for an assignment) think about removing these or making them more formal.\n",
    "\n",
    "6. It can be particularly useful to comment blocks of code that conditionally or alternatively execute to keep track of the ‘branch’ of the (imaginary) flow chart the algorithm is on  \n",
    "\n",
    "7. Comment your loop structures (you will get to these next week) – the logic underlying these can be difficult to understand later\n"
   ]
  },
  {
   "cell_type": "markdown",
   "metadata": {
    "geopyter": {
     "Contributors": "James Millington (james.millington@kcl.ac.uk)",
     "git": {
      "active_branch": "master",
      "author.name": "Jon Reades",
      "authored_date": "2017-08-17 19:06:58",
      "committed_date": "2017-08-17 19:06:58",
      "committer.name": "Jon Reades",
      "sha": "5e3b396ae18a982d693c4bfd86c721c7e1e21051"
     }
    }
   },
   "source": [
    "#### TASK\n",
    "\n",
    "Copy the *variables.py* and *rainfall.py* scripts from last week to this week’s working directory and edit them to add comments:\n",
    "\n",
    "1. For the variables script comment in a very verbose style with notes at the end of every line of code intended for yourself to explain exactly what is happening (do not include a header comment) – note this is not the sort of commenting to include in your assignments\n",
    "\n",
    "2. For the rainfall script comment in a concise style for someone else to read and quickly clarify what the code is doing (include a header comment) – this is a better style to include in your assignments\n",
    "\n",
    "Feel free to discuss (your) commenting style with James or Jon during practicals. \n"
   ]
  },
  {
   "cell_type": "markdown",
   "metadata": {
    "geopyter": {
     "Contributors": "James Millington (james.millington@kcl.ac.uk)",
     "git": {
      "active_branch": "master",
      "author.name": "Jon Reades",
      "authored_date": "2017-08-17 19:06:58",
      "committed_date": "2017-08-17 19:06:58",
      "committer.name": "Jon Reades",
      "sha": "5e3b396ae18a982d693c4bfd86c721c7e1e21051"
     }
    }
   },
   "source": [
    "## Save your work!\n",
    "\n",
    "As this is the end of your session, you should save any scripts you have made and this notebook (if you have made edits in it) and move it to a location on your hard drive for longer term storage and backup (e.g. Dropbox)."
   ]
  },
  {
   "cell_type": "markdown",
   "metadata": {
    "geopyter": {
     "Contributors": "James Millington (james.millington@kcl.ac.uk)",
     "git": {
      "active_branch": "master",
      "author.name": "Jon Reades",
      "authored_date": "2017-08-17 19:06:58",
      "committed_date": "2017-08-17 19:06:58",
      "committer.name": "Jon Reades",
      "sha": "5e3b396ae18a982d693c4bfd86c721c7e1e21051"
     }
    }
   },
   "source": [
    "## References\n",
    "Severance, C. (2014) _Python for Informatics: Exploring Information Version_ 2.7.0 [Online] Available at: http://pythonlearn.com/. [Accessed 20 September 2016]"
   ]
  },
  {
   "cell_type": "markdown",
   "metadata": {},
   "source": [
    "\n",
    "### Credits!\n",
    "\n",
    "#### Contributors:\n",
    "The following individuals have contributed to these teaching materials: James Millington (james.millington@kcl.ac.uk)\n",
    "\n",
    "#### License\n",
    "These teaching materials are licensed under a mix of the MIT and CC-BY licenses...\n",
    "\n",
    "#### Acknowledgements:\n",
    "Supported by the [Royal Geographical Society](https://www.rgs.org/HomePage.htm) (with the Institute of British Geographers) with a Ray Y Gildea Jr Award.\n",
    "\n",
    "#### Potential Dependencies:\n",
    "This notebook may depend on the following libraries: None\n"
   ]
  }
 ],
 "metadata": {
  "anaconda-cloud": {},
  "geopyter": {
   "Contributors": [
    "James Millington (james.millington@kcl.ac.uk)"
   ],
   "git": {
    "active_branch": "master",
    "author.name": "Jon Reades",
    "authored_date": "2017-08-17 19:06:58",
    "committed_date": "2017-08-17 19:06:58",
    "committer.name": "Jon Reades",
    "sha": "5e3b396ae18a982d693c4bfd86c721c7e1e21051"
   },
   "libs": {}
  },
  "kernelspec": {
   "display_name": "Python 2",
   "language": "python",
   "name": "python2"
  },
  "language_info": {
   "codemirror_mode": {
    "name": "ipython",
    "version": 2
   },
   "file_extension": ".py",
   "mimetype": "text/x-python",
   "name": "python",
   "nbconvert_exporter": "python",
   "pygments_lexer": "ipython2",
   "version": "2.7.13"
  }
 },
 "nbformat": 4,
 "nbformat_minor": 1
}
