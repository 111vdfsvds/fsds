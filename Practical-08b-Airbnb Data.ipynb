{
 "cells": [
  {
   "cell_type": "markdown",
   "metadata": {},
   "source": [
    "## Working with the AirBnB Data\n",
    "\n",
    "This is here to help you if you'd like to download and process the _full_ Airbnb data set. There are something like 96 columns that you could work with, so there's plenty there to sink your teeth into if you so desire. \n",
    "\n",
    "### Randomness & Reproducibility\n",
    "\n",
    "However, the rapid visualisation of the _full_ Airbnb data set using Geopandas/PySAL is hard: there's simply so much of it that visualisation is slow unless you're in a dedicated environment with lots of RAM. So, for the _exploratory_ part of our work we'd normally want to work with a _sample_ -- but what happens if every time we take a sample we get a _different_ sample? That obviously makes things a bit harder, it would be handy if we could get the _same_ random sample every time _while_ we're doing our testing and development before expanding to the full data set.\n",
    "\n",
    "That's where `random.seed` and comes in: by setting a seed we ensure that any process based on a random/random sampling process will be reproducible. In other words, we'll get the _same_ random sample each time. To understand why this happens you'd need to read up on pseudo-randomness and computers but that's not really relevant here. Note, however, that we set the random seed in two places: in Python in general (`random`) and in numpy (`np.random`) because the latter is what Pandas usually uses."
   ]
  },
  {
   "cell_type": "code",
   "execution_count": 1,
   "metadata": {
    "collapsed": true
   },
   "outputs": [],
   "source": [
    "import matplotlib as mpl\n",
    "mpl.use('TkAgg')\n",
    "%matplotlib inline\n",
    "import matplotlib.pyplot as plt"
   ]
  },
  {
   "cell_type": "code",
   "execution_count": 2,
   "metadata": {
    "collapsed": false
   },
   "outputs": [],
   "source": [
    "import os\n",
    "import pandas as pd\n",
    "import seaborn as sns\n",
    "import geopandas as gpd\n",
    "\n",
    "import numpy as np\n",
    "np.random.seed(12345789) # For reproducibility\n",
    "\n",
    "import random \n",
    "random.seed(123456789) # For reproducibility"
   ]
  },
  {
   "cell_type": "code",
   "execution_count": 3,
   "metadata": {
    "collapsed": false
   },
   "outputs": [
    {
     "name": "stdout",
     "output_type": "stream",
     "text": [
      "Full data set shape is: 53904 by 95\n"
     ]
    }
   ],
   "source": [
    "local_path  = os.path.join('airbnb.csv.gz')\n",
    "remote_path = 'http://data.insideairbnb.com/united-kingdom/england/london/2017-03-04/data/listings.csv.gz'\n",
    "\n",
    "if os.path.exists(local_path):\n",
    "    df = pd.read_csv(local_path, compression='gzip', low_memory=False)\n",
    "else:\n",
    "    df = pd.read_csv(remote_path, compression='gzip', low_memory=False)\n",
    "    df.to_csv(local_path, compression='gzip')\n",
    "\n",
    "print(\"Full data set shape is: \" + ' by '.join(str(i) for i in df.shape))"
   ]
  },
  {
   "cell_type": "code",
   "execution_count": 4,
   "metadata": {
    "collapsed": false
   },
   "outputs": [
    {
     "name": "stdout",
     "output_type": "stream",
     "text": [
      "Sample data set shape is: 5390, 95\n"
     ]
    },
    {
     "data": {
      "text/html": [
       "<div>\n",
       "<style scoped>\n",
       "    .dataframe tbody tr th:only-of-type {\n",
       "        vertical-align: middle;\n",
       "    }\n",
       "\n",
       "    .dataframe tbody tr th {\n",
       "        vertical-align: top;\n",
       "    }\n",
       "\n",
       "    .dataframe thead th {\n",
       "        text-align: right;\n",
       "    }\n",
       "</style>\n",
       "<table border=\"1\" class=\"dataframe\">\n",
       "  <thead>\n",
       "    <tr style=\"text-align: right;\">\n",
       "      <th></th>\n",
       "      <th>id</th>\n",
       "      <th>scrape_id</th>\n",
       "      <th>host_id</th>\n",
       "      <th>host_acceptance_rate</th>\n",
       "      <th>host_listings_count</th>\n",
       "      <th>host_total_listings_count</th>\n",
       "      <th>neighbourhood_group_cleansed</th>\n",
       "      <th>latitude</th>\n",
       "      <th>longitude</th>\n",
       "      <th>accommodates</th>\n",
       "      <th>...</th>\n",
       "      <th>review_scores_rating</th>\n",
       "      <th>review_scores_accuracy</th>\n",
       "      <th>review_scores_cleanliness</th>\n",
       "      <th>review_scores_checkin</th>\n",
       "      <th>review_scores_communication</th>\n",
       "      <th>review_scores_location</th>\n",
       "      <th>review_scores_value</th>\n",
       "      <th>license</th>\n",
       "      <th>calculated_host_listings_count</th>\n",
       "      <th>reviews_per_month</th>\n",
       "    </tr>\n",
       "  </thead>\n",
       "  <tbody>\n",
       "    <tr>\n",
       "      <th>count</th>\n",
       "      <td>5.390000e+03</td>\n",
       "      <td>5.390000e+03</td>\n",
       "      <td>5.390000e+03</td>\n",
       "      <td>0.0</td>\n",
       "      <td>5387.000000</td>\n",
       "      <td>5387.000000</td>\n",
       "      <td>0.0</td>\n",
       "      <td>5390.000000</td>\n",
       "      <td>5390.000000</td>\n",
       "      <td>5390.000000</td>\n",
       "      <td>...</td>\n",
       "      <td>3734.000000</td>\n",
       "      <td>3723.000000</td>\n",
       "      <td>3722.000000</td>\n",
       "      <td>3717.000000</td>\n",
       "      <td>3724.000000</td>\n",
       "      <td>3721.000000</td>\n",
       "      <td>3719.000000</td>\n",
       "      <td>0.0</td>\n",
       "      <td>5390.000000</td>\n",
       "      <td>3808.000000</td>\n",
       "    </tr>\n",
       "    <tr>\n",
       "      <th>mean</th>\n",
       "      <td>1.039067e+07</td>\n",
       "      <td>2.017030e+13</td>\n",
       "      <td>3.270257e+07</td>\n",
       "      <td>NaN</td>\n",
       "      <td>15.036570</td>\n",
       "      <td>15.036570</td>\n",
       "      <td>NaN</td>\n",
       "      <td>51.510806</td>\n",
       "      <td>-0.127066</td>\n",
       "      <td>3.066976</td>\n",
       "      <td>...</td>\n",
       "      <td>91.832351</td>\n",
       "      <td>9.402632</td>\n",
       "      <td>9.205803</td>\n",
       "      <td>9.605596</td>\n",
       "      <td>9.643394</td>\n",
       "      <td>9.346412</td>\n",
       "      <td>9.213498</td>\n",
       "      <td>NaN</td>\n",
       "      <td>14.188868</td>\n",
       "      <td>1.313640</td>\n",
       "    </tr>\n",
       "    <tr>\n",
       "      <th>std</th>\n",
       "      <td>5.216469e+06</td>\n",
       "      <td>0.000000e+00</td>\n",
       "      <td>3.087757e+07</td>\n",
       "      <td>NaN</td>\n",
       "      <td>80.472511</td>\n",
       "      <td>80.472511</td>\n",
       "      <td>NaN</td>\n",
       "      <td>0.046120</td>\n",
       "      <td>0.089523</td>\n",
       "      <td>1.929968</td>\n",
       "      <td>...</td>\n",
       "      <td>9.808658</td>\n",
       "      <td>1.011680</td>\n",
       "      <td>1.165706</td>\n",
       "      <td>0.858975</td>\n",
       "      <td>0.816896</td>\n",
       "      <td>0.888770</td>\n",
       "      <td>1.007300</td>\n",
       "      <td>NaN</td>\n",
       "      <td>77.742057</td>\n",
       "      <td>1.415073</td>\n",
       "    </tr>\n",
       "    <tr>\n",
       "      <th>min</th>\n",
       "      <td>2.502300e+04</td>\n",
       "      <td>2.017030e+13</td>\n",
       "      <td>3.226000e+03</td>\n",
       "      <td>NaN</td>\n",
       "      <td>0.000000</td>\n",
       "      <td>0.000000</td>\n",
       "      <td>NaN</td>\n",
       "      <td>51.319567</td>\n",
       "      <td>-0.501305</td>\n",
       "      <td>1.000000</td>\n",
       "      <td>...</td>\n",
       "      <td>20.000000</td>\n",
       "      <td>2.000000</td>\n",
       "      <td>2.000000</td>\n",
       "      <td>2.000000</td>\n",
       "      <td>2.000000</td>\n",
       "      <td>2.000000</td>\n",
       "      <td>2.000000</td>\n",
       "      <td>NaN</td>\n",
       "      <td>1.000000</td>\n",
       "      <td>0.020000</td>\n",
       "    </tr>\n",
       "    <tr>\n",
       "      <th>25%</th>\n",
       "      <td>6.220297e+06</td>\n",
       "      <td>2.017030e+13</td>\n",
       "      <td>7.181936e+06</td>\n",
       "      <td>NaN</td>\n",
       "      <td>1.000000</td>\n",
       "      <td>1.000000</td>\n",
       "      <td>NaN</td>\n",
       "      <td>51.485304</td>\n",
       "      <td>-0.187778</td>\n",
       "      <td>2.000000</td>\n",
       "      <td>...</td>\n",
       "      <td>89.000000</td>\n",
       "      <td>9.000000</td>\n",
       "      <td>9.000000</td>\n",
       "      <td>9.000000</td>\n",
       "      <td>10.000000</td>\n",
       "      <td>9.000000</td>\n",
       "      <td>9.000000</td>\n",
       "      <td>NaN</td>\n",
       "      <td>1.000000</td>\n",
       "      <td>0.330000</td>\n",
       "    </tr>\n",
       "    <tr>\n",
       "      <th>50%</th>\n",
       "      <td>1.130802e+07</td>\n",
       "      <td>2.017030e+13</td>\n",
       "      <td>2.341256e+07</td>\n",
       "      <td>NaN</td>\n",
       "      <td>1.000000</td>\n",
       "      <td>1.000000</td>\n",
       "      <td>NaN</td>\n",
       "      <td>51.514939</td>\n",
       "      <td>-0.122785</td>\n",
       "      <td>2.000000</td>\n",
       "      <td>...</td>\n",
       "      <td>94.000000</td>\n",
       "      <td>10.000000</td>\n",
       "      <td>10.000000</td>\n",
       "      <td>10.000000</td>\n",
       "      <td>10.000000</td>\n",
       "      <td>10.000000</td>\n",
       "      <td>9.000000</td>\n",
       "      <td>NaN</td>\n",
       "      <td>1.000000</td>\n",
       "      <td>0.810000</td>\n",
       "    </tr>\n",
       "    <tr>\n",
       "      <th>75%</th>\n",
       "      <td>1.510198e+07</td>\n",
       "      <td>2.017030e+13</td>\n",
       "      <td>4.875111e+07</td>\n",
       "      <td>NaN</td>\n",
       "      <td>3.000000</td>\n",
       "      <td>3.000000</td>\n",
       "      <td>NaN</td>\n",
       "      <td>51.539719</td>\n",
       "      <td>-0.068281</td>\n",
       "      <td>4.000000</td>\n",
       "      <td>...</td>\n",
       "      <td>100.000000</td>\n",
       "      <td>10.000000</td>\n",
       "      <td>10.000000</td>\n",
       "      <td>10.000000</td>\n",
       "      <td>10.000000</td>\n",
       "      <td>10.000000</td>\n",
       "      <td>10.000000</td>\n",
       "      <td>NaN</td>\n",
       "      <td>3.000000</td>\n",
       "      <td>1.840000</td>\n",
       "    </tr>\n",
       "    <tr>\n",
       "      <th>max</th>\n",
       "      <td>1.754946e+07</td>\n",
       "      <td>2.017030e+13</td>\n",
       "      <td>1.187538e+08</td>\n",
       "      <td>NaN</td>\n",
       "      <td>735.000000</td>\n",
       "      <td>735.000000</td>\n",
       "      <td>NaN</td>\n",
       "      <td>51.672438</td>\n",
       "      <td>0.258924</td>\n",
       "      <td>16.000000</td>\n",
       "      <td>...</td>\n",
       "      <td>100.000000</td>\n",
       "      <td>10.000000</td>\n",
       "      <td>10.000000</td>\n",
       "      <td>10.000000</td>\n",
       "      <td>10.000000</td>\n",
       "      <td>10.000000</td>\n",
       "      <td>10.000000</td>\n",
       "      <td>NaN</td>\n",
       "      <td>711.000000</td>\n",
       "      <td>10.530000</td>\n",
       "    </tr>\n",
       "  </tbody>\n",
       "</table>\n",
       "<p>8 rows × 33 columns</p>\n",
       "</div>"
      ],
      "text/plain": [
       "                 id     scrape_id       host_id  host_acceptance_rate  \\\n",
       "count  5.390000e+03  5.390000e+03  5.390000e+03                   0.0   \n",
       "mean   1.039067e+07  2.017030e+13  3.270257e+07                   NaN   \n",
       "std    5.216469e+06  0.000000e+00  3.087757e+07                   NaN   \n",
       "min    2.502300e+04  2.017030e+13  3.226000e+03                   NaN   \n",
       "25%    6.220297e+06  2.017030e+13  7.181936e+06                   NaN   \n",
       "50%    1.130802e+07  2.017030e+13  2.341256e+07                   NaN   \n",
       "75%    1.510198e+07  2.017030e+13  4.875111e+07                   NaN   \n",
       "max    1.754946e+07  2.017030e+13  1.187538e+08                   NaN   \n",
       "\n",
       "       host_listings_count  host_total_listings_count  \\\n",
       "count          5387.000000                5387.000000   \n",
       "mean             15.036570                  15.036570   \n",
       "std              80.472511                  80.472511   \n",
       "min               0.000000                   0.000000   \n",
       "25%               1.000000                   1.000000   \n",
       "50%               1.000000                   1.000000   \n",
       "75%               3.000000                   3.000000   \n",
       "max             735.000000                 735.000000   \n",
       "\n",
       "       neighbourhood_group_cleansed     latitude    longitude  accommodates  \\\n",
       "count                           0.0  5390.000000  5390.000000   5390.000000   \n",
       "mean                            NaN    51.510806    -0.127066      3.066976   \n",
       "std                             NaN     0.046120     0.089523      1.929968   \n",
       "min                             NaN    51.319567    -0.501305      1.000000   \n",
       "25%                             NaN    51.485304    -0.187778      2.000000   \n",
       "50%                             NaN    51.514939    -0.122785      2.000000   \n",
       "75%                             NaN    51.539719    -0.068281      4.000000   \n",
       "max                             NaN    51.672438     0.258924     16.000000   \n",
       "\n",
       "             ...          review_scores_rating  review_scores_accuracy  \\\n",
       "count        ...                   3734.000000             3723.000000   \n",
       "mean         ...                     91.832351                9.402632   \n",
       "std          ...                      9.808658                1.011680   \n",
       "min          ...                     20.000000                2.000000   \n",
       "25%          ...                     89.000000                9.000000   \n",
       "50%          ...                     94.000000               10.000000   \n",
       "75%          ...                    100.000000               10.000000   \n",
       "max          ...                    100.000000               10.000000   \n",
       "\n",
       "       review_scores_cleanliness  review_scores_checkin  \\\n",
       "count                3722.000000            3717.000000   \n",
       "mean                    9.205803               9.605596   \n",
       "std                     1.165706               0.858975   \n",
       "min                     2.000000               2.000000   \n",
       "25%                     9.000000               9.000000   \n",
       "50%                    10.000000              10.000000   \n",
       "75%                    10.000000              10.000000   \n",
       "max                    10.000000              10.000000   \n",
       "\n",
       "       review_scores_communication  review_scores_location  \\\n",
       "count                  3724.000000             3721.000000   \n",
       "mean                      9.643394                9.346412   \n",
       "std                       0.816896                0.888770   \n",
       "min                       2.000000                2.000000   \n",
       "25%                      10.000000                9.000000   \n",
       "50%                      10.000000               10.000000   \n",
       "75%                      10.000000               10.000000   \n",
       "max                      10.000000               10.000000   \n",
       "\n",
       "       review_scores_value  license  calculated_host_listings_count  \\\n",
       "count          3719.000000      0.0                     5390.000000   \n",
       "mean              9.213498      NaN                       14.188868   \n",
       "std               1.007300      NaN                       77.742057   \n",
       "min               2.000000      NaN                        1.000000   \n",
       "25%               9.000000      NaN                        1.000000   \n",
       "50%               9.000000      NaN                        1.000000   \n",
       "75%              10.000000      NaN                        3.000000   \n",
       "max              10.000000      NaN                      711.000000   \n",
       "\n",
       "       reviews_per_month  \n",
       "count        3808.000000  \n",
       "mean            1.313640  \n",
       "std             1.415073  \n",
       "min             0.020000  \n",
       "25%             0.330000  \n",
       "50%             0.810000  \n",
       "75%             1.840000  \n",
       "max            10.530000  \n",
       "\n",
       "[8 rows x 33 columns]"
      ]
     },
     "execution_count": 4,
     "metadata": {},
     "output_type": "execute_result"
    }
   ],
   "source": [
    "sample = df.sample(frac=0.1)\n",
    "print(\"Sample data set shape is: \" + ', '.join(str(i) for i in sample.shape))\n",
    "sample.describe()"
   ]
  },
  {
   "cell_type": "code",
   "execution_count": 5,
   "metadata": {
    "collapsed": false
   },
   "outputs": [
    {
     "data": {
      "text/plain": [
       "array(['id', 'listing_url', 'scrape_id', 'last_scraped', 'name', 'summary',\n",
       "       'space', 'description', 'experiences_offered',\n",
       "       'neighborhood_overview', 'notes', 'transit', 'access',\n",
       "       'interaction', 'house_rules', 'thumbnail_url', 'medium_url',\n",
       "       'picture_url', 'xl_picture_url', 'host_id', 'host_url', 'host_name',\n",
       "       'host_since', 'host_location', 'host_about', 'host_response_time',\n",
       "       'host_response_rate', 'host_acceptance_rate', 'host_is_superhost',\n",
       "       'host_thumbnail_url', 'host_picture_url', 'host_neighbourhood',\n",
       "       'host_listings_count', 'host_total_listings_count',\n",
       "       'host_verifications', 'host_has_profile_pic',\n",
       "       'host_identity_verified', 'street', 'neighbourhood',\n",
       "       'neighbourhood_cleansed', 'neighbourhood_group_cleansed', 'city',\n",
       "       'state', 'zipcode', 'market', 'smart_location', 'country_code',\n",
       "       'country', 'latitude', 'longitude', 'is_location_exact',\n",
       "       'property_type', 'room_type', 'accommodates', 'bathrooms',\n",
       "       'bedrooms', 'beds', 'bed_type', 'amenities', 'square_feet', 'price',\n",
       "       'weekly_price', 'monthly_price', 'security_deposit', 'cleaning_fee',\n",
       "       'guests_included', 'extra_people', 'minimum_nights',\n",
       "       'maximum_nights', 'calendar_updated', 'has_availability',\n",
       "       'availability_30', 'availability_60', 'availability_90',\n",
       "       'availability_365', 'calendar_last_scraped', 'number_of_reviews',\n",
       "       'first_review', 'last_review', 'review_scores_rating',\n",
       "       'review_scores_accuracy', 'review_scores_cleanliness',\n",
       "       'review_scores_checkin', 'review_scores_communication',\n",
       "       'review_scores_location', 'review_scores_value', 'requires_license',\n",
       "       'license', 'jurisdiction_names', 'instant_bookable',\n",
       "       'cancellation_policy', 'require_guest_profile_picture',\n",
       "       'require_guest_phone_verification',\n",
       "       'calculated_host_listings_count', 'reviews_per_month'], dtype=object)"
      ]
     },
     "execution_count": 5,
     "metadata": {},
     "output_type": "execute_result"
    }
   ],
   "source": [
    "sample.columns.values"
   ]
  },
  {
   "cell_type": "markdown",
   "metadata": {},
   "source": [
    "You can _always_ do a 'quick and dirty' scatter plot to see if the data seems vaguely sensible -- it's obviously limited as a geo-visualisation but it can give you an _idea_ of whether or not you've done the right thing with your data. For example..."
   ]
  },
  {
   "cell_type": "code",
   "execution_count": 6,
   "metadata": {
    "collapsed": false
   },
   "outputs": [
    {
     "name": "stderr",
     "output_type": "stream",
     "text": [
      "/anaconda3/envs/gsa2018/lib/python3.6/site-packages/matplotlib/axes/_axes.py:6462: UserWarning: The 'normed' kwarg is deprecated, and has been replaced by the 'density' kwarg.\n",
      "  warnings.warn(\"The 'normed' kwarg is deprecated, and has been \"\n",
      "/anaconda3/envs/gsa2018/lib/python3.6/site-packages/matplotlib/axes/_axes.py:6462: UserWarning: The 'normed' kwarg is deprecated, and has been replaced by the 'density' kwarg.\n",
      "  warnings.warn(\"The 'normed' kwarg is deprecated, and has been \"\n"
     ]
    },
    {
     "data": {
      "text/plain": [
       "<seaborn.axisgrid.JointGrid at 0x134700710>"
      ]
     },
     "execution_count": 6,
     "metadata": {},
     "output_type": "execute_result"
    },
    {
     "data": {
      "image/png": "[encoded data removed]",
      "text/plain": [
       "<Figure size 432x432 with 3 Axes>"
      ]
     },
     "metadata": {},
     "output_type": "display_data"
    }
   ],
   "source": [
    "#help(sns.jointplot)\n",
    "sns.jointplot(x=\"longitude\", y=\"latitude\", data=sample)"
   ]
  },
  {
   "cell_type": "markdown",
   "metadata": {},
   "source": [
    "You'll notice that this 'map' isn't particularly good, but it does tell us that the longitude and latitude values are reasonable: you'd expect to find more AirBnB listings towards the middle of the city and there's a _hint_ of the Thames and the Lee Valley in there (though this is a bit of a stretch). To actually _map_ the data we'll need to be a little more rigorous... \n",
    "\n",
    "Let's step through what's going on below:\n",
    "1. We need to import the `Point` class so that we move from separate x and y columns to a single 'point' that Geopandas can work with.\n",
    "2. We then 'zip' up the x and y (i.e. lat and long) into pairs -- think of this as a simple way to pair _each_ x and y based on their row position and this allows us to move from separate columns to actual points.\n",
    "3. The next step is to tell Geopandas what projection our data is in -- raw lat and long are _usually_ recorded in WGS84 which has the EPSG identifier 4326 (_i.e._ epsg:4326).\n",
    "4. You'll notice that to create a new `GeoDataFrame` we do so _slightly_ differently from how we created a new `DataFrame` last term: we pass in the existing `pandas` data frame (`sample`), the CRS (projection), and finally the `geometry` that we created from the `zip` process.\n",
    "5. The last step is to reproject the geometry into OSGB (Ordnance Survey GB) which has the EPSG identifier 27700. \n",
    "\n",
    "You can see the results of this step in the final step where we print out the first 3 rows of the reprojected data: notice that the point coordinates are no longer in lat/long!\n",
    "\n",
    "Some of this _might_ seem a little tedious, but it's incredibly useful to be able to automate this process: we can reproject a whole series of shapefiles (e.g. every single file in a directory!), we can convert CSV files into shapes that load automatically into QGIS instead of having to do this process manually..."
   ]
  },
  {
   "cell_type": "code",
   "execution_count": null,
   "metadata": {
    "collapsed": false
   },
   "outputs": [],
   "source": [
    "from shapely.geometry import Point\n",
    "# Convert x,y to Points using zip(...)\n",
    "geometry = [Point(xy) for xy in zip(sample.longitude, sample.latitude)]\n",
    "\n",
    "print(\"From the data frame...\")\n",
    "print(sample.head(3)[['longitude','latitude']])\n",
    "print(\"-\" * 50)\n",
    "\n",
    "print(\" \")\n",
    "print(\"From the geometry zip...\")\n",
    "print([\", \".join([str(p.x), str(p.y)]) for p in geometry[0:3]])\n",
    "print(\"-\" * 50)\n",
    "\n",
    "print(\" \")\n",
    "# Initialise to WGS84\n",
    "crs = {'init' :'epsg:4326'}\n",
    "sdf = gpd.GeoDataFrame(sample, crs=crs, geometry=geometry)\n",
    "\n",
    "# Reproject into OSGB\n",
    "sdf = sdf.to_crs({'init' :'epsg:27700'})\n",
    "# Check it worked (coordinates no longer in lat/long)\n",
    "print(sdf.head(3)[['neighbourhood','geometry']])\n",
    "\n",
    "# And save it as a new shapefile\n",
    "sdf.to_file(os.path.join('shapes','AirBnB-Sample.shp'))"
   ]
  },
  {
   "cell_type": "markdown",
   "metadata": {},
   "source": [
    "Plotting the AirBnB sample will take some time... so be patient! You'll notice that the results are now also reported in OSGB units, not lat/long, so this is one way in which GeoPandas is more 'knowledgeable' about geodata than pandas."
   ]
  },
  {
   "cell_type": "code",
   "execution_count": null,
   "metadata": {
    "collapsed": true
   },
   "outputs": [],
   "source": [
    "# Ensures that we work with the sample we just saved in case\n",
    "# we want to adjust our processing and don't want to have \n",
    "# to re-run the entire analysis just because we've overwritten \n",
    "# a column (see next step)\n",
    "sdf = gpd.read_file(os.path.join('shapes','AirBnB-Sample.shp'))"
   ]
  },
  {
   "cell_type": "code",
   "execution_count": null,
   "metadata": {
    "collapsed": false
   },
   "outputs": [],
   "source": [
    "# The format in the full data set is $1,250.00 so we need to deal with that\n",
    "sdf['price'] = sdf.price.str.replace('$','').str.replace(',','').astype('float').fillna(0.0)"
   ]
  },
  {
   "cell_type": "code",
   "execution_count": null,
   "metadata": {
    "collapsed": false
   },
   "outputs": [],
   "source": [
    "# Check we've got something plot-able\n",
    "sdf.price.describe()"
   ]
  },
  {
   "cell_type": "code",
   "execution_count": null,
   "metadata": {
    "collapsed": false
   },
   "outputs": [],
   "source": [
    "# Check distribution (could probably use a transform)\n",
    "sns.distplot(sdf.price)"
   ]
  },
  {
   "cell_type": "code",
   "execution_count": null,
   "metadata": {
    "collapsed": false
   },
   "outputs": [],
   "source": [
    "# And make a map\n",
    "f, ax = plt.subplots(1, figsize=(15, 11))\n",
    "sdf.plot(ax=ax, column='price', cmap='OrRd', scheme='quantiles', k=5, edgecolor=None, legend=True, s=1.5)\n",
    "plt.axis('equal')"
   ]
  }
 ],
 "metadata": {
  "anaconda-cloud": {},
  "kernelspec": {
   "display_name": "Geocomp",
   "language": "python",
   "name": "gsa2018"
  },
  "language_info": {
   "codemirror_mode": {
    "name": "ipython",
    "version": 3
   },
   "file_extension": ".py",
   "mimetype": "text/x-python",
   "name": "python",
   "nbconvert_exporter": "python",
   "pygments_lexer": "ipython3",
   "version": "3.6.5"
  }
 },
 "nbformat": 4,
 "nbformat_minor": 2
}
