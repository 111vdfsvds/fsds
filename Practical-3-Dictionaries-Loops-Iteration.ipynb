{
 "cells": [
  {
   "cell_type": "markdown",
   "metadata": {
    "nbpresent": {
     "id": "f730ab33-247e-4792-9e02-ab29c9f00c14"
    }
   },
   "source": [
    "<center><h1>7SSG2059 Geocomputation 2016/17</h1></center>\n",
    "\n",
    "<h1><center>Practical 3: Dictionaries, Loops, Iteration</h1></center>\n",
    "\n",
    "<p><center><i>James Millington, 10 October 2016</i></center>\n"
   ]
  },
  {
   "cell_type": "markdown",
   "metadata": {
    "nbpresent": {
     "id": "cada64b6-f8c9-4dbb-9ab1-b5617d0cc16a"
    }
   },
   "source": [
    "## Learning Outcomes\n",
    "\n",
    "By the end of this practical you should:\n",
    "- Be familiar with the majority of the operators you’ll encounter in basic programming.\n",
    "- Be able to use two different types of loop.\n",
    "- Understand the principles of iteration.\n",
    "- Understand how dictionaries are structured, created and accessed. \n"
   ]
  },
  {
   "cell_type": "markdown",
   "metadata": {},
   "source": [
    "This document assumes you have created a working directory as described here: http://bit.ly/WorkingDirectory"
   ]
  },
  {
   "cell_type": "markdown",
   "metadata": {
    "collapsed": true
   },
   "source": [
    "## Dictionaries"
   ]
  },
  {
   "cell_type": "markdown",
   "metadata": {
    "collapsed": true
   },
   "source": [
    "Give the students some kind of dictionary. Then ask them to:\n",
    "\n",
    "- add to it\n",
    "- get some values\n",
    "- change something\n",
    "- get the values again\n",
    "\n",
    "\n",
    "More advanced:\n",
    "\n",
    "Find the maximum value in the Cities population dictionary\n",
    "e.g. work out and explain how this works:http://stackoverflow.com/questions/268272/getting-key-with-maximum-value-in-dictionary "
   ]
  },
  {
   "cell_type": "markdown",
   "metadata": {},
   "source": [
    "## Loops"
   ]
  },
  {
   "cell_type": "markdown",
   "metadata": {
    "collapsed": true
   },
   "source": [
    "### Simple For Loop\n",
    "3.1.1\tLet’s begin with something pretty simple: let’s print out the string ‘Element: ‘ before every element of the list myTextList. The way we’d do this is to print out the string ‘Element: ‘ and the string that we pulled from myText together as part of a for loop.\n",
    "3.1.2\tYou may remember that we saw the following in class:\n",
    "for x in myList:\n",
    "     … Do something …\n",
    "So all we need to do now is adapt this for our purposes like this:\n",
    "for x in myTextList:\n",
    "     print(‘Element: ‘ + x)\n",
    "Make sure you have understood how this works before moving on.\n",
    "3.1.3\tIt is often really useful to break a problem down into simple parts and then add complexity in small steps to get the functionality that you want. Until you are quite confident as a programmer, this approach helps you to avoid simple mistakes that could give you major headaches later – you know that each bit is working before you add the next bit.\n"
   ]
  },
  {
   "cell_type": "markdown",
   "metadata": {},
   "source": [
    "### Doing More with For\n",
    "\n",
    "a)\tWith 3.1.3 in mind let’s try something a little harder – let’s add up all of the numbers in myMixedList! For this, you’re going to need to know that there is a string method (i.e. it’s only available for strings) called isdigit().\n",
    "b)\tLet’s do it in stages – make sure you get the right output at each stage before moving on to the next one:\n",
    "a.\tCreate a loop that just prints out every element in myMixedList; this should print out “1”, “3”, “5”, “7”, “9”, “dog”, “cat” on separate lines.\n",
    "b.\tNow change your loop to print out true or false for every element based on whether or not it is a number using isdigit(); this should print out True, True, True, True, True, False, False on separate lines.\n",
    "c.\tNow change your loop to use isdigit() as part of a condition – if the element is made of digits, then print it out, don’t print anything that isn’t digits; this should print out “1”, “3”, “5”, “7”, “9” on separate lines.\n",
    "d.\tNow change your loop again to convert these strings to integers using int(x).\n",
    "e.\tYou’re almost there, all you need now is to create a variable called total before the ‘for loop’ begins and then use the += command to add each integer to the total.\n",
    "f.\tThe total should be 25.\n"
   ]
  },
  {
   "cell_type": "markdown",
   "metadata": {},
   "source": [
    "### While\n",
    "Do the above again but with a While loop"
   ]
  },
  {
   "cell_type": "markdown",
   "metadata": {},
   "source": [
    "### Revisiting last week's Exercise\n",
    "3.3.1\tYou may have tried to write the code in Task 5.6 last week and found it either a) impossible, or b) really, really tedious. \n",
    "a.\tHow did you tackle this (if you did)?\n",
    "b.\tHow would iteration help you to tackle this problem?\n",
    "\n",
    "\n",
    "Here's the full code for one method to answer the problem:  (or tell students to look at the full script on KEATS and show only the bits that get repeated here..."
   ]
  },
  {
   "cell_type": "code",
   "execution_count": 1,
   "metadata": {
    "collapsed": false
   },
   "outputs": [
    {
     "name": "stdout",
     "output_type": "stream",
     "text": [
      "Mode is 2\n",
      "It occurs 2 times\n"
     ]
    }
   ],
   "source": [
    "myInput = [1,4,2,3,2]\n",
    "\n",
    "maxValues = []     #list to hold most frequent value(s)\n",
    "maxValue  = 0      #the current most frequent value \n",
    "maxFreq = 0        #frequency of maxValue\n",
    "\n",
    "value = myInput[0]               #get the value to be counted\n",
    "count = myInput.count(value)     #for this value count how many times it occurs in the input list\n",
    "\n",
    "maxValue = value                 #as this is first value checked we know this value is currently the most frequent\n",
    "maxFreq  = count                 #as this is first value checked we know the frequency of thisvalue is currently greatest\n",
    "maxValues = [value]              #set the maxValues list to hold this value\n",
    "\n",
    "\n",
    "value = myInput[1]               #get the value to be counted\n",
    "if value not in maxValues:       #conditional: if this value has not already been checked\n",
    "    \n",
    "    count = myInput.count(value)  #for this value count how many times it occurs in the input list\n",
    "\n",
    "    if count > maxFreq:           #conditional: if this value is found more frequently than any other yet checked\n",
    "        maxValue = value          #update current most frequent value \n",
    "        maxFreq  = count          #update frequency of maxValue\n",
    "        maxValues = [value]       #set the maxValues list to hold ONLY this value\n",
    "    elif count == maxFreq:        #conditional: if this value has equal frequency to the current most frequently found value \n",
    "        maxValues.append(value)   #add this value to list of most frequently found values\n",
    "\n",
    "#repeat what we did for myInput[1]\n",
    "value = myInput[2] \n",
    "if value not in maxValues:\n",
    "    \n",
    "    count = myInput.count(value)  \n",
    "\n",
    "    if count > maxFreq:\n",
    "        maxValue = value\n",
    "        maxFreq  = count\n",
    "        maxValues = [value]\n",
    "    elif count == maxFreq:   \n",
    "        maxValues.append(value)\n",
    "\n",
    "#repeat what we did for myInput[1]\n",
    "value = myInput[3] \n",
    "if value not in maxValues:\n",
    "    \n",
    "    count = myInput.count(value)  \n",
    "\n",
    "    if count > maxFreq:\n",
    "        maxValue = value\n",
    "        maxFreq  = count\n",
    "        maxValues = [value]\n",
    "    elif count == maxFreq:   \n",
    "        maxValues.append(value)\n",
    "\n",
    "#repeat what we did for myInput[1]\n",
    "value = myInput[4] \n",
    "if value not in maxValues:\n",
    "    \n",
    "    count = myInput.count(value)  \n",
    "\n",
    "    if count > maxFreq:\n",
    "        maxValue = value\n",
    "        maxFreq  = count\n",
    "        maxValues = [value]\n",
    "    elif count == maxFreq:   \n",
    "        maxValues.append(value)\n",
    "\n",
    "\n",
    "if len(maxValues) > 1:             #if there is more than one value in this list, there is no mode\n",
    "    print(\"There is no mode\")\n",
    "else:                              #otherwise there is a single mode\n",
    "    print(\"Mode is \" + str(maxValue))\n",
    "    print(\"It occurs \" + str(maxFreq) + \" times\")"
   ]
  },
  {
   "cell_type": "markdown",
   "metadata": {},
   "source": [
    "Modify the code above to use a For loop.\n",
    "\n",
    "This does two things:\n",
    "1) reduced the number of lines of code (making quicker to code and easier to understand what the script is doing)\n",
    "2) allows us to evaluate lists of ANY length"
   ]
  },
  {
   "cell_type": "markdown",
   "metadata": {},
   "source": [
    "### Loops with Dictionaries\n",
    "\n",
    "1. Maybe use a dictionary to improve the previous Task; e.g. dictionary to hold values and their counts. print this out. then iterate over the dictionary to find the modes\n",
    "\n",
    "2. Remove duplicates from a dictionary: http://www.w3resource.com/python-exercises/dictionary/python-data-type-dictionary-exercise-17.php\n",
    "\n",
    "OR if 1. is good then move 2. to Exercises and move second dictionary exercise to Dictionaries section above\n"
   ]
  },
  {
   "cell_type": "markdown",
   "metadata": {},
   "source": [
    "## Exercises"
   ]
  },
  {
   "cell_type": "markdown",
   "metadata": {},
   "source": [
    "Write a Python program to count the number of even and odd numbers from a series of numbers\n",
    "http://www.w3resource.com/python-exercises/python-conditional-exercise-6.php\n",
    "\n",
    "Write a Python program to create the multiplication table (from 1 to 10) of a number. \n",
    "http://www.w3resource.com/python-exercises/python-conditional-exercise-43.php\n",
    "\n",
    "First dictionary exercise\n",
    "http://www.w3resource.com/python-exercises/dictionary/python-data-type-dictionary-exercise-7.php\n",
    "\n",
    "Second dictionary exercise\n",
    "e.g. map two lists into a single dictionary: http://www.w3resource.com/python-exercises/dictionary/python-data-type-dictionary-exercise-13.php Will need to highlight the zip function via a link https://docs.python.org/2/library/functions.html#zip\n",
    "\n",
    "Loop to calculate standard deviation? Provide the flow chart for students to use...\n",
    "\n",
    "\n",
    "Loop with dictionaries that contain list as values? i.e. as shown in the lecture\n",
    "\n",
    "Possible source for other exercises\n",
    "Get some dictionary exercises from here: http://www.w3resource.com/python-exercises/dictionary/\n"
   ]
  },
  {
   "cell_type": "code",
   "execution_count": null,
   "metadata": {
    "collapsed": true
   },
   "outputs": [],
   "source": []
  }
 ],
 "metadata": {
  "anaconda-cloud": {},
  "kernelspec": {
   "display_name": "Python [Root]",
   "language": "python",
   "name": "Python [Root]"
  },
  "language_info": {
   "codemirror_mode": {
    "name": "ipython",
    "version": 2
   },
   "file_extension": ".py",
   "mimetype": "text/x-python",
   "name": "python",
   "nbconvert_exporter": "python",
   "pygments_lexer": "ipython2",
   "version": "2.7.12"
  },
  "nbpresent": {
   "slides": {
    "7ef708e9-9dd4-47e5-bc19-85af72df5434": {
     "id": "7ef708e9-9dd4-47e5-bc19-85af72df5434",
     "prev": null,
     "regions": {}
    }
   },
   "themes": {}
  }
 },
 "nbformat": 4,
 "nbformat_minor": 0
}
