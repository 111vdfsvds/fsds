{
 "cells": [
  {
   "cell_type": "markdown",
   "metadata": {},
   "source": [
    "# Working with GeoPandas and PySAL\n",
    "\n",
    "We've worked -- and will continue to work -- a lot with pandas, but by default pandas doesn't help us much when want to start working with explicitly geographical data. Ways of working _computationally_ with things like distance and location are increasingly important not only to geographers, but also to data scientists, and this is where we start to move away from purely aspatial statistical analysis into the foundations of a more _geographic_ data science.\n",
    "\n",
    "There are a huge number of modules in Python designed to help you work with geodata, but we are going to focus on the two most important higher-level libraries (since they also provide 'wrappers' around some of the lower-level libraries):\n",
    "\n",
    "1. [GeoPandas](http://geopandas.org/) -- which offers a pandas-like interface to working with geodata. Think of this as your tool for basic data manipulation and transformation, much like pandas. You will almost certainly want to [bookmark the documentation](http://geopandas.org/user.html#geodataframe).\n",
    "2. [PySAL](http://pysal.readthedocs.io/en/latest/) -- the Python Spatial Analysis Library  provides the spatial analytic functions that we'll need for everything from classification, clustering and point-pattern analysis to autocorrelation-based tools.\n",
    "3. There is some overlap between the two libraries: both can do plotting but, for reasons we'll see later, we'll normally do this in PySAL and both can do classification (remember, we did _quantiles_ with pandas!) but (again), for reasons we'll see later, we'll often do this in PySAL from here on out.\n",
    "\n",
    "PySAL is complicated enough that the best way to understand how it fits together is to use an image:\n",
    "\n",
    "![PySAL Logo](http://darribas.org/gds_scipy16/content/figs/pysal.png)\n",
    "\n",
    "We're going to concentrate primarily on the ESDA (Exploratory _Spatial_ Data Analysis) and Weights components of PySAL in this module, but you should know about the other bits!"
   ]
  },
  {
   "cell_type": "markdown",
   "metadata": {},
   "source": [
    "## A (Semi-Brief) Discourse on Families & Inheritance\n",
    "\n",
    "GeoPandas objects are deliberately designed to resemble Pandas objects. There are two good reasons for this: \n",
    "\n",
    "1. Since Pandas is well-known, this makes it easier to learn how to use GeoPandas.\n",
    "2. GeoPandas _inherits_ functionality from Pandas. \n",
    "\n",
    "The concept of **inheritance** is something we've held off from mentioning until now, but it's definitely worth understanding if you are serious about learning how to code. In effect, geopandas '_imports_' pandas and then _extends_ it so that the more basic class (pandas in this case) learns how to work with geodata... pandas doesn't know how to read shapefiles or make maps, but geopandas does. Same for GeoJSON.\n",
    "\n",
    "### The 'Tree of Life'\n",
    "\n",
    "Here's a simple way to think about inheritance: think of the 'evolutionary trees' you might have seen charting the evolution of organisms over time. At the bottom of the tree is the single-celled animal, and at the other end are humans, whales, wildebeest, etc. We all _inherit_ some basic functionality from that original, simple cell. In between us and that primitive, however, are a whole series of branches: different bits of the tree evolved in different directions and developed different 'functionality'. Some of us have bones. Some have  cartilege. Some are vegetarian, and some are carnivorous. And so on. When you get to the primates we all share certain common 'features' (binocular vision, grasping hands, etc.), but we are _still_ more similar to gorillas than we are to macaques. So gorillas and humans _extend_ the primitive 'primate functionality' with some bonus features (bigger brains, greater strength, etc.) that are useful, while macaques extend it with a slightly different set of features (tails, etc.).\n",
    "\n",
    "![Tree of Life](http://palaeos.com/systematics/tree/images/treeolif.jpg)\n",
    "\n",
    "### The 'Tree of Classes'\n",
    "\n",
    "Inheritance in code works in a similar way: *all* Python classes (lists, pandas, plots, etc.) inherit their most basic functionality from a single primitive 'object' class that itself does very little except to provide a template for what an object should look like. As you move along the inheritance tree you will find more and more complex objects with increasingly advanced features: GeoPandas inherits from Pandas, Bokeh and Seaborn inherit from matplotlib, etc. \n",
    "\n",
    "I can't find an image of Python base class inheritance, but I've found an equally useful example of how _anything_ can be modelled using this 'family tree' approach... consider the following:\n",
    "\n",
    "![Vehicle Inheritance](http://www.mkonar.org/dogus/wiki/lib/exe/fetch.php/python/vehicle.png?w=750&tok=4c7ed7)\n",
    "\n",
    "If we were trying to implement a vehicle registration scheme in Python, we would want to start with the most basic category of all: _vehicle_. The vehicle class itself might not do much, but it gives us a template for _all_ vehicles (e.g. it must be registered, it must have a unique license number, etc.). We then _extend_ the functionality of this 'base class' with three intermediate classes: two-wheeled vehicles, cars, and trucks. These, in turn, lead to eight actual vehicle types. These might have _additional_ functionality: a bus might need have a passenger capacity associated with it, while a convertible might need to be hard- or soft-top. All of this could be expressed in Python as:\n",
    "\n",
    "```python\n",
    "class vehicle(object): # Inherit from base class\n",
    "    def __init__(self):\n",
    "        ... do something ...\n",
    "\n",
    "class car(vehicle): # Inherit from vehicle\n",
    "    def __init__(self):\n",
    "        ... do other stuff ...\n",
    "\n",
    "class sedan(car): # Inherit from car\n",
    "    def __init__(self):\n",
    "        ... do more stuff ...\n",
    "```\n",
    "\n",
    "This way, when we create a new `sedan`, it automatically 'knows' about vehicles and cars, and can make use of functions like `set_unique_id(<identification>)` even if that function is _only_ specified in the base vehicle class! The thing to remember is that programmers are _lazy_: if they can avoid reinventing the wheel, they will. Object-Oriented Programming using inheritance is a good example of _constructive_ laziness: it saves us having to constantly copy and paste code (for registering a new vehicle or reading in a CSV file) from one class to the next since we can just import it and _extend_ it! \n",
    "\n",
    "### Advantages of Inheritance \\#1\n",
    "\n",
    "This also means that we are less likely to make mistakes: if we want to update our vehicle registration scheme then we don't need to update lots of functions all over the place, we just update the base class and _all_ inheriting classes automatically gain the update because they are making use of the base class' function. \n",
    "\n",
    "So if pandas is updated with a new 'load a zip file' feature then geopandas automatically benefits from it! The _only_ thing that doesn't gain that benefit immediately is our ability to make use of specifically geographical data because pandas doesn't know about that type of data, only 'normal' tabular data.\n",
    "\n",
    "### Advantages of Inheritance \\#2\n",
    "\n",
    "Inheritance also means that you can always use an instance of a 'more evolved' class in place of one of its ancestors: simplifying things a _bit_, a sedan can automatically do anything that a car can do and, by extension, anything that a vehicle can do. \n",
    "\n",
    "Similarly, since geopandas inherits from pandas if you need to use a geopandas object _as if_ it's a pandas object then that will work! So everything you learned last term for pandas can still be used in geopandas. Kind of cool, right?\n",
    "\n",
    "### Designing for Inheritance\n",
    "\n",
    "Finally, looking back at our example above: what about unicycles? Or tracked vehicles like a tank? This is where _design_ comes into the picture: when we're planning out a family tree for our work we need to be careful about what goes where. And there isn't always a single right answer: perhaps we should distinguish between pedal-powered and motor-powered (in which case unicycles, bicycles and tricycles all belong in the same family)? Or perhaps we need to distinguish between wheeled and tracked (in which case we're missing a pair of classes [wheeled, tracked] between 'vehicle' and 'two-wheel, car, truck')? These choices are tremendously important but often very hard to get right.\n",
    "\n",
    "OK, that's enough programming theory, let's see this in action..."
   ]
  },
  {
   "cell_type": "markdown",
   "metadata": {},
   "source": [
    "## Required Preamble\n",
    "\n",
    "It makes life a lot easier if you make all of the library import commands and configuration information (here having to do with `matplotlib`) the first exectuable code in a notebook or script. That way it's easy to see what you need to have installed before you get started!\n",
    "\n",
    "You'll notice that I've broken my own 'rule' a little later when we get to PySAL but that's because I didn't want you to have no idea where some of the commands are coming from!"
   ]
  },
  {
   "cell_type": "code",
   "execution_count": null,
   "metadata": {
    "collapsed": true
   },
   "outputs": [],
   "source": [
    "import matplotlib as mpl\n",
    "mpl.use('TkAgg')\n",
    "%matplotlib inline\n",
    "import matplotlib.pyplot as plt"
   ]
  },
  {
   "cell_type": "code",
   "execution_count": null,
   "metadata": {
    "collapsed": true
   },
   "outputs": [],
   "source": [
    "import pysal as ps\n",
    "import numpy as np\n",
    "import pandas as pd\n",
    "import geopandas as gpd\n",
    "import seaborn as sns\n",
    "import matplotlib.cm as cm\n",
    "import urllib\n",
    "import zipfile\n",
    "import re\n",
    "import os\n",
    "\n",
    "# Make numeric display a bit easier\n",
    "pd.set_option('display.float_format', lambda x: '{:,.0f}'.format(x))\n",
    "\n",
    "def download_gsa_data(src='https://github.com/kingsgeocomp/geocomputation/blob/master/data/LSOA%20Data.csv.gz?raw=true', dst='lsoa.csv.gz', srczip='gzip'):\n",
    "    \"\"\"\n",
    "    A simple function to help simplify the process of downloading\n",
    "    and saving data to use in a practical. To save on bandwidth, \n",
    "    the function will first check whether a local copy of the file\n",
    "    exists (as specified by the dst parameter) before attempting to\n",
    "    read it from the remote source (as specified by the src parameter).\n",
    "    \n",
    "    \n",
    "    Keyword arguments:\n",
    "    src -- a remote URL to use as a source (default http://bit.ly/2g4Iz3v)\n",
    "    dst -- a local path to use as a destination (default lsoa.csv.gz)\n",
    "    \"\"\"\n",
    "    dst_compression='gzip'\n",
    "    \n",
    "    # Check if local copy exists...\n",
    "    if os.path.exists(dst):\n",
    "        # Yes, then just read and return the data frame\n",
    "        print(\"File already downloaded.\")\n",
    "        # The 'low memory' option means pandas doesn't guess data types\n",
    "        df = pd.read_csv(dst, compression=dst_compression, low_memory=False)\n",
    "        \n",
    "    else:\n",
    "        # No, then download and save a local copy\n",
    "        print(\"Downloading remote data...\")\n",
    "        \n",
    "        # It is possible to have a remote file with no\n",
    "        # compression so this is just a piece of forward\n",
    "        # looking code....\n",
    "        if srczip is not None:\n",
    "            # The 'low memory' option means pandas doesn't guess data types\n",
    "            df = pd.read_csv(src, compression=srczip, low_memory=False)\n",
    "        else:\n",
    "            df = pd.read_csv(src, low_memory=False)\n",
    "        \n",
    "        # And save it\n",
    "        print(\"Writing to local file...\")\n",
    "        df.to_csv(dst, compression=dst_compression, index=False)\n",
    "    print(\"Done.\")\n",
    "    return df"
   ]
  },
  {
   "cell_type": "markdown",
   "metadata": {},
   "source": [
    "## Getting the Data\n",
    "\n",
    "We're going to work with three data sets this week:\n",
    "\n",
    "1. The LSOA CSV data we've been using already.\n",
    "\n",
    "2. A zipfile containing LSOA _geometries_.\n",
    "\n",
    "3. A gzip file containing data [scraped from Airbnb](http://insideairbnb.com/get-the-data.html)."
   ]
  },
  {
   "cell_type": "code",
   "execution_count": null,
   "metadata": {
    "collapsed": false
   },
   "outputs": [],
   "source": [
    "df = download_gsa_data()\n",
    "df.set_index(['LSOA11CD'], drop=True, inplace=True)"
   ]
  },
  {
   "cell_type": "code",
   "execution_count": null,
   "metadata": {
    "collapsed": false
   },
   "outputs": [],
   "source": [
    "df.head(2)"
   ]
  },
  {
   "cell_type": "code",
   "execution_count": null,
   "metadata": {
    "collapsed": false
   },
   "outputs": [],
   "source": [
    "def download_gsa_geodata(src_dir, dst_dir, ddir):\n",
    "\n",
    "    if not os.path.exists(dst_dir):\n",
    "        if not os.path.exists(os.path.dirname(dst_dir)):\n",
    "            os.makedirs(os.path.dirname(dst_dir))\n",
    "        urllib.urlretrieve(src_dir, dst_dir)\n",
    "\n",
    "    if not os.path.exists(ddir):\n",
    "        os.makedirs(os.path.dirname(ddir))\n",
    "    \n",
    "    zp = zipfile.ZipFile(dst_dir, 'r')\n",
    "    zp.extractall(ddir)\n",
    "    zp.close()    \n",
    "\n",
    "    print(\"Done.\")\n",
    "\n",
    "src = 'https://github.com/kingsgeocomp/geocomputation/blob/master/data/LSOAs.zip?raw=true'\n",
    "dst = 'shapes/LSOAs.zip'\n",
    "zpd = 'shapes/'\n",
    "download_gsa_geodata(src, dst, zpd)\n",
    "\n",
    "\n",
    "src = 'https://github.com/kingsgeocomp/geocomputation/blob/master/data/Greenspace.zip?raw=true'\n",
    "dst = 'shapes/Greenspace.zip'\n",
    "zpd = 'shapes/'\n",
    "download_gsa_geodata(src, dst, zpd)\n",
    "\n",
    "src = 'https://github.com/kingsgeocomp/geocomputation/blob/master/data/Roads.zip?raw=true'\n",
    "dst = 'shapes/Roads.zip'\n",
    "zpd = 'shapes/'\n",
    "download_gsa_geodata(src, dst, zpd)\n",
    "\n",
    "src = 'https://github.com/kingsgeocomp/geocomputation/blob/master/data/Boroughs.zip?raw=true'\n",
    "dst = 'shapes/Boroughs.zip'\n",
    "zpd = 'shapes/'\n",
    "download_gsa_geodata(src, dst, zpd)\n",
    "\n",
    "print(\"All done...\")"
   ]
  },
  {
   "cell_type": "markdown",
   "metadata": {},
   "source": [
    "## Reading a Shapefile with GeoPandas\n",
    "\n",
    "Let's set up some simple variables to store references to the shape file (where the geometry is stored) and the DBF file (where the data is stored)."
   ]
  },
  {
   "cell_type": "code",
   "execution_count": null,
   "metadata": {
    "collapsed": true
   },
   "outputs": [],
   "source": [
    "shp_path = os.path.join('shapes','lsoas','Lower_Layer_Super_Output_Areas_December_2011_Generalised_Clipped__Boundaries_in_England_and_Wales.shp')"
   ]
  },
  {
   "cell_type": "markdown",
   "metadata": {},
   "source": [
    "In other words, depending on your setup you might need to tweak the path in the code below to get your own code working..."
   ]
  },
  {
   "cell_type": "code",
   "execution_count": null,
   "metadata": {
    "collapsed": false
   },
   "outputs": [],
   "source": [
    "gdf = gpd.read_file(shp_path)\n",
    "gdf.set_index('lsoa11cd', drop=True, inplace=True)\n",
    "gdf.head(3)"
   ]
  },
  {
   "cell_type": "markdown",
   "metadata": {},
   "source": [
    "So far so good! Notice that even the output of the `head` function is the same as from pandas. The only obvious difference so far is that `geometry` column on the right-hand side which doesn't contain numbers or strings, but `POLYGON`s. In a nutshell, aside from the ability to read geodata directly (we just loaded a shapefile using only code!) this geometry column is the other marker of a big step from pandas to geopandas.\n",
    "\n",
    "But let's dig a little deeper:"
   ]
  },
  {
   "cell_type": "code",
   "execution_count": null,
   "metadata": {
    "collapsed": false
   },
   "outputs": [],
   "source": [
    "print(\"Let's look at inheritance: \")\n",
    "\n",
    "if isinstance(gdf, gpd.GeoDataFrame): # Is gdf a GeoDataFrame object?\n",
    "    print(\"\\tI'm a geopandas data frame!\")\n",
    "\n",
    "if isinstance(gdf, pd.DataFrame): # Is gdf *also* a DataFrame object?\n",
    "    print(\"\\tI'm also a pandas data frame!\")\n",
    "\n",
    "print(\"-\" * 50)\n",
    "\n",
    "print(\"Let's look at some pandas methods we know: \") # See inheritance in action\n",
    "\n",
    "print(\"Using the 'sample()' method: \")\n",
    "print(gdf.sample(3))\n",
    "print(\"-\" * 50)\n",
    "\n",
    "print(\"What the lsoa11nm column type: \")\n",
    "print('\\tNAME type: ' + str(type(gdf.lsoa11nm)))\n",
    "print(\"-\" * 50)\n",
    "\n",
    "print(\"Describe the column: \")\n",
    "print(gdf.lsoa11nm.describe())\n",
    "print(\"-\" * 50)\n",
    "\n",
    "print(\"Let's look at some new methods from geopandas: \") # Here's stuff pandas can't do\n",
    "\n",
    "print(\"What's the geometry column type: \")\n",
    "print('\\tGeometry type: ' + str(type(gdf.geometry)))\n",
    "print(\"-\" * 50)\n",
    "\n",
    "# The next line is very slow, don't run it:\n",
    "# print(gdf.geometry.describe())\n",
    "# print(\"-\" * 50)\n",
    "\n",
    "print(\"Is there projection information: \")\n",
    "print('\\tCRS: ' + str(gdf.crs))\n",
    "print(\"-\" * 50)"
   ]
  },
  {
   "cell_type": "markdown",
   "metadata": {},
   "source": [
    "This next command may take a while to complete -- the geopandas developers know that their mapping code is sloooooooooow, and that's one of the reasons we're going to use PySAL for most of our work. But 'watch this space' since they are working on it and there may even be an update this year that addresses the single biggest complaint that people have about geopandas."
   ]
  },
  {
   "cell_type": "code",
   "execution_count": null,
   "metadata": {
    "collapsed": false
   },
   "outputs": [],
   "source": [
    "gdf.plot()"
   ]
  },
  {
   "cell_type": "markdown",
   "metadata": {},
   "source": [
    "**Some questions for you:**\n",
    "\n",
    "1. What type of data structure is the CRS attribute of the geopandas data frame?\n",
    "2. How would you confirm this?\n",
    "3. Can you figure out how to reproject the data using the geopandas documentation?\n",
    "4. What is the data structure of the geometry column (broadly)?\n",
    "5. Are there any differences between what a similar pandas data frame would give you if you ran any of the non-geographic commands?"
   ]
  },
  {
   "cell_type": "markdown",
   "metadata": {},
   "source": [
    "## Joining Geo- and Non-Geo-Data\n",
    "\n",
    "If you look at the data above, you'll see that we have none of the LSOA data that we want to work with available to us. That's obviously because that data is in `df`, while the geo-data is in `gdf`. So how to join them?\n",
    "\n",
    "Easy! Since Geopandas inherits from Pandas, it recognises how to work with a pandas data frame:"
   ]
  },
  {
   "cell_type": "code",
   "execution_count": null,
   "metadata": {
    "collapsed": false
   },
   "outputs": [],
   "source": [
    "gdf2 = pd.merge(gdf, df, left_index=True, right_index=True)\n",
    "print(type(gdf2))\n",
    "print(\" \")\n",
    "print(gdf2.columns.values)\n",
    "print(\" \")\n",
    "# Sometimes information about which column contains the geometry is lost\n",
    "# after a merge or join and you need to tell GeoPandas where to find it \n",
    "# again. You'll see that, in this merge (on my computer at least), our \n",
    "# geometry column was renamed 'geometry_x' and so I needed to set the\n",
    "# geometry again. The parameter inplace=True simply tells Python that \n",
    "# it shouldn't return a _new_ GeoPandas data frame.\n",
    "gdf2.set_geometry('geometry_x', inplace=True) \n",
    "# What's different about this plot?\n",
    "gdf2.plot()\n",
    "# And save this as a _new_ shapefile...\n",
    "mrg_path = os.path.join('shapes','LSOA Data.shp') # Where we saved the merged data\n",
    "gdf2.to_file(mrg_path)"
   ]
  },
  {
   "cell_type": "code",
   "execution_count": null,
   "metadata": {
    "collapsed": false
   },
   "outputs": [],
   "source": [
    "f, ax = plt.subplots(1, figsize=(12, 10))\n",
    "base = gdf2.plot(ax=ax, column='MedianPrice', cmap='OrRd', scheme='quantiles', edgecolor=None, legend=True)\n",
    "\n",
    "parks = gpd.read_file(os.path.join('Data/Test/Greenspace.gpkg'))\n",
    "parks.plot(ax=ax, color='green');"
   ]
  },
  {
   "cell_type": "markdown",
   "metadata": {},
   "source": [
    "That's a nice overview, but it would be better if we could zoom in on, say, the south west for a closer look!"
   ]
  },
  {
   "cell_type": "code",
   "execution_count": null,
   "metadata": {
    "collapsed": false
   },
   "outputs": [],
   "source": [
    "f, ax = plt.subplots(1, figsize=(12, 10))\n",
    "base = gdf2.plot(ax=ax, column='MedianPrice', cmap='OrRd', scheme='quantiles', edgecolor=None, legend=True)\n",
    "\n",
    "parks = gpd.read_file(os.path.join('Data/Test/Greenspace.gpkg'))\n",
    "parks.plot(ax=ax, color='green', alpha=0.75, edgecolor='green');\n",
    "plt.xlim([510000, 530000]) # plt applies to the current plotting context (see plt.subplots above)\n",
    "plt.ylim([165000, 180000])"
   ]
  },
  {
   "cell_type": "markdown",
   "metadata": {},
   "source": [
    "#### More Fun!\n",
    "\n",
    "You can find some more nice examples and applications from [GeoHackWeek](https://geohackweek.github.io/vector/04-geopandas-intro/)!"
   ]
  },
  {
   "cell_type": "markdown",
   "metadata": {},
   "source": [
    "## Working with PySAL\n",
    "\n",
    "Now that we've prepared the raw data, we're ready to begin a more substantive analysis using PySAL. Of course, at this stage we're still going to take it fairly easy and not jump feet-first into using concepts like spatial autocorrelation or spatially-aware statistics."
   ]
  },
  {
   "cell_type": "markdown",
   "metadata": {},
   "source": [
    "### Revisiting Classification\n",
    "\n",
    "Classification matters. I realise that this topic can seem a little... _dry_, but perhaps this video will give you some sense of how the choices you make about representing your data can significantly alter your understanding of the data.\n",
    "\n",
    "[![Do maps lie?](http://img.youtube.com/vi/G0_MBrJnRq0/0.jpg)](http://www.youtube.com/watch?v=G0_MBrJnRq0)\n",
    "\n",
    "Like pandas/geopandas, PySAL has a classification 'engine' that we can use to bin data based on attribute values. Although it is possible _both_ to do some classification _without_ PySAL and to do some mapping _without_ GeoPands, the combination of the two is simplest: PySAL has additional classification methods that are _specific_ to geographic analysis problems, and GeoPandas is just plain easier to work with. \n",
    "\n",
    "The best-known geographical classification is Fisher-Jenks (also sometimes known as 'Natural Breaks'), which groups data into bins based on the sum of squared deviations between classes: in other words, the algorithm iteratively looks for ways to group the data into a specified number of bins such that moving a data point from one group to another would increase the total within-class deviation observed in the data.\n",
    "\n",
    "But first, let's just go with quantiles and see how you can now work with PySAL:"
   ]
  },
  {
   "cell_type": "code",
   "execution_count": null,
   "metadata": {
    "collapsed": false
   },
   "outputs": [],
   "source": [
    "from pysal.contrib import pdio\n",
    "from pysal.contrib.viz import mapping as maps\n",
    "from pylab import *"
   ]
  },
  {
   "cell_type": "markdown",
   "metadata": {},
   "source": [
    "PySAL expects `numpy` arrays instead of a Series, but fortunately it's easy to convert one to the other since Pandas/GeoPandas is built on top of numpy..."
   ]
  },
  {
   "cell_type": "code",
   "execution_count": null,
   "metadata": {
    "collapsed": false
   },
   "outputs": [],
   "source": [
    "prices = np.array(gdf2.MedianPrice) # Convert the DataSeries to an array\n",
    "pricesq5 = ps.esda.mapclassify.Quantiles(prices, k=5) # Classify into 5 quantiles\n",
    "print(pricesq5) # Print summary metrics"
   ]
  },
  {
   "cell_type": "code",
   "execution_count": null,
   "metadata": {
    "collapsed": false
   },
   "outputs": [],
   "source": [
    "print(pricesq5.yb) # You can check the class assignment (should be an array of class numbers)"
   ]
  },
  {
   "cell_type": "markdown",
   "metadata": {},
   "source": [
    "Now we need to join our classification data _back_ on to the GeoPandas data frame as a new Series:"
   ]
  },
  {
   "cell_type": "code",
   "execution_count": null,
   "metadata": {
    "collapsed": false
   },
   "outputs": [],
   "source": [
    "gdf2['MedianPricesQ5'] = pd.Series(data=pricesq5.yb, index=gdf2.index)\n",
    "f, ax = plt.subplots(1, figsize=(12, 8))\n",
    "base = gdf2.plot(ax=ax, column='MedianPricesQ5', edgecolor=None, legend=True)"
   ]
  },
  {
   "cell_type": "markdown",
   "metadata": {},
   "source": [
    "Let's try the same using natural breaks (_**this may take some time...**_):"
   ]
  },
  {
   "cell_type": "code",
   "execution_count": null,
   "metadata": {
    "collapsed": false
   },
   "outputs": [],
   "source": [
    "#prices = np.array(gdf2.MedianPrice) # Already done...\n",
    "pricesFJ = ps.esda.mapclassify.Fisher_Jenks(prices, k=7) # Classify into Natural Breaks\n",
    "print(pricesFJ) # Print summary metrics\n",
    "\n",
    "gdf2['MedianPricesFJ'] = pd.Series(data=pricesFJ.yb, index=gdf2.index)\n",
    "f, ax = plt.subplots(1, figsize=(12, 8))\n",
    "base = gdf2.plot(ax=ax, column='MedianPricesFJ', edgecolor=None, legend=True)"
   ]
  },
  {
   "cell_type": "markdown",
   "metadata": {},
   "source": [
    "### Putting it all together...\n",
    "\n",
    "We can also look at how the Fisher-Jenks classification relates to the underlying distribution by plotting the prices and bin boundaries derived by PySAL:"
   ]
  },
  {
   "cell_type": "code",
   "execution_count": null,
   "metadata": {
    "collapsed": false
   },
   "outputs": [],
   "source": [
    "f, ax = plt.subplots(1, figsize=(12, 4))\n",
    "sns.kdeplot(prices, ax=ax, shade=True)\n",
    "for b in pricesFJ.bins:\n",
    "    plt.vlines(b, 0, 0.015, color='red', linestyle='--') \n",
    "    # Note that 0.015 was a _guess_ at the upper ylim (this can be done computationally)\n",
    "    # What is slightly confusing is that '0' in the map above is a class (like 0 is \n",
    "    # also the index of an array) so a 7-class grouping gives you a legend with range 1--6."
   ]
  },
  {
   "cell_type": "markdown",
   "metadata": {},
   "source": [
    "So using the map and the Seaborn plot together it becomes much easier to determine whether the classification is appropriate and whether the results are meaningful."
   ]
  },
  {
   "cell_type": "markdown",
   "metadata": {
    "collapsed": false
   },
   "source": [
    "### Where to find more information\n",
    "\n",
    "You can see the full list of supported classification engines on the PySAL documentation (under [`psyal.esda`](http://pysal.readthedocs.io/en/latest/library/esda/mapclassify.html))."
   ]
  },
  {
   "cell_type": "markdown",
   "metadata": {},
   "source": [
    "### Additional 'playing' around\n",
    "\n",
    "To make it easier to see what's happening in Central London why don't we try zooming in a little bit? Playing around with the earlier code, see if you can't figure out how to zoom in to something like:\n",
    "\n",
    "Dimension | Max/Min | Value \n",
    "--------- | ------- | -----\n",
    "Northing | Max | 190000\n",
    "Northing | Min | 170000\n",
    "Easting | Max | 540000\n",
    "Easting | Min | 520000\n",
    "\n",
    "And maybe specify the `Std_Mean` classification engine to see how this changes your results."
   ]
  },
  {
   "cell_type": "code",
   "execution_count": null,
   "metadata": {
    "collapsed": true
   },
   "outputs": [],
   "source": [
    "# Your code here..."
   ]
  },
  {
   "cell_type": "markdown",
   "metadata": {},
   "source": [
    "## Testing Your Understanding\n",
    "\n",
    "Over to you! I'd like you to test [a number of the `mapclassify` options](http://pysal.readthedocs.io/en/latest/library/esda/mapclassify.html) and make up your own mind as to which is the 'best' for classifying the `Owned` column. To do this you will need to think about how you can automate the steps we've taken above, including:\n",
    "\n",
    "* Loading the data\n",
    "* Running the classifer\n",
    "* Outputting it to a map\n",
    "* Outputting the distribution with bin boundaries\n",
    "* Looking at 'goodness-of-fit' metrics (see the [documentation](http://pysal.readthedocs.io/en/latest/library/esda/mapclassify.html) and, in particular, `get_acdm`, `get_gadf`, and `get_tss`)\n",
    "\n",
    "To make sure that you've done all of this correctly you should be able to click on 'Kernel' > 'Restart' and then run _only_ the code in the block below fully and successfully. So you'll need to factor in things like loading the libraries that you'll need, telling the notebook where to find the data, etc.\n",
    "\n",
    "### An Additional Challenge\n",
    "\n",
    "Although we can't give you bonus points, you might like to think about how you could, for instance, show borough boundaries and other features on the map to improve its legibility. At the extreme end, it should be possible to, for instance, log-transform your Ownership data, select only the LSOAs where this value is > 0, and then classify only the non-zero values using a 'Standard Deviations from the Mean' classification... You would then want to show a base map that has grey to denote 'zero' and superimpose the colours on top of that..."
   ]
  },
  {
   "cell_type": "code",
   "execution_count": null,
   "metadata": {
    "collapsed": false
   },
   "outputs": [],
   "source": []
  }
 ],
 "metadata": {
  "anaconda-cloud": {},
  "kernelspec": {
   "display_name": "Python [gsa2017]",
   "language": "python",
   "name": "Python [gsa2017]"
  },
  "language_info": {
   "codemirror_mode": {
    "name": "ipython",
    "version": 2
   },
   "file_extension": ".py",
   "mimetype": "text/x-python",
   "name": "python",
   "nbconvert_exporter": "python",
   "pygments_lexer": "ipython2",
   "version": "2.7.13"
  }
 },
 "nbformat": 4,
 "nbformat_minor": 1
}
